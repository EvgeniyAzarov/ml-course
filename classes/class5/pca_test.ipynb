{
 "cells": [
  {
   "cell_type": "code",
   "execution_count": 8,
   "id": "9ec41799-eaee-4e7e-8b00-3e67dd97091e",
   "metadata": {},
   "outputs": [],
   "source": [
    "import numpy as np\n",
    "from sklearn.decomposition import PCA\n",
    "import matplotlib.pyplot as plt"
   ]
  },
  {
   "cell_type": "code",
   "execution_count": 3,
   "id": "060e677e-cfa0-4f21-9ea1-96c646800db8",
   "metadata": {},
   "outputs": [],
   "source": [
    "x = np.random.normal(0, 1, size=(100, 1000))"
   ]
  },
  {
   "cell_type": "code",
   "execution_count": 23,
   "id": "d4b63c42-1da0-4c9d-a2d7-d964dcd4da3d",
   "metadata": {},
   "outputs": [],
   "source": [
    "pca = PCA(n_components=10).fit(x)\n",
    "x_transformed = pca.transform(x)"
   ]
  },
  {
   "cell_type": "code",
   "execution_count": 24,
   "id": "f294aac5-7d48-4930-b24a-8e47fe06d942",
   "metadata": {},
   "outputs": [
    {
     "data": {
      "text/plain": [
       "(100, 10)"
      ]
     },
     "execution_count": 24,
     "metadata": {},
     "output_type": "execute_result"
    }
   ],
   "source": [
    "x_transformed.shape"
   ]
  },
  {
   "cell_type": "code",
   "execution_count": 25,
   "id": "cab05e5a-3589-484a-b6a9-c1e01907ed96",
   "metadata": {},
   "outputs": [],
   "source": [
    "x_est = pca.inverse_transform(x_transformed)"
   ]
  },
  {
   "cell_type": "code",
   "execution_count": 26,
   "id": "586911f0-a95c-45d3-a3c5-018f2643e71b",
   "metadata": {},
   "outputs": [
    {
     "data": {
      "text/plain": [
       "(100, 1000)"
      ]
     },
     "execution_count": 26,
     "metadata": {},
     "output_type": "execute_result"
    }
   ],
   "source": [
    "x_est.shape"
   ]
  },
  {
   "cell_type": "code",
   "execution_count": 27,
   "id": "e98bdd98-9c2f-48c0-9a10-621a6c8d471e",
   "metadata": {},
   "outputs": [
    {
     "data": {
      "text/plain": [
       "0.8389730534090837"
      ]
     },
     "execution_count": 27,
     "metadata": {},
     "output_type": "execute_result"
    }
   ],
   "source": [
    "((x - x_est) ** 2 ).mean()"
   ]
  }
 ],
 "metadata": {
  "kernelspec": {
   "display_name": "Python 3",
   "language": "python",
   "name": "python3"
  },
  "language_info": {
   "codemirror_mode": {
    "name": "ipython",
    "version": 3
   },
   "file_extension": ".py",
   "mimetype": "text/x-python",
   "name": "python",
   "nbconvert_exporter": "python",
   "pygments_lexer": "ipython3",
   "version": "3.10.4"
  }
 },
 "nbformat": 4,
 "nbformat_minor": 5
}
