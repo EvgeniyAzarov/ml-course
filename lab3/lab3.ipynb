{
 "cells": [
  {
   "cell_type": "markdown",
   "id": "726cf554-9344-46f4-9418-cc48cdcedca2",
   "metadata": {},
   "source": [
    "# Lab 3. Recommendation system"
   ]
  },
  {
   "cell_type": "markdown",
   "id": "efb14ef5-c34f-4a42-9830-4ea1a4abe59f",
   "metadata": {},
   "source": [
    "## Setting"
   ]
  },
  {
   "cell_type": "code",
   "execution_count": 1,
   "id": "6b9d4cd1-abba-4bf5-9563-adc417048c50",
   "metadata": {},
   "outputs": [],
   "source": [
    "import pandas as pd\n",
    "import numpy as np\n",
    "import seaborn as sns\n",
    "import matplotlib.pyplot as plt\n",
    "plt.rcParams.update({'figure.figsize': (20, 6)})"
   ]
  },
  {
   "cell_type": "code",
   "execution_count": 2,
   "id": "9e5a55e8-a5e6-4529-954a-dbeff02e5f6f",
   "metadata": {},
   "outputs": [],
   "source": [
    "from tqdm import tqdm"
   ]
  },
  {
   "cell_type": "markdown",
   "id": "5ba8ded9-642d-4e5b-bd9f-e8fca6374746",
   "metadata": {},
   "source": [
    "## Probabilitics Matrix Factorization (PMF)"
   ]
  },
  {
   "cell_type": "markdown",
   "id": "1b6a5d2a-8c6d-4ab2-a91b-57d53792df76",
   "metadata": {},
   "source": [
    "Given a non-negative valued $(n\\times m)$ matrix $X$ with missing values we are going to find approximate factorization\n",
    "\n",
    "$$X \\approx U^T V, \\qquad U\\in \\mathbb{R}^{d\\times n}, V\\in \\mathbb{R}^{d\\times m}$$\n",
    "\n",
    "using loss function\n",
    "\n",
    "$$L = \\frac 12 \\left(\\frac1{\\sigma^2}\\sum_{(i, j)\\in \\Omega} ||X_{ij} - U_i^TV_j||^2 + \\lambda \\sum_{i=1}^n ||U_i||^2 + \\lambda \\sum_{j=1}^m ||V_j||^2  \\right) $$\n",
    "\n",
    "We have the following equations for $U$ and $V$ which are minimize the loss function:\n",
    "\n",
    "$$U_i = \\left(\\lambda\\sigma^2 I + \\sum_{j\\in\\Omega_{U_i}} V_jV_j^T\\right)^{-1} \\left(\\sum_{j\\in\\Omega_{U_i}} X_{ij} V_j\\right) $$\n",
    "\n",
    "$$V_j = \\left(\\lambda\\sigma^2 I + \\sum_{i\\in\\Omega_{V_j}} U_jU_j^T\\right)^{-1} \\left(\\sum_{i\\in\\Omega_{V_j}} X_{ij} U_j\\right) $$\n",
    "\n",
    "So we can use them to execute iterative solution search by alternating adjusting $U$ and $V$."
   ]
  },
  {
   "cell_type": "code",
   "execution_count": 3,
   "id": "dd7a8a4c-cdf9-47f7-b7eb-0ee8d6f2100d",
   "metadata": {},
   "outputs": [],
   "source": [
    "class PMF:\n",
    "    U = None\n",
    "    V = None\n",
    "    \n",
    "    def __init__(self, l, s, eps=0.1, max_iter=100):\n",
    "        self.l = l\n",
    "        self.s = s\n",
    "        self.eps = 0.1\n",
    "        self.max_iter = max_iter\n",
    "        \n",
    "    def _loss(self, X):\n",
    "        if X is None:\n",
    "            return np.nan\n",
    "        \n",
    "        UV = self.U.T @ self.V\n",
    "        X_UV = X[X > 0] - UV[X > 0]\n",
    "        \n",
    "        L = 0.5 * ((X_UV ** 2).sum() / self.s**2 + self.l * (self.U**2).sum() + self.l * (self.V**2).sum())\n",
    "        \n",
    "        return L\n",
    "        \n",
    "    def _update_parameters(self, X, d):\n",
    "        n = self.U.shape[1]\n",
    "        m = self.V.shape[1]\n",
    "        \n",
    "        for i in range(n):\n",
    "            Vj = self.V[:, X[i, :] > 0]\n",
    "            self.U[:, i] = np.linalg.inv(self.l * self.s **2 * np.identity(d) + Vj @ Vj.T) @ (X[i, X[i, :] > 0] @ Vj.T)\n",
    "            \n",
    "        for j in range(m):\n",
    "            Ui = self.U[:, X[:, j] > 0]\n",
    "            self.V[:, j] = np.linalg.inv(self.l * self.s **2 * np.identity(d) + Ui @ Ui.T) @ (X[X[:, j] > 0, j] @ Ui.T)\n",
    "            \n",
    "        \n",
    "    def fit(self, X, d, X_test = None):\n",
    "        X[np.isnan(X)] = 0\n",
    "        \n",
    "        n, m = X.shape\n",
    "        self.U = np.random.normal(0, 1/self.l, size=(d, n))\n",
    "        self.V = np.random.normal(0, 1/self.l, size=(d, m))\n",
    "        \n",
    "        loss = []\n",
    "        loss.append(np.inf)\n",
    "        loss.append(self._loss(X))\n",
    "        \n",
    "        loss_test = []\n",
    "        loss_test.append(np.inf)\n",
    "        loss_test.append(self._loss(X_test))\n",
    "        \n",
    "        for i in tqdm(range(self.max_iter)):\n",
    "            if abs(loss[-1] - loss[-2]) < self.eps :\n",
    "                print(\"Done\")\n",
    "                break\n",
    "            self._update_parameters(X, d)\n",
    "            loss.append(self._loss(X))\n",
    "            loss_test.append(self._loss(X_test))\n",
    "            \n",
    "        return loss, loss_test\n",
    "        \n",
    "    def transform(self):\n",
    "        return self.U.T @ self.V \n",
    "    \n",
    "    def factors(self):\n",
    "        return self.U, self.V"
   ]
  },
  {
   "cell_type": "code",
   "execution_count": 4,
   "id": "5a7f6ed2-8687-4a47-92dd-e5a07dbdefc1",
   "metadata": {},
   "outputs": [],
   "source": [
    "x = np.random.uniform(0, 10, size=(10, 15)) \n",
    "x[x < 5] = np.nan \n",
    "x = np.around(x+1)"
   ]
  },
  {
   "cell_type": "code",
   "execution_count": 5,
   "id": "657c1ec5-69e2-4806-97e7-2f0ed7eb2a6e",
   "metadata": {},
   "outputs": [
    {
     "data": {
      "text/plain": [
       "array([[10., 11.,  8., nan,  6.,  7.,  8., nan, nan,  9.,  6., nan, nan,\n",
       "        nan, nan],\n",
       "       [11., nan,  8., nan,  6., 11., nan, nan, nan, 10., nan,  8.,  7.,\n",
       "         6., 11.],\n",
       "       [nan,  7.,  9.,  9.,  9.,  6., nan, nan, 10., 10.,  7., nan, 11.,\n",
       "         8., nan],\n",
       "       [ 8., nan, nan,  8., nan, nan, nan, 10.,  8., nan, nan,  7.,  8.,\n",
       "        nan, nan],\n",
       "       [nan,  6.,  9.,  8., nan,  7., nan, nan, nan,  8.,  6., nan,  9.,\n",
       "        nan, nan],\n",
       "       [ 7., 10.,  8., nan, 10., 10.,  9.,  8., nan,  7., 11., nan, 11.,\n",
       "        nan, nan],\n",
       "       [10., nan,  7., nan, nan, nan, 10.,  9., nan,  6., 11., nan,  9.,\n",
       "         8., nan],\n",
       "       [nan,  8., nan, nan, 10., nan,  7., nan, nan, nan,  6.,  6., nan,\n",
       "        nan,  8.],\n",
       "       [ 7.,  6., nan, 11.,  9.,  8., 10.,  8., nan,  9.,  6.,  7., nan,\n",
       "        nan, nan],\n",
       "       [ 6., nan, nan, nan, nan, nan, nan, nan, nan,  8.,  9.,  6., nan,\n",
       "        10., 11.]])"
      ]
     },
     "execution_count": 5,
     "metadata": {},
     "output_type": "execute_result"
    }
   ],
   "source": [
    "x"
   ]
  },
  {
   "cell_type": "code",
   "execution_count": 6,
   "id": "84501f3d-a4e4-4364-a69c-7fd05292dd05",
   "metadata": {},
   "outputs": [],
   "source": [
    "pmf = PMF(1, 1, eps=0.1)"
   ]
  },
  {
   "cell_type": "code",
   "execution_count": 7,
   "id": "6b0e5e2a-cb29-40ba-bbc2-d9b57e25219d",
   "metadata": {},
   "outputs": [
    {
     "name": "stderr",
     "output_type": "stream",
     "text": [
      " 16%|███████████▎                                                           | 16/100 [00:00<00:00, 463.60it/s]"
     ]
    },
    {
     "name": "stdout",
     "output_type": "stream",
     "text": [
      "Done\n"
     ]
    },
    {
     "name": "stderr",
     "output_type": "stream",
     "text": [
      "\n"
     ]
    }
   ],
   "source": [
    "loss, _ = pmf.fit(x, d=5)"
   ]
  },
  {
   "cell_type": "code",
   "execution_count": 8,
   "id": "9658ae11-3000-45a8-8bee-711a8d223386",
   "metadata": {},
   "outputs": [
    {
     "data": {
      "image/png": "[encoded data removed]",
      "text/plain": [
       "<Figure size 1440x432 with 1 Axes>"
      ]
     },
     "metadata": {
      "needs_background": "light"
     },
     "output_type": "display_data"
    }
   ],
   "source": [
    "plt.plot(loss)\n",
    "plt.show()"
   ]
  },
  {
   "cell_type": "code",
   "execution_count": 9,
   "id": "8309f840-c319-4481-b854-80a4c753967d",
   "metadata": {},
   "outputs": [
    {
     "data": {
      "text/plain": [
       "30.554955269822244"
      ]
     },
     "execution_count": 9,
     "metadata": {},
     "output_type": "execute_result"
    }
   ],
   "source": [
    "x[np.isnan(x)] = 0\n",
    "((pmf.transform() - x) ** 2).mean()"
   ]
  },
  {
   "cell_type": "markdown",
   "id": "447a3e3f-11ed-41a9-96a8-4e2906a697a7",
   "metadata": {},
   "source": [
    "## Loading data"
   ]
  },
  {
   "cell_type": "markdown",
   "id": "b4c210ce-ffa6-4d25-b894-d0e979c766cc",
   "metadata": {},
   "source": [
    "Firstly books csv was fixed, since originally lots of rows had additional `;` in the books title"
   ]
  },
  {
   "cell_type": "code",
   "execution_count": 10,
   "id": "a1a26ed4-8961-44ed-b41b-625460797a67",
   "metadata": {},
   "outputs": [],
   "source": [
    "ratings = pd.read_csv('data/BX-Book-Ratings.csv', sep=';')\n",
    "books = pd.read_csv('data/BX-Books.csv', sep=';', low_memory=False)\n",
    "users = pd.read_csv('data/BX-Users.csv', sep=';')"
   ]
  },
  {
   "cell_type": "code",
   "execution_count": 11,
   "id": "8edc9b62-60d6-4012-aeea-90032cd27ff5",
   "metadata": {},
   "outputs": [
    {
     "data": {
      "text/html": [
       "<div>\n",
       "<style scoped>\n",
       "    .dataframe tbody tr th:only-of-type {\n",
       "        vertical-align: middle;\n",
       "    }\n",
       "\n",
       "    .dataframe tbody tr th {\n",
       "        vertical-align: top;\n",
       "    }\n",
       "\n",
       "    .dataframe thead th {\n",
       "        text-align: right;\n",
       "    }\n",
       "</style>\n",
       "<table border=\"1\" class=\"dataframe\">\n",
       "  <thead>\n",
       "    <tr style=\"text-align: right;\">\n",
       "      <th></th>\n",
       "      <th>User-ID</th>\n",
       "      <th>ISBN</th>\n",
       "      <th>Book-Rating</th>\n",
       "    </tr>\n",
       "  </thead>\n",
       "  <tbody>\n",
       "    <tr>\n",
       "      <th>0</th>\n",
       "      <td>276725</td>\n",
       "      <td>034545104X</td>\n",
       "      <td>0</td>\n",
       "    </tr>\n",
       "    <tr>\n",
       "      <th>1</th>\n",
       "      <td>276726</td>\n",
       "      <td>0155061224</td>\n",
       "      <td>5</td>\n",
       "    </tr>\n",
       "    <tr>\n",
       "      <th>2</th>\n",
       "      <td>276727</td>\n",
       "      <td>0446520802</td>\n",
       "      <td>0</td>\n",
       "    </tr>\n",
       "    <tr>\n",
       "      <th>3</th>\n",
       "      <td>276729</td>\n",
       "      <td>052165615X</td>\n",
       "      <td>3</td>\n",
       "    </tr>\n",
       "    <tr>\n",
       "      <th>4</th>\n",
       "      <td>276729</td>\n",
       "      <td>0521795028</td>\n",
       "      <td>6</td>\n",
       "    </tr>\n",
       "    <tr>\n",
       "      <th>...</th>\n",
       "      <td>...</td>\n",
       "      <td>...</td>\n",
       "      <td>...</td>\n",
       "    </tr>\n",
       "    <tr>\n",
       "      <th>1149775</th>\n",
       "      <td>276704</td>\n",
       "      <td>1563526298</td>\n",
       "      <td>9</td>\n",
       "    </tr>\n",
       "    <tr>\n",
       "      <th>1149776</th>\n",
       "      <td>276706</td>\n",
       "      <td>0679447156</td>\n",
       "      <td>0</td>\n",
       "    </tr>\n",
       "    <tr>\n",
       "      <th>1149777</th>\n",
       "      <td>276709</td>\n",
       "      <td>0515107662</td>\n",
       "      <td>10</td>\n",
       "    </tr>\n",
       "    <tr>\n",
       "      <th>1149778</th>\n",
       "      <td>276721</td>\n",
       "      <td>0590442449</td>\n",
       "      <td>10</td>\n",
       "    </tr>\n",
       "    <tr>\n",
       "      <th>1149779</th>\n",
       "      <td>276723</td>\n",
       "      <td>05162443314</td>\n",
       "      <td>8</td>\n",
       "    </tr>\n",
       "  </tbody>\n",
       "</table>\n",
       "<p>1149780 rows × 3 columns</p>\n",
       "</div>"
      ],
      "text/plain": [
       "         User-ID         ISBN  Book-Rating\n",
       "0         276725   034545104X            0\n",
       "1         276726   0155061224            5\n",
       "2         276727   0446520802            0\n",
       "3         276729   052165615X            3\n",
       "4         276729   0521795028            6\n",
       "...          ...          ...          ...\n",
       "1149775   276704   1563526298            9\n",
       "1149776   276706   0679447156            0\n",
       "1149777   276709   0515107662           10\n",
       "1149778   276721   0590442449           10\n",
       "1149779   276723  05162443314            8\n",
       "\n",
       "[1149780 rows x 3 columns]"
      ]
     },
     "execution_count": 11,
     "metadata": {},
     "output_type": "execute_result"
    }
   ],
   "source": [
    "ratings[\"ISBN\"] = ratings[\"ISBN\"].str.upper()\n",
    "ratings"
   ]
  },
  {
   "cell_type": "code",
   "execution_count": 12,
   "id": "7d9e1901-bc80-4007-a5e3-5766a897f84d",
   "metadata": {},
   "outputs": [
    {
     "data": {
      "text/html": [
       "<div>\n",
       "<style scoped>\n",
       "    .dataframe tbody tr th:only-of-type {\n",
       "        vertical-align: middle;\n",
       "    }\n",
       "\n",
       "    .dataframe tbody tr th {\n",
       "        vertical-align: top;\n",
       "    }\n",
       "\n",
       "    .dataframe thead th {\n",
       "        text-align: right;\n",
       "    }\n",
       "</style>\n",
       "<table border=\"1\" class=\"dataframe\">\n",
       "  <thead>\n",
       "    <tr style=\"text-align: right;\">\n",
       "      <th></th>\n",
       "      <th>User-ID</th>\n",
       "      <th>Location</th>\n",
       "      <th>Age</th>\n",
       "    </tr>\n",
       "  </thead>\n",
       "  <tbody>\n",
       "    <tr>\n",
       "      <th>0</th>\n",
       "      <td>1</td>\n",
       "      <td>nyc, new york, usa</td>\n",
       "      <td>NaN</td>\n",
       "    </tr>\n",
       "    <tr>\n",
       "      <th>1</th>\n",
       "      <td>2</td>\n",
       "      <td>stockton, california, usa</td>\n",
       "      <td>18.0</td>\n",
       "    </tr>\n",
       "    <tr>\n",
       "      <th>2</th>\n",
       "      <td>3</td>\n",
       "      <td>moscow, yukon territory, russia</td>\n",
       "      <td>NaN</td>\n",
       "    </tr>\n",
       "    <tr>\n",
       "      <th>3</th>\n",
       "      <td>4</td>\n",
       "      <td>porto, v.n.gaia, portugal</td>\n",
       "      <td>17.0</td>\n",
       "    </tr>\n",
       "    <tr>\n",
       "      <th>4</th>\n",
       "      <td>5</td>\n",
       "      <td>farnborough, hants, united kingdom</td>\n",
       "      <td>NaN</td>\n",
       "    </tr>\n",
       "  </tbody>\n",
       "</table>\n",
       "</div>"
      ],
      "text/plain": [
       "   User-ID                            Location   Age\n",
       "0        1                  nyc, new york, usa   NaN\n",
       "1        2           stockton, california, usa  18.0\n",
       "2        3     moscow, yukon territory, russia   NaN\n",
       "3        4           porto, v.n.gaia, portugal  17.0\n",
       "4        5  farnborough, hants, united kingdom   NaN"
      ]
     },
     "execution_count": 12,
     "metadata": {},
     "output_type": "execute_result"
    }
   ],
   "source": [
    "users.head()"
   ]
  },
  {
   "cell_type": "code",
   "execution_count": 13,
   "id": "a456b9b7-296b-4e1a-be25-880101d61b49",
   "metadata": {},
   "outputs": [
    {
     "data": {
      "text/html": [
       "<div>\n",
       "<style scoped>\n",
       "    .dataframe tbody tr th:only-of-type {\n",
       "        vertical-align: middle;\n",
       "    }\n",
       "\n",
       "    .dataframe tbody tr th {\n",
       "        vertical-align: top;\n",
       "    }\n",
       "\n",
       "    .dataframe thead th {\n",
       "        text-align: right;\n",
       "    }\n",
       "</style>\n",
       "<table border=\"1\" class=\"dataframe\">\n",
       "  <thead>\n",
       "    <tr style=\"text-align: right;\">\n",
       "      <th></th>\n",
       "      <th>ISBN</th>\n",
       "      <th>Book-Title</th>\n",
       "      <th>Book-Author</th>\n",
       "      <th>Year-Of-Publication</th>\n",
       "      <th>Publisher</th>\n",
       "      <th>Image-URL-S</th>\n",
       "      <th>Image-URL-M</th>\n",
       "      <th>Image-URL-L</th>\n",
       "    </tr>\n",
       "  </thead>\n",
       "  <tbody>\n",
       "    <tr>\n",
       "      <th>0</th>\n",
       "      <td>0195153448</td>\n",
       "      <td>Classical Mythology</td>\n",
       "      <td>Mark P. O. Morford</td>\n",
       "      <td>2002</td>\n",
       "      <td>Oxford University Press</td>\n",
       "      <td>http://images.amazon.com/images/P/0195153448.0...</td>\n",
       "      <td>http://images.amazon.com/images/P/0195153448.0...</td>\n",
       "      <td>http://images.amazon.com/images/P/0195153448.0...</td>\n",
       "    </tr>\n",
       "    <tr>\n",
       "      <th>1</th>\n",
       "      <td>0002005018</td>\n",
       "      <td>Clara Callan</td>\n",
       "      <td>Richard Bruce Wright</td>\n",
       "      <td>2001</td>\n",
       "      <td>HarperFlamingo Canada</td>\n",
       "      <td>http://images.amazon.com/images/P/0002005018.0...</td>\n",
       "      <td>http://images.amazon.com/images/P/0002005018.0...</td>\n",
       "      <td>http://images.amazon.com/images/P/0002005018.0...</td>\n",
       "    </tr>\n",
       "    <tr>\n",
       "      <th>2</th>\n",
       "      <td>0060973129</td>\n",
       "      <td>Decision in Normandy</td>\n",
       "      <td>Carlo D'Este</td>\n",
       "      <td>1991</td>\n",
       "      <td>HarperPerennial</td>\n",
       "      <td>http://images.amazon.com/images/P/0060973129.0...</td>\n",
       "      <td>http://images.amazon.com/images/P/0060973129.0...</td>\n",
       "      <td>http://images.amazon.com/images/P/0060973129.0...</td>\n",
       "    </tr>\n",
       "    <tr>\n",
       "      <th>3</th>\n",
       "      <td>0374157065</td>\n",
       "      <td>Flu: The Story of the Great Influenza Pandemic...</td>\n",
       "      <td>Gina Bari Kolata</td>\n",
       "      <td>1999</td>\n",
       "      <td>Farrar Straus Giroux</td>\n",
       "      <td>http://images.amazon.com/images/P/0374157065.0...</td>\n",
       "      <td>http://images.amazon.com/images/P/0374157065.0...</td>\n",
       "      <td>http://images.amazon.com/images/P/0374157065.0...</td>\n",
       "    </tr>\n",
       "    <tr>\n",
       "      <th>4</th>\n",
       "      <td>0393045218</td>\n",
       "      <td>The Mummies of Urumchi</td>\n",
       "      <td>E. J. W. Barber</td>\n",
       "      <td>1999</td>\n",
       "      <td>W. W. Norton &amp;amp; Company</td>\n",
       "      <td>http://images.amazon.com/images/P/0393045218.0...</td>\n",
       "      <td>http://images.amazon.com/images/P/0393045218.0...</td>\n",
       "      <td>http://images.amazon.com/images/P/0393045218.0...</td>\n",
       "    </tr>\n",
       "  </tbody>\n",
       "</table>\n",
       "</div>"
      ],
      "text/plain": [
       "         ISBN                                         Book-Title  \\\n",
       "0  0195153448                                Classical Mythology   \n",
       "1  0002005018                                       Clara Callan   \n",
       "2  0060973129                               Decision in Normandy   \n",
       "3  0374157065  Flu: The Story of the Great Influenza Pandemic...   \n",
       "4  0393045218                             The Mummies of Urumchi   \n",
       "\n",
       "            Book-Author Year-Of-Publication                   Publisher  \\\n",
       "0    Mark P. O. Morford                2002     Oxford University Press   \n",
       "1  Richard Bruce Wright                2001       HarperFlamingo Canada   \n",
       "2          Carlo D'Este                1991             HarperPerennial   \n",
       "3      Gina Bari Kolata                1999        Farrar Straus Giroux   \n",
       "4       E. J. W. Barber                1999  W. W. Norton &amp; Company   \n",
       "\n",
       "                                         Image-URL-S  \\\n",
       "0  http://images.amazon.com/images/P/0195153448.0...   \n",
       "1  http://images.amazon.com/images/P/0002005018.0...   \n",
       "2  http://images.amazon.com/images/P/0060973129.0...   \n",
       "3  http://images.amazon.com/images/P/0374157065.0...   \n",
       "4  http://images.amazon.com/images/P/0393045218.0...   \n",
       "\n",
       "                                         Image-URL-M  \\\n",
       "0  http://images.amazon.com/images/P/0195153448.0...   \n",
       "1  http://images.amazon.com/images/P/0002005018.0...   \n",
       "2  http://images.amazon.com/images/P/0060973129.0...   \n",
       "3  http://images.amazon.com/images/P/0374157065.0...   \n",
       "4  http://images.amazon.com/images/P/0393045218.0...   \n",
       "\n",
       "                                         Image-URL-L  \n",
       "0  http://images.amazon.com/images/P/0195153448.0...  \n",
       "1  http://images.amazon.com/images/P/0002005018.0...  \n",
       "2  http://images.amazon.com/images/P/0060973129.0...  \n",
       "3  http://images.amazon.com/images/P/0374157065.0...  \n",
       "4  http://images.amazon.com/images/P/0393045218.0...  "
      ]
     },
     "execution_count": 13,
     "metadata": {},
     "output_type": "execute_result"
    }
   ],
   "source": [
    "books.head()"
   ]
  },
  {
   "cell_type": "markdown",
   "id": "2a0a3f19-346e-4d09-b3ef-52b110b3d9e7",
   "metadata": {},
   "source": [
    "## Prepare data "
   ]
  },
  {
   "cell_type": "markdown",
   "id": "3d1c3b51-dc64-4306-a62e-e351f9fb0979",
   "metadata": {},
   "source": [
    "### Decrease dataset size"
   ]
  },
  {
   "cell_type": "code",
   "execution_count": 14,
   "id": "d825493f-a172-4f13-b324-bd24853b7bc7",
   "metadata": {},
   "outputs": [
    {
     "data": {
      "text/plain": [
       "(105283, 340218)"
      ]
     },
     "execution_count": 14,
     "metadata": {},
     "output_type": "execute_result"
    }
   ],
   "source": [
    "m = len(set(ratings['User-ID']))\n",
    "n = len(set(ratings['ISBN'])) \n",
    "m, n"
   ]
  },
  {
   "cell_type": "markdown",
   "id": "d199b246-c715-4ac9-b659-cf2ee1b404a9",
   "metadata": {},
   "source": [
    "To just create a matrix with users and books and int64 entries we would need approximetely \n",
    "\n",
    "$$10^5 \\cdot 3\\cdot 10^5 \\cdot 2^6 \\text{ bits} = 3\\cdot 10^{10}\\cdot 2^6 \\text{ bits} = \\frac{3\\cdot 2^6\\cdot 10^{10}}{8\\cdot 10^9} \\text{ GB} = 240 \\text{GB}$$\n",
    "\n",
    "Of course I don't have such amount of RAM on my laptop, so we are going to work only with some part this theoretical matrix. Lab instruction suggests to decrease matrix to have at most $1.5 \\cdot 10^6$ elements, i.e. needed amount of RAM would be \n",
    "\n",
    "$$\\frac{1.5 \\cdot 10^6 \\cdot 2^6}{8\\cdot 10^9} \\text{ GB} = 12\\cdot 10^{-3} \\text{ GB} = 12 \\text{ MB}$$\n",
    "\n",
    "But then we have a trade of: what data we should drop --- more users, or more books? If we consider less users, we will have less users and more information about each of them. Otherwise, if we consider less books, we will have more users, but less information about each of them. "
   ]
  },
  {
   "cell_type": "markdown",
   "id": "43b4eca7-c0d4-4412-91b0-459fbc1a5a99",
   "metadata": {},
   "source": [
    "Lets count how many information about each book and each user we have initially "
   ]
  },
  {
   "cell_type": "code",
   "execution_count": 15,
   "id": "03c9ea09-46d6-4d4e-8496-5c0d5864b375",
   "metadata": {},
   "outputs": [
    {
     "data": {
      "text/html": [
       "<div>\n",
       "<style scoped>\n",
       "    .dataframe tbody tr th:only-of-type {\n",
       "        vertical-align: middle;\n",
       "    }\n",
       "\n",
       "    .dataframe tbody tr th {\n",
       "        vertical-align: top;\n",
       "    }\n",
       "\n",
       "    .dataframe thead th {\n",
       "        text-align: right;\n",
       "    }\n",
       "</style>\n",
       "<table border=\"1\" class=\"dataframe\">\n",
       "  <thead>\n",
       "    <tr style=\"text-align: right;\">\n",
       "      <th></th>\n",
       "      <th>rated_by</th>\n",
       "    </tr>\n",
       "    <tr>\n",
       "      <th>ISBN</th>\n",
       "      <th></th>\n",
       "    </tr>\n",
       "  </thead>\n",
       "  <tbody>\n",
       "    <tr>\n",
       "      <th>0971880107</th>\n",
       "      <td>2502</td>\n",
       "    </tr>\n",
       "    <tr>\n",
       "      <th>0316666343</th>\n",
       "      <td>1295</td>\n",
       "    </tr>\n",
       "    <tr>\n",
       "      <th>0385504209</th>\n",
       "      <td>883</td>\n",
       "    </tr>\n",
       "    <tr>\n",
       "      <th>0060928336</th>\n",
       "      <td>732</td>\n",
       "    </tr>\n",
       "    <tr>\n",
       "      <th>0312195516</th>\n",
       "      <td>723</td>\n",
       "    </tr>\n",
       "    <tr>\n",
       "      <th>...</th>\n",
       "      <td>...</td>\n",
       "    </tr>\n",
       "    <tr>\n",
       "      <th>0671663267</th>\n",
       "      <td>1</td>\n",
       "    </tr>\n",
       "    <tr>\n",
       "      <th>0671663410</th>\n",
       "      <td>1</td>\n",
       "    </tr>\n",
       "    <tr>\n",
       "      <th>0671663550</th>\n",
       "      <td>1</td>\n",
       "    </tr>\n",
       "    <tr>\n",
       "      <th>0671663585</th>\n",
       "      <td>1</td>\n",
       "    </tr>\n",
       "    <tr>\n",
       "      <th>Ž3499128624</th>\n",
       "      <td>1</td>\n",
       "    </tr>\n",
       "  </tbody>\n",
       "</table>\n",
       "<p>340218 rows × 1 columns</p>\n",
       "</div>"
      ],
      "text/plain": [
       "             rated_by\n",
       "ISBN                 \n",
       "0971880107       2502\n",
       "0316666343       1295\n",
       "0385504209        883\n",
       "0060928336        732\n",
       "0312195516        723\n",
       "...               ...\n",
       "0671663267          1\n",
       "0671663410          1\n",
       "0671663550          1\n",
       "0671663585          1\n",
       "Ž3499128624         1\n",
       "\n",
       "[340218 rows x 1 columns]"
      ]
     },
     "execution_count": 15,
     "metadata": {},
     "output_type": "execute_result"
    }
   ],
   "source": [
    "books_stat = ratings[['ISBN', 'Book-Rating']].groupby(by=['ISBN']).count()\\\n",
    "    .rename(columns={'Book-Rating': 'rated_by'}).sort_values(by='rated_by', ascending=False)\n",
    "books_stat"
   ]
  },
  {
   "cell_type": "code",
   "execution_count": 16,
   "id": "4b442082-8809-49e4-8a91-552159b4ca43",
   "metadata": {},
   "outputs": [
    {
     "data": {
      "image/png": "[encoded data removed]",
      "text/plain": [
       "<Figure size 1440x432 with 1 Axes>"
      ]
     },
     "metadata": {
      "needs_background": "light"
     },
     "output_type": "display_data"
    }
   ],
   "source": [
    "books_stat.hist()\n",
    "plt.show()"
   ]
  },
  {
   "cell_type": "code",
   "execution_count": 17,
   "id": "ec1a2021-9183-42c8-93c7-125301cbf2bb",
   "metadata": {},
   "outputs": [
    {
     "data": {
      "text/plain": [
       "rated_by    731\n",
       "dtype: int64"
      ]
     },
     "execution_count": 17,
     "metadata": {},
     "output_type": "execute_result"
    }
   ],
   "source": [
    "(books_stat >= 100).sum()"
   ]
  },
  {
   "cell_type": "markdown",
   "id": "dc8c82ec-022b-4dc9-99af-d243071f5857",
   "metadata": {},
   "source": [
    "So there are only 731 books which were rated by more than 100 users. Lets remain only those"
   ]
  },
  {
   "cell_type": "code",
   "execution_count": 18,
   "id": "87e4b240-3c06-4fb2-bfc0-5bd907588e11",
   "metadata": {},
   "outputs": [
    {
     "data": {
      "text/html": [
       "<div>\n",
       "<style scoped>\n",
       "    .dataframe tbody tr th:only-of-type {\n",
       "        vertical-align: middle;\n",
       "    }\n",
       "\n",
       "    .dataframe tbody tr th {\n",
       "        vertical-align: top;\n",
       "    }\n",
       "\n",
       "    .dataframe thead th {\n",
       "        text-align: right;\n",
       "    }\n",
       "</style>\n",
       "<table border=\"1\" class=\"dataframe\">\n",
       "  <thead>\n",
       "    <tr style=\"text-align: right;\">\n",
       "      <th></th>\n",
       "      <th>books_rated</th>\n",
       "    </tr>\n",
       "    <tr>\n",
       "      <th>User-ID</th>\n",
       "      <th></th>\n",
       "    </tr>\n",
       "  </thead>\n",
       "  <tbody>\n",
       "    <tr>\n",
       "      <th>11676</th>\n",
       "      <td>13602</td>\n",
       "    </tr>\n",
       "    <tr>\n",
       "      <th>198711</th>\n",
       "      <td>7550</td>\n",
       "    </tr>\n",
       "    <tr>\n",
       "      <th>153662</th>\n",
       "      <td>6109</td>\n",
       "    </tr>\n",
       "    <tr>\n",
       "      <th>98391</th>\n",
       "      <td>5891</td>\n",
       "    </tr>\n",
       "    <tr>\n",
       "      <th>35859</th>\n",
       "      <td>5850</td>\n",
       "    </tr>\n",
       "    <tr>\n",
       "      <th>...</th>\n",
       "      <td>...</td>\n",
       "    </tr>\n",
       "    <tr>\n",
       "      <th>118579</th>\n",
       "      <td>1</td>\n",
       "    </tr>\n",
       "    <tr>\n",
       "      <th>118576</th>\n",
       "      <td>1</td>\n",
       "    </tr>\n",
       "    <tr>\n",
       "      <th>118574</th>\n",
       "      <td>1</td>\n",
       "    </tr>\n",
       "    <tr>\n",
       "      <th>118563</th>\n",
       "      <td>1</td>\n",
       "    </tr>\n",
       "    <tr>\n",
       "      <th>139146</th>\n",
       "      <td>1</td>\n",
       "    </tr>\n",
       "  </tbody>\n",
       "</table>\n",
       "<p>105283 rows × 1 columns</p>\n",
       "</div>"
      ],
      "text/plain": [
       "         books_rated\n",
       "User-ID             \n",
       "11676          13602\n",
       "198711          7550\n",
       "153662          6109\n",
       "98391           5891\n",
       "35859           5850\n",
       "...              ...\n",
       "118579             1\n",
       "118576             1\n",
       "118574             1\n",
       "118563             1\n",
       "139146             1\n",
       "\n",
       "[105283 rows x 1 columns]"
      ]
     },
     "execution_count": 18,
     "metadata": {},
     "output_type": "execute_result"
    }
   ],
   "source": [
    "users_stat = ratings[['User-ID', 'ISBN']].groupby(by=['User-ID']).count()\\\n",
    "    .rename(columns={'ISBN': 'books_rated'}).sort_values(by='books_rated', ascending=False)\n",
    "users_stat"
   ]
  },
  {
   "cell_type": "code",
   "execution_count": 19,
   "id": "5c26acc8-9d07-40c7-8fb5-b6cede049622",
   "metadata": {},
   "outputs": [
    {
     "data": {
      "image/png": "[encoded data removed]",
      "text/plain": [
       "<Figure size 1440x432 with 1 Axes>"
      ]
     },
     "metadata": {
      "needs_background": "light"
     },
     "output_type": "display_data"
    }
   ],
   "source": [
    "users_stat.hist()\n",
    "plt.show()"
   ]
  },
  {
   "cell_type": "code",
   "execution_count": 20,
   "id": "337b870f-7f7d-42d6-908a-31babda668a9",
   "metadata": {},
   "outputs": [
    {
     "data": {
      "text/plain": [
       "1847"
      ]
     },
     "execution_count": 20,
     "metadata": {},
     "output_type": "execute_result"
    }
   ],
   "source": [
    "(users_stat['books_rated'] >= 100).sum()"
   ]
  },
  {
   "cell_type": "markdown",
   "id": "b2f86bc1-6f19-4dc9-8d66-a8a076a6b273",
   "metadata": {},
   "source": [
    "Again there are relatively small amount of active users with more than 100 rated books, so we can just choose only them"
   ]
  },
  {
   "cell_type": "markdown",
   "id": "c9b5f829-5b56-49c9-8dd9-7204f495bb9c",
   "metadata": {},
   "source": [
    "Then we will have $1847 \\times 731 = 1350157 < 1.5\\cdot 10^6$ entries in the matrix"
   ]
  },
  {
   "cell_type": "code",
   "execution_count": 21,
   "id": "159d529e-8bc1-4bd4-a5db-27e9e484a510",
   "metadata": {},
   "outputs": [
    {
     "data": {
      "text/plain": [
       "1350157"
      ]
     },
     "execution_count": 21,
     "metadata": {},
     "output_type": "execute_result"
    }
   ],
   "source": [
    "1847 * 731"
   ]
  },
  {
   "cell_type": "code",
   "execution_count": 22,
   "id": "e309bac2-8c37-47d1-a924-95ebf547f06b",
   "metadata": {},
   "outputs": [
    {
     "data": {
      "text/html": [
       "<div>\n",
       "<style scoped>\n",
       "    .dataframe tbody tr th:only-of-type {\n",
       "        vertical-align: middle;\n",
       "    }\n",
       "\n",
       "    .dataframe tbody tr th {\n",
       "        vertical-align: top;\n",
       "    }\n",
       "\n",
       "    .dataframe thead th {\n",
       "        text-align: right;\n",
       "    }\n",
       "</style>\n",
       "<table border=\"1\" class=\"dataframe\">\n",
       "  <thead>\n",
       "    <tr style=\"text-align: right;\">\n",
       "      <th></th>\n",
       "      <th>User-ID</th>\n",
       "      <th>ISBN</th>\n",
       "      <th>Book-Rating</th>\n",
       "    </tr>\n",
       "  </thead>\n",
       "  <tbody>\n",
       "    <tr>\n",
       "      <th>413</th>\n",
       "      <td>276925</td>\n",
       "      <td>002542730X</td>\n",
       "      <td>10</td>\n",
       "    </tr>\n",
       "    <tr>\n",
       "      <th>426</th>\n",
       "      <td>276925</td>\n",
       "      <td>0316666343</td>\n",
       "      <td>0</td>\n",
       "    </tr>\n",
       "    <tr>\n",
       "      <th>429</th>\n",
       "      <td>276925</td>\n",
       "      <td>0385504209</td>\n",
       "      <td>8</td>\n",
       "    </tr>\n",
       "    <tr>\n",
       "      <th>453</th>\n",
       "      <td>276925</td>\n",
       "      <td>0804106304</td>\n",
       "      <td>0</td>\n",
       "    </tr>\n",
       "    <tr>\n",
       "      <th>457</th>\n",
       "      <td>276925</td>\n",
       "      <td>0971880107</td>\n",
       "      <td>0</td>\n",
       "    </tr>\n",
       "    <tr>\n",
       "      <th>...</th>\n",
       "      <td>...</td>\n",
       "      <td>...</td>\n",
       "      <td>...</td>\n",
       "    </tr>\n",
       "    <tr>\n",
       "      <th>1149553</th>\n",
       "      <td>276680</td>\n",
       "      <td>0446670251</td>\n",
       "      <td>0</td>\n",
       "    </tr>\n",
       "    <tr>\n",
       "      <th>1149564</th>\n",
       "      <td>276680</td>\n",
       "      <td>0452283205</td>\n",
       "      <td>7</td>\n",
       "    </tr>\n",
       "    <tr>\n",
       "      <th>1149577</th>\n",
       "      <td>276680</td>\n",
       "      <td>0679731725</td>\n",
       "      <td>0</td>\n",
       "    </tr>\n",
       "    <tr>\n",
       "      <th>1149581</th>\n",
       "      <td>276680</td>\n",
       "      <td>0679781587</td>\n",
       "      <td>9</td>\n",
       "    </tr>\n",
       "    <tr>\n",
       "      <th>1149592</th>\n",
       "      <td>276680</td>\n",
       "      <td>0743203631</td>\n",
       "      <td>7</td>\n",
       "    </tr>\n",
       "  </tbody>\n",
       "</table>\n",
       "<p>65934 rows × 3 columns</p>\n",
       "</div>"
      ],
      "text/plain": [
       "         User-ID        ISBN  Book-Rating\n",
       "413       276925  002542730X           10\n",
       "426       276925  0316666343            0\n",
       "429       276925  0385504209            8\n",
       "453       276925  0804106304            0\n",
       "457       276925  0971880107            0\n",
       "...          ...         ...          ...\n",
       "1149553   276680  0446670251            0\n",
       "1149564   276680  0452283205            7\n",
       "1149577   276680  0679731725            0\n",
       "1149581   276680  0679781587            9\n",
       "1149592   276680  0743203631            7\n",
       "\n",
       "[65934 rows x 3 columns]"
      ]
     },
     "execution_count": 22,
     "metadata": {},
     "output_type": "execute_result"
    }
   ],
   "source": [
    "books_chosen = books_stat[books_stat['rated_by'] >= 100].index\n",
    "users_chosen = users_stat[users_stat['books_rated'] >= 100].index\n",
    "ratings_chosen = ratings[ratings['ISBN'].isin(books_chosen) & ratings['User-ID'].isin(users_chosen)]\n",
    "ratings_chosen"
   ]
  },
  {
   "cell_type": "code",
   "execution_count": 23,
   "id": "6fddf2f3-f874-4b31-a4d1-5b919ea042d1",
   "metadata": {},
   "outputs": [
    {
     "name": "stdout",
     "output_type": "stream",
     "text": [
      "<class 'pandas.core.frame.DataFrame'>\n",
      "Int64Index: 65934 entries, 413 to 1149592\n",
      "Data columns (total 3 columns):\n",
      " #   Column       Non-Null Count  Dtype \n",
      "---  ------       --------------  ----- \n",
      " 0   User-ID      65934 non-null  int64 \n",
      " 1   ISBN         65934 non-null  object\n",
      " 2   Book-Rating  65934 non-null  int64 \n",
      "dtypes: int64(2), object(1)\n",
      "memory usage: 5.7 MB\n"
     ]
    }
   ],
   "source": [
    "ratings_chosen.info(memory_usage='deep')"
   ]
  },
  {
   "cell_type": "markdown",
   "id": "e7e2fc1f-25f1-44c8-b2d2-566d75d37520",
   "metadata": {
    "tags": []
   },
   "source": [
    "### Create matrix"
   ]
  },
  {
   "cell_type": "markdown",
   "id": "e6da0e21-efd9-47db-9de5-e4f3ed7503eb",
   "metadata": {},
   "source": [
    "We are going to split data for train and test parts to validate our recommendation system later"
   ]
  },
  {
   "cell_type": "code",
   "execution_count": 24,
   "id": "5cd1a6f0-7b5d-499e-a38f-99014208636c",
   "metadata": {},
   "outputs": [],
   "source": [
    "from sklearn.model_selection import train_test_split"
   ]
  },
  {
   "cell_type": "code",
   "execution_count": 25,
   "id": "a87fa1ab-5e6e-4a07-8281-1ee477c15c82",
   "metadata": {},
   "outputs": [],
   "source": [
    "ratings_train, ratings_test = train_test_split(ratings_chosen, shuffle=True, train_size=0.8) "
   ]
  },
  {
   "cell_type": "code",
   "execution_count": 26,
   "id": "4f99a3d6-7adc-4e04-80c5-961e22aa85ae",
   "metadata": {},
   "outputs": [
    {
     "data": {
      "text/plain": [
       "((52747, 3), (13187, 3))"
      ]
     },
     "execution_count": 26,
     "metadata": {},
     "output_type": "execute_result"
    }
   ],
   "source": [
    "ratings_train.shape, ratings_test.shape"
   ]
  },
  {
   "cell_type": "code",
   "execution_count": 27,
   "id": "39c62c1e-93dc-4f57-872f-3896ab0e3591",
   "metadata": {},
   "outputs": [],
   "source": [
    "X = pd.DataFrame(index=users_chosen, columns=books_chosen, dtype=float)\n",
    "X_test = pd.DataFrame(index=users_chosen, columns=books_chosen, dtype=float)"
   ]
  },
  {
   "cell_type": "code",
   "execution_count": 28,
   "id": "192867ba-5ab9-4916-a8e6-353445368a69",
   "metadata": {},
   "outputs": [],
   "source": [
    "for i, row in ratings_train.iterrows():\n",
    "    X.loc[row['User-ID'], row['ISBN']] = row['Book-Rating'] + 1\n",
    "    \n",
    "for i, row in ratings_test.iterrows():\n",
    "    X_test.loc[row['User-ID'], row['ISBN']] = row['Book-Rating'] + 1"
   ]
  },
  {
   "cell_type": "code",
   "execution_count": 29,
   "id": "a6e59717-9768-48c9-bae0-94c38250bcd9",
   "metadata": {},
   "outputs": [
    {
     "name": "stdout",
     "output_type": "stream",
     "text": [
      "<class 'pandas.core.frame.DataFrame'>\n",
      "Int64Index: 1847 entries, 11676 to 160410\n",
      "Columns: 731 entries, 0971880107 to 0449203794\n",
      "dtypes: float64(731)\n",
      "memory usage: 10.4 MB\n"
     ]
    }
   ],
   "source": [
    "X.info()"
   ]
  },
  {
   "cell_type": "code",
   "execution_count": 30,
   "id": "65488e4c-eab8-43a2-956e-8ac7e9fd866c",
   "metadata": {},
   "outputs": [
    {
     "name": "stdout",
     "output_type": "stream",
     "text": [
      "<class 'pandas.core.frame.DataFrame'>\n",
      "Int64Index: 1847 entries, 11676 to 160410\n",
      "Columns: 731 entries, 0971880107 to 0449203794\n",
      "dtypes: float64(731)\n",
      "memory usage: 10.4 MB\n"
     ]
    }
   ],
   "source": [
    "X_test.info()"
   ]
  },
  {
   "cell_type": "code",
   "execution_count": 31,
   "id": "c3774695-f53d-4e61-a8b2-8f07e8fbcdea",
   "metadata": {},
   "outputs": [
    {
     "data": {
      "text/plain": [
       "1350157"
      ]
     },
     "execution_count": 31,
     "metadata": {},
     "output_type": "execute_result"
    }
   ],
   "source": [
    "X.size"
   ]
  },
  {
   "cell_type": "markdown",
   "id": "90f42fd8-e2d7-4fed-8b44-6b85768d995c",
   "metadata": {},
   "source": [
    "## Recommendation"
   ]
  },
  {
   "cell_type": "code",
   "execution_count": 32,
   "id": "849b527b-95bf-411a-99d6-28ab212cd342",
   "metadata": {},
   "outputs": [],
   "source": [
    "from sklearn.metrics import mean_squared_error as mse"
   ]
  },
  {
   "cell_type": "code",
   "execution_count": 33,
   "id": "d4b94e09-3984-4dd3-b9f0-cc7c1bc82352",
   "metadata": {},
   "outputs": [],
   "source": [
    "pmf = PMF(1, 1, max_iter=10)"
   ]
  },
  {
   "cell_type": "code",
   "execution_count": 34,
   "id": "409cab84-98e2-4c3e-bbff-5bea1e3b502f",
   "metadata": {},
   "outputs": [
    {
     "name": "stderr",
     "output_type": "stream",
     "text": [
      "100%|█████████████████████████████████████████████████████████████████████████| 10/10 [00:02<00:00,  4.69it/s]\n"
     ]
    },
    {
     "data": {
      "image/png": "[encoded data removed]",
      "text/plain": [
       "<Figure size 1440x432 with 1 Axes>"
      ]
     },
     "metadata": {
      "needs_background": "light"
     },
     "output_type": "display_data"
    },
    {
     "name": "stderr",
     "output_type": "stream",
     "text": [
      "100%|█████████████████████████████████████████████████████████████████████████| 10/10 [00:02<00:00,  3.91it/s]\n"
     ]
    },
    {
     "data": {
      "image/png": "[encoded data removed]",
      "text/plain": [
       "<Figure size 1440x432 with 1 Axes>"
      ]
     },
     "metadata": {
      "needs_background": "light"
     },
     "output_type": "display_data"
    },
    {
     "name": "stderr",
     "output_type": "stream",
     "text": [
      "100%|█████████████████████████████████████████████████████████████████████████| 10/10 [00:37<00:00,  3.71s/it]\n"
     ]
    },
    {
     "data": {
      "image/png": "[encoded data removed]",
      "text/plain": [
       "<Figure size 1440x432 with 1 Axes>"
      ]
     },
     "metadata": {
      "needs_background": "light"
     },
     "output_type": "display_data"
    },
    {
     "name": "stderr",
     "output_type": "stream",
     "text": [
      "100%|█████████████████████████████████████████████████████████████████████████| 10/10 [03:27<00:00, 20.79s/it]\n"
     ]
    },
    {
     "data": {
      "image/png": "[encoded data removed]",
      "text/plain": [
       "<Figure size 1440x432 with 1 Axes>"
      ]
     },
     "metadata": {
      "needs_background": "light"
     },
     "output_type": "display_data"
    },
    {
     "name": "stderr",
     "output_type": "stream",
     "text": [
      "100%|████████████████████████████████████████████████████████████████████████| 10/10 [27:52<00:00, 167.24s/it]\n"
     ]
    },
    {
     "data": {
      "image/png": "[encoded data removed]",
      "text/plain": [
       "<Figure size 1440x432 with 1 Axes>"
      ]
     },
     "metadata": {
      "needs_background": "light"
     },
     "output_type": "display_data"
    }
   ],
   "source": [
    "# ds = [5, 10, 100, 200, 500]\n",
    "ds = [5, 10, 100, 200, 400]\n",
    "metrics = []\n",
    "for d in ds:\n",
    "    loss_tr, loss_test = pmf.fit(X.values, d, X_test.values)\n",
    "    \n",
    "    Y = pmf.transform()\n",
    "    \n",
    "    mse_tr = mse(X.values[X > 0], Y[X > 0])\n",
    "    mse_test = mse(X_test.values[X_test > 0], Y[X_test > 0])\n",
    "    \n",
    "    metrics.append({\n",
    "        'd': d,\n",
    "        'mse_train': mse_tr,\n",
    "        'mse_test': mse_test\n",
    "    })\n",
    "        \n",
    "    plt.title(fr\"Train and test loss for $d$={d}\")\n",
    "    plt.plot(loss_tr, label='train')\n",
    "    plt.plot(loss_test, label='test')\n",
    "    plt.legend()\n",
    "    plt.show()"
   ]
  },
  {
   "cell_type": "code",
   "execution_count": 35,
   "id": "93d91c11-19b8-4218-ae5e-4954da1cb203",
   "metadata": {},
   "outputs": [
    {
     "data": {
      "text/html": [
       "<div>\n",
       "<style scoped>\n",
       "    .dataframe tbody tr th:only-of-type {\n",
       "        vertical-align: middle;\n",
       "    }\n",
       "\n",
       "    .dataframe tbody tr th {\n",
       "        vertical-align: top;\n",
       "    }\n",
       "\n",
       "    .dataframe thead th {\n",
       "        text-align: right;\n",
       "    }\n",
       "</style>\n",
       "<table border=\"1\" class=\"dataframe\">\n",
       "  <thead>\n",
       "    <tr style=\"text-align: right;\">\n",
       "      <th></th>\n",
       "      <th>d</th>\n",
       "      <th>mse_train</th>\n",
       "      <th>mse_test</th>\n",
       "    </tr>\n",
       "  </thead>\n",
       "  <tbody>\n",
       "    <tr>\n",
       "      <th>0</th>\n",
       "      <td>5</td>\n",
       "      <td>6.914089</td>\n",
       "      <td>17.000323</td>\n",
       "    </tr>\n",
       "    <tr>\n",
       "      <th>1</th>\n",
       "      <td>10</td>\n",
       "      <td>4.250037</td>\n",
       "      <td>24.052137</td>\n",
       "    </tr>\n",
       "    <tr>\n",
       "      <th>2</th>\n",
       "      <td>100</td>\n",
       "      <td>0.013547</td>\n",
       "      <td>15.645854</td>\n",
       "    </tr>\n",
       "    <tr>\n",
       "      <th>3</th>\n",
       "      <td>200</td>\n",
       "      <td>0.016529</td>\n",
       "      <td>14.048052</td>\n",
       "    </tr>\n",
       "    <tr>\n",
       "      <th>4</th>\n",
       "      <td>400</td>\n",
       "      <td>0.023108</td>\n",
       "      <td>13.675253</td>\n",
       "    </tr>\n",
       "  </tbody>\n",
       "</table>\n",
       "</div>"
      ],
      "text/plain": [
       "     d  mse_train   mse_test\n",
       "0    5   6.914089  17.000323\n",
       "1   10   4.250037  24.052137\n",
       "2  100   0.013547  15.645854\n",
       "3  200   0.016529  14.048052\n",
       "4  400   0.023108  13.675253"
      ]
     },
     "execution_count": 35,
     "metadata": {},
     "output_type": "execute_result"
    }
   ],
   "source": [
    "metrics_df = pd.DataFrame(metrics)\n",
    "metrics_df"
   ]
  }
 ],
 "metadata": {
  "kernelspec": {
   "display_name": "Python 3",
   "language": "python",
   "name": "python3"
  },
  "language_info": {
   "codemirror_mode": {
    "name": "ipython",
    "version": 3
   },
   "file_extension": ".py",
   "mimetype": "text/x-python",
   "name": "python",
   "nbconvert_exporter": "python",
   "pygments_lexer": "ipython3",
   "version": "3.10.4"
  }
 },
 "nbformat": 4,
 "nbformat_minor": 5
}
