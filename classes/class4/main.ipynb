{
 "cells": [
  {
   "cell_type": "code",
   "execution_count": 1,
   "id": "b6c80b13",
   "metadata": {},
   "outputs": [],
   "source": [
    "import pandas as pd\n",
    "\n",
    "train_data = pd.read_csv('train.csv')\n",
    "test_data = pd.read_csv('test.csv')"
   ]
  },
  {
   "cell_type": "code",
   "execution_count": 2,
   "id": "6114dbfb",
   "metadata": {},
   "outputs": [
    {
     "data": {
      "text/html": [
       "<div>\n",
       "<style scoped>\n",
       "    .dataframe tbody tr th:only-of-type {\n",
       "        vertical-align: middle;\n",
       "    }\n",
       "\n",
       "    .dataframe tbody tr th {\n",
       "        vertical-align: top;\n",
       "    }\n",
       "\n",
       "    .dataframe thead th {\n",
       "        text-align: right;\n",
       "    }\n",
       "</style>\n",
       "<table border=\"1\" class=\"dataframe\">\n",
       "  <thead>\n",
       "    <tr style=\"text-align: right;\">\n",
       "      <th></th>\n",
       "      <th>PassengerId</th>\n",
       "      <th>HomePlanet</th>\n",
       "      <th>CryoSleep</th>\n",
       "      <th>Cabin</th>\n",
       "      <th>Destination</th>\n",
       "      <th>Age</th>\n",
       "      <th>VIP</th>\n",
       "      <th>RoomService</th>\n",
       "      <th>FoodCourt</th>\n",
       "      <th>ShoppingMall</th>\n",
       "      <th>Spa</th>\n",
       "      <th>VRDeck</th>\n",
       "      <th>Name</th>\n",
       "      <th>Transported</th>\n",
       "    </tr>\n",
       "  </thead>\n",
       "  <tbody>\n",
       "    <tr>\n",
       "      <th>0</th>\n",
       "      <td>0001_01</td>\n",
       "      <td>Europa</td>\n",
       "      <td>False</td>\n",
       "      <td>B/0/P</td>\n",
       "      <td>TRAPPIST-1e</td>\n",
       "      <td>39.0</td>\n",
       "      <td>False</td>\n",
       "      <td>0.0</td>\n",
       "      <td>0.0</td>\n",
       "      <td>0.0</td>\n",
       "      <td>0.0</td>\n",
       "      <td>0.0</td>\n",
       "      <td>Maham Ofracculy</td>\n",
       "      <td>False</td>\n",
       "    </tr>\n",
       "    <tr>\n",
       "      <th>1</th>\n",
       "      <td>0002_01</td>\n",
       "      <td>Earth</td>\n",
       "      <td>False</td>\n",
       "      <td>F/0/S</td>\n",
       "      <td>TRAPPIST-1e</td>\n",
       "      <td>24.0</td>\n",
       "      <td>False</td>\n",
       "      <td>109.0</td>\n",
       "      <td>9.0</td>\n",
       "      <td>25.0</td>\n",
       "      <td>549.0</td>\n",
       "      <td>44.0</td>\n",
       "      <td>Juanna Vines</td>\n",
       "      <td>True</td>\n",
       "    </tr>\n",
       "    <tr>\n",
       "      <th>2</th>\n",
       "      <td>0003_01</td>\n",
       "      <td>Europa</td>\n",
       "      <td>False</td>\n",
       "      <td>A/0/S</td>\n",
       "      <td>TRAPPIST-1e</td>\n",
       "      <td>58.0</td>\n",
       "      <td>True</td>\n",
       "      <td>43.0</td>\n",
       "      <td>3576.0</td>\n",
       "      <td>0.0</td>\n",
       "      <td>6715.0</td>\n",
       "      <td>49.0</td>\n",
       "      <td>Altark Susent</td>\n",
       "      <td>False</td>\n",
       "    </tr>\n",
       "    <tr>\n",
       "      <th>3</th>\n",
       "      <td>0003_02</td>\n",
       "      <td>Europa</td>\n",
       "      <td>False</td>\n",
       "      <td>A/0/S</td>\n",
       "      <td>TRAPPIST-1e</td>\n",
       "      <td>33.0</td>\n",
       "      <td>False</td>\n",
       "      <td>0.0</td>\n",
       "      <td>1283.0</td>\n",
       "      <td>371.0</td>\n",
       "      <td>3329.0</td>\n",
       "      <td>193.0</td>\n",
       "      <td>Solam Susent</td>\n",
       "      <td>False</td>\n",
       "    </tr>\n",
       "    <tr>\n",
       "      <th>4</th>\n",
       "      <td>0004_01</td>\n",
       "      <td>Earth</td>\n",
       "      <td>False</td>\n",
       "      <td>F/1/S</td>\n",
       "      <td>TRAPPIST-1e</td>\n",
       "      <td>16.0</td>\n",
       "      <td>False</td>\n",
       "      <td>303.0</td>\n",
       "      <td>70.0</td>\n",
       "      <td>151.0</td>\n",
       "      <td>565.0</td>\n",
       "      <td>2.0</td>\n",
       "      <td>Willy Santantines</td>\n",
       "      <td>True</td>\n",
       "    </tr>\n",
       "  </tbody>\n",
       "</table>\n",
       "</div>"
      ],
      "text/plain": [
       "  PassengerId HomePlanet CryoSleep  Cabin  Destination   Age    VIP  \\\n",
       "0     0001_01     Europa     False  B/0/P  TRAPPIST-1e  39.0  False   \n",
       "1     0002_01      Earth     False  F/0/S  TRAPPIST-1e  24.0  False   \n",
       "2     0003_01     Europa     False  A/0/S  TRAPPIST-1e  58.0   True   \n",
       "3     0003_02     Europa     False  A/0/S  TRAPPIST-1e  33.0  False   \n",
       "4     0004_01      Earth     False  F/1/S  TRAPPIST-1e  16.0  False   \n",
       "\n",
       "   RoomService  FoodCourt  ShoppingMall     Spa  VRDeck               Name  \\\n",
       "0          0.0        0.0           0.0     0.0     0.0    Maham Ofracculy   \n",
       "1        109.0        9.0          25.0   549.0    44.0       Juanna Vines   \n",
       "2         43.0     3576.0           0.0  6715.0    49.0      Altark Susent   \n",
       "3          0.0     1283.0         371.0  3329.0   193.0       Solam Susent   \n",
       "4        303.0       70.0         151.0   565.0     2.0  Willy Santantines   \n",
       "\n",
       "   Transported  \n",
       "0        False  \n",
       "1         True  \n",
       "2        False  \n",
       "3        False  \n",
       "4         True  "
      ]
     },
     "execution_count": 2,
     "metadata": {},
     "output_type": "execute_result"
    }
   ],
   "source": [
    "train_data.head()"
   ]
  },
  {
   "cell_type": "markdown",
   "id": "48837741",
   "metadata": {},
   "source": [
    "# Dummy variable for Nan"
   ]
  },
  {
   "cell_type": "code",
   "execution_count": 3,
   "id": "222544a2",
   "metadata": {},
   "outputs": [],
   "source": [
    "# cabin_na = test_data['Cabin'].isna()\n",
    "# dataset = [test_data['Cabin'].fillna(test_data['Cabin'].mean()), cabin_na]"
   ]
  },
  {
   "cell_type": "code",
   "execution_count": 4,
   "id": "ab2892c8",
   "metadata": {},
   "outputs": [
    {
     "data": {
      "text/plain": [
       "Index(['PassengerId', 'HomePlanet', 'CryoSleep', 'Cabin', 'Destination', 'Age',\n",
       "       'VIP', 'RoomService', 'FoodCourt', 'ShoppingMall', 'Spa', 'VRDeck',\n",
       "       'Name', 'Transported'],\n",
       "      dtype='object')"
      ]
     },
     "execution_count": 4,
     "metadata": {},
     "output_type": "execute_result"
    }
   ],
   "source": [
    "train_data.columns"
   ]
  },
  {
   "cell_type": "markdown",
   "id": "434c9590",
   "metadata": {},
   "source": [
    "# Name is bas feature"
   ]
  },
  {
   "cell_type": "code",
   "execution_count": 5,
   "id": "3a7a3df8",
   "metadata": {},
   "outputs": [
    {
     "data": {
      "text/plain": [
       "((8693, 14), 8474)"
      ]
     },
     "execution_count": 5,
     "metadata": {},
     "output_type": "execute_result"
    }
   ],
   "source": [
    "names_set_1 = set(train_data['Name'])\n",
    "\n",
    "train_data.shape, len(names_set_1)"
   ]
  },
  {
   "cell_type": "code",
   "execution_count": 6,
   "id": "b704378f",
   "metadata": {},
   "outputs": [
    {
     "data": {
      "text/plain": [
       "((4277, 13), 4177)"
      ]
     },
     "execution_count": 6,
     "metadata": {},
     "output_type": "execute_result"
    }
   ],
   "source": [
    "names_set_2 = set(test_data['Name'])\n",
    "test_data.shape, len(names_set_2)"
   ]
  },
  {
   "cell_type": "code",
   "execution_count": 7,
   "id": "25627bc3",
   "metadata": {},
   "outputs": [
    {
     "data": {
      "text/plain": [
       "21"
      ]
     },
     "execution_count": 7,
     "metadata": {},
     "output_type": "execute_result"
    }
   ],
   "source": [
    "len(names_set_1.intersection(names_set_2))"
   ]
  },
  {
   "cell_type": "markdown",
   "id": "dc43e06f",
   "metadata": {},
   "source": [
    "# Other features"
   ]
  },
  {
   "cell_type": "code",
   "execution_count": 8,
   "id": "e2acd7c3",
   "metadata": {},
   "outputs": [
    {
     "data": {
      "text/plain": [
       "Index(['HomePlanet', 'CryoSleep', 'Cabin', 'Destination', 'Age', 'VIP',\n",
       "       'RoomService', 'FoodCourt', 'ShoppingMall', 'Spa', 'VRDeck'],\n",
       "      dtype='object')"
      ]
     },
     "execution_count": 8,
     "metadata": {},
     "output_type": "execute_result"
    }
   ],
   "source": [
    "train_data.columns[1:-2]"
   ]
  },
  {
   "cell_type": "markdown",
   "id": "f191fdd7",
   "metadata": {},
   "source": [
    "# Numerical"
   ]
  },
  {
   "cell_type": "code",
   "execution_count": 9,
   "id": "1847e662",
   "metadata": {},
   "outputs": [],
   "source": [
    "# Age, RoomService, FoodCourt, ShoppingMall, Spa, VRDeck"
   ]
  },
  {
   "cell_type": "code",
   "execution_count": 10,
   "id": "dfa3104f",
   "metadata": {},
   "outputs": [
    {
     "data": {
      "text/plain": [
       "(259, 170)"
      ]
     },
     "execution_count": 10,
     "metadata": {},
     "output_type": "execute_result"
    }
   ],
   "source": [
    "len(set(train_data['Age'])), len(set(test_data['Age']))"
   ]
  },
  {
   "cell_type": "code",
   "execution_count": 11,
   "id": "12b26b97",
   "metadata": {},
   "outputs": [
    {
     "data": {
      "text/plain": [
       "<matplotlib.legend.Legend at 0x274df32f8e0>"
      ]
     },
     "execution_count": 11,
     "metadata": {},
     "output_type": "execute_result"
    },
    {
     "data": {
      "image/png": "[encoded data removed]",
      "text/plain": [
       "<Figure size 432x288 with 1 Axes>"
      ]
     },
     "metadata": {
      "needs_background": "light"
     },
     "output_type": "display_data"
    }
   ],
   "source": [
    "from matplotlib import pyplot as plt\n",
    "\n",
    "plt.hist(train_data['Age'], density=1, alpha=0.5)\n",
    "plt.hist(test_data['Age'], density=1, alpha=0.5)\n",
    "plt.legend(['train', 'test'])"
   ]
  },
  {
   "cell_type": "code",
   "execution_count": 12,
   "id": "dcaf5ab3",
   "metadata": {},
   "outputs": [
    {
     "name": "stdout",
     "output_type": "stream",
     "text": [
      "0.6415506729552514\n",
      "0.6373626373626373\n"
     ]
    },
    {
     "data": {
      "text/plain": [
       "<matplotlib.legend.Legend at 0x274e245aa40>"
      ]
     },
     "execution_count": 12,
     "metadata": {},
     "output_type": "execute_result"
    },
    {
     "data": {
      "image/png": "[encoded data removed]",
      "text/plain": [
       "<Figure size 432x288 with 1 Axes>"
      ]
     },
     "metadata": {
      "needs_background": "light"
     },
     "output_type": "display_data"
    }
   ],
   "source": [
    "plt.hist(train_data['RoomService'], density=1, alpha=0.5, range=(0, 6000))\n",
    "plt.hist(test_data['RoomService'], density=1, alpha=0.5, range=(0, 6000))\n",
    "\n",
    "print((train_data['RoomService'] == 0).mean())\n",
    "print((test_data['RoomService'] == 0).mean())\n",
    "\n",
    "plt.legend(['train', 'test'])"
   ]
  },
  {
   "cell_type": "code",
   "execution_count": 13,
   "id": "8baf3449",
   "metadata": {},
   "outputs": [
    {
     "name": "stdout",
     "output_type": "stream",
     "text": [
      "0.6276314275854136\n",
      "0.6289455225625439\n"
     ]
    },
    {
     "data": {
      "text/plain": [
       "<matplotlib.legend.Legend at 0x274e2506140>"
      ]
     },
     "execution_count": 13,
     "metadata": {},
     "output_type": "execute_result"
    },
    {
     "data": {
      "image/png": "[encoded data removed]",
      "text/plain": [
       "<Figure size 432x288 with 1 Axes>"
      ]
     },
     "metadata": {
      "needs_background": "light"
     },
     "output_type": "display_data"
    }
   ],
   "source": [
    "plt.hist(train_data['FoodCourt'], density=1, alpha=0.5, range=(0, 6000))\n",
    "plt.hist(test_data['FoodCourt'], density=1, alpha=0.5, range=(0, 6000))\n",
    "\n",
    "print((train_data['FoodCourt'] == 0).mean())\n",
    "print((test_data['FoodCourt'] == 0).mean())\n",
    "\n",
    "plt.legend(['train', 'test'])"
   ]
  },
  {
   "cell_type": "code",
   "execution_count": 14,
   "id": "756659b4",
   "metadata": {},
   "outputs": [
    {
     "name": "stdout",
     "output_type": "stream",
     "text": [
      "0.6427010238122628\n",
      "0.6415711947626841\n"
     ]
    },
    {
     "data": {
      "text/plain": [
       "<matplotlib.legend.Legend at 0x274e2577d00>"
      ]
     },
     "execution_count": 14,
     "metadata": {},
     "output_type": "execute_result"
    },
    {
     "data": {
      "image/png": "[encoded data removed]",
      "text/plain": [
       "<Figure size 432x288 with 1 Axes>"
      ]
     },
     "metadata": {
      "needs_background": "light"
     },
     "output_type": "display_data"
    }
   ],
   "source": [
    "plt.hist(train_data['ShoppingMall'], density=1, alpha=0.5, range=(0, 6000))\n",
    "plt.hist(test_data['ShoppingMall'], density=1, alpha=0.5, range=(0, 6000))\n",
    "\n",
    "print((train_data['ShoppingMall'] == 0).mean())\n",
    "print((test_data['ShoppingMall'] == 0).mean())\n",
    "\n",
    "plt.legend(['train', 'test'])"
   ]
  },
  {
   "cell_type": "code",
   "execution_count": 15,
   "id": "2c6fce13",
   "metadata": {},
   "outputs": [
    {
     "name": "stdout",
     "output_type": "stream",
     "text": [
      "0.6124467962728632\n",
      "0.6104746317512275\n"
     ]
    },
    {
     "data": {
      "text/plain": [
       "<matplotlib.legend.Legend at 0x274e261f310>"
      ]
     },
     "execution_count": 15,
     "metadata": {},
     "output_type": "execute_result"
    },
    {
     "data": {
      "image/png": "[encoded data removed]",
      "text/plain": [
       "<Figure size 432x288 with 1 Axes>"
      ]
     },
     "metadata": {
      "needs_background": "light"
     },
     "output_type": "display_data"
    }
   ],
   "source": [
    "plt.hist(train_data['Spa'], density=1, alpha=0.5, range=(0, 6000))\n",
    "plt.hist(test_data['Spa'], density=1, alpha=0.5, range=(0, 6000))\n",
    "\n",
    "print((train_data['Spa'] == 0).mean())\n",
    "print((test_data['Spa'] == 0).mean())\n",
    "\n",
    "plt.legend(['train', 'test'])"
   ]
  },
  {
   "cell_type": "code",
   "execution_count": 16,
   "id": "629138f9",
   "metadata": {},
   "outputs": [
    {
     "name": "stdout",
     "output_type": "stream",
     "text": [
      "0.632117795927758\n",
      "0.6446107084404957\n"
     ]
    },
    {
     "data": {
      "text/plain": [
       "<matplotlib.legend.Legend at 0x274e26b6a40>"
      ]
     },
     "execution_count": 16,
     "metadata": {},
     "output_type": "execute_result"
    },
    {
     "data": {
      "image/png": "[encoded data removed]",
      "text/plain": [
       "<Figure size 432x288 with 1 Axes>"
      ]
     },
     "metadata": {
      "needs_background": "light"
     },
     "output_type": "display_data"
    }
   ],
   "source": [
    "plt.hist(train_data['VRDeck'], density=1, alpha=0.5, range=(0, 6000))\n",
    "plt.hist(test_data['VRDeck'], density=1, alpha=0.5, range=(0, 6000))\n",
    "\n",
    "print((train_data['VRDeck'] == 0).mean())\n",
    "print((test_data['VRDeck'] == 0).mean())\n",
    "\n",
    "plt.legend(['train', 'test'])"
   ]
  },
  {
   "cell_type": "markdown",
   "id": "388a273c",
   "metadata": {},
   "source": [
    "# X numerical"
   ]
  },
  {
   "cell_type": "code",
   "execution_count": 17,
   "id": "18c2c0cf",
   "metadata": {},
   "outputs": [],
   "source": [
    "num_cols = ['Age', \"VIP\", 'RoomService', 'CryoSleep', 'FoodCourt', 'ShoppingMall', 'Spa', 'VRDeck']\n",
    "\n",
    "x_num_train_num_na = train_data[num_cols].astype('float32').isna()\n",
    "x_num_test_num_na = test_data[num_cols].astype('float32').isna()\n",
    "\n",
    "x_num_train = train_data[num_cols].astype('float32').fillna(-1)\n",
    "x_num_test = test_data[num_cols].astype('float32').fillna(-1)"
   ]
  },
  {
   "cell_type": "code",
   "execution_count": 18,
   "id": "29ba16b9",
   "metadata": {},
   "outputs": [
    {
     "data": {
      "text/html": [
       "<div>\n",
       "<style scoped>\n",
       "    .dataframe tbody tr th:only-of-type {\n",
       "        vertical-align: middle;\n",
       "    }\n",
       "\n",
       "    .dataframe tbody tr th {\n",
       "        vertical-align: top;\n",
       "    }\n",
       "\n",
       "    .dataframe thead th {\n",
       "        text-align: right;\n",
       "    }\n",
       "</style>\n",
       "<table border=\"1\" class=\"dataframe\">\n",
       "  <thead>\n",
       "    <tr style=\"text-align: right;\">\n",
       "      <th></th>\n",
       "      <th>Age</th>\n",
       "      <th>VIP</th>\n",
       "      <th>RoomService</th>\n",
       "      <th>CryoSleep</th>\n",
       "      <th>FoodCourt</th>\n",
       "      <th>ShoppingMall</th>\n",
       "      <th>Spa</th>\n",
       "      <th>VRDeck</th>\n",
       "    </tr>\n",
       "  </thead>\n",
       "  <tbody>\n",
       "    <tr>\n",
       "      <th>0</th>\n",
       "      <td>39.0</td>\n",
       "      <td>0.0</td>\n",
       "      <td>0.0</td>\n",
       "      <td>0.0</td>\n",
       "      <td>0.0</td>\n",
       "      <td>0.0</td>\n",
       "      <td>0.0</td>\n",
       "      <td>0.0</td>\n",
       "    </tr>\n",
       "    <tr>\n",
       "      <th>1</th>\n",
       "      <td>24.0</td>\n",
       "      <td>0.0</td>\n",
       "      <td>109.0</td>\n",
       "      <td>0.0</td>\n",
       "      <td>9.0</td>\n",
       "      <td>25.0</td>\n",
       "      <td>549.0</td>\n",
       "      <td>44.0</td>\n",
       "    </tr>\n",
       "    <tr>\n",
       "      <th>2</th>\n",
       "      <td>58.0</td>\n",
       "      <td>1.0</td>\n",
       "      <td>43.0</td>\n",
       "      <td>0.0</td>\n",
       "      <td>3576.0</td>\n",
       "      <td>0.0</td>\n",
       "      <td>6715.0</td>\n",
       "      <td>49.0</td>\n",
       "    </tr>\n",
       "    <tr>\n",
       "      <th>3</th>\n",
       "      <td>33.0</td>\n",
       "      <td>0.0</td>\n",
       "      <td>0.0</td>\n",
       "      <td>0.0</td>\n",
       "      <td>1283.0</td>\n",
       "      <td>371.0</td>\n",
       "      <td>3329.0</td>\n",
       "      <td>193.0</td>\n",
       "    </tr>\n",
       "    <tr>\n",
       "      <th>4</th>\n",
       "      <td>16.0</td>\n",
       "      <td>0.0</td>\n",
       "      <td>303.0</td>\n",
       "      <td>0.0</td>\n",
       "      <td>70.0</td>\n",
       "      <td>151.0</td>\n",
       "      <td>565.0</td>\n",
       "      <td>2.0</td>\n",
       "    </tr>\n",
       "    <tr>\n",
       "      <th>...</th>\n",
       "      <td>...</td>\n",
       "      <td>...</td>\n",
       "      <td>...</td>\n",
       "      <td>...</td>\n",
       "      <td>...</td>\n",
       "      <td>...</td>\n",
       "      <td>...</td>\n",
       "      <td>...</td>\n",
       "    </tr>\n",
       "    <tr>\n",
       "      <th>8688</th>\n",
       "      <td>41.0</td>\n",
       "      <td>1.0</td>\n",
       "      <td>0.0</td>\n",
       "      <td>0.0</td>\n",
       "      <td>6819.0</td>\n",
       "      <td>0.0</td>\n",
       "      <td>1643.0</td>\n",
       "      <td>74.0</td>\n",
       "    </tr>\n",
       "    <tr>\n",
       "      <th>8689</th>\n",
       "      <td>18.0</td>\n",
       "      <td>0.0</td>\n",
       "      <td>0.0</td>\n",
       "      <td>1.0</td>\n",
       "      <td>0.0</td>\n",
       "      <td>0.0</td>\n",
       "      <td>0.0</td>\n",
       "      <td>0.0</td>\n",
       "    </tr>\n",
       "    <tr>\n",
       "      <th>8690</th>\n",
       "      <td>26.0</td>\n",
       "      <td>0.0</td>\n",
       "      <td>0.0</td>\n",
       "      <td>0.0</td>\n",
       "      <td>0.0</td>\n",
       "      <td>1872.0</td>\n",
       "      <td>1.0</td>\n",
       "      <td>0.0</td>\n",
       "    </tr>\n",
       "    <tr>\n",
       "      <th>8691</th>\n",
       "      <td>32.0</td>\n",
       "      <td>0.0</td>\n",
       "      <td>0.0</td>\n",
       "      <td>0.0</td>\n",
       "      <td>1049.0</td>\n",
       "      <td>0.0</td>\n",
       "      <td>353.0</td>\n",
       "      <td>3235.0</td>\n",
       "    </tr>\n",
       "    <tr>\n",
       "      <th>8692</th>\n",
       "      <td>44.0</td>\n",
       "      <td>0.0</td>\n",
       "      <td>126.0</td>\n",
       "      <td>0.0</td>\n",
       "      <td>4688.0</td>\n",
       "      <td>0.0</td>\n",
       "      <td>0.0</td>\n",
       "      <td>12.0</td>\n",
       "    </tr>\n",
       "  </tbody>\n",
       "</table>\n",
       "<p>8693 rows × 8 columns</p>\n",
       "</div>"
      ],
      "text/plain": [
       "       Age  VIP  RoomService  CryoSleep  FoodCourt  ShoppingMall     Spa  \\\n",
       "0     39.0  0.0          0.0        0.0        0.0           0.0     0.0   \n",
       "1     24.0  0.0        109.0        0.0        9.0          25.0   549.0   \n",
       "2     58.0  1.0         43.0        0.0     3576.0           0.0  6715.0   \n",
       "3     33.0  0.0          0.0        0.0     1283.0         371.0  3329.0   \n",
       "4     16.0  0.0        303.0        0.0       70.0         151.0   565.0   \n",
       "...    ...  ...          ...        ...        ...           ...     ...   \n",
       "8688  41.0  1.0          0.0        0.0     6819.0           0.0  1643.0   \n",
       "8689  18.0  0.0          0.0        1.0        0.0           0.0     0.0   \n",
       "8690  26.0  0.0          0.0        0.0        0.0        1872.0     1.0   \n",
       "8691  32.0  0.0          0.0        0.0     1049.0           0.0   353.0   \n",
       "8692  44.0  0.0        126.0        0.0     4688.0           0.0     0.0   \n",
       "\n",
       "      VRDeck  \n",
       "0        0.0  \n",
       "1       44.0  \n",
       "2       49.0  \n",
       "3      193.0  \n",
       "4        2.0  \n",
       "...      ...  \n",
       "8688    74.0  \n",
       "8689     0.0  \n",
       "8690     0.0  \n",
       "8691  3235.0  \n",
       "8692    12.0  \n",
       "\n",
       "[8693 rows x 8 columns]"
      ]
     },
     "execution_count": 18,
     "metadata": {},
     "output_type": "execute_result"
    }
   ],
   "source": [
    "x_num_train"
   ]
  },
  {
   "cell_type": "code",
   "execution_count": 19,
   "id": "289fd556",
   "metadata": {},
   "outputs": [
    {
     "ename": "NameError",
     "evalue": "name 'np' is not defined",
     "output_type": "error",
     "traceback": [
      "\u001b[1;31m---------------------------------------------------------------------------\u001b[0m",
      "\u001b[1;31mNameError\u001b[0m                                 Traceback (most recent call last)",
      "Input \u001b[1;32mIn [19]\u001b[0m, in \u001b[0;36m<module>\u001b[1;34m\u001b[0m\n\u001b[0;32m      1\u001b[0m \u001b[38;5;66;03m# Dummy for numerical\u001b[39;00m\n\u001b[0;32m      2\u001b[0m \u001b[38;5;66;03m# Я цце не використовую, бо nan тут немає\u001b[39;00m\n\u001b[1;32m----> 3\u001b[0m \u001b[43mnp\u001b[49m\u001b[38;5;241m.\u001b[39mconcatenate([x_num_train\u001b[38;5;241m.\u001b[39mfillna(\u001b[38;5;241m0\u001b[39m), x_num_train\u001b[38;5;241m.\u001b[39misna()], axis\u001b[38;5;241m=\u001b[39m\u001b[38;5;241m1\u001b[39m)\n",
      "\u001b[1;31mNameError\u001b[0m: name 'np' is not defined"
     ]
    }
   ],
   "source": [
    "# Dummy for numerical\n",
    "# Я цце не використовую, бо nan тут немає\n",
    "np.concatenate([x_num_train.fillna(0), x_num_train.isna()], axis=1)"
   ]
  },
  {
   "cell_type": "markdown",
   "id": "9253307c",
   "metadata": {},
   "source": [
    "# Bool"
   ]
  },
  {
   "cell_type": "code",
   "execution_count": null,
   "id": "f5b283d7",
   "metadata": {},
   "outputs": [],
   "source": [
    "train_data['CryoSleep'].mean(), train_data['VIP'].mean()"
   ]
  },
  {
   "cell_type": "markdown",
   "id": "6aeb340b",
   "metadata": {},
   "source": [
    "# Categorical features (factors)"
   ]
  },
  {
   "cell_type": "code",
   "execution_count": 20,
   "id": "2cab5a08",
   "metadata": {},
   "outputs": [],
   "source": [
    "import numpy as np\n",
    "cat_columns = ['HomePlanet', 'Destination']\n",
    "\n",
    "def ohe(x, w_i_map):\n",
    "    encoding = np.zeros((len(x), len(words)))\n",
    "    for k, w in enumerate(x):\n",
    "        encoding[k, w_i_map[w]] += 1\n",
    "    return encoding"
   ]
  },
  {
   "cell_type": "code",
   "execution_count": 21,
   "id": "e4efaf2f",
   "metadata": {},
   "outputs": [
    {
     "name": "stdout",
     "output_type": "stream",
     "text": [
      "HomePlanet\n",
      "test-train difference 0\n",
      "train, test unique 4 4\n",
      "\n",
      "Destination\n",
      "test-train difference 0\n",
      "train, test unique 4 4\n",
      "\n"
     ]
    }
   ],
   "source": [
    "\n",
    "x_train_cat = []\n",
    "x_test_cat = []\n",
    "\n",
    "\n",
    "for col in cat_columns:\n",
    "    print(col)\n",
    "    print('test-train difference', len(set(test_data[col]) - set(train_data[col])))\n",
    "    print('train, test unique', len(set(test_data[col])), len(set(train_data[col])))\n",
    "    \n",
    "    words = set(train_data[col]).union(set(test_data[col]))\n",
    "\n",
    "#     print(words)\n",
    "    i_w_map = dict(enumerate(words))\n",
    "    w_i_map = {v: k for k, v in i_w_map.items()}\n",
    "#     print(i_w_map, w_i_map)\n",
    "\n",
    "    col_f_train = ohe(train_data[col], w_i_map)\n",
    "    col_f_test = ohe(test_data[col], w_i_map)\n",
    "    print()\n",
    "    \n",
    "    x_train_cat.append(col_f_train)\n",
    "    x_test_cat.append(col_f_test)\n",
    "\n",
    "x_train_cat = np.concatenate(x_train_cat, axis=1)\n",
    "x_test_cat = np.concatenate(x_test_cat, axis=1)\n",
    "\n",
    "    \n",
    "    # col_encoding_train = np.zeros((len(train_data), len(words)))\n",
    "    # for w in "
   ]
  },
  {
   "cell_type": "code",
   "execution_count": 22,
   "id": "485e82dc",
   "metadata": {},
   "outputs": [
    {
     "data": {
      "text/plain": [
       "(8693, 8)"
      ]
     },
     "execution_count": 22,
     "metadata": {},
     "output_type": "execute_result"
    }
   ],
   "source": [
    "x_train_cat.shape"
   ]
  },
  {
   "cell_type": "code",
   "execution_count": 23,
   "id": "49cc10e6",
   "metadata": {},
   "outputs": [
    {
     "data": {
      "text/plain": [
       "((8693, 8), (4277, 8))"
      ]
     },
     "execution_count": 23,
     "metadata": {},
     "output_type": "execute_result"
    }
   ],
   "source": [
    "x_train_cat.shape, x_test_cat.shape"
   ]
  },
  {
   "cell_type": "markdown",
   "id": "7243ce2a",
   "metadata": {},
   "source": [
    "# Text"
   ]
  },
  {
   "cell_type": "code",
   "execution_count": 24,
   "id": "14a8f6b4",
   "metadata": {
    "scrolled": true
   },
   "outputs": [
    {
     "data": {
      "text/plain": [
       "{3}"
      ]
     },
     "execution_count": 24,
     "metadata": {},
     "output_type": "execute_result"
    }
   ],
   "source": [
    "a = set([len(i) for i in train_data['Cabin'].dropna().apply(lambda x: x.split('/'))])\n",
    "a"
   ]
  },
  {
   "cell_type": "code",
   "execution_count": 29,
   "id": "7e83fa85",
   "metadata": {},
   "outputs": [],
   "source": [
    "sents_train = train_data['Cabin'].apply(lambda x: x.split('/') if isinstance(x, str) else '0/0/0')\n",
    "sents_test = test_data['Cabin'].apply(lambda x: x.split('/') if isinstance(x, str) else '0/0/0')"
   ]
  },
  {
   "cell_type": "code",
   "execution_count": 30,
   "id": "eb106e1a",
   "metadata": {},
   "outputs": [],
   "source": [
    "from sklearn.feature_extraction.text import CountVectorizer"
   ]
  },
  {
   "cell_type": "code",
   "execution_count": 31,
   "id": "e00bf5f0",
   "metadata": {
    "scrolled": true
   },
   "outputs": [
    {
     "data": {
      "text/plain": [
       "0    [B, 0, P]\n",
       "1    [F, 0, S]\n",
       "2    [A, 0, S]\n",
       "3    [A, 0, S]\n",
       "Name: Cabin, dtype: object"
      ]
     },
     "execution_count": 31,
     "metadata": {},
     "output_type": "execute_result"
    }
   ],
   "source": [
    "sents_train.head(4)"
   ]
  },
  {
   "cell_type": "code",
   "execution_count": 32,
   "id": "ee94f775",
   "metadata": {},
   "outputs": [
    {
     "name": "stderr",
     "output_type": "stream",
     "text": [
      "C:\\Users\\Wailt\\AppData\\Local\\Temp\\ipykernel_16228\\691969671.py:1: SettingWithCopyWarning: \n",
      "A value is trying to be set on a copy of a slice from a DataFrame\n",
      "\n",
      "See the caveats in the documentation: https://pandas.pydata.org/pandas-docs/stable/user_guide/indexing.html#returning-a-view-versus-a-copy\n",
      "  train_data['Cabin'][train_data['Cabin'].isna()] = '0/0/0'\n",
      "C:\\Users\\Wailt\\AppData\\Local\\Temp\\ipykernel_16228\\691969671.py:2: SettingWithCopyWarning: \n",
      "A value is trying to be set on a copy of a slice from a DataFrame\n",
      "\n",
      "See the caveats in the documentation: https://pandas.pydata.org/pandas-docs/stable/user_guide/indexing.html#returning-a-view-versus-a-copy\n",
      "  test_data['Cabin'][test_data['Cabin'].isna()] = '0/0/0'\n"
     ]
    }
   ],
   "source": [
    "train_data['Cabin'][train_data['Cabin'].isna()] = '0/0/0'\n",
    "test_data['Cabin'][test_data['Cabin'].isna()] = '0/0/0'"
   ]
  },
  {
   "cell_type": "code",
   "execution_count": 33,
   "id": "0b5e7ff6",
   "metadata": {},
   "outputs": [
    {
     "name": "stderr",
     "output_type": "stream",
     "text": [
      "C:\\Users\\Wailt\\AppData\\Local\\Programs\\Python\\Python310\\lib\\site-packages\\sklearn\\feature_extraction\\text.py:516: UserWarning: The parameter 'token_pattern' will not be used since 'tokenizer' is not None'\n",
      "  warnings.warn(\n"
     ]
    },
    {
     "data": {
      "text/plain": [
       "array([[0, 0, 0, ..., 0, 0, 0]], dtype=int64)"
      ]
     },
     "execution_count": 33,
     "metadata": {},
     "output_type": "execute_result"
    }
   ],
   "source": [
    "sents = train_data['Cabin'].tolist() + test_data['Cabin'].tolist()\n",
    "counter = CountVectorizer(tokenizer=lambda x: x.split('/')).fit(sents)\n",
    "counter.transform(['Hello world']).toarray()"
   ]
  },
  {
   "cell_type": "code",
   "execution_count": 34,
   "id": "f28c89a1",
   "metadata": {},
   "outputs": [
    {
     "data": {
      "text/plain": [
       "1904"
      ]
     },
     "execution_count": 34,
     "metadata": {},
     "output_type": "execute_result"
    }
   ],
   "source": [
    "len(counter.vocabulary_)"
   ]
  },
  {
   "cell_type": "code",
   "execution_count": 35,
   "id": "5be42251",
   "metadata": {},
   "outputs": [],
   "source": [
    "train_text_bow = counter.transform(train_data['Cabin'].tolist()).toarray()\n",
    "test_text_bow = counter.transform(test_data['Cabin'].tolist()).toarray()"
   ]
  },
  {
   "cell_type": "code",
   "execution_count": 36,
   "id": "5a838f1f",
   "metadata": {},
   "outputs": [
    {
     "data": {
      "text/plain": [
       "<matplotlib.image.AxesImage at 0x274f3a018d0>"
      ]
     },
     "execution_count": 36,
     "metadata": {},
     "output_type": "execute_result"
    },
    {
     "data": {
      "image/png": "[encoded data removed]",
      "text/plain": [
       "<Figure size 1080x504 with 1 Axes>"
      ]
     },
     "metadata": {
      "needs_background": "light"
     },
     "output_type": "display_data"
    }
   ],
   "source": [
    "plt.figure(figsize=(15, 7))\n",
    "plt.imshow(train_text_bow.T)"
   ]
  },
  {
   "cell_type": "markdown",
   "id": "4352818b",
   "metadata": {},
   "source": [
    "# Hashig trick"
   ]
  },
  {
   "cell_type": "code",
   "execution_count": 37,
   "id": "b75519a1",
   "metadata": {},
   "outputs": [
    {
     "name": "stdout",
     "output_type": "stream",
     "text": [
      "Cabin\n"
     ]
    }
   ],
   "source": [
    "from sklearn.feature_extraction import FeatureHasher\n",
    "\n",
    "hash_tr = []\n",
    "hash_te = []\n",
    "\n",
    "nan = '0/0/0'\n",
    "\n",
    "for col in ['Cabin']:\n",
    "    print(col)\n",
    "    all_cat = train_data[col].fillna(nan).tolist() + test_data[col].fillna(nan).tolist()\n",
    "\n",
    "    tr_cat_ = [{w: 1 for w in i.split('/')} for i in train_data[col].fillna(nan)]\n",
    "    te_cat_ = [{w: 1 for w in i.split('/')} for i in test_data[col].fillna(nan)]\n",
    "\n",
    "    fh = FeatureHasher(n_features=10).fit(tr_cat_ + te_cat_)\n",
    "\n",
    "    hash_tr = (fh.transform(tr_cat_).toarray())\n",
    "    hash_te = (fh.transform(te_cat_).toarray())"
   ]
  },
  {
   "cell_type": "code",
   "execution_count": 38,
   "id": "e184387a",
   "metadata": {},
   "outputs": [
    {
     "data": {
      "text/plain": [
       "(array([[ 0., -1., -1., ...,  0.,  0., -1.],\n",
       "        [ 0.,  0.,  0., ...,  0., -2., -1.],\n",
       "        [ 0.,  0.,  1., ...,  0., -1., -1.],\n",
       "        ...,\n",
       "        [ 0.,  0., -1., ...,  0., -1.,  1.],\n",
       "        [-1.,  0.,  0., ...,  1., -1.,  0.],\n",
       "        [-1.,  0.,  0., ...,  1., -1.,  0.]]),\n",
       " array([[ 1.,  0.,  0., ...,  0., -1.,  1.],\n",
       "        [ 0.,  0., -1., ...,  0., -2.,  0.],\n",
       "        [ 0., -1.,  0., ...,  0., -1., -1.],\n",
       "        ...,\n",
       "        [ 0., -1.,  0., ...,  0.,  0.,  0.],\n",
       "        [ 0., -1.,  0., ...,  0.,  0.,  0.],\n",
       "        [ 0.,  0.,  0., ...,  0., -2.,  1.]]))"
      ]
     },
     "execution_count": 38,
     "metadata": {},
     "output_type": "execute_result"
    }
   ],
   "source": [
    "hash_tr, hash_te"
   ]
  },
  {
   "cell_type": "markdown",
   "id": "3b054df4",
   "metadata": {},
   "source": [
    "# train_data NAN"
   ]
  },
  {
   "cell_type": "code",
   "execution_count": 39,
   "id": "fd26869f",
   "metadata": {},
   "outputs": [
    {
     "data": {
      "text/plain": [
       "0"
      ]
     },
     "execution_count": 39,
     "metadata": {},
     "output_type": "execute_result"
    }
   ],
   "source": [
    "cabin_na = test_data['Cabin'].isna()\n",
    "cabin_na.sum()"
   ]
  },
  {
   "cell_type": "markdown",
   "id": "dcd91f13",
   "metadata": {},
   "source": [
    "# all features"
   ]
  },
  {
   "cell_type": "code",
   "execution_count": 40,
   "id": "fa37d40c",
   "metadata": {},
   "outputs": [
    {
     "data": {
      "text/plain": [
       "12772586.0"
      ]
     },
     "execution_count": 40,
     "metadata": {},
     "output_type": "execute_result"
    }
   ],
   "source": [
    "x_num_train.values.sum()"
   ]
  },
  {
   "cell_type": "code",
   "execution_count": 41,
   "id": "6afb09c2",
   "metadata": {
    "scrolled": true
   },
   "outputs": [],
   "source": [
    "# x_train = np.concatenate([x_num_train, x_num_train_num_na, x_train_cat, train_text_bow], axis=1)\n",
    "# x_test = np.concatenate([x_num_test, x_num_test_num_na, x_test_cat, test_text_bow], axis=1)\n",
    "\n",
    "x_train = np.concatenate([x_num_train, x_num_train_num_na, x_train_cat, hash_tr], axis=1)\n",
    "x_test = np.concatenate([x_num_test, x_num_test_num_na, x_test_cat, hash_te], axis=1)"
   ]
  },
  {
   "cell_type": "code",
   "execution_count": 42,
   "id": "38b6cfc0",
   "metadata": {},
   "outputs": [],
   "source": [
    "y_train = train_data['Transported']"
   ]
  },
  {
   "cell_type": "code",
   "execution_count": 44,
   "id": "be1e7cd9",
   "metadata": {},
   "outputs": [],
   "source": [
    "from sklearn.metrics import accuracy_score, f1_score, precision_score, recall_score"
   ]
  },
  {
   "cell_type": "code",
   "execution_count": 154,
   "id": "4fa79f93",
   "metadata": {
    "scrolled": true
   },
   "outputs": [],
   "source": [
    "from sklearn.model_selection import train_test_split\n",
    "\n",
    "from sklearn.linear_model import LogisticRegression\n",
    "from sklearn.naive_bayes import GaussianNB\n",
    "from sklearn.ensemble import GradientBoostingClassifier\n",
    "\n",
    "metrics_model = []\n",
    "all_models_gb = []\n",
    "for model_name, model in [#('logistic(C=1)', LogisticRegression()), \n",
    "                         #('logistic(C=2)', LogisticRegression(C=2)),\n",
    "                         ('gb', GradientBoostingClassifier(subsample=0.5, max_features=0.25, n_estimators=150))]:\n",
    "    metrics = []\n",
    "    for i in range(5):\n",
    "        x_tr, x_val, y_tr, y_val = train_test_split(x_train, y_train, shuffle=1, test_size=0.3)\n",
    "        \n",
    "        model.fit(x_tr, y_tr)\n",
    "        \n",
    "        y_tr_pred = model.predict(x_tr)\n",
    "        metric = {}\n",
    "        metric['train_f1_train'] = f1_score(y_tr, y_tr_pred)\n",
    "        metric['train_precision'] = precision_score(y_tr, y_tr_pred)\n",
    "        metric['train_recall'] = recall_score(y_tr, y_tr_pred)\n",
    "        \n",
    "        y_val_pred = model.predict(x_val)\n",
    "        metric['test_f1_train'] = f1_score(y_val, y_val_pred)\n",
    "        metric['test_precision'] = precision_score(y_val, y_val_pred)\n",
    "        metric['test_recall'] = recall_score(y_val, y_val_pred)\n",
    "        \n",
    "        metrics.append(metric)\n",
    "        \n",
    "        all_models_gb.append(model)\n",
    "    \n",
    "    model_avg = pd.DataFrame(metrics).mean()\n",
    "    model_avg['model'] = model_name\n",
    "    metrics_model.append(model_avg)"
   ]
  },
  {
   "cell_type": "code",
   "execution_count": 111,
   "id": "71c382c3",
   "metadata": {},
   "outputs": [
    {
     "data": {
      "text/html": [
       "<div>\n",
       "<style scoped>\n",
       "    .dataframe tbody tr th:only-of-type {\n",
       "        vertical-align: middle;\n",
       "    }\n",
       "\n",
       "    .dataframe tbody tr th {\n",
       "        vertical-align: top;\n",
       "    }\n",
       "\n",
       "    .dataframe thead th {\n",
       "        text-align: right;\n",
       "    }\n",
       "</style>\n",
       "<table border=\"1\" class=\"dataframe\">\n",
       "  <thead>\n",
       "    <tr style=\"text-align: right;\">\n",
       "      <th></th>\n",
       "      <th>train_f1_train</th>\n",
       "      <th>train_precision</th>\n",
       "      <th>train_recall</th>\n",
       "      <th>test_f1_train</th>\n",
       "      <th>test_precision</th>\n",
       "      <th>test_recall</th>\n",
       "      <th>model</th>\n",
       "    </tr>\n",
       "  </thead>\n",
       "  <tbody>\n",
       "    <tr>\n",
       "      <th>0</th>\n",
       "      <td>0.825265</td>\n",
       "      <td>0.801538</td>\n",
       "      <td>0.850453</td>\n",
       "      <td>0.801383</td>\n",
       "      <td>0.782198</td>\n",
       "      <td>0.821765</td>\n",
       "      <td>gb</td>\n",
       "    </tr>\n",
       "  </tbody>\n",
       "</table>\n",
       "</div>"
      ],
      "text/plain": [
       "   train_f1_train  train_precision  train_recall  test_f1_train  \\\n",
       "0        0.825265         0.801538      0.850453       0.801383   \n",
       "\n",
       "   test_precision  test_recall model  \n",
       "0        0.782198     0.821765    gb  "
      ]
     },
     "execution_count": 111,
     "metadata": {},
     "output_type": "execute_result"
    }
   ],
   "source": [
    "pd.DataFrame(metrics_model) # wo texts"
   ]
  },
  {
   "cell_type": "code",
   "execution_count": 48,
   "id": "e40ee6c2",
   "metadata": {},
   "outputs": [],
   "source": [
    "y_probas = []\n",
    "for model in all_models:\n",
    "    y_probas.append(model.predict_proba(x_test))"
   ]
  },
  {
   "cell_type": "code",
   "execution_count": 49,
   "id": "00c297d5",
   "metadata": {},
   "outputs": [],
   "source": [
    "y_te = np.mean(y_probas, axis=0).argmax(axis=1)\n",
    "submit = pd.DataFrame(np.array([test_data['PassengerId'], y_te == 1]).T, columns=['PassengerId', 'Transported'])\n",
    "submit.to_csv('submit_gb.csv', index=False)"
   ]
  },
  {
   "cell_type": "code",
   "execution_count": 50,
   "id": "0bf60fd5",
   "metadata": {},
   "outputs": [],
   "source": []
  },
  {
   "cell_type": "code",
   "execution_count": 51,
   "id": "c7c9ce2f",
   "metadata": {},
   "outputs": [],
   "source": []
  },
  {
   "cell_type": "markdown",
   "id": "745829c5",
   "metadata": {},
   "source": [
    "# Neural network"
   ]
  },
  {
   "cell_type": "code",
   "execution_count": 91,
   "id": "3b5176a1",
   "metadata": {},
   "outputs": [],
   "source": [
    "from tensorflow import keras\n",
    "from tensorflow.keras import layers"
   ]
  },
  {
   "cell_type": "code",
   "execution_count": 92,
   "id": "cd3fbbfa",
   "metadata": {},
   "outputs": [],
   "source": [
    "def build_nn():\n",
    "    model = keras.Sequential()\n",
    "\n",
    "    model.add(layer=layers.Dense(128, activation='selu'))\n",
    "    model.add(layer=layers.Dropout(0.1))\n",
    "\n",
    "    model.add(layer=layers.Dense(128, activation='selu'))\n",
    "    model.add(layer=layers.Dropout(0.1))\n",
    "\n",
    "    model.add(layer=layers.Dense(1, activation='sigmoid'))\n",
    "    model.compile(optimizer=keras.optimizers.Adam(learning_rate=1e-4), metrics=['binary_crossentropy'], loss='binary_crossentropy')\n",
    "    return model"
   ]
  },
  {
   "cell_type": "code",
   "execution_count": 93,
   "id": "b2c2e5e3",
   "metadata": {},
   "outputs": [],
   "source": [
    "callback = keras.callbacks.EarlyStopping(monitor='val_loss', patience=10)"
   ]
  },
  {
   "cell_type": "code",
   "execution_count": 94,
   "id": "e7fa5f1f",
   "metadata": {
    "scrolled": true
   },
   "outputs": [
    {
     "name": "stdout",
     "output_type": "stream",
     "text": [
      "Epoch 1/200\n",
      "48/48 [==============================] - 1s 15ms/step - loss: 23.1480 - binary_crossentropy: 23.1480 - val_loss: 10.1084 - val_binary_crossentropy: 10.1084\n",
      "Epoch 2/200\n",
      "48/48 [==============================] - 0s 10ms/step - loss: 11.7116 - binary_crossentropy: 11.7116 - val_loss: 5.9206 - val_binary_crossentropy: 5.9206\n",
      "Epoch 3/200\n",
      "48/48 [==============================] - 0s 9ms/step - loss: 10.7405 - binary_crossentropy: 10.7405 - val_loss: 6.3913 - val_binary_crossentropy: 6.3913\n",
      "Epoch 4/200\n",
      "48/48 [==============================] - 0s 9ms/step - loss: 10.3513 - binary_crossentropy: 10.3513 - val_loss: 5.7526 - val_binary_crossentropy: 5.7526\n",
      "Epoch 5/200\n",
      "48/48 [==============================] - 0s 9ms/step - loss: 9.5344 - binary_crossentropy: 9.5344 - val_loss: 5.7272 - val_binary_crossentropy: 5.7272\n",
      "Epoch 6/200\n",
      "48/48 [==============================] - 0s 9ms/step - loss: 8.4787 - binary_crossentropy: 8.4787 - val_loss: 5.5021 - val_binary_crossentropy: 5.5021\n",
      "Epoch 7/200\n",
      "48/48 [==============================] - 0s 9ms/step - loss: 8.8749 - binary_crossentropy: 8.8749 - val_loss: 5.2192 - val_binary_crossentropy: 5.2192\n",
      "Epoch 8/200\n",
      "48/48 [==============================] - 0s 9ms/step - loss: 8.5044 - binary_crossentropy: 8.5044 - val_loss: 5.3344 - val_binary_crossentropy: 5.3344\n",
      "Epoch 9/200\n",
      "48/48 [==============================] - 0s 9ms/step - loss: 8.0293 - binary_crossentropy: 8.0293 - val_loss: 5.2280 - val_binary_crossentropy: 5.2280\n",
      "Epoch 10/200\n",
      "48/48 [==============================] - 0s 10ms/step - loss: 8.5610 - binary_crossentropy: 8.5610 - val_loss: 4.8471 - val_binary_crossentropy: 4.8471\n",
      "Epoch 11/200\n",
      "48/48 [==============================] - 0s 10ms/step - loss: 7.5030 - binary_crossentropy: 7.5030 - val_loss: 4.6077 - val_binary_crossentropy: 4.6077\n",
      "Epoch 12/200\n",
      "48/48 [==============================] - 0s 10ms/step - loss: 7.5390 - binary_crossentropy: 7.5390 - val_loss: 4.6790 - val_binary_crossentropy: 4.6790\n",
      "Epoch 13/200\n",
      "48/48 [==============================] - 0s 10ms/step - loss: 7.0286 - binary_crossentropy: 7.0286 - val_loss: 4.4999 - val_binary_crossentropy: 4.4999\n",
      "Epoch 14/200\n",
      "48/48 [==============================] - 0s 10ms/step - loss: 7.1588 - binary_crossentropy: 7.1588 - val_loss: 4.6212 - val_binary_crossentropy: 4.6212\n",
      "Epoch 15/200\n",
      "48/48 [==============================] - 0s 9ms/step - loss: 6.7447 - binary_crossentropy: 6.7447 - val_loss: 4.1802 - val_binary_crossentropy: 4.1802\n",
      "Epoch 16/200\n",
      "48/48 [==============================] - 0s 9ms/step - loss: 6.2679 - binary_crossentropy: 6.2679 - val_loss: 4.1717 - val_binary_crossentropy: 4.1717\n",
      "Epoch 17/200\n",
      "48/48 [==============================] - 0s 10ms/step - loss: 6.0105 - binary_crossentropy: 6.0105 - val_loss: 3.8514 - val_binary_crossentropy: 3.8514\n",
      "Epoch 18/200\n",
      "48/48 [==============================] - 0s 9ms/step - loss: 5.6098 - binary_crossentropy: 5.6098 - val_loss: 3.8920 - val_binary_crossentropy: 3.8920\n",
      "Epoch 19/200\n",
      "48/48 [==============================] - 0s 9ms/step - loss: 6.0397 - binary_crossentropy: 6.0397 - val_loss: 3.6565 - val_binary_crossentropy: 3.6565\n",
      "Epoch 20/200\n",
      "48/48 [==============================] - 0s 9ms/step - loss: 5.5803 - binary_crossentropy: 5.5803 - val_loss: 3.1826 - val_binary_crossentropy: 3.1826\n",
      "Epoch 21/200\n",
      "48/48 [==============================] - 1s 11ms/step - loss: 5.1162 - binary_crossentropy: 5.1162 - val_loss: 2.9250 - val_binary_crossentropy: 2.9250\n",
      "Epoch 22/200\n",
      "48/48 [==============================] - 1s 11ms/step - loss: 4.7651 - binary_crossentropy: 4.7651 - val_loss: 2.9252 - val_binary_crossentropy: 2.9252\n",
      "Epoch 23/200\n",
      "48/48 [==============================] - 0s 9ms/step - loss: 5.2395 - binary_crossentropy: 5.2395 - val_loss: 2.9973 - val_binary_crossentropy: 2.9973\n",
      "Epoch 24/200\n",
      "48/48 [==============================] - 1s 11ms/step - loss: 5.0095 - binary_crossentropy: 5.0095 - val_loss: 2.8378 - val_binary_crossentropy: 2.8378\n",
      "Epoch 25/200\n",
      "48/48 [==============================] - 0s 9ms/step - loss: 4.7893 - binary_crossentropy: 4.7893 - val_loss: 2.7374 - val_binary_crossentropy: 2.7374\n",
      "Epoch 26/200\n",
      "48/48 [==============================] - 1s 11ms/step - loss: 4.4979 - binary_crossentropy: 4.4979 - val_loss: 2.8801 - val_binary_crossentropy: 2.8801\n",
      "Epoch 27/200\n",
      "48/48 [==============================] - 0s 10ms/step - loss: 4.4513 - binary_crossentropy: 4.4513 - val_loss: 2.4517 - val_binary_crossentropy: 2.4517\n",
      "Epoch 28/200\n",
      "48/48 [==============================] - 1s 11ms/step - loss: 4.1373 - binary_crossentropy: 4.1373 - val_loss: 2.6934 - val_binary_crossentropy: 2.6934\n",
      "Epoch 29/200\n",
      "48/48 [==============================] - 0s 10ms/step - loss: 4.5863 - binary_crossentropy: 4.5863 - val_loss: 2.6296 - val_binary_crossentropy: 2.6296\n",
      "Epoch 30/200\n",
      "48/48 [==============================] - 0s 9ms/step - loss: 4.3265 - binary_crossentropy: 4.3265 - val_loss: 2.4449 - val_binary_crossentropy: 2.4449\n",
      "Epoch 31/200\n",
      "48/48 [==============================] - 0s 9ms/step - loss: 3.7112 - binary_crossentropy: 3.7112 - val_loss: 2.4460 - val_binary_crossentropy: 2.4460\n",
      "Epoch 32/200\n",
      "48/48 [==============================] - 0s 10ms/step - loss: 4.1647 - binary_crossentropy: 4.1647 - val_loss: 2.2482 - val_binary_crossentropy: 2.2482\n",
      "Epoch 33/200\n",
      "48/48 [==============================] - 1s 11ms/step - loss: 3.5819 - binary_crossentropy: 3.5819 - val_loss: 2.1225 - val_binary_crossentropy: 2.1225\n",
      "Epoch 34/200\n",
      "48/48 [==============================] - 0s 9ms/step - loss: 3.9308 - binary_crossentropy: 3.9308 - val_loss: 2.2176 - val_binary_crossentropy: 2.2176\n",
      "Epoch 35/200\n",
      "48/48 [==============================] - 0s 10ms/step - loss: 3.4582 - binary_crossentropy: 3.4582 - val_loss: 2.1498 - val_binary_crossentropy: 2.1498\n",
      "Epoch 36/200\n",
      "48/48 [==============================] - 0s 9ms/step - loss: 3.6517 - binary_crossentropy: 3.6517 - val_loss: 2.0399 - val_binary_crossentropy: 2.0399\n",
      "Epoch 37/200\n",
      "48/48 [==============================] - 0s 10ms/step - loss: 3.5216 - binary_crossentropy: 3.5216 - val_loss: 2.0371 - val_binary_crossentropy: 2.0371\n",
      "Epoch 38/200\n",
      "48/48 [==============================] - 0s 10ms/step - loss: 3.4877 - binary_crossentropy: 3.4877 - val_loss: 2.0570 - val_binary_crossentropy: 2.0570\n",
      "Epoch 39/200\n",
      "48/48 [==============================] - 0s 9ms/step - loss: 3.2735 - binary_crossentropy: 3.2735 - val_loss: 1.8908 - val_binary_crossentropy: 1.8908\n",
      "Epoch 40/200\n",
      "48/48 [==============================] - 0s 9ms/step - loss: 3.3364 - binary_crossentropy: 3.3364 - val_loss: 1.8289 - val_binary_crossentropy: 1.8289\n",
      "Epoch 41/200\n",
      "48/48 [==============================] - 0s 10ms/step - loss: 3.2690 - binary_crossentropy: 3.2690 - val_loss: 1.7872 - val_binary_crossentropy: 1.7872\n",
      "Epoch 42/200\n",
      "48/48 [==============================] - 0s 9ms/step - loss: 3.0054 - binary_crossentropy: 3.0054 - val_loss: 1.7072 - val_binary_crossentropy: 1.7072\n",
      "Epoch 43/200\n",
      "48/48 [==============================] - 0s 9ms/step - loss: 2.9186 - binary_crossentropy: 2.9186 - val_loss: 1.6730 - val_binary_crossentropy: 1.6730\n",
      "Epoch 44/200\n",
      "48/48 [==============================] - 0s 9ms/step - loss: 2.8946 - binary_crossentropy: 2.8946 - val_loss: 1.6695 - val_binary_crossentropy: 1.6695\n",
      "Epoch 45/200\n",
      "48/48 [==============================] - 0s 9ms/step - loss: 2.7464 - binary_crossentropy: 2.7464 - val_loss: 1.6218 - val_binary_crossentropy: 1.6218\n",
      "Epoch 46/200\n",
      "48/48 [==============================] - 0s 9ms/step - loss: 2.7665 - binary_crossentropy: 2.7665 - val_loss: 1.4205 - val_binary_crossentropy: 1.4205\n",
      "Epoch 47/200\n",
      "48/48 [==============================] - 0s 8ms/step - loss: 2.6510 - binary_crossentropy: 2.6510 - val_loss: 1.5432 - val_binary_crossentropy: 1.5432\n",
      "Epoch 48/200\n",
      "48/48 [==============================] - 0s 9ms/step - loss: 2.5911 - binary_crossentropy: 2.5911 - val_loss: 1.4752 - val_binary_crossentropy: 1.4752\n",
      "Epoch 49/200\n",
      "48/48 [==============================] - 0s 8ms/step - loss: 2.5804 - binary_crossentropy: 2.5804 - val_loss: 1.5343 - val_binary_crossentropy: 1.5343\n",
      "Epoch 50/200\n",
      "48/48 [==============================] - 0s 10ms/step - loss: 2.6423 - binary_crossentropy: 2.6423 - val_loss: 1.5142 - val_binary_crossentropy: 1.5142\n"
     ]
    },
    {
     "name": "stdout",
     "output_type": "stream",
     "text": [
      "Epoch 51/200\n",
      "48/48 [==============================] - 1s 11ms/step - loss: 2.3185 - binary_crossentropy: 2.3185 - val_loss: 1.4498 - val_binary_crossentropy: 1.4498\n",
      "Epoch 52/200\n",
      "48/48 [==============================] - 0s 10ms/step - loss: 2.4023 - binary_crossentropy: 2.4023 - val_loss: 1.3389 - val_binary_crossentropy: 1.3389\n",
      "Epoch 53/200\n",
      "48/48 [==============================] - 0s 9ms/step - loss: 2.4186 - binary_crossentropy: 2.4186 - val_loss: 1.3432 - val_binary_crossentropy: 1.3432\n",
      "Epoch 54/200\n",
      "48/48 [==============================] - 0s 10ms/step - loss: 2.2851 - binary_crossentropy: 2.2851 - val_loss: 1.3984 - val_binary_crossentropy: 1.3984\n",
      "Epoch 55/200\n",
      "48/48 [==============================] - 0s 10ms/step - loss: 2.1357 - binary_crossentropy: 2.1357 - val_loss: 1.3179 - val_binary_crossentropy: 1.3179\n",
      "Epoch 56/200\n",
      "48/48 [==============================] - 0s 10ms/step - loss: 2.2340 - binary_crossentropy: 2.2340 - val_loss: 1.2545 - val_binary_crossentropy: 1.2545\n",
      "Epoch 57/200\n",
      "48/48 [==============================] - 0s 10ms/step - loss: 2.2398 - binary_crossentropy: 2.2398 - val_loss: 1.2146 - val_binary_crossentropy: 1.2146\n",
      "Epoch 58/200\n",
      "48/48 [==============================] - 0s 8ms/step - loss: 2.0748 - binary_crossentropy: 2.0748 - val_loss: 1.2595 - val_binary_crossentropy: 1.2595\n",
      "Epoch 59/200\n",
      "48/48 [==============================] - 0s 9ms/step - loss: 2.2031 - binary_crossentropy: 2.2031 - val_loss: 1.2302 - val_binary_crossentropy: 1.2302\n",
      "Epoch 60/200\n",
      "48/48 [==============================] - 0s 9ms/step - loss: 1.9842 - binary_crossentropy: 1.9842 - val_loss: 1.1401 - val_binary_crossentropy: 1.1401\n",
      "Epoch 61/200\n",
      "48/48 [==============================] - 0s 9ms/step - loss: 1.8658 - binary_crossentropy: 1.8658 - val_loss: 1.0987 - val_binary_crossentropy: 1.0987\n",
      "Epoch 62/200\n",
      "48/48 [==============================] - 0s 9ms/step - loss: 1.7986 - binary_crossentropy: 1.7986 - val_loss: 1.0611 - val_binary_crossentropy: 1.0611\n",
      "Epoch 63/200\n",
      "48/48 [==============================] - 0s 9ms/step - loss: 1.7948 - binary_crossentropy: 1.7948 - val_loss: 1.0127 - val_binary_crossentropy: 1.0127\n",
      "Epoch 64/200\n",
      "48/48 [==============================] - 0s 9ms/step - loss: 1.8005 - binary_crossentropy: 1.8005 - val_loss: 1.0044 - val_binary_crossentropy: 1.0044\n",
      "Epoch 65/200\n",
      "48/48 [==============================] - 0s 10ms/step - loss: 1.7963 - binary_crossentropy: 1.7963 - val_loss: 0.9698 - val_binary_crossentropy: 0.9698\n",
      "Epoch 66/200\n",
      "48/48 [==============================] - 0s 10ms/step - loss: 1.7021 - binary_crossentropy: 1.7021 - val_loss: 1.0061 - val_binary_crossentropy: 1.0061\n",
      "Epoch 67/200\n",
      "48/48 [==============================] - 0s 10ms/step - loss: 1.6423 - binary_crossentropy: 1.6423 - val_loss: 0.8828 - val_binary_crossentropy: 0.8828\n",
      "Epoch 68/200\n",
      "48/48 [==============================] - 0s 9ms/step - loss: 1.6018 - binary_crossentropy: 1.6018 - val_loss: 0.8441 - val_binary_crossentropy: 0.8441\n",
      "Epoch 69/200\n",
      "48/48 [==============================] - 0s 10ms/step - loss: 1.5757 - binary_crossentropy: 1.5757 - val_loss: 0.8153 - val_binary_crossentropy: 0.8153\n",
      "Epoch 70/200\n",
      "48/48 [==============================] - 0s 10ms/step - loss: 1.6131 - binary_crossentropy: 1.6131 - val_loss: 0.8481 - val_binary_crossentropy: 0.8481\n",
      "Epoch 71/200\n",
      "48/48 [==============================] - 0s 10ms/step - loss: 1.5682 - binary_crossentropy: 1.5682 - val_loss: 0.8781 - val_binary_crossentropy: 0.8781\n",
      "Epoch 72/200\n",
      "48/48 [==============================] - 0s 9ms/step - loss: 1.4488 - binary_crossentropy: 1.4488 - val_loss: 0.7873 - val_binary_crossentropy: 0.7873\n",
      "Epoch 73/200\n",
      "48/48 [==============================] - 1s 10ms/step - loss: 1.3803 - binary_crossentropy: 1.3803 - val_loss: 0.7666 - val_binary_crossentropy: 0.7666\n",
      "Epoch 74/200\n",
      "48/48 [==============================] - 0s 10ms/step - loss: 1.4303 - binary_crossentropy: 1.4303 - val_loss: 0.8129 - val_binary_crossentropy: 0.8129\n",
      "Epoch 75/200\n",
      "48/48 [==============================] - 0s 10ms/step - loss: 1.4227 - binary_crossentropy: 1.4227 - val_loss: 0.7121 - val_binary_crossentropy: 0.7121\n",
      "Epoch 76/200\n",
      "48/48 [==============================] - 0s 9ms/step - loss: 1.4703 - binary_crossentropy: 1.4703 - val_loss: 0.8031 - val_binary_crossentropy: 0.8031\n",
      "Epoch 77/200\n",
      "48/48 [==============================] - 0s 10ms/step - loss: 1.3116 - binary_crossentropy: 1.3116 - val_loss: 0.7898 - val_binary_crossentropy: 0.7898\n",
      "Epoch 78/200\n",
      "48/48 [==============================] - 1s 11ms/step - loss: 1.2577 - binary_crossentropy: 1.2577 - val_loss: 0.7273 - val_binary_crossentropy: 0.7273\n",
      "Epoch 79/200\n",
      "48/48 [==============================] - 0s 9ms/step - loss: 1.2415 - binary_crossentropy: 1.2415 - val_loss: 0.7074 - val_binary_crossentropy: 0.7074\n",
      "Epoch 80/200\n",
      "48/48 [==============================] - 0s 9ms/step - loss: 1.2331 - binary_crossentropy: 1.2331 - val_loss: 0.6957 - val_binary_crossentropy: 0.6957\n",
      "Epoch 81/200\n",
      "48/48 [==============================] - 0s 10ms/step - loss: 1.1547 - binary_crossentropy: 1.1547 - val_loss: 0.6821 - val_binary_crossentropy: 0.6821\n",
      "Epoch 82/200\n",
      "48/48 [==============================] - 0s 10ms/step - loss: 1.1400 - binary_crossentropy: 1.1400 - val_loss: 0.6707 - val_binary_crossentropy: 0.6707\n",
      "Epoch 83/200\n",
      "48/48 [==============================] - 0s 10ms/step - loss: 1.2187 - binary_crossentropy: 1.2187 - val_loss: 0.6475 - val_binary_crossentropy: 0.6475\n",
      "Epoch 84/200\n",
      "48/48 [==============================] - 0s 9ms/step - loss: 1.0680 - binary_crossentropy: 1.0680 - val_loss: 0.6017 - val_binary_crossentropy: 0.6017\n",
      "Epoch 85/200\n",
      "48/48 [==============================] - 0s 9ms/step - loss: 1.0419 - binary_crossentropy: 1.0419 - val_loss: 0.5987 - val_binary_crossentropy: 0.5987\n",
      "Epoch 86/200\n",
      "48/48 [==============================] - 0s 10ms/step - loss: 1.0998 - binary_crossentropy: 1.0998 - val_loss: 0.6023 - val_binary_crossentropy: 0.6023\n",
      "Epoch 87/200\n",
      "48/48 [==============================] - 0s 10ms/step - loss: 1.0068 - binary_crossentropy: 1.0068 - val_loss: 0.5943 - val_binary_crossentropy: 0.5943\n",
      "Epoch 88/200\n",
      "48/48 [==============================] - 0s 10ms/step - loss: 1.0036 - binary_crossentropy: 1.0036 - val_loss: 0.5678 - val_binary_crossentropy: 0.5678\n",
      "Epoch 89/200\n",
      "48/48 [==============================] - 0s 10ms/step - loss: 0.9990 - binary_crossentropy: 0.9990 - val_loss: 0.5500 - val_binary_crossentropy: 0.5500\n",
      "Epoch 90/200\n",
      "48/48 [==============================] - 0s 10ms/step - loss: 0.9459 - binary_crossentropy: 0.9459 - val_loss: 0.5492 - val_binary_crossentropy: 0.5492\n",
      "Epoch 91/200\n",
      "48/48 [==============================] - 1s 11ms/step - loss: 0.9266 - binary_crossentropy: 0.9266 - val_loss: 0.5529 - val_binary_crossentropy: 0.5529\n",
      "Epoch 92/200\n",
      "48/48 [==============================] - 0s 10ms/step - loss: 0.8987 - binary_crossentropy: 0.8987 - val_loss: 0.5386 - val_binary_crossentropy: 0.5386\n",
      "Epoch 93/200\n",
      "48/48 [==============================] - 0s 10ms/step - loss: 0.8577 - binary_crossentropy: 0.8577 - val_loss: 0.5314 - val_binary_crossentropy: 0.5314\n",
      "Epoch 94/200\n",
      "48/48 [==============================] - 0s 10ms/step - loss: 0.8927 - binary_crossentropy: 0.8927 - val_loss: 0.5229 - val_binary_crossentropy: 0.5229\n",
      "Epoch 95/200\n",
      "48/48 [==============================] - 0s 9ms/step - loss: 0.8542 - binary_crossentropy: 0.8542 - val_loss: 0.5302 - val_binary_crossentropy: 0.5302\n",
      "Epoch 96/200\n",
      "48/48 [==============================] - 0s 10ms/step - loss: 0.8510 - binary_crossentropy: 0.8510 - val_loss: 0.5116 - val_binary_crossentropy: 0.5116\n",
      "Epoch 97/200\n",
      "48/48 [==============================] - 0s 10ms/step - loss: 0.8070 - binary_crossentropy: 0.8070 - val_loss: 0.5033 - val_binary_crossentropy: 0.5033\n",
      "Epoch 98/200\n",
      "48/48 [==============================] - 0s 10ms/step - loss: 0.7974 - binary_crossentropy: 0.7974 - val_loss: 0.4967 - val_binary_crossentropy: 0.4967\n",
      "Epoch 99/200\n",
      "48/48 [==============================] - 0s 9ms/step - loss: 0.8232 - binary_crossentropy: 0.8232 - val_loss: 0.4932 - val_binary_crossentropy: 0.4932\n",
      "Epoch 100/200\n",
      "48/48 [==============================] - 0s 9ms/step - loss: 0.7620 - binary_crossentropy: 0.7620 - val_loss: 0.4802 - val_binary_crossentropy: 0.4802\n"
     ]
    },
    {
     "name": "stdout",
     "output_type": "stream",
     "text": [
      "Epoch 101/200\n",
      "48/48 [==============================] - 0s 9ms/step - loss: 0.7307 - binary_crossentropy: 0.7307 - val_loss: 0.4741 - val_binary_crossentropy: 0.4741\n",
      "Epoch 102/200\n",
      "48/48 [==============================] - 0s 10ms/step - loss: 0.7086 - binary_crossentropy: 0.7086 - val_loss: 0.4734 - val_binary_crossentropy: 0.4734\n",
      "Epoch 103/200\n",
      "48/48 [==============================] - 1s 11ms/step - loss: 0.6928 - binary_crossentropy: 0.6928 - val_loss: 0.4689 - val_binary_crossentropy: 0.4689\n",
      "Epoch 104/200\n",
      "48/48 [==============================] - 0s 9ms/step - loss: 0.7121 - binary_crossentropy: 0.7121 - val_loss: 0.4651 - val_binary_crossentropy: 0.4651\n",
      "Epoch 105/200\n",
      "48/48 [==============================] - 1s 11ms/step - loss: 0.7221 - binary_crossentropy: 0.7221 - val_loss: 0.4646 - val_binary_crossentropy: 0.4646\n",
      "Epoch 106/200\n",
      "48/48 [==============================] - 0s 9ms/step - loss: 0.6669 - binary_crossentropy: 0.6669 - val_loss: 0.4589 - val_binary_crossentropy: 0.4589\n",
      "Epoch 107/200\n",
      "48/48 [==============================] - 0s 10ms/step - loss: 0.6744 - binary_crossentropy: 0.6744 - val_loss: 0.4543 - val_binary_crossentropy: 0.4543\n",
      "Epoch 108/200\n",
      "48/48 [==============================] - 1s 11ms/step - loss: 0.6360 - binary_crossentropy: 0.6360 - val_loss: 0.4516 - val_binary_crossentropy: 0.4516\n",
      "Epoch 109/200\n",
      "48/48 [==============================] - 1s 11ms/step - loss: 0.6527 - binary_crossentropy: 0.6527 - val_loss: 0.4497 - val_binary_crossentropy: 0.4497\n",
      "Epoch 110/200\n",
      "48/48 [==============================] - 0s 10ms/step - loss: 0.6227 - binary_crossentropy: 0.6227 - val_loss: 0.4461 - val_binary_crossentropy: 0.4461\n",
      "Epoch 111/200\n",
      "48/48 [==============================] - 1s 11ms/step - loss: 0.6118 - binary_crossentropy: 0.6118 - val_loss: 0.4451 - val_binary_crossentropy: 0.4451\n",
      "Epoch 112/200\n",
      "48/48 [==============================] - 0s 10ms/step - loss: 0.6432 - binary_crossentropy: 0.6432 - val_loss: 0.4440 - val_binary_crossentropy: 0.4440\n",
      "Epoch 113/200\n",
      "48/48 [==============================] - 0s 9ms/step - loss: 0.5919 - binary_crossentropy: 0.5919 - val_loss: 0.4418 - val_binary_crossentropy: 0.4418\n",
      "Epoch 114/200\n",
      "48/48 [==============================] - 0s 10ms/step - loss: 0.5970 - binary_crossentropy: 0.5970 - val_loss: 0.4396 - val_binary_crossentropy: 0.4396\n",
      "Epoch 115/200\n",
      "48/48 [==============================] - 0s 10ms/step - loss: 0.6083 - binary_crossentropy: 0.6083 - val_loss: 0.4395 - val_binary_crossentropy: 0.4395\n",
      "Epoch 116/200\n",
      "48/48 [==============================] - 0s 10ms/step - loss: 0.5936 - binary_crossentropy: 0.5936 - val_loss: 0.4389 - val_binary_crossentropy: 0.4389\n",
      "Epoch 117/200\n",
      "48/48 [==============================] - 0s 10ms/step - loss: 0.5584 - binary_crossentropy: 0.5584 - val_loss: 0.4392 - val_binary_crossentropy: 0.4392\n",
      "Epoch 118/200\n",
      "48/48 [==============================] - 0s 9ms/step - loss: 0.5758 - binary_crossentropy: 0.5758 - val_loss: 0.4377 - val_binary_crossentropy: 0.4377\n",
      "Epoch 119/200\n",
      "48/48 [==============================] - 0s 9ms/step - loss: 0.5621 - binary_crossentropy: 0.5621 - val_loss: 0.4363 - val_binary_crossentropy: 0.4363\n",
      "Epoch 120/200\n",
      "48/48 [==============================] - 1s 11ms/step - loss: 0.5462 - binary_crossentropy: 0.5462 - val_loss: 0.4367 - val_binary_crossentropy: 0.4367\n",
      "Epoch 121/200\n",
      "48/48 [==============================] - 0s 10ms/step - loss: 0.5492 - binary_crossentropy: 0.5492 - val_loss: 0.4365 - val_binary_crossentropy: 0.4365\n",
      "Epoch 122/200\n",
      "48/48 [==============================] - 0s 10ms/step - loss: 0.5467 - binary_crossentropy: 0.5467 - val_loss: 0.4351 - val_binary_crossentropy: 0.4351\n",
      "Epoch 123/200\n",
      "48/48 [==============================] - 0s 10ms/step - loss: 0.5324 - binary_crossentropy: 0.5324 - val_loss: 0.4342 - val_binary_crossentropy: 0.4342\n",
      "Epoch 124/200\n",
      "48/48 [==============================] - 1s 11ms/step - loss: 0.5248 - binary_crossentropy: 0.5248 - val_loss: 0.4337 - val_binary_crossentropy: 0.4337\n",
      "Epoch 125/200\n",
      "48/48 [==============================] - 0s 10ms/step - loss: 0.5581 - binary_crossentropy: 0.5581 - val_loss: 0.4339 - val_binary_crossentropy: 0.4339\n",
      "Epoch 126/200\n",
      "48/48 [==============================] - 1s 11ms/step - loss: 0.5391 - binary_crossentropy: 0.5391 - val_loss: 0.4342 - val_binary_crossentropy: 0.4342\n",
      "Epoch 127/200\n",
      "48/48 [==============================] - 0s 9ms/step - loss: 0.5213 - binary_crossentropy: 0.5213 - val_loss: 0.4327 - val_binary_crossentropy: 0.4327\n",
      "Epoch 128/200\n",
      "48/48 [==============================] - 0s 10ms/step - loss: 0.5103 - binary_crossentropy: 0.5103 - val_loss: 0.4328 - val_binary_crossentropy: 0.4328\n",
      "Epoch 129/200\n",
      "48/48 [==============================] - 0s 10ms/step - loss: 0.5302 - binary_crossentropy: 0.5302 - val_loss: 0.4322 - val_binary_crossentropy: 0.4322\n",
      "Epoch 130/200\n",
      "48/48 [==============================] - 0s 10ms/step - loss: 0.5107 - binary_crossentropy: 0.5107 - val_loss: 0.4312 - val_binary_crossentropy: 0.4312\n",
      "Epoch 131/200\n",
      "48/48 [==============================] - 0s 10ms/step - loss: 0.4997 - binary_crossentropy: 0.4997 - val_loss: 0.4328 - val_binary_crossentropy: 0.4328\n",
      "Epoch 132/200\n",
      "48/48 [==============================] - 0s 9ms/step - loss: 0.5097 - binary_crossentropy: 0.5097 - val_loss: 0.4311 - val_binary_crossentropy: 0.4311\n",
      "Epoch 133/200\n",
      "48/48 [==============================] - 0s 9ms/step - loss: 0.4956 - binary_crossentropy: 0.4956 - val_loss: 0.4303 - val_binary_crossentropy: 0.4303\n",
      "Epoch 134/200\n",
      "48/48 [==============================] - 0s 10ms/step - loss: 0.5022 - binary_crossentropy: 0.5022 - val_loss: 0.4307 - val_binary_crossentropy: 0.4307\n",
      "Epoch 135/200\n",
      "48/48 [==============================] - 0s 9ms/step - loss: 0.4801 - binary_crossentropy: 0.4801 - val_loss: 0.4310 - val_binary_crossentropy: 0.4310\n",
      "Epoch 136/200\n",
      "48/48 [==============================] - 1s 11ms/step - loss: 0.4955 - binary_crossentropy: 0.4955 - val_loss: 0.4294 - val_binary_crossentropy: 0.4294\n",
      "Epoch 137/200\n",
      "48/48 [==============================] - 0s 9ms/step - loss: 0.4867 - binary_crossentropy: 0.4867 - val_loss: 0.4289 - val_binary_crossentropy: 0.4289\n",
      "Epoch 138/200\n",
      "48/48 [==============================] - 0s 10ms/step - loss: 0.4858 - binary_crossentropy: 0.4858 - val_loss: 0.4303 - val_binary_crossentropy: 0.4303\n",
      "Epoch 139/200\n",
      "48/48 [==============================] - 0s 10ms/step - loss: 0.4890 - binary_crossentropy: 0.4890 - val_loss: 0.4292 - val_binary_crossentropy: 0.4292\n",
      "Epoch 140/200\n",
      "48/48 [==============================] - 1s 11ms/step - loss: 0.4854 - binary_crossentropy: 0.4854 - val_loss: 0.4290 - val_binary_crossentropy: 0.4290\n",
      "Epoch 141/200\n",
      "48/48 [==============================] - 0s 8ms/step - loss: 0.4790 - binary_crossentropy: 0.4790 - val_loss: 0.4289 - val_binary_crossentropy: 0.4289\n",
      "Epoch 142/200\n",
      "48/48 [==============================] - 0s 10ms/step - loss: 0.4853 - binary_crossentropy: 0.4853 - val_loss: 0.4298 - val_binary_crossentropy: 0.4298\n",
      "Epoch 143/200\n",
      "48/48 [==============================] - 0s 9ms/step - loss: 0.4673 - binary_crossentropy: 0.4673 - val_loss: 0.4309 - val_binary_crossentropy: 0.4309\n",
      "Epoch 144/200\n",
      "48/48 [==============================] - 1s 11ms/step - loss: 0.4670 - binary_crossentropy: 0.4670 - val_loss: 0.4287 - val_binary_crossentropy: 0.4287\n",
      "Epoch 145/200\n",
      "48/48 [==============================] - 0s 9ms/step - loss: 0.4810 - binary_crossentropy: 0.4810 - val_loss: 0.4299 - val_binary_crossentropy: 0.4299\n",
      "Epoch 146/200\n",
      "48/48 [==============================] - 1s 11ms/step - loss: 0.4809 - binary_crossentropy: 0.4809 - val_loss: 0.4290 - val_binary_crossentropy: 0.4290\n",
      "Epoch 147/200\n",
      "48/48 [==============================] - 0s 9ms/step - loss: 0.4728 - binary_crossentropy: 0.4728 - val_loss: 0.4280 - val_binary_crossentropy: 0.4280\n",
      "Epoch 148/200\n",
      "48/48 [==============================] - 0s 10ms/step - loss: 0.4699 - binary_crossentropy: 0.4699 - val_loss: 0.4282 - val_binary_crossentropy: 0.4282\n",
      "Epoch 149/200\n",
      "48/48 [==============================] - 0s 9ms/step - loss: 0.4737 - binary_crossentropy: 0.4737 - val_loss: 0.4303 - val_binary_crossentropy: 0.4303\n",
      "Epoch 150/200\n"
     ]
    },
    {
     "name": "stdout",
     "output_type": "stream",
     "text": [
      "48/48 [==============================] - 1s 11ms/step - loss: 0.4826 - binary_crossentropy: 0.4826 - val_loss: 0.4286 - val_binary_crossentropy: 0.4286\n",
      "Epoch 151/200\n",
      "48/48 [==============================] - 1s 10ms/step - loss: 0.4679 - binary_crossentropy: 0.4679 - val_loss: 0.4292 - val_binary_crossentropy: 0.4292\n",
      "Epoch 152/200\n",
      "48/48 [==============================] - 1s 11ms/step - loss: 0.4768 - binary_crossentropy: 0.4768 - val_loss: 0.4289 - val_binary_crossentropy: 0.4289\n",
      "Epoch 153/200\n",
      "48/48 [==============================] - 0s 10ms/step - loss: 0.4755 - binary_crossentropy: 0.4755 - val_loss: 0.4292 - val_binary_crossentropy: 0.4292\n",
      "Epoch 154/200\n",
      "48/48 [==============================] - 1s 11ms/step - loss: 0.4694 - binary_crossentropy: 0.4694 - val_loss: 0.4302 - val_binary_crossentropy: 0.4302\n",
      "Epoch 155/200\n",
      "48/48 [==============================] - 0s 10ms/step - loss: 0.4718 - binary_crossentropy: 0.4718 - val_loss: 0.4344 - val_binary_crossentropy: 0.4344\n",
      "Epoch 156/200\n",
      "48/48 [==============================] - 0s 10ms/step - loss: 0.4755 - binary_crossentropy: 0.4755 - val_loss: 0.4288 - val_binary_crossentropy: 0.4288\n",
      "Epoch 157/200\n",
      "48/48 [==============================] - 0s 10ms/step - loss: 0.4647 - binary_crossentropy: 0.4647 - val_loss: 0.4284 - val_binary_crossentropy: 0.4284\n",
      "Epoch 1/200\n",
      "48/48 [==============================] - 1s 15ms/step - loss: 19.1453 - binary_crossentropy: 19.1453 - val_loss: 5.6999 - val_binary_crossentropy: 5.6999\n",
      "Epoch 2/200\n",
      "48/48 [==============================] - 1s 11ms/step - loss: 9.1852 - binary_crossentropy: 9.1852 - val_loss: 5.5125 - val_binary_crossentropy: 5.5125\n",
      "Epoch 3/200\n",
      "48/48 [==============================] - 0s 10ms/step - loss: 8.9395 - binary_crossentropy: 8.9395 - val_loss: 5.5705 - val_binary_crossentropy: 5.5705\n",
      "Epoch 4/200\n",
      "48/48 [==============================] - 0s 10ms/step - loss: 8.2812 - binary_crossentropy: 8.2812 - val_loss: 4.7822 - val_binary_crossentropy: 4.7822\n",
      "Epoch 5/200\n",
      "48/48 [==============================] - 0s 10ms/step - loss: 7.7224 - binary_crossentropy: 7.7224 - val_loss: 4.3339 - val_binary_crossentropy: 4.3339\n",
      "Epoch 6/200\n",
      "48/48 [==============================] - 0s 10ms/step - loss: 7.6017 - binary_crossentropy: 7.6017 - val_loss: 4.6779 - val_binary_crossentropy: 4.6779\n",
      "Epoch 7/200\n",
      "48/48 [==============================] - 1s 11ms/step - loss: 7.3899 - binary_crossentropy: 7.3899 - val_loss: 4.8985 - val_binary_crossentropy: 4.8985\n",
      "Epoch 8/200\n",
      "48/48 [==============================] - 0s 10ms/step - loss: 7.2827 - binary_crossentropy: 7.2827 - val_loss: 4.5425 - val_binary_crossentropy: 4.5425\n",
      "Epoch 9/200\n",
      "48/48 [==============================] - 0s 10ms/step - loss: 6.8151 - binary_crossentropy: 6.8151 - val_loss: 4.5300 - val_binary_crossentropy: 4.5300\n",
      "Epoch 10/200\n",
      "48/48 [==============================] - 0s 10ms/step - loss: 6.4510 - binary_crossentropy: 6.4510 - val_loss: 3.7636 - val_binary_crossentropy: 3.7636\n",
      "Epoch 11/200\n",
      "48/48 [==============================] - 0s 10ms/step - loss: 6.3445 - binary_crossentropy: 6.3445 - val_loss: 3.9555 - val_binary_crossentropy: 3.9555\n",
      "Epoch 12/200\n",
      "48/48 [==============================] - 0s 9ms/step - loss: 5.9581 - binary_crossentropy: 5.9581 - val_loss: 3.6961 - val_binary_crossentropy: 3.6961\n",
      "Epoch 13/200\n",
      "48/48 [==============================] - 0s 10ms/step - loss: 5.6893 - binary_crossentropy: 5.6893 - val_loss: 3.8877 - val_binary_crossentropy: 3.8877\n",
      "Epoch 14/200\n",
      "48/48 [==============================] - 0s 9ms/step - loss: 5.8533 - binary_crossentropy: 5.8533 - val_loss: 4.0214 - val_binary_crossentropy: 4.0214\n",
      "Epoch 15/200\n",
      "48/48 [==============================] - 0s 10ms/step - loss: 5.3033 - binary_crossentropy: 5.3033 - val_loss: 3.7911 - val_binary_crossentropy: 3.7911\n",
      "Epoch 16/200\n",
      "48/48 [==============================] - 0s 10ms/step - loss: 5.1232 - binary_crossentropy: 5.1232 - val_loss: 3.3382 - val_binary_crossentropy: 3.3382\n",
      "Epoch 17/200\n",
      "48/48 [==============================] - 0s 10ms/step - loss: 5.1050 - binary_crossentropy: 5.1050 - val_loss: 3.3610 - val_binary_crossentropy: 3.3610\n",
      "Epoch 18/200\n",
      "48/48 [==============================] - 0s 9ms/step - loss: 5.1617 - binary_crossentropy: 5.1617 - val_loss: 4.0736 - val_binary_crossentropy: 4.0736\n",
      "Epoch 19/200\n",
      "48/48 [==============================] - 1s 10ms/step - loss: 5.0536 - binary_crossentropy: 5.0536 - val_loss: 3.5070 - val_binary_crossentropy: 3.5070\n",
      "Epoch 20/200\n",
      "48/48 [==============================] - 1s 12ms/step - loss: 4.8320 - binary_crossentropy: 4.8320 - val_loss: 3.6204 - val_binary_crossentropy: 3.6204\n",
      "Epoch 21/200\n",
      "48/48 [==============================] - 1s 11ms/step - loss: 4.4187 - binary_crossentropy: 4.4187 - val_loss: 3.5610 - val_binary_crossentropy: 3.5610\n",
      "Epoch 22/200\n",
      "48/48 [==============================] - 1s 16ms/step - loss: 4.8102 - binary_crossentropy: 4.8102 - val_loss: 2.9686 - val_binary_crossentropy: 2.9686\n",
      "Epoch 23/200\n",
      "48/48 [==============================] - 1s 15ms/step - loss: 4.2745 - binary_crossentropy: 4.2745 - val_loss: 2.8117 - val_binary_crossentropy: 2.8117\n",
      "Epoch 24/200\n",
      "48/48 [==============================] - 1s 13ms/step - loss: 4.2995 - binary_crossentropy: 4.2995 - val_loss: 3.1277 - val_binary_crossentropy: 3.1277\n",
      "Epoch 25/200\n",
      "48/48 [==============================] - 1s 11ms/step - loss: 4.1439 - binary_crossentropy: 4.1439 - val_loss: 2.9628 - val_binary_crossentropy: 2.9628\n",
      "Epoch 26/200\n",
      "48/48 [==============================] - 0s 10ms/step - loss: 3.8816 - binary_crossentropy: 3.8816 - val_loss: 2.7356 - val_binary_crossentropy: 2.7356\n",
      "Epoch 27/200\n",
      "48/48 [==============================] - 0s 8ms/step - loss: 4.0515 - binary_crossentropy: 4.0515 - val_loss: 2.5662 - val_binary_crossentropy: 2.5662\n",
      "Epoch 28/200\n",
      "48/48 [==============================] - 0s 9ms/step - loss: 3.5485 - binary_crossentropy: 3.5485 - val_loss: 2.8261 - val_binary_crossentropy: 2.8261\n",
      "Epoch 29/200\n",
      "48/48 [==============================] - 0s 9ms/step - loss: 3.8636 - binary_crossentropy: 3.8636 - val_loss: 2.4276 - val_binary_crossentropy: 2.4276\n",
      "Epoch 30/200\n",
      "48/48 [==============================] - 0s 9ms/step - loss: 3.6224 - binary_crossentropy: 3.6224 - val_loss: 2.5561 - val_binary_crossentropy: 2.5561\n",
      "Epoch 31/200\n",
      "48/48 [==============================] - 1s 13ms/step - loss: 3.5058 - binary_crossentropy: 3.5058 - val_loss: 2.1543 - val_binary_crossentropy: 2.1543\n",
      "Epoch 32/200\n",
      "48/48 [==============================] - 0s 9ms/step - loss: 3.3726 - binary_crossentropy: 3.3726 - val_loss: 2.2686 - val_binary_crossentropy: 2.2686\n",
      "Epoch 33/200\n",
      "48/48 [==============================] - 1s 12ms/step - loss: 3.2896 - binary_crossentropy: 3.2896 - val_loss: 2.3053 - val_binary_crossentropy: 2.3053\n",
      "Epoch 34/200\n",
      "48/48 [==============================] - 0s 10ms/step - loss: 3.3000 - binary_crossentropy: 3.3000 - val_loss: 2.3561 - val_binary_crossentropy: 2.3561\n",
      "Epoch 35/200\n",
      "48/48 [==============================] - 0s 10ms/step - loss: 3.2594 - binary_crossentropy: 3.2594 - val_loss: 2.3542 - val_binary_crossentropy: 2.3542\n",
      "Epoch 36/200\n",
      "48/48 [==============================] - 0s 9ms/step - loss: 2.9455 - binary_crossentropy: 2.9455 - val_loss: 1.7842 - val_binary_crossentropy: 1.7842\n",
      "Epoch 37/200\n",
      "48/48 [==============================] - 1s 14ms/step - loss: 3.2924 - binary_crossentropy: 3.2924 - val_loss: 2.0775 - val_binary_crossentropy: 2.0775\n",
      "Epoch 38/200\n",
      "48/48 [==============================] - 1s 14ms/step - loss: 2.9431 - binary_crossentropy: 2.9431 - val_loss: 1.9007 - val_binary_crossentropy: 1.9007\n",
      "Epoch 39/200\n",
      "48/48 [==============================] - 0s 10ms/step - loss: 2.9988 - binary_crossentropy: 2.9988 - val_loss: 2.0625 - val_binary_crossentropy: 2.0625\n",
      "Epoch 40/200\n",
      "48/48 [==============================] - 1s 12ms/step - loss: 2.7118 - binary_crossentropy: 2.7118 - val_loss: 1.8293 - val_binary_crossentropy: 1.8293\n",
      "Epoch 41/200\n",
      "48/48 [==============================] - 1s 11ms/step - loss: 2.7798 - binary_crossentropy: 2.7798 - val_loss: 1.7375 - val_binary_crossentropy: 1.7375\n",
      "Epoch 42/200\n",
      "48/48 [==============================] - 0s 9ms/step - loss: 2.6405 - binary_crossentropy: 2.6405 - val_loss: 1.6743 - val_binary_crossentropy: 1.6743\n"
     ]
    },
    {
     "name": "stdout",
     "output_type": "stream",
     "text": [
      "Epoch 43/200\n",
      "48/48 [==============================] - 0s 9ms/step - loss: 2.5714 - binary_crossentropy: 2.5714 - val_loss: 1.6732 - val_binary_crossentropy: 1.6732\n",
      "Epoch 44/200\n",
      "48/48 [==============================] - 0s 10ms/step - loss: 2.5594 - binary_crossentropy: 2.5594 - val_loss: 1.5944 - val_binary_crossentropy: 1.5944\n",
      "Epoch 45/200\n",
      "48/48 [==============================] - 0s 10ms/step - loss: 2.4359 - binary_crossentropy: 2.4359 - val_loss: 1.5642 - val_binary_crossentropy: 1.5642\n",
      "Epoch 46/200\n",
      "48/48 [==============================] - 0s 10ms/step - loss: 2.4374 - binary_crossentropy: 2.4374 - val_loss: 1.5436 - val_binary_crossentropy: 1.5436\n",
      "Epoch 47/200\n",
      "48/48 [==============================] - 0s 10ms/step - loss: 2.4102 - binary_crossentropy: 2.4102 - val_loss: 1.5538 - val_binary_crossentropy: 1.5538\n",
      "Epoch 48/200\n",
      "48/48 [==============================] - 0s 10ms/step - loss: 2.5811 - binary_crossentropy: 2.5811 - val_loss: 1.5810 - val_binary_crossentropy: 1.5810\n",
      "Epoch 49/200\n",
      "48/48 [==============================] - 0s 10ms/step - loss: 2.4005 - binary_crossentropy: 2.4005 - val_loss: 1.4188 - val_binary_crossentropy: 1.4188\n",
      "Epoch 50/200\n",
      "48/48 [==============================] - 0s 9ms/step - loss: 2.3236 - binary_crossentropy: 2.3236 - val_loss: 1.2718 - val_binary_crossentropy: 1.2718\n",
      "Epoch 51/200\n",
      "48/48 [==============================] - 1s 11ms/step - loss: 2.2679 - binary_crossentropy: 2.2679 - val_loss: 1.2330 - val_binary_crossentropy: 1.2330\n",
      "Epoch 52/200\n",
      "48/48 [==============================] - 0s 9ms/step - loss: 2.2914 - binary_crossentropy: 2.2914 - val_loss: 1.1665 - val_binary_crossentropy: 1.1665\n",
      "Epoch 53/200\n",
      "48/48 [==============================] - 0s 9ms/step - loss: 2.1702 - binary_crossentropy: 2.1702 - val_loss: 1.1500 - val_binary_crossentropy: 1.1500\n",
      "Epoch 54/200\n",
      "48/48 [==============================] - 1s 12ms/step - loss: 2.1567 - binary_crossentropy: 2.1567 - val_loss: 1.2299 - val_binary_crossentropy: 1.2299\n",
      "Epoch 55/200\n",
      "48/48 [==============================] - 1s 12ms/step - loss: 2.0479 - binary_crossentropy: 2.0479 - val_loss: 1.1256 - val_binary_crossentropy: 1.1256\n",
      "Epoch 56/200\n",
      "48/48 [==============================] - 1s 12ms/step - loss: 1.8266 - binary_crossentropy: 1.8266 - val_loss: 1.0806 - val_binary_crossentropy: 1.0806\n",
      "Epoch 57/200\n",
      "48/48 [==============================] - 1s 14ms/step - loss: 2.0016 - binary_crossentropy: 2.0016 - val_loss: 1.0896 - val_binary_crossentropy: 1.0896\n",
      "Epoch 58/200\n",
      "48/48 [==============================] - 1s 15ms/step - loss: 1.9654 - binary_crossentropy: 1.9654 - val_loss: 1.1748 - val_binary_crossentropy: 1.1748\n",
      "Epoch 59/200\n",
      "48/48 [==============================] - 1s 14ms/step - loss: 2.0201 - binary_crossentropy: 2.0201 - val_loss: 1.1152 - val_binary_crossentropy: 1.1152\n",
      "Epoch 60/200\n",
      "48/48 [==============================] - 1s 12ms/step - loss: 1.7906 - binary_crossentropy: 1.7906 - val_loss: 1.1036 - val_binary_crossentropy: 1.1036\n",
      "Epoch 61/200\n",
      "48/48 [==============================] - 1s 12ms/step - loss: 1.8752 - binary_crossentropy: 1.8752 - val_loss: 1.0760 - val_binary_crossentropy: 1.0760\n",
      "Epoch 62/200\n",
      "48/48 [==============================] - 1s 15ms/step - loss: 1.8010 - binary_crossentropy: 1.8010 - val_loss: 1.0185 - val_binary_crossentropy: 1.0185\n",
      "Epoch 63/200\n",
      "48/48 [==============================] - 1s 15ms/step - loss: 1.8961 - binary_crossentropy: 1.8961 - val_loss: 1.0008 - val_binary_crossentropy: 1.0008\n",
      "Epoch 64/200\n",
      "48/48 [==============================] - 1s 16ms/step - loss: 1.7625 - binary_crossentropy: 1.7625 - val_loss: 1.0069 - val_binary_crossentropy: 1.0069\n",
      "Epoch 65/200\n",
      "48/48 [==============================] - 1s 13ms/step - loss: 1.7459 - binary_crossentropy: 1.7459 - val_loss: 0.9586 - val_binary_crossentropy: 0.9586\n",
      "Epoch 66/200\n",
      "48/48 [==============================] - 1s 13ms/step - loss: 1.5423 - binary_crossentropy: 1.5423 - val_loss: 0.9279 - val_binary_crossentropy: 0.9279\n",
      "Epoch 67/200\n",
      "48/48 [==============================] - 1s 14ms/step - loss: 1.5026 - binary_crossentropy: 1.5026 - val_loss: 0.9709 - val_binary_crossentropy: 0.9709\n",
      "Epoch 68/200\n",
      "48/48 [==============================] - 1s 12ms/step - loss: 1.5191 - binary_crossentropy: 1.5191 - val_loss: 0.9090 - val_binary_crossentropy: 0.9090\n",
      "Epoch 69/200\n",
      "48/48 [==============================] - 1s 11ms/step - loss: 1.5777 - binary_crossentropy: 1.5777 - val_loss: 0.9354 - val_binary_crossentropy: 0.9354\n",
      "Epoch 70/200\n",
      "48/48 [==============================] - 1s 14ms/step - loss: 1.4126 - binary_crossentropy: 1.4126 - val_loss: 0.8652 - val_binary_crossentropy: 0.8652\n",
      "Epoch 71/200\n",
      "48/48 [==============================] - 1s 11ms/step - loss: 1.6891 - binary_crossentropy: 1.6891 - val_loss: 0.8766 - val_binary_crossentropy: 0.8766\n",
      "Epoch 72/200\n",
      "48/48 [==============================] - 1s 11ms/step - loss: 1.4131 - binary_crossentropy: 1.4131 - val_loss: 0.7916 - val_binary_crossentropy: 0.7916\n",
      "Epoch 73/200\n",
      "48/48 [==============================] - 0s 9ms/step - loss: 1.4114 - binary_crossentropy: 1.4114 - val_loss: 0.8177 - val_binary_crossentropy: 0.8177\n",
      "Epoch 74/200\n",
      "48/48 [==============================] - 0s 9ms/step - loss: 1.4445 - binary_crossentropy: 1.4445 - val_loss: 0.7967 - val_binary_crossentropy: 0.7967\n",
      "Epoch 75/200\n",
      "48/48 [==============================] - 0s 9ms/step - loss: 1.4223 - binary_crossentropy: 1.4223 - val_loss: 0.7735 - val_binary_crossentropy: 0.7735\n",
      "Epoch 76/200\n",
      "48/48 [==============================] - 0s 9ms/step - loss: 1.3199 - binary_crossentropy: 1.3199 - val_loss: 0.7723 - val_binary_crossentropy: 0.7723\n",
      "Epoch 77/200\n",
      "48/48 [==============================] - 0s 10ms/step - loss: 1.2875 - binary_crossentropy: 1.2875 - val_loss: 0.7340 - val_binary_crossentropy: 0.7340\n",
      "Epoch 78/200\n",
      "48/48 [==============================] - 0s 9ms/step - loss: 1.3183 - binary_crossentropy: 1.3183 - val_loss: 0.7734 - val_binary_crossentropy: 0.7734\n",
      "Epoch 79/200\n",
      "48/48 [==============================] - 1s 10ms/step - loss: 1.1551 - binary_crossentropy: 1.1551 - val_loss: 0.7453 - val_binary_crossentropy: 0.7453\n",
      "Epoch 80/200\n",
      "48/48 [==============================] - 0s 9ms/step - loss: 1.2661 - binary_crossentropy: 1.2661 - val_loss: 0.7298 - val_binary_crossentropy: 0.7298\n",
      "Epoch 81/200\n",
      "48/48 [==============================] - 0s 9ms/step - loss: 1.2326 - binary_crossentropy: 1.2326 - val_loss: 0.7314 - val_binary_crossentropy: 0.7314\n",
      "Epoch 82/200\n",
      "48/48 [==============================] - 0s 10ms/step - loss: 1.2292 - binary_crossentropy: 1.2292 - val_loss: 0.7156 - val_binary_crossentropy: 0.7156\n",
      "Epoch 83/200\n",
      "48/48 [==============================] - 0s 9ms/step - loss: 1.1366 - binary_crossentropy: 1.1366 - val_loss: 0.6707 - val_binary_crossentropy: 0.6707\n",
      "Epoch 84/200\n",
      "48/48 [==============================] - 1s 11ms/step - loss: 1.2139 - binary_crossentropy: 1.2139 - val_loss: 0.6938 - val_binary_crossentropy: 0.6938\n",
      "Epoch 85/200\n",
      "48/48 [==============================] - 0s 9ms/step - loss: 1.1009 - binary_crossentropy: 1.1009 - val_loss: 0.7137 - val_binary_crossentropy: 0.7137\n",
      "Epoch 86/200\n",
      "48/48 [==============================] - 0s 10ms/step - loss: 1.0754 - binary_crossentropy: 1.0754 - val_loss: 0.6447 - val_binary_crossentropy: 0.6447\n",
      "Epoch 87/200\n",
      "48/48 [==============================] - 0s 10ms/step - loss: 1.0952 - binary_crossentropy: 1.0952 - val_loss: 0.6330 - val_binary_crossentropy: 0.6330\n",
      "Epoch 88/200\n",
      "48/48 [==============================] - 0s 10ms/step - loss: 1.0050 - binary_crossentropy: 1.0050 - val_loss: 0.6548 - val_binary_crossentropy: 0.6548\n",
      "Epoch 89/200\n",
      "48/48 [==============================] - 1s 11ms/step - loss: 1.0497 - binary_crossentropy: 1.0497 - val_loss: 0.6390 - val_binary_crossentropy: 0.6390\n",
      "Epoch 90/200\n",
      "48/48 [==============================] - 1s 12ms/step - loss: 1.0107 - binary_crossentropy: 1.0107 - val_loss: 0.6463 - val_binary_crossentropy: 0.6463\n",
      "Epoch 91/200\n",
      "48/48 [==============================] - 0s 10ms/step - loss: 0.9279 - binary_crossentropy: 0.9279 - val_loss: 0.5997 - val_binary_crossentropy: 0.5997\n",
      "Epoch 92/200\n",
      "48/48 [==============================] - 0s 9ms/step - loss: 0.9182 - binary_crossentropy: 0.9182 - val_loss: 0.6166 - val_binary_crossentropy: 0.6166\n"
     ]
    },
    {
     "name": "stdout",
     "output_type": "stream",
     "text": [
      "Epoch 93/200\n",
      "48/48 [==============================] - 0s 9ms/step - loss: 0.9316 - binary_crossentropy: 0.9316 - val_loss: 0.6253 - val_binary_crossentropy: 0.6253\n",
      "Epoch 94/200\n",
      "48/48 [==============================] - 0s 9ms/step - loss: 0.9421 - binary_crossentropy: 0.9421 - val_loss: 0.5958 - val_binary_crossentropy: 0.5958\n",
      "Epoch 95/200\n",
      "48/48 [==============================] - 0s 9ms/step - loss: 0.9207 - binary_crossentropy: 0.9207 - val_loss: 0.5811 - val_binary_crossentropy: 0.5811\n",
      "Epoch 96/200\n",
      "48/48 [==============================] - 0s 9ms/step - loss: 0.8510 - binary_crossentropy: 0.8510 - val_loss: 0.5748 - val_binary_crossentropy: 0.5748\n",
      "Epoch 97/200\n",
      "48/48 [==============================] - 0s 10ms/step - loss: 0.8916 - binary_crossentropy: 0.8916 - val_loss: 0.5654 - val_binary_crossentropy: 0.5654\n",
      "Epoch 98/200\n",
      "48/48 [==============================] - 0s 10ms/step - loss: 0.8318 - binary_crossentropy: 0.8318 - val_loss: 0.5604 - val_binary_crossentropy: 0.5604\n",
      "Epoch 99/200\n",
      "48/48 [==============================] - 0s 10ms/step - loss: 0.8106 - binary_crossentropy: 0.8106 - val_loss: 0.5331 - val_binary_crossentropy: 0.5331\n",
      "Epoch 100/200\n",
      "48/48 [==============================] - 1s 12ms/step - loss: 0.8229 - binary_crossentropy: 0.8229 - val_loss: 0.5306 - val_binary_crossentropy: 0.5306\n",
      "Epoch 101/200\n",
      "48/48 [==============================] - 0s 9ms/step - loss: 0.7887 - binary_crossentropy: 0.7887 - val_loss: 0.5223 - val_binary_crossentropy: 0.5223\n",
      "Epoch 102/200\n",
      "48/48 [==============================] - 0s 9ms/step - loss: 0.7517 - binary_crossentropy: 0.7517 - val_loss: 0.5156 - val_binary_crossentropy: 0.5156\n",
      "Epoch 103/200\n",
      "48/48 [==============================] - 0s 9ms/step - loss: 0.7537 - binary_crossentropy: 0.7537 - val_loss: 0.5071 - val_binary_crossentropy: 0.5071\n",
      "Epoch 104/200\n",
      "48/48 [==============================] - 0s 10ms/step - loss: 0.7070 - binary_crossentropy: 0.7070 - val_loss: 0.5013 - val_binary_crossentropy: 0.5013\n",
      "Epoch 105/200\n",
      "48/48 [==============================] - 0s 10ms/step - loss: 0.6831 - binary_crossentropy: 0.6831 - val_loss: 0.4919 - val_binary_crossentropy: 0.4919\n",
      "Epoch 106/200\n",
      "48/48 [==============================] - 0s 10ms/step - loss: 0.7229 - binary_crossentropy: 0.7229 - val_loss: 0.4930 - val_binary_crossentropy: 0.4930\n",
      "Epoch 107/200\n",
      "48/48 [==============================] - 0s 10ms/step - loss: 0.6819 - binary_crossentropy: 0.6819 - val_loss: 0.4972 - val_binary_crossentropy: 0.4972\n",
      "Epoch 108/200\n",
      "48/48 [==============================] - 0s 9ms/step - loss: 0.6502 - binary_crossentropy: 0.6502 - val_loss: 0.4844 - val_binary_crossentropy: 0.4844\n",
      "Epoch 109/200\n",
      "48/48 [==============================] - 0s 10ms/step - loss: 0.6707 - binary_crossentropy: 0.6707 - val_loss: 0.4922 - val_binary_crossentropy: 0.4922\n",
      "Epoch 110/200\n",
      "48/48 [==============================] - 0s 10ms/step - loss: 0.6608 - binary_crossentropy: 0.6608 - val_loss: 0.4751 - val_binary_crossentropy: 0.4751\n",
      "Epoch 111/200\n",
      "48/48 [==============================] - 0s 9ms/step - loss: 0.6325 - binary_crossentropy: 0.6325 - val_loss: 0.4718 - val_binary_crossentropy: 0.4718\n",
      "Epoch 112/200\n",
      "48/48 [==============================] - 1s 11ms/step - loss: 0.5912 - binary_crossentropy: 0.5912 - val_loss: 0.4726 - val_binary_crossentropy: 0.4726\n",
      "Epoch 113/200\n",
      "48/48 [==============================] - 0s 10ms/step - loss: 0.5790 - binary_crossentropy: 0.5790 - val_loss: 0.4573 - val_binary_crossentropy: 0.4573\n",
      "Epoch 114/200\n",
      "48/48 [==============================] - 0s 9ms/step - loss: 0.5943 - binary_crossentropy: 0.5943 - val_loss: 0.4612 - val_binary_crossentropy: 0.4612\n",
      "Epoch 115/200\n",
      "48/48 [==============================] - 0s 10ms/step - loss: 0.6438 - binary_crossentropy: 0.6438 - val_loss: 0.4623 - val_binary_crossentropy: 0.4623\n",
      "Epoch 116/200\n",
      "48/48 [==============================] - 0s 10ms/step - loss: 0.6055 - binary_crossentropy: 0.6055 - val_loss: 0.4519 - val_binary_crossentropy: 0.4519\n",
      "Epoch 117/200\n",
      "48/48 [==============================] - 0s 10ms/step - loss: 0.5800 - binary_crossentropy: 0.5800 - val_loss: 0.4557 - val_binary_crossentropy: 0.4557\n",
      "Epoch 118/200\n",
      "48/48 [==============================] - 0s 9ms/step - loss: 0.5834 - binary_crossentropy: 0.5834 - val_loss: 0.4531 - val_binary_crossentropy: 0.4531\n",
      "Epoch 119/200\n",
      "48/48 [==============================] - 0s 9ms/step - loss: 0.5847 - binary_crossentropy: 0.5847 - val_loss: 0.4477 - val_binary_crossentropy: 0.4477\n",
      "Epoch 120/200\n",
      "48/48 [==============================] - 0s 10ms/step - loss: 0.5751 - binary_crossentropy: 0.5751 - val_loss: 0.4510 - val_binary_crossentropy: 0.4510\n",
      "Epoch 121/200\n",
      "48/48 [==============================] - 0s 9ms/step - loss: 0.5601 - binary_crossentropy: 0.5601 - val_loss: 0.4503 - val_binary_crossentropy: 0.4503\n",
      "Epoch 122/200\n",
      "48/48 [==============================] - 0s 10ms/step - loss: 0.5293 - binary_crossentropy: 0.5293 - val_loss: 0.4471 - val_binary_crossentropy: 0.4471\n",
      "Epoch 123/200\n",
      "48/48 [==============================] - 0s 10ms/step - loss: 0.5598 - binary_crossentropy: 0.5598 - val_loss: 0.4475 - val_binary_crossentropy: 0.4475\n",
      "Epoch 124/200\n",
      "48/48 [==============================] - 0s 9ms/step - loss: 0.5515 - binary_crossentropy: 0.5515 - val_loss: 0.4476 - val_binary_crossentropy: 0.4476\n",
      "Epoch 125/200\n",
      "48/48 [==============================] - 0s 10ms/step - loss: 0.5237 - binary_crossentropy: 0.5237 - val_loss: 0.4447 - val_binary_crossentropy: 0.4447\n",
      "Epoch 126/200\n",
      "48/48 [==============================] - 0s 10ms/step - loss: 0.5556 - binary_crossentropy: 0.5556 - val_loss: 0.4479 - val_binary_crossentropy: 0.4479\n",
      "Epoch 127/200\n",
      "48/48 [==============================] - 0s 10ms/step - loss: 0.5310 - binary_crossentropy: 0.5310 - val_loss: 0.4416 - val_binary_crossentropy: 0.4416\n",
      "Epoch 128/200\n",
      "48/48 [==============================] - 1s 11ms/step - loss: 0.5015 - binary_crossentropy: 0.5015 - val_loss: 0.4408 - val_binary_crossentropy: 0.4408\n",
      "Epoch 129/200\n",
      "48/48 [==============================] - 0s 10ms/step - loss: 0.5316 - binary_crossentropy: 0.5316 - val_loss: 0.4423 - val_binary_crossentropy: 0.4423\n",
      "Epoch 130/200\n",
      "48/48 [==============================] - 0s 9ms/step - loss: 0.5283 - binary_crossentropy: 0.5283 - val_loss: 0.4391 - val_binary_crossentropy: 0.4391\n",
      "Epoch 131/200\n",
      "48/48 [==============================] - 0s 10ms/step - loss: 0.5409 - binary_crossentropy: 0.5409 - val_loss: 0.4505 - val_binary_crossentropy: 0.4505\n",
      "Epoch 132/200\n",
      "48/48 [==============================] - 1s 11ms/step - loss: 0.5008 - binary_crossentropy: 0.5008 - val_loss: 0.4443 - val_binary_crossentropy: 0.4443\n",
      "Epoch 133/200\n",
      "48/48 [==============================] - 0s 10ms/step - loss: 0.4932 - binary_crossentropy: 0.4932 - val_loss: 0.4470 - val_binary_crossentropy: 0.4470\n",
      "Epoch 134/200\n",
      "48/48 [==============================] - 0s 9ms/step - loss: 0.5014 - binary_crossentropy: 0.5014 - val_loss: 0.4410 - val_binary_crossentropy: 0.4410\n",
      "Epoch 135/200\n",
      "48/48 [==============================] - 0s 10ms/step - loss: 0.4801 - binary_crossentropy: 0.4801 - val_loss: 0.4405 - val_binary_crossentropy: 0.4405\n",
      "Epoch 136/200\n",
      "48/48 [==============================] - 0s 10ms/step - loss: 0.5235 - binary_crossentropy: 0.5235 - val_loss: 0.4382 - val_binary_crossentropy: 0.4382\n",
      "Epoch 137/200\n",
      "48/48 [==============================] - 0s 9ms/step - loss: 0.5096 - binary_crossentropy: 0.5096 - val_loss: 0.4396 - val_binary_crossentropy: 0.4396\n",
      "Epoch 138/200\n",
      "48/48 [==============================] - 0s 10ms/step - loss: 0.4708 - binary_crossentropy: 0.4708 - val_loss: 0.4367 - val_binary_crossentropy: 0.4367\n",
      "Epoch 139/200\n",
      "48/48 [==============================] - 0s 10ms/step - loss: 0.5061 - binary_crossentropy: 0.5061 - val_loss: 0.4392 - val_binary_crossentropy: 0.4392\n",
      "Epoch 140/200\n",
      "48/48 [==============================] - 0s 9ms/step - loss: 0.4794 - binary_crossentropy: 0.4794 - val_loss: 0.4389 - val_binary_crossentropy: 0.4389\n",
      "Epoch 141/200\n",
      "48/48 [==============================] - 0s 10ms/step - loss: 0.4797 - binary_crossentropy: 0.4797 - val_loss: 0.4354 - val_binary_crossentropy: 0.4354\n",
      "Epoch 142/200\n"
     ]
    },
    {
     "name": "stdout",
     "output_type": "stream",
     "text": [
      "48/48 [==============================] - 0s 10ms/step - loss: 0.4839 - binary_crossentropy: 0.4839 - val_loss: 0.4389 - val_binary_crossentropy: 0.4389\n",
      "Epoch 143/200\n",
      "48/48 [==============================] - 0s 10ms/step - loss: 0.4996 - binary_crossentropy: 0.4996 - val_loss: 0.4363 - val_binary_crossentropy: 0.4363\n",
      "Epoch 144/200\n",
      "48/48 [==============================] - 0s 10ms/step - loss: 0.4673 - binary_crossentropy: 0.4673 - val_loss: 0.4383 - val_binary_crossentropy: 0.4383\n",
      "Epoch 145/200\n",
      "48/48 [==============================] - 1s 11ms/step - loss: 0.4685 - binary_crossentropy: 0.4685 - val_loss: 0.4337 - val_binary_crossentropy: 0.4337\n",
      "Epoch 146/200\n",
      "48/48 [==============================] - 0s 9ms/step - loss: 0.4899 - binary_crossentropy: 0.4899 - val_loss: 0.4334 - val_binary_crossentropy: 0.4334\n",
      "Epoch 147/200\n",
      "48/48 [==============================] - 0s 9ms/step - loss: 0.4715 - binary_crossentropy: 0.4715 - val_loss: 0.4385 - val_binary_crossentropy: 0.4385\n",
      "Epoch 148/200\n",
      "48/48 [==============================] - 0s 10ms/step - loss: 0.4826 - binary_crossentropy: 0.4826 - val_loss: 0.4374 - val_binary_crossentropy: 0.4374\n",
      "Epoch 149/200\n",
      "48/48 [==============================] - 0s 9ms/step - loss: 0.4615 - binary_crossentropy: 0.4615 - val_loss: 0.4338 - val_binary_crossentropy: 0.4338\n",
      "Epoch 150/200\n",
      "48/48 [==============================] - 0s 9ms/step - loss: 0.4592 - binary_crossentropy: 0.4592 - val_loss: 0.4356 - val_binary_crossentropy: 0.4356\n",
      "Epoch 151/200\n",
      "48/48 [==============================] - 0s 9ms/step - loss: 0.4630 - binary_crossentropy: 0.4630 - val_loss: 0.4389 - val_binary_crossentropy: 0.4389\n",
      "Epoch 152/200\n",
      "48/48 [==============================] - 0s 9ms/step - loss: 0.4699 - binary_crossentropy: 0.4699 - val_loss: 0.4359 - val_binary_crossentropy: 0.4359\n",
      "Epoch 153/200\n",
      "48/48 [==============================] - 0s 9ms/step - loss: 0.4721 - binary_crossentropy: 0.4721 - val_loss: 0.4342 - val_binary_crossentropy: 0.4342\n",
      "Epoch 154/200\n",
      "48/48 [==============================] - 0s 9ms/step - loss: 0.4650 - binary_crossentropy: 0.4650 - val_loss: 0.4344 - val_binary_crossentropy: 0.4344\n",
      "Epoch 155/200\n",
      "48/48 [==============================] - 0s 10ms/step - loss: 0.4659 - binary_crossentropy: 0.4659 - val_loss: 0.4367 - val_binary_crossentropy: 0.4367\n",
      "Epoch 156/200\n",
      "48/48 [==============================] - 1s 11ms/step - loss: 0.4571 - binary_crossentropy: 0.4571 - val_loss: 0.4358 - val_binary_crossentropy: 0.4358\n",
      "Epoch 1/200\n",
      "48/48 [==============================] - 1s 12ms/step - loss: 32.3190 - binary_crossentropy: 32.3190 - val_loss: 3.9156 - val_binary_crossentropy: 3.9156\n",
      "Epoch 2/200\n",
      "48/48 [==============================] - 0s 10ms/step - loss: 9.3494 - binary_crossentropy: 9.3494 - val_loss: 5.2907 - val_binary_crossentropy: 5.2907\n",
      "Epoch 3/200\n",
      "48/48 [==============================] - 0s 10ms/step - loss: 8.7260 - binary_crossentropy: 8.7260 - val_loss: 5.0660 - val_binary_crossentropy: 5.0660\n",
      "Epoch 4/200\n",
      "48/48 [==============================] - 0s 10ms/step - loss: 8.3302 - binary_crossentropy: 8.3302 - val_loss: 6.1178 - val_binary_crossentropy: 6.1178\n",
      "Epoch 5/200\n",
      "48/48 [==============================] - 0s 9ms/step - loss: 8.9646 - binary_crossentropy: 8.9646 - val_loss: 6.2831 - val_binary_crossentropy: 6.2831\n",
      "Epoch 6/200\n",
      "48/48 [==============================] - 0s 9ms/step - loss: 8.7149 - binary_crossentropy: 8.7149 - val_loss: 6.3649 - val_binary_crossentropy: 6.3649\n",
      "Epoch 7/200\n",
      "48/48 [==============================] - 0s 10ms/step - loss: 8.2158 - binary_crossentropy: 8.2158 - val_loss: 4.7501 - val_binary_crossentropy: 4.7501\n",
      "Epoch 8/200\n",
      "48/48 [==============================] - 0s 10ms/step - loss: 8.3620 - binary_crossentropy: 8.3620 - val_loss: 5.3205 - val_binary_crossentropy: 5.3205\n",
      "Epoch 9/200\n",
      "48/48 [==============================] - 0s 10ms/step - loss: 7.8025 - binary_crossentropy: 7.8025 - val_loss: 4.9219 - val_binary_crossentropy: 4.9219\n",
      "Epoch 10/200\n",
      "48/48 [==============================] - 0s 10ms/step - loss: 6.9223 - binary_crossentropy: 6.9223 - val_loss: 4.7681 - val_binary_crossentropy: 4.7681\n",
      "Epoch 11/200\n",
      "48/48 [==============================] - 0s 9ms/step - loss: 7.1895 - binary_crossentropy: 7.1895 - val_loss: 4.7525 - val_binary_crossentropy: 4.7525\n",
      "Epoch 1/200\n",
      "48/48 [==============================] - 1s 13ms/step - loss: 15.5472 - binary_crossentropy: 15.5472 - val_loss: 5.6925 - val_binary_crossentropy: 5.6925\n",
      "Epoch 2/200\n",
      "48/48 [==============================] - 0s 10ms/step - loss: 10.1887 - binary_crossentropy: 10.1887 - val_loss: 5.7810 - val_binary_crossentropy: 5.7810\n",
      "Epoch 3/200\n",
      "48/48 [==============================] - 0s 9ms/step - loss: 9.4655 - binary_crossentropy: 9.4655 - val_loss: 5.8699 - val_binary_crossentropy: 5.8699\n",
      "Epoch 4/200\n",
      "48/48 [==============================] - 0s 9ms/step - loss: 9.7994 - binary_crossentropy: 9.7994 - val_loss: 5.3751 - val_binary_crossentropy: 5.3751\n",
      "Epoch 5/200\n",
      "48/48 [==============================] - 0s 9ms/step - loss: 8.8796 - binary_crossentropy: 8.8796 - val_loss: 5.3197 - val_binary_crossentropy: 5.3197\n",
      "Epoch 6/200\n",
      "48/48 [==============================] - 0s 9ms/step - loss: 8.4273 - binary_crossentropy: 8.4273 - val_loss: 4.9711 - val_binary_crossentropy: 4.9711\n",
      "Epoch 7/200\n",
      "48/48 [==============================] - 0s 9ms/step - loss: 7.9102 - binary_crossentropy: 7.9102 - val_loss: 4.8500 - val_binary_crossentropy: 4.8500\n",
      "Epoch 8/200\n",
      "48/48 [==============================] - 0s 9ms/step - loss: 8.1558 - binary_crossentropy: 8.1558 - val_loss: 4.7077 - val_binary_crossentropy: 4.7077\n",
      "Epoch 9/200\n",
      "48/48 [==============================] - 0s 9ms/step - loss: 7.5184 - binary_crossentropy: 7.5184 - val_loss: 4.4666 - val_binary_crossentropy: 4.4666\n",
      "Epoch 10/200\n",
      "48/48 [==============================] - 0s 10ms/step - loss: 7.2577 - binary_crossentropy: 7.2577 - val_loss: 4.2695 - val_binary_crossentropy: 4.2695\n",
      "Epoch 11/200\n",
      "48/48 [==============================] - 1s 11ms/step - loss: 6.7068 - binary_crossentropy: 6.7068 - val_loss: 4.1834 - val_binary_crossentropy: 4.1834\n",
      "Epoch 12/200\n",
      "48/48 [==============================] - 0s 10ms/step - loss: 6.8969 - binary_crossentropy: 6.8969 - val_loss: 4.0020 - val_binary_crossentropy: 4.0020\n",
      "Epoch 13/200\n",
      "48/48 [==============================] - 0s 9ms/step - loss: 6.6504 - binary_crossentropy: 6.6504 - val_loss: 4.0900 - val_binary_crossentropy: 4.0900\n",
      "Epoch 14/200\n",
      "48/48 [==============================] - 0s 10ms/step - loss: 6.2012 - binary_crossentropy: 6.2012 - val_loss: 4.0775 - val_binary_crossentropy: 4.0775\n",
      "Epoch 15/200\n",
      "48/48 [==============================] - 0s 9ms/step - loss: 6.9473 - binary_crossentropy: 6.9473 - val_loss: 3.8842 - val_binary_crossentropy: 3.8842\n",
      "Epoch 16/200\n",
      "48/48 [==============================] - 0s 10ms/step - loss: 6.2694 - binary_crossentropy: 6.2694 - val_loss: 3.4215 - val_binary_crossentropy: 3.4215\n",
      "Epoch 17/200\n",
      "48/48 [==============================] - 0s 8ms/step - loss: 6.0316 - binary_crossentropy: 6.0316 - val_loss: 3.5041 - val_binary_crossentropy: 3.5041\n",
      "Epoch 18/200\n",
      "48/48 [==============================] - 0s 10ms/step - loss: 5.9066 - binary_crossentropy: 5.9066 - val_loss: 3.7089 - val_binary_crossentropy: 3.7089\n",
      "Epoch 19/200\n",
      "48/48 [==============================] - 0s 9ms/step - loss: 5.3218 - binary_crossentropy: 5.3218 - val_loss: 2.8972 - val_binary_crossentropy: 2.8972\n",
      "Epoch 20/200\n",
      "48/48 [==============================] - 0s 9ms/step - loss: 5.3342 - binary_crossentropy: 5.3342 - val_loss: 3.1672 - val_binary_crossentropy: 3.1672\n",
      "Epoch 21/200\n",
      "48/48 [==============================] - 0s 9ms/step - loss: 4.9588 - binary_crossentropy: 4.9588 - val_loss: 3.2932 - val_binary_crossentropy: 3.2932\n",
      "Epoch 22/200\n",
      "48/48 [==============================] - 0s 9ms/step - loss: 5.0171 - binary_crossentropy: 5.0171 - val_loss: 2.8808 - val_binary_crossentropy: 2.8808\n",
      "Epoch 23/200\n",
      "48/48 [==============================] - 1s 11ms/step - loss: 4.7465 - binary_crossentropy: 4.7465 - val_loss: 2.9471 - val_binary_crossentropy: 2.9471\n",
      "Epoch 24/200\n",
      "48/48 [==============================] - 1s 11ms/step - loss: 4.6047 - binary_crossentropy: 4.6047 - val_loss: 2.7010 - val_binary_crossentropy: 2.7010\n"
     ]
    },
    {
     "name": "stdout",
     "output_type": "stream",
     "text": [
      "Epoch 25/200\n",
      "48/48 [==============================] - 1s 11ms/step - loss: 4.6080 - binary_crossentropy: 4.6080 - val_loss: 2.7892 - val_binary_crossentropy: 2.7892\n",
      "Epoch 26/200\n",
      "48/48 [==============================] - 1s 11ms/step - loss: 4.7104 - binary_crossentropy: 4.7104 - val_loss: 2.7263 - val_binary_crossentropy: 2.7263\n",
      "Epoch 27/200\n",
      "48/48 [==============================] - 0s 10ms/step - loss: 4.1335 - binary_crossentropy: 4.1335 - val_loss: 2.7951 - val_binary_crossentropy: 2.7951\n",
      "Epoch 28/200\n",
      "48/48 [==============================] - 0s 9ms/step - loss: 4.3494 - binary_crossentropy: 4.3494 - val_loss: 2.5572 - val_binary_crossentropy: 2.5572\n",
      "Epoch 29/200\n",
      "48/48 [==============================] - 0s 9ms/step - loss: 4.3592 - binary_crossentropy: 4.3592 - val_loss: 2.3966 - val_binary_crossentropy: 2.3966\n",
      "Epoch 30/200\n",
      "48/48 [==============================] - 0s 10ms/step - loss: 4.1077 - binary_crossentropy: 4.1077 - val_loss: 2.4151 - val_binary_crossentropy: 2.4151\n",
      "Epoch 31/200\n",
      "48/48 [==============================] - 1s 11ms/step - loss: 3.7448 - binary_crossentropy: 3.7448 - val_loss: 2.2854 - val_binary_crossentropy: 2.2854\n",
      "Epoch 32/200\n",
      "48/48 [==============================] - 1s 12ms/step - loss: 3.4841 - binary_crossentropy: 3.4841 - val_loss: 2.3091 - val_binary_crossentropy: 2.3091\n",
      "Epoch 33/200\n",
      "48/48 [==============================] - 0s 9ms/step - loss: 3.3540 - binary_crossentropy: 3.3540 - val_loss: 2.1054 - val_binary_crossentropy: 2.1054\n",
      "Epoch 34/200\n",
      "48/48 [==============================] - 0s 8ms/step - loss: 3.6415 - binary_crossentropy: 3.6415 - val_loss: 2.1979 - val_binary_crossentropy: 2.1979\n",
      "Epoch 35/200\n",
      "48/48 [==============================] - 2s 39ms/step - loss: 3.4166 - binary_crossentropy: 3.4166 - val_loss: 2.1393 - val_binary_crossentropy: 2.1393\n",
      "Epoch 36/200\n",
      "48/48 [==============================] - 0s 8ms/step - loss: 3.3194 - binary_crossentropy: 3.3194 - val_loss: 2.1541 - val_binary_crossentropy: 2.1541\n",
      "Epoch 37/200\n",
      "48/48 [==============================] - 3s 71ms/step - loss: 3.2292 - binary_crossentropy: 3.2292 - val_loss: 2.0340 - val_binary_crossentropy: 2.0340\n",
      "Epoch 38/200\n",
      "48/48 [==============================] - 1s 11ms/step - loss: 3.4056 - binary_crossentropy: 3.4056 - val_loss: 2.1994 - val_binary_crossentropy: 2.1994\n",
      "Epoch 39/200\n",
      "48/48 [==============================] - 4s 82ms/step - loss: 3.2124 - binary_crossentropy: 3.2124 - val_loss: 1.8764 - val_binary_crossentropy: 1.8764\n",
      "Epoch 40/200\n",
      "48/48 [==============================] - 1s 13ms/step - loss: 2.8964 - binary_crossentropy: 2.8964 - val_loss: 1.7350 - val_binary_crossentropy: 1.7350\n",
      "Epoch 41/200\n",
      "48/48 [==============================] - 4s 77ms/step - loss: 2.8131 - binary_crossentropy: 2.8131 - val_loss: 1.7884 - val_binary_crossentropy: 1.7884\n",
      "Epoch 42/200\n",
      "48/48 [==============================] - 0s 9ms/step - loss: 2.8105 - binary_crossentropy: 2.8105 - val_loss: 1.6297 - val_binary_crossentropy: 1.6297\n",
      "Epoch 43/200\n",
      "48/48 [==============================] - 4s 77ms/step - loss: 2.7427 - binary_crossentropy: 2.7427 - val_loss: 1.8099 - val_binary_crossentropy: 1.8099\n",
      "Epoch 44/200\n",
      "48/48 [==============================] - 0s 10ms/step - loss: 2.6038 - binary_crossentropy: 2.6038 - val_loss: 1.6807 - val_binary_crossentropy: 1.6807\n",
      "Epoch 45/200\n",
      "48/48 [==============================] - 3s 74ms/step - loss: 2.7513 - binary_crossentropy: 2.7513 - val_loss: 1.7056 - val_binary_crossentropy: 1.7056\n",
      "Epoch 46/200\n",
      "48/48 [==============================] - 0s 8ms/step - loss: 2.5275 - binary_crossentropy: 2.5275 - val_loss: 1.6011 - val_binary_crossentropy: 1.6011\n",
      "Epoch 47/200\n",
      "48/48 [==============================] - 0s 9ms/step - loss: 2.5331 - binary_crossentropy: 2.5331 - val_loss: 1.5777 - val_binary_crossentropy: 1.5777\n",
      "Epoch 48/200\n",
      "48/48 [==============================] - 0s 9ms/step - loss: 2.5147 - binary_crossentropy: 2.5147 - val_loss: 1.4821 - val_binary_crossentropy: 1.4821\n",
      "Epoch 49/200\n",
      "48/48 [==============================] - 0s 8ms/step - loss: 2.4546 - binary_crossentropy: 2.4546 - val_loss: 1.4139 - val_binary_crossentropy: 1.4139\n",
      "Epoch 50/200\n",
      "48/48 [==============================] - 4s 76ms/step - loss: 2.5197 - binary_crossentropy: 2.5197 - val_loss: 1.4875 - val_binary_crossentropy: 1.4875\n",
      "Epoch 51/200\n",
      "48/48 [==============================] - 0s 9ms/step - loss: 2.2709 - binary_crossentropy: 2.2709 - val_loss: 1.2503 - val_binary_crossentropy: 1.2503\n",
      "Epoch 52/200\n",
      "48/48 [==============================] - 0s 8ms/step - loss: 2.1145 - binary_crossentropy: 2.1145 - val_loss: 1.4070 - val_binary_crossentropy: 1.4070\n",
      "Epoch 53/200\n",
      "48/48 [==============================] - 4s 79ms/step - loss: 2.1423 - binary_crossentropy: 2.1423 - val_loss: 1.2277 - val_binary_crossentropy: 1.2277\n",
      "Epoch 54/200\n",
      "48/48 [==============================] - 0s 9ms/step - loss: 2.2601 - binary_crossentropy: 2.2601 - val_loss: 1.1700 - val_binary_crossentropy: 1.1700\n",
      "Epoch 55/200\n",
      "48/48 [==============================] - 0s 9ms/step - loss: 2.2275 - binary_crossentropy: 2.2275 - val_loss: 1.3384 - val_binary_crossentropy: 1.3384\n",
      "Epoch 56/200\n",
      "48/48 [==============================] - 0s 9ms/step - loss: 2.0721 - binary_crossentropy: 2.0721 - val_loss: 1.1428 - val_binary_crossentropy: 1.1428\n",
      "Epoch 57/200\n",
      "48/48 [==============================] - 0s 8ms/step - loss: 2.0891 - binary_crossentropy: 2.0891 - val_loss: 1.1852 - val_binary_crossentropy: 1.1852\n",
      "Epoch 58/200\n",
      "48/48 [==============================] - 0s 8ms/step - loss: 1.9623 - binary_crossentropy: 1.9623 - val_loss: 1.1382 - val_binary_crossentropy: 1.1382\n",
      "Epoch 59/200\n",
      "48/48 [==============================] - 0s 8ms/step - loss: 1.7747 - binary_crossentropy: 1.7747 - val_loss: 1.1290 - val_binary_crossentropy: 1.1290\n",
      "Epoch 60/200\n",
      "48/48 [==============================] - 0s 9ms/step - loss: 1.8326 - binary_crossentropy: 1.8326 - val_loss: 1.0815 - val_binary_crossentropy: 1.0815\n",
      "Epoch 61/200\n",
      "48/48 [==============================] - 0s 9ms/step - loss: 1.8435 - binary_crossentropy: 1.8435 - val_loss: 1.0814 - val_binary_crossentropy: 1.0814\n",
      "Epoch 62/200\n",
      "48/48 [==============================] - 0s 10ms/step - loss: 1.8660 - binary_crossentropy: 1.8660 - val_loss: 1.0127 - val_binary_crossentropy: 1.0127\n",
      "Epoch 63/200\n",
      "48/48 [==============================] - 0s 10ms/step - loss: 1.7967 - binary_crossentropy: 1.7967 - val_loss: 1.0374 - val_binary_crossentropy: 1.0374\n",
      "Epoch 64/200\n",
      "48/48 [==============================] - 0s 10ms/step - loss: 1.5937 - binary_crossentropy: 1.5937 - val_loss: 0.9773 - val_binary_crossentropy: 0.9773\n",
      "Epoch 65/200\n",
      "48/48 [==============================] - 0s 9ms/step - loss: 1.6075 - binary_crossentropy: 1.6075 - val_loss: 0.9800 - val_binary_crossentropy: 0.9800\n",
      "Epoch 66/200\n",
      "48/48 [==============================] - 0s 10ms/step - loss: 1.6461 - binary_crossentropy: 1.6461 - val_loss: 0.9831 - val_binary_crossentropy: 0.9831\n",
      "Epoch 67/200\n",
      "48/48 [==============================] - 0s 10ms/step - loss: 1.5737 - binary_crossentropy: 1.5737 - val_loss: 0.9317 - val_binary_crossentropy: 0.9317\n",
      "Epoch 68/200\n",
      "48/48 [==============================] - 0s 9ms/step - loss: 1.5625 - binary_crossentropy: 1.5625 - val_loss: 0.9436 - val_binary_crossentropy: 0.9436\n",
      "Epoch 69/200\n",
      "48/48 [==============================] - 0s 9ms/step - loss: 1.4386 - binary_crossentropy: 1.4386 - val_loss: 0.8616 - val_binary_crossentropy: 0.8616\n",
      "Epoch 70/200\n",
      "48/48 [==============================] - 1s 11ms/step - loss: 1.5343 - binary_crossentropy: 1.5343 - val_loss: 0.8780 - val_binary_crossentropy: 0.8780\n",
      "Epoch 71/200\n",
      "48/48 [==============================] - 0s 9ms/step - loss: 1.5199 - binary_crossentropy: 1.5199 - val_loss: 0.8527 - val_binary_crossentropy: 0.8527\n",
      "Epoch 72/200\n",
      "48/48 [==============================] - 0s 9ms/step - loss: 1.3911 - binary_crossentropy: 1.3911 - val_loss: 0.8287 - val_binary_crossentropy: 0.8287\n",
      "Epoch 73/200\n",
      "48/48 [==============================] - 0s 10ms/step - loss: 1.4038 - binary_crossentropy: 1.4038 - val_loss: 0.8360 - val_binary_crossentropy: 0.8360\n",
      "Epoch 74/200\n",
      "48/48 [==============================] - 0s 9ms/step - loss: 1.3797 - binary_crossentropy: 1.3797 - val_loss: 0.7913 - val_binary_crossentropy: 0.7913\n"
     ]
    },
    {
     "name": "stdout",
     "output_type": "stream",
     "text": [
      "Epoch 75/200\n",
      "48/48 [==============================] - 0s 10ms/step - loss: 1.3186 - binary_crossentropy: 1.3186 - val_loss: 0.7521 - val_binary_crossentropy: 0.7521\n",
      "Epoch 76/200\n",
      "48/48 [==============================] - 0s 10ms/step - loss: 1.2763 - binary_crossentropy: 1.2763 - val_loss: 0.7644 - val_binary_crossentropy: 0.7644\n",
      "Epoch 77/200\n",
      "48/48 [==============================] - 0s 10ms/step - loss: 1.2488 - binary_crossentropy: 1.2488 - val_loss: 0.7478 - val_binary_crossentropy: 0.7478\n",
      "Epoch 78/200\n",
      "48/48 [==============================] - 1s 12ms/step - loss: 1.1593 - binary_crossentropy: 1.1593 - val_loss: 0.7202 - val_binary_crossentropy: 0.7202\n",
      "Epoch 79/200\n",
      "48/48 [==============================] - 1s 10ms/step - loss: 1.1578 - binary_crossentropy: 1.1578 - val_loss: 0.7092 - val_binary_crossentropy: 0.7092\n",
      "Epoch 80/200\n",
      "48/48 [==============================] - 0s 9ms/step - loss: 1.1655 - binary_crossentropy: 1.1655 - val_loss: 0.6868 - val_binary_crossentropy: 0.6868\n",
      "Epoch 81/200\n",
      "48/48 [==============================] - 0s 9ms/step - loss: 1.1473 - binary_crossentropy: 1.1473 - val_loss: 0.6794 - val_binary_crossentropy: 0.6794\n",
      "Epoch 82/200\n",
      "48/48 [==============================] - 1s 11ms/step - loss: 1.1272 - binary_crossentropy: 1.1272 - val_loss: 0.6589 - val_binary_crossentropy: 0.6589\n",
      "Epoch 83/200\n",
      "48/48 [==============================] - 1s 11ms/step - loss: 1.1007 - binary_crossentropy: 1.1007 - val_loss: 0.6655 - val_binary_crossentropy: 0.6655\n",
      "Epoch 84/200\n",
      "48/48 [==============================] - 0s 9ms/step - loss: 1.0098 - binary_crossentropy: 1.0098 - val_loss: 0.6350 - val_binary_crossentropy: 0.6350\n",
      "Epoch 85/200\n",
      "48/48 [==============================] - 0s 10ms/step - loss: 0.9909 - binary_crossentropy: 0.9909 - val_loss: 0.6294 - val_binary_crossentropy: 0.6294\n",
      "Epoch 86/200\n",
      "48/48 [==============================] - 0s 10ms/step - loss: 0.9573 - binary_crossentropy: 0.9573 - val_loss: 0.6304 - val_binary_crossentropy: 0.6304\n",
      "Epoch 87/200\n",
      "48/48 [==============================] - 1s 11ms/step - loss: 0.9234 - binary_crossentropy: 0.9234 - val_loss: 0.6296 - val_binary_crossentropy: 0.6296\n",
      "Epoch 88/200\n",
      "48/48 [==============================] - 0s 9ms/step - loss: 0.9469 - binary_crossentropy: 0.9469 - val_loss: 0.5990 - val_binary_crossentropy: 0.5990\n",
      "Epoch 89/200\n",
      "48/48 [==============================] - 0s 8ms/step - loss: 0.9286 - binary_crossentropy: 0.9286 - val_loss: 0.6058 - val_binary_crossentropy: 0.6058\n",
      "Epoch 90/200\n",
      "48/48 [==============================] - 0s 9ms/step - loss: 0.8757 - binary_crossentropy: 0.8757 - val_loss: 0.5766 - val_binary_crossentropy: 0.5766\n",
      "Epoch 91/200\n",
      "48/48 [==============================] - 1s 11ms/step - loss: 0.8739 - binary_crossentropy: 0.8739 - val_loss: 0.5874 - val_binary_crossentropy: 0.5874\n",
      "Epoch 92/200\n",
      "48/48 [==============================] - 0s 8ms/step - loss: 0.8346 - binary_crossentropy: 0.8346 - val_loss: 0.5658 - val_binary_crossentropy: 0.5658\n",
      "Epoch 93/200\n",
      "48/48 [==============================] - 0s 10ms/step - loss: 0.8448 - binary_crossentropy: 0.8448 - val_loss: 0.5742 - val_binary_crossentropy: 0.5742\n",
      "Epoch 94/200\n",
      "48/48 [==============================] - 0s 9ms/step - loss: 0.8302 - binary_crossentropy: 0.8302 - val_loss: 0.5409 - val_binary_crossentropy: 0.5409\n",
      "Epoch 95/200\n",
      "48/48 [==============================] - 0s 10ms/step - loss: 0.7839 - binary_crossentropy: 0.7839 - val_loss: 0.5333 - val_binary_crossentropy: 0.5333\n",
      "Epoch 96/200\n",
      "48/48 [==============================] - 0s 9ms/step - loss: 0.7800 - binary_crossentropy: 0.7800 - val_loss: 0.5257 - val_binary_crossentropy: 0.5257\n",
      "Epoch 97/200\n",
      "48/48 [==============================] - 0s 10ms/step - loss: 0.7666 - binary_crossentropy: 0.7666 - val_loss: 0.5092 - val_binary_crossentropy: 0.5092\n",
      "Epoch 98/200\n",
      "48/48 [==============================] - 1s 11ms/step - loss: 0.7176 - binary_crossentropy: 0.7176 - val_loss: 0.5009 - val_binary_crossentropy: 0.5009\n",
      "Epoch 99/200\n",
      "48/48 [==============================] - 0s 9ms/step - loss: 0.7128 - binary_crossentropy: 0.7128 - val_loss: 0.4902 - val_binary_crossentropy: 0.4902\n",
      "Epoch 100/200\n",
      "48/48 [==============================] - 0s 10ms/step - loss: 0.7434 - binary_crossentropy: 0.7434 - val_loss: 0.4888 - val_binary_crossentropy: 0.4888\n",
      "Epoch 101/200\n",
      "48/48 [==============================] - 0s 8ms/step - loss: 0.7157 - binary_crossentropy: 0.7157 - val_loss: 0.4883 - val_binary_crossentropy: 0.4883\n",
      "Epoch 102/200\n",
      "48/48 [==============================] - 1s 10ms/step - loss: 0.7112 - binary_crossentropy: 0.7112 - val_loss: 0.4784 - val_binary_crossentropy: 0.4784\n",
      "Epoch 103/200\n",
      "48/48 [==============================] - 0s 10ms/step - loss: 0.6736 - binary_crossentropy: 0.6736 - val_loss: 0.4780 - val_binary_crossentropy: 0.4780\n",
      "Epoch 104/200\n",
      "48/48 [==============================] - 0s 10ms/step - loss: 0.6477 - binary_crossentropy: 0.6477 - val_loss: 0.4757 - val_binary_crossentropy: 0.4757\n",
      "Epoch 105/200\n",
      "48/48 [==============================] - 0s 10ms/step - loss: 0.6320 - binary_crossentropy: 0.6320 - val_loss: 0.4721 - val_binary_crossentropy: 0.4721\n",
      "Epoch 106/200\n",
      "48/48 [==============================] - 0s 8ms/step - loss: 0.6247 - binary_crossentropy: 0.6247 - val_loss: 0.4605 - val_binary_crossentropy: 0.4605\n",
      "Epoch 107/200\n",
      "48/48 [==============================] - 0s 9ms/step - loss: 0.6090 - binary_crossentropy: 0.6090 - val_loss: 0.4636 - val_binary_crossentropy: 0.4636\n",
      "Epoch 108/200\n",
      "48/48 [==============================] - 0s 10ms/step - loss: 0.6116 - binary_crossentropy: 0.6116 - val_loss: 0.4543 - val_binary_crossentropy: 0.4543\n",
      "Epoch 109/200\n",
      "48/48 [==============================] - 0s 10ms/step - loss: 0.6160 - binary_crossentropy: 0.6160 - val_loss: 0.4548 - val_binary_crossentropy: 0.4548\n",
      "Epoch 110/200\n",
      "48/48 [==============================] - 0s 10ms/step - loss: 0.6173 - binary_crossentropy: 0.6173 - val_loss: 0.4557 - val_binary_crossentropy: 0.4557\n",
      "Epoch 111/200\n",
      "48/48 [==============================] - 0s 9ms/step - loss: 0.6141 - binary_crossentropy: 0.6141 - val_loss: 0.4505 - val_binary_crossentropy: 0.4505\n",
      "Epoch 112/200\n",
      "48/48 [==============================] - 0s 10ms/step - loss: 0.5843 - binary_crossentropy: 0.5843 - val_loss: 0.4491 - val_binary_crossentropy: 0.4491\n",
      "Epoch 113/200\n",
      "48/48 [==============================] - 0s 10ms/step - loss: 0.5799 - binary_crossentropy: 0.5799 - val_loss: 0.4469 - val_binary_crossentropy: 0.4469\n",
      "Epoch 114/200\n",
      "48/48 [==============================] - 0s 10ms/step - loss: 0.5799 - binary_crossentropy: 0.5799 - val_loss: 0.4468 - val_binary_crossentropy: 0.4468\n",
      "Epoch 115/200\n",
      "48/48 [==============================] - 0s 10ms/step - loss: 0.5691 - binary_crossentropy: 0.5691 - val_loss: 0.4470 - val_binary_crossentropy: 0.4470\n",
      "Epoch 116/200\n",
      "48/48 [==============================] - 0s 9ms/step - loss: 0.5564 - binary_crossentropy: 0.5564 - val_loss: 0.4433 - val_binary_crossentropy: 0.4433\n",
      "Epoch 117/200\n",
      "48/48 [==============================] - 0s 9ms/step - loss: 0.5485 - binary_crossentropy: 0.5485 - val_loss: 0.4425 - val_binary_crossentropy: 0.4425\n",
      "Epoch 118/200\n",
      "48/48 [==============================] - 0s 9ms/step - loss: 0.5340 - binary_crossentropy: 0.5340 - val_loss: 0.4429 - val_binary_crossentropy: 0.4429\n",
      "Epoch 119/200\n",
      "48/48 [==============================] - 0s 10ms/step - loss: 0.5232 - binary_crossentropy: 0.5232 - val_loss: 0.4420 - val_binary_crossentropy: 0.4420\n",
      "Epoch 120/200\n",
      "48/48 [==============================] - 0s 10ms/step - loss: 0.5327 - binary_crossentropy: 0.5327 - val_loss: 0.4398 - val_binary_crossentropy: 0.4398\n",
      "Epoch 121/200\n",
      "48/48 [==============================] - 0s 10ms/step - loss: 0.5372 - binary_crossentropy: 0.5372 - val_loss: 0.4425 - val_binary_crossentropy: 0.4425\n",
      "Epoch 122/200\n",
      "48/48 [==============================] - 1s 11ms/step - loss: 0.5318 - binary_crossentropy: 0.5318 - val_loss: 0.4404 - val_binary_crossentropy: 0.4404\n",
      "Epoch 123/200\n",
      "48/48 [==============================] - 0s 9ms/step - loss: 0.5094 - binary_crossentropy: 0.5094 - val_loss: 0.4408 - val_binary_crossentropy: 0.4408\n",
      "Epoch 124/200\n"
     ]
    },
    {
     "name": "stdout",
     "output_type": "stream",
     "text": [
      "48/48 [==============================] - 0s 10ms/step - loss: 0.5286 - binary_crossentropy: 0.5286 - val_loss: 0.4401 - val_binary_crossentropy: 0.4401\n",
      "Epoch 125/200\n",
      "48/48 [==============================] - 1s 11ms/step - loss: 0.5107 - binary_crossentropy: 0.5107 - val_loss: 0.4400 - val_binary_crossentropy: 0.4400\n",
      "Epoch 126/200\n",
      "48/48 [==============================] - 0s 9ms/step - loss: 0.5061 - binary_crossentropy: 0.5061 - val_loss: 0.4396 - val_binary_crossentropy: 0.4396\n",
      "Epoch 127/200\n",
      "48/48 [==============================] - 1s 11ms/step - loss: 0.5054 - binary_crossentropy: 0.5054 - val_loss: 0.4405 - val_binary_crossentropy: 0.4405\n",
      "Epoch 128/200\n",
      "48/48 [==============================] - 0s 10ms/step - loss: 0.5109 - binary_crossentropy: 0.5109 - val_loss: 0.4392 - val_binary_crossentropy: 0.4392\n",
      "Epoch 129/200\n",
      "48/48 [==============================] - 0s 9ms/step - loss: 0.4997 - binary_crossentropy: 0.4997 - val_loss: 0.4370 - val_binary_crossentropy: 0.4370\n",
      "Epoch 130/200\n",
      "48/48 [==============================] - 0s 9ms/step - loss: 0.4980 - binary_crossentropy: 0.4980 - val_loss: 0.4377 - val_binary_crossentropy: 0.4377\n",
      "Epoch 131/200\n",
      "48/48 [==============================] - 0s 10ms/step - loss: 0.4949 - binary_crossentropy: 0.4949 - val_loss: 0.4376 - val_binary_crossentropy: 0.4376\n",
      "Epoch 132/200\n",
      "48/48 [==============================] - 0s 9ms/step - loss: 0.4816 - binary_crossentropy: 0.4816 - val_loss: 0.4371 - val_binary_crossentropy: 0.4371\n",
      "Epoch 133/200\n",
      "48/48 [==============================] - 0s 10ms/step - loss: 0.5027 - binary_crossentropy: 0.5027 - val_loss: 0.4371 - val_binary_crossentropy: 0.4371\n",
      "Epoch 134/200\n",
      "48/48 [==============================] - 0s 9ms/step - loss: 0.4879 - binary_crossentropy: 0.4879 - val_loss: 0.4366 - val_binary_crossentropy: 0.4366\n",
      "Epoch 135/200\n",
      "48/48 [==============================] - 0s 9ms/step - loss: 0.4868 - binary_crossentropy: 0.4868 - val_loss: 0.4362 - val_binary_crossentropy: 0.4362\n",
      "Epoch 136/200\n",
      "48/48 [==============================] - 0s 9ms/step - loss: 0.4851 - binary_crossentropy: 0.4851 - val_loss: 0.4398 - val_binary_crossentropy: 0.4398\n",
      "Epoch 137/200\n",
      "48/48 [==============================] - 0s 9ms/step - loss: 0.4914 - binary_crossentropy: 0.4914 - val_loss: 0.4356 - val_binary_crossentropy: 0.4356\n",
      "Epoch 138/200\n",
      "48/48 [==============================] - 0s 8ms/step - loss: 0.4786 - binary_crossentropy: 0.4786 - val_loss: 0.4368 - val_binary_crossentropy: 0.4368\n",
      "Epoch 139/200\n",
      "48/48 [==============================] - 0s 9ms/step - loss: 0.4810 - binary_crossentropy: 0.4810 - val_loss: 0.4362 - val_binary_crossentropy: 0.4362\n",
      "Epoch 140/200\n",
      "48/48 [==============================] - 0s 9ms/step - loss: 0.4821 - binary_crossentropy: 0.4821 - val_loss: 0.4360 - val_binary_crossentropy: 0.4360\n",
      "Epoch 141/200\n",
      "48/48 [==============================] - 0s 9ms/step - loss: 0.4906 - binary_crossentropy: 0.4906 - val_loss: 0.4355 - val_binary_crossentropy: 0.4355\n",
      "Epoch 142/200\n",
      "48/48 [==============================] - 0s 9ms/step - loss: 0.4735 - binary_crossentropy: 0.4735 - val_loss: 0.4345 - val_binary_crossentropy: 0.4345\n",
      "Epoch 143/200\n",
      "48/48 [==============================] - 0s 9ms/step - loss: 0.4689 - binary_crossentropy: 0.4689 - val_loss: 0.4339 - val_binary_crossentropy: 0.4339\n",
      "Epoch 144/200\n",
      "48/48 [==============================] - 0s 9ms/step - loss: 0.4791 - binary_crossentropy: 0.4791 - val_loss: 0.4359 - val_binary_crossentropy: 0.4359\n",
      "Epoch 145/200\n",
      "48/48 [==============================] - 0s 9ms/step - loss: 0.4701 - binary_crossentropy: 0.4701 - val_loss: 0.4349 - val_binary_crossentropy: 0.4349\n",
      "Epoch 146/200\n",
      "48/48 [==============================] - 1s 11ms/step - loss: 0.4770 - binary_crossentropy: 0.4770 - val_loss: 0.4338 - val_binary_crossentropy: 0.4338\n",
      "Epoch 147/200\n",
      "48/48 [==============================] - 0s 9ms/step - loss: 0.4727 - binary_crossentropy: 0.4727 - val_loss: 0.4348 - val_binary_crossentropy: 0.4348\n",
      "Epoch 148/200\n",
      "48/48 [==============================] - 0s 9ms/step - loss: 0.4699 - binary_crossentropy: 0.4699 - val_loss: 0.4338 - val_binary_crossentropy: 0.4338\n",
      "Epoch 149/200\n",
      "48/48 [==============================] - 0s 9ms/step - loss: 0.4635 - binary_crossentropy: 0.4635 - val_loss: 0.4353 - val_binary_crossentropy: 0.4353\n",
      "Epoch 150/200\n",
      "48/48 [==============================] - 0s 9ms/step - loss: 0.4649 - binary_crossentropy: 0.4649 - val_loss: 0.4357 - val_binary_crossentropy: 0.4357\n",
      "Epoch 151/200\n",
      "48/48 [==============================] - 0s 10ms/step - loss: 0.4711 - binary_crossentropy: 0.4711 - val_loss: 0.4354 - val_binary_crossentropy: 0.4354\n",
      "Epoch 152/200\n",
      "48/48 [==============================] - 0s 10ms/step - loss: 0.4617 - binary_crossentropy: 0.4617 - val_loss: 0.4342 - val_binary_crossentropy: 0.4342\n",
      "Epoch 153/200\n",
      "48/48 [==============================] - 0s 9ms/step - loss: 0.4786 - binary_crossentropy: 0.4786 - val_loss: 0.4343 - val_binary_crossentropy: 0.4343\n",
      "Epoch 154/200\n",
      "48/48 [==============================] - 0s 9ms/step - loss: 0.4685 - binary_crossentropy: 0.4685 - val_loss: 0.4343 - val_binary_crossentropy: 0.4343\n",
      "Epoch 155/200\n",
      "48/48 [==============================] - 0s 9ms/step - loss: 0.4652 - binary_crossentropy: 0.4652 - val_loss: 0.4342 - val_binary_crossentropy: 0.4342\n",
      "Epoch 156/200\n",
      "48/48 [==============================] - 0s 9ms/step - loss: 0.4560 - binary_crossentropy: 0.4560 - val_loss: 0.4348 - val_binary_crossentropy: 0.4348\n",
      "Epoch 1/200\n",
      "48/48 [==============================] - 1s 12ms/step - loss: 13.4603 - binary_crossentropy: 13.4603 - val_loss: 6.8393 - val_binary_crossentropy: 6.8393\n",
      "Epoch 2/200\n",
      "48/48 [==============================] - 0s 9ms/step - loss: 10.6599 - binary_crossentropy: 10.6599 - val_loss: 5.8509 - val_binary_crossentropy: 5.8509\n",
      "Epoch 3/200\n",
      "48/48 [==============================] - 1s 11ms/step - loss: 10.1318 - binary_crossentropy: 10.1318 - val_loss: 5.5132 - val_binary_crossentropy: 5.5132\n",
      "Epoch 4/200\n",
      "48/48 [==============================] - 0s 10ms/step - loss: 9.0198 - binary_crossentropy: 9.0198 - val_loss: 4.9532 - val_binary_crossentropy: 4.9532\n",
      "Epoch 5/200\n",
      "48/48 [==============================] - 0s 10ms/step - loss: 8.9217 - binary_crossentropy: 8.9217 - val_loss: 5.2486 - val_binary_crossentropy: 5.2486\n",
      "Epoch 6/200\n",
      "48/48 [==============================] - 0s 9ms/step - loss: 8.3299 - binary_crossentropy: 8.3299 - val_loss: 4.9594 - val_binary_crossentropy: 4.9594\n",
      "Epoch 7/200\n",
      "48/48 [==============================] - 0s 10ms/step - loss: 8.2057 - binary_crossentropy: 8.2057 - val_loss: 4.6294 - val_binary_crossentropy: 4.6294\n",
      "Epoch 8/200\n",
      "48/48 [==============================] - 0s 10ms/step - loss: 7.2755 - binary_crossentropy: 7.2755 - val_loss: 4.5778 - val_binary_crossentropy: 4.5778\n",
      "Epoch 9/200\n",
      "48/48 [==============================] - 0s 9ms/step - loss: 7.2449 - binary_crossentropy: 7.2449 - val_loss: 4.1628 - val_binary_crossentropy: 4.1628\n",
      "Epoch 10/200\n",
      "48/48 [==============================] - 0s 10ms/step - loss: 7.4787 - binary_crossentropy: 7.4787 - val_loss: 4.6117 - val_binary_crossentropy: 4.6117\n",
      "Epoch 11/200\n",
      "48/48 [==============================] - 0s 10ms/step - loss: 6.7201 - binary_crossentropy: 6.7201 - val_loss: 4.2924 - val_binary_crossentropy: 4.2924\n",
      "Epoch 12/200\n",
      "48/48 [==============================] - 0s 9ms/step - loss: 7.2387 - binary_crossentropy: 7.2387 - val_loss: 4.2128 - val_binary_crossentropy: 4.2128\n",
      "Epoch 13/200\n",
      "48/48 [==============================] - 0s 9ms/step - loss: 6.7848 - binary_crossentropy: 6.7848 - val_loss: 4.1171 - val_binary_crossentropy: 4.1171\n",
      "Epoch 14/200\n",
      "48/48 [==============================] - 0s 10ms/step - loss: 5.9454 - binary_crossentropy: 5.9454 - val_loss: 3.9864 - val_binary_crossentropy: 3.9864\n",
      "Epoch 15/200\n",
      "48/48 [==============================] - 0s 8ms/step - loss: 5.9174 - binary_crossentropy: 5.9174 - val_loss: 3.9584 - val_binary_crossentropy: 3.9584\n",
      "Epoch 16/200\n",
      "48/48 [==============================] - 0s 10ms/step - loss: 5.9409 - binary_crossentropy: 5.9409 - val_loss: 3.5855 - val_binary_crossentropy: 3.5855\n",
      "Epoch 17/200\n",
      "48/48 [==============================] - 0s 9ms/step - loss: 5.4130 - binary_crossentropy: 5.4130 - val_loss: 3.5031 - val_binary_crossentropy: 3.5031\n"
     ]
    },
    {
     "name": "stdout",
     "output_type": "stream",
     "text": [
      "Epoch 18/200\n",
      "48/48 [==============================] - 0s 9ms/step - loss: 5.6884 - binary_crossentropy: 5.6884 - val_loss: 3.5302 - val_binary_crossentropy: 3.5302\n",
      "Epoch 19/200\n",
      "48/48 [==============================] - 0s 10ms/step - loss: 5.2752 - binary_crossentropy: 5.2752 - val_loss: 3.2303 - val_binary_crossentropy: 3.2303\n",
      "Epoch 20/200\n",
      "48/48 [==============================] - 0s 9ms/step - loss: 5.0911 - binary_crossentropy: 5.0911 - val_loss: 3.1566 - val_binary_crossentropy: 3.1566\n",
      "Epoch 21/200\n",
      "48/48 [==============================] - 0s 10ms/step - loss: 4.8598 - binary_crossentropy: 4.8598 - val_loss: 3.0325 - val_binary_crossentropy: 3.0325\n",
      "Epoch 22/200\n",
      "48/48 [==============================] - 0s 9ms/step - loss: 4.6534 - binary_crossentropy: 4.6534 - val_loss: 3.3189 - val_binary_crossentropy: 3.3189\n",
      "Epoch 23/200\n",
      "48/48 [==============================] - 0s 9ms/step - loss: 4.7910 - binary_crossentropy: 4.7910 - val_loss: 2.6673 - val_binary_crossentropy: 2.6673\n",
      "Epoch 24/200\n",
      "48/48 [==============================] - 0s 9ms/step - loss: 4.2040 - binary_crossentropy: 4.2040 - val_loss: 2.6792 - val_binary_crossentropy: 2.6792\n",
      "Epoch 25/200\n",
      "48/48 [==============================] - 0s 9ms/step - loss: 4.5214 - binary_crossentropy: 4.5214 - val_loss: 2.6272 - val_binary_crossentropy: 2.6272\n",
      "Epoch 26/200\n",
      "48/48 [==============================] - 0s 10ms/step - loss: 4.1622 - binary_crossentropy: 4.1622 - val_loss: 2.4666 - val_binary_crossentropy: 2.4666\n",
      "Epoch 27/200\n",
      "48/48 [==============================] - 0s 9ms/step - loss: 4.3252 - binary_crossentropy: 4.3252 - val_loss: 2.3880 - val_binary_crossentropy: 2.3880\n",
      "Epoch 28/200\n",
      "48/48 [==============================] - 0s 9ms/step - loss: 3.8633 - binary_crossentropy: 3.8633 - val_loss: 2.4785 - val_binary_crossentropy: 2.4785\n",
      "Epoch 29/200\n",
      "48/48 [==============================] - 0s 9ms/step - loss: 4.2984 - binary_crossentropy: 4.2984 - val_loss: 2.3622 - val_binary_crossentropy: 2.3622\n",
      "Epoch 30/200\n",
      "48/48 [==============================] - 0s 9ms/step - loss: 3.9164 - binary_crossentropy: 3.9164 - val_loss: 2.4725 - val_binary_crossentropy: 2.4725\n",
      "Epoch 31/200\n",
      "48/48 [==============================] - 0s 9ms/step - loss: 3.8491 - binary_crossentropy: 3.8491 - val_loss: 2.1503 - val_binary_crossentropy: 2.1503\n",
      "Epoch 32/200\n",
      "48/48 [==============================] - 0s 9ms/step - loss: 3.7678 - binary_crossentropy: 3.7678 - val_loss: 2.1248 - val_binary_crossentropy: 2.1248\n",
      "Epoch 33/200\n",
      "48/48 [==============================] - 0s 9ms/step - loss: 3.6523 - binary_crossentropy: 3.6523 - val_loss: 2.0393 - val_binary_crossentropy: 2.0393\n",
      "Epoch 34/200\n",
      "48/48 [==============================] - 0s 9ms/step - loss: 3.3563 - binary_crossentropy: 3.3563 - val_loss: 1.9716 - val_binary_crossentropy: 1.9716\n",
      "Epoch 35/200\n",
      "48/48 [==============================] - 0s 9ms/step - loss: 3.0544 - binary_crossentropy: 3.0544 - val_loss: 1.9589 - val_binary_crossentropy: 1.9589\n",
      "Epoch 36/200\n",
      "48/48 [==============================] - 0s 9ms/step - loss: 3.2586 - binary_crossentropy: 3.2586 - val_loss: 1.8458 - val_binary_crossentropy: 1.8458\n",
      "Epoch 37/200\n",
      "48/48 [==============================] - 0s 9ms/step - loss: 3.1350 - binary_crossentropy: 3.1350 - val_loss: 1.8203 - val_binary_crossentropy: 1.8203\n",
      "Epoch 38/200\n",
      "48/48 [==============================] - 0s 9ms/step - loss: 3.2855 - binary_crossentropy: 3.2855 - val_loss: 1.8418 - val_binary_crossentropy: 1.8418\n",
      "Epoch 39/200\n",
      "48/48 [==============================] - 0s 9ms/step - loss: 2.9090 - binary_crossentropy: 2.9090 - val_loss: 1.8084 - val_binary_crossentropy: 1.8084\n",
      "Epoch 40/200\n",
      "48/48 [==============================] - 0s 9ms/step - loss: 2.9462 - binary_crossentropy: 2.9462 - val_loss: 1.6119 - val_binary_crossentropy: 1.6119\n",
      "Epoch 41/200\n",
      "48/48 [==============================] - 0s 9ms/step - loss: 2.9103 - binary_crossentropy: 2.9103 - val_loss: 1.5238 - val_binary_crossentropy: 1.5238\n",
      "Epoch 42/200\n",
      "48/48 [==============================] - 0s 9ms/step - loss: 2.8200 - binary_crossentropy: 2.8200 - val_loss: 1.5852 - val_binary_crossentropy: 1.5852\n",
      "Epoch 43/200\n",
      "48/48 [==============================] - 0s 10ms/step - loss: 2.6771 - binary_crossentropy: 2.6771 - val_loss: 1.5781 - val_binary_crossentropy: 1.5781\n",
      "Epoch 44/200\n",
      "48/48 [==============================] - 0s 10ms/step - loss: 2.6138 - binary_crossentropy: 2.6138 - val_loss: 1.4254 - val_binary_crossentropy: 1.4254\n",
      "Epoch 45/200\n",
      "48/48 [==============================] - 1s 12ms/step - loss: 2.5691 - binary_crossentropy: 2.5691 - val_loss: 1.4851 - val_binary_crossentropy: 1.4851\n",
      "Epoch 46/200\n",
      "48/48 [==============================] - 0s 10ms/step - loss: 2.6435 - binary_crossentropy: 2.6435 - val_loss: 1.3453 - val_binary_crossentropy: 1.3453\n",
      "Epoch 47/200\n",
      "48/48 [==============================] - 0s 10ms/step - loss: 2.2701 - binary_crossentropy: 2.2701 - val_loss: 1.3974 - val_binary_crossentropy: 1.3974\n",
      "Epoch 48/200\n",
      "48/48 [==============================] - 0s 10ms/step - loss: 2.6187 - binary_crossentropy: 2.6187 - val_loss: 1.3495 - val_binary_crossentropy: 1.3495\n",
      "Epoch 49/200\n",
      "48/48 [==============================] - 1s 11ms/step - loss: 2.2886 - binary_crossentropy: 2.2886 - val_loss: 1.3987 - val_binary_crossentropy: 1.3987\n",
      "Epoch 50/200\n",
      "48/48 [==============================] - 1s 11ms/step - loss: 2.4981 - binary_crossentropy: 2.4981 - val_loss: 1.4364 - val_binary_crossentropy: 1.4364\n",
      "Epoch 51/200\n",
      "48/48 [==============================] - 1s 11ms/step - loss: 2.1471 - binary_crossentropy: 2.1471 - val_loss: 1.2850 - val_binary_crossentropy: 1.2850\n",
      "Epoch 52/200\n",
      "48/48 [==============================] - 0s 10ms/step - loss: 2.2072 - binary_crossentropy: 2.2072 - val_loss: 1.2636 - val_binary_crossentropy: 1.2636\n",
      "Epoch 53/200\n",
      "48/48 [==============================] - 0s 10ms/step - loss: 2.2528 - binary_crossentropy: 2.2528 - val_loss: 1.2727 - val_binary_crossentropy: 1.2727\n",
      "Epoch 54/200\n",
      "48/48 [==============================] - 0s 9ms/step - loss: 2.0399 - binary_crossentropy: 2.0399 - val_loss: 1.1844 - val_binary_crossentropy: 1.1844\n",
      "Epoch 55/200\n",
      "48/48 [==============================] - 1s 11ms/step - loss: 2.1308 - binary_crossentropy: 2.1308 - val_loss: 1.1184 - val_binary_crossentropy: 1.1184\n",
      "Epoch 56/200\n",
      "48/48 [==============================] - 0s 10ms/step - loss: 2.1397 - binary_crossentropy: 2.1397 - val_loss: 1.2461 - val_binary_crossentropy: 1.2461\n",
      "Epoch 57/200\n",
      "48/48 [==============================] - 0s 9ms/step - loss: 2.0364 - binary_crossentropy: 2.0364 - val_loss: 1.1578 - val_binary_crossentropy: 1.1578\n",
      "Epoch 58/200\n",
      "48/48 [==============================] - 0s 9ms/step - loss: 2.0003 - binary_crossentropy: 2.0003 - val_loss: 1.1749 - val_binary_crossentropy: 1.1749\n",
      "Epoch 59/200\n",
      "48/48 [==============================] - 0s 10ms/step - loss: 2.0065 - binary_crossentropy: 2.0065 - val_loss: 1.1332 - val_binary_crossentropy: 1.1332\n",
      "Epoch 60/200\n",
      "48/48 [==============================] - 0s 10ms/step - loss: 1.7695 - binary_crossentropy: 1.7695 - val_loss: 0.9724 - val_binary_crossentropy: 0.9724\n",
      "Epoch 61/200\n",
      "48/48 [==============================] - 0s 10ms/step - loss: 1.8440 - binary_crossentropy: 1.8440 - val_loss: 1.0586 - val_binary_crossentropy: 1.0586\n",
      "Epoch 62/200\n",
      "48/48 [==============================] - 0s 10ms/step - loss: 1.8858 - binary_crossentropy: 1.8858 - val_loss: 0.9596 - val_binary_crossentropy: 0.9596\n",
      "Epoch 63/200\n",
      "48/48 [==============================] - 0s 10ms/step - loss: 1.8196 - binary_crossentropy: 1.8196 - val_loss: 0.9734 - val_binary_crossentropy: 0.9734\n",
      "Epoch 64/200\n",
      "48/48 [==============================] - 1s 11ms/step - loss: 1.8222 - binary_crossentropy: 1.8222 - val_loss: 0.9916 - val_binary_crossentropy: 0.9916\n",
      "Epoch 65/200\n",
      "48/48 [==============================] - 0s 9ms/step - loss: 1.8168 - binary_crossentropy: 1.8168 - val_loss: 0.9272 - val_binary_crossentropy: 0.9272\n",
      "Epoch 66/200\n",
      "48/48 [==============================] - 0s 10ms/step - loss: 1.8145 - binary_crossentropy: 1.8145 - val_loss: 0.8591 - val_binary_crossentropy: 0.8591\n",
      "Epoch 67/200\n",
      "48/48 [==============================] - 0s 9ms/step - loss: 1.8071 - binary_crossentropy: 1.8071 - val_loss: 0.9158 - val_binary_crossentropy: 0.9158\n"
     ]
    },
    {
     "name": "stdout",
     "output_type": "stream",
     "text": [
      "Epoch 68/200\n",
      "48/48 [==============================] - 0s 9ms/step - loss: 1.5526 - binary_crossentropy: 1.5526 - val_loss: 0.8312 - val_binary_crossentropy: 0.8312\n",
      "Epoch 69/200\n",
      "48/48 [==============================] - 1s 10ms/step - loss: 1.5553 - binary_crossentropy: 1.5553 - val_loss: 0.8895 - val_binary_crossentropy: 0.8895\n",
      "Epoch 70/200\n",
      "48/48 [==============================] - 0s 10ms/step - loss: 1.6582 - binary_crossentropy: 1.6582 - val_loss: 0.8235 - val_binary_crossentropy: 0.8235\n",
      "Epoch 71/200\n",
      "48/48 [==============================] - 1s 11ms/step - loss: 1.4697 - binary_crossentropy: 1.4697 - val_loss: 0.8419 - val_binary_crossentropy: 0.8419\n",
      "Epoch 72/200\n",
      "48/48 [==============================] - 0s 8ms/step - loss: 1.5669 - binary_crossentropy: 1.5669 - val_loss: 0.7961 - val_binary_crossentropy: 0.7961\n",
      "Epoch 73/200\n",
      "48/48 [==============================] - 0s 10ms/step - loss: 1.4561 - binary_crossentropy: 1.4561 - val_loss: 0.8076 - val_binary_crossentropy: 0.8076\n",
      "Epoch 74/200\n",
      "48/48 [==============================] - 1s 11ms/step - loss: 1.5330 - binary_crossentropy: 1.5330 - val_loss: 0.8840 - val_binary_crossentropy: 0.8840\n",
      "Epoch 75/200\n",
      "48/48 [==============================] - 0s 9ms/step - loss: 1.4141 - binary_crossentropy: 1.4141 - val_loss: 0.7995 - val_binary_crossentropy: 0.7995\n",
      "Epoch 76/200\n",
      "48/48 [==============================] - 1s 11ms/step - loss: 1.2682 - binary_crossentropy: 1.2682 - val_loss: 0.7299 - val_binary_crossentropy: 0.7299\n",
      "Epoch 77/200\n",
      "48/48 [==============================] - 0s 9ms/step - loss: 1.3194 - binary_crossentropy: 1.3194 - val_loss: 0.7724 - val_binary_crossentropy: 0.7724\n",
      "Epoch 78/200\n",
      "48/48 [==============================] - 0s 9ms/step - loss: 1.2679 - binary_crossentropy: 1.2679 - val_loss: 0.7358 - val_binary_crossentropy: 0.7358\n",
      "Epoch 79/200\n",
      "48/48 [==============================] - 0s 10ms/step - loss: 1.3950 - binary_crossentropy: 1.3950 - val_loss: 0.6931 - val_binary_crossentropy: 0.6931\n",
      "Epoch 80/200\n",
      "48/48 [==============================] - 0s 10ms/step - loss: 1.2830 - binary_crossentropy: 1.2830 - val_loss: 0.6971 - val_binary_crossentropy: 0.6971\n",
      "Epoch 81/200\n",
      "48/48 [==============================] - 1s 11ms/step - loss: 1.2433 - binary_crossentropy: 1.2433 - val_loss: 0.7202 - val_binary_crossentropy: 0.7202\n",
      "Epoch 82/200\n",
      "48/48 [==============================] - 0s 10ms/step - loss: 1.2407 - binary_crossentropy: 1.2407 - val_loss: 0.6897 - val_binary_crossentropy: 0.6897\n",
      "Epoch 83/200\n",
      "48/48 [==============================] - 0s 10ms/step - loss: 1.2488 - binary_crossentropy: 1.2488 - val_loss: 0.7036 - val_binary_crossentropy: 0.7036\n",
      "Epoch 84/200\n",
      "48/48 [==============================] - 0s 9ms/step - loss: 1.1692 - binary_crossentropy: 1.1692 - val_loss: 0.6758 - val_binary_crossentropy: 0.6758\n",
      "Epoch 85/200\n",
      "48/48 [==============================] - 0s 9ms/step - loss: 1.1670 - binary_crossentropy: 1.1670 - val_loss: 0.6783 - val_binary_crossentropy: 0.6783\n",
      "Epoch 86/200\n",
      "48/48 [==============================] - 0s 9ms/step - loss: 1.1464 - binary_crossentropy: 1.1464 - val_loss: 0.6707 - val_binary_crossentropy: 0.6707\n",
      "Epoch 87/200\n",
      "48/48 [==============================] - 0s 9ms/step - loss: 1.1387 - binary_crossentropy: 1.1387 - val_loss: 0.6774 - val_binary_crossentropy: 0.6774\n",
      "Epoch 88/200\n",
      "48/48 [==============================] - 0s 8ms/step - loss: 1.0910 - binary_crossentropy: 1.0910 - val_loss: 0.6571 - val_binary_crossentropy: 0.6571\n",
      "Epoch 89/200\n",
      "48/48 [==============================] - 0s 10ms/step - loss: 1.0233 - binary_crossentropy: 1.0233 - val_loss: 0.6448 - val_binary_crossentropy: 0.6448\n",
      "Epoch 90/200\n",
      "48/48 [==============================] - 0s 9ms/step - loss: 1.0572 - binary_crossentropy: 1.0572 - val_loss: 0.6308 - val_binary_crossentropy: 0.6308\n",
      "Epoch 91/200\n",
      "48/48 [==============================] - 0s 10ms/step - loss: 1.0799 - binary_crossentropy: 1.0799 - val_loss: 0.6309 - val_binary_crossentropy: 0.6309\n",
      "Epoch 92/200\n",
      "48/48 [==============================] - 0s 10ms/step - loss: 0.9845 - binary_crossentropy: 0.9845 - val_loss: 0.6277 - val_binary_crossentropy: 0.6277\n",
      "Epoch 93/200\n",
      "48/48 [==============================] - 0s 9ms/step - loss: 0.9628 - binary_crossentropy: 0.9628 - val_loss: 0.6013 - val_binary_crossentropy: 0.6013\n",
      "Epoch 94/200\n",
      "48/48 [==============================] - 0s 9ms/step - loss: 0.9377 - binary_crossentropy: 0.9377 - val_loss: 0.6162 - val_binary_crossentropy: 0.6162\n",
      "Epoch 95/200\n",
      "48/48 [==============================] - 0s 8ms/step - loss: 0.9272 - binary_crossentropy: 0.9272 - val_loss: 0.6083 - val_binary_crossentropy: 0.6083\n",
      "Epoch 96/200\n",
      "48/48 [==============================] - 0s 9ms/step - loss: 0.8657 - binary_crossentropy: 0.8657 - val_loss: 0.5808 - val_binary_crossentropy: 0.5808\n",
      "Epoch 97/200\n",
      "48/48 [==============================] - 0s 9ms/step - loss: 0.8774 - binary_crossentropy: 0.8774 - val_loss: 0.5769 - val_binary_crossentropy: 0.5769\n",
      "Epoch 98/200\n",
      "48/48 [==============================] - 0s 8ms/step - loss: 0.9554 - binary_crossentropy: 0.9554 - val_loss: 0.5890 - val_binary_crossentropy: 0.5890\n",
      "Epoch 99/200\n",
      "48/48 [==============================] - 0s 9ms/step - loss: 0.8735 - binary_crossentropy: 0.8735 - val_loss: 0.5783 - val_binary_crossentropy: 0.5783\n",
      "Epoch 100/200\n",
      "48/48 [==============================] - 0s 9ms/step - loss: 0.8505 - binary_crossentropy: 0.8505 - val_loss: 0.5689 - val_binary_crossentropy: 0.5689\n",
      "Epoch 101/200\n",
      "48/48 [==============================] - 0s 8ms/step - loss: 0.8794 - binary_crossentropy: 0.8794 - val_loss: 0.5776 - val_binary_crossentropy: 0.5776\n",
      "Epoch 102/200\n",
      "48/48 [==============================] - 0s 9ms/step - loss: 0.7649 - binary_crossentropy: 0.7649 - val_loss: 0.5730 - val_binary_crossentropy: 0.5730\n",
      "Epoch 103/200\n",
      "48/48 [==============================] - 0s 9ms/step - loss: 0.8113 - binary_crossentropy: 0.8113 - val_loss: 0.5726 - val_binary_crossentropy: 0.5726\n",
      "Epoch 104/200\n",
      "48/48 [==============================] - 0s 9ms/step - loss: 0.8037 - binary_crossentropy: 0.8037 - val_loss: 0.5558 - val_binary_crossentropy: 0.5558\n",
      "Epoch 105/200\n",
      "48/48 [==============================] - 0s 8ms/step - loss: 0.7688 - binary_crossentropy: 0.7688 - val_loss: 0.5524 - val_binary_crossentropy: 0.5524\n",
      "Epoch 106/200\n",
      "48/48 [==============================] - 0s 10ms/step - loss: 0.7693 - binary_crossentropy: 0.7693 - val_loss: 0.5358 - val_binary_crossentropy: 0.5358\n",
      "Epoch 107/200\n",
      "48/48 [==============================] - 0s 10ms/step - loss: 0.7234 - binary_crossentropy: 0.7234 - val_loss: 0.5315 - val_binary_crossentropy: 0.5315\n",
      "Epoch 108/200\n",
      "48/48 [==============================] - 0s 10ms/step - loss: 0.7125 - binary_crossentropy: 0.7125 - val_loss: 0.5253 - val_binary_crossentropy: 0.5253\n",
      "Epoch 109/200\n",
      "48/48 [==============================] - 0s 9ms/step - loss: 0.7618 - binary_crossentropy: 0.7618 - val_loss: 0.5191 - val_binary_crossentropy: 0.5191\n",
      "Epoch 110/200\n",
      "48/48 [==============================] - 1s 11ms/step - loss: 0.6817 - binary_crossentropy: 0.6817 - val_loss: 0.5183 - val_binary_crossentropy: 0.5183\n",
      "Epoch 111/200\n",
      "48/48 [==============================] - 0s 10ms/step - loss: 0.7186 - binary_crossentropy: 0.7186 - val_loss: 0.5079 - val_binary_crossentropy: 0.5079\n",
      "Epoch 112/200\n",
      "48/48 [==============================] - 0s 10ms/step - loss: 0.6929 - binary_crossentropy: 0.6929 - val_loss: 0.5087 - val_binary_crossentropy: 0.5087\n",
      "Epoch 113/200\n",
      "48/48 [==============================] - 0s 10ms/step - loss: 0.6757 - binary_crossentropy: 0.6757 - val_loss: 0.5013 - val_binary_crossentropy: 0.5013\n",
      "Epoch 114/200\n",
      "48/48 [==============================] - 0s 9ms/step - loss: 0.6615 - binary_crossentropy: 0.6615 - val_loss: 0.4967 - val_binary_crossentropy: 0.4967\n",
      "Epoch 115/200\n",
      "48/48 [==============================] - 0s 8ms/step - loss: 0.6374 - binary_crossentropy: 0.6374 - val_loss: 0.4915 - val_binary_crossentropy: 0.4915\n",
      "Epoch 116/200\n",
      "48/48 [==============================] - 0s 9ms/step - loss: 0.6159 - binary_crossentropy: 0.6159 - val_loss: 0.4888 - val_binary_crossentropy: 0.4888\n",
      "Epoch 117/200\n",
      "48/48 [==============================] - 0s 10ms/step - loss: 0.6506 - binary_crossentropy: 0.6506 - val_loss: 0.4876 - val_binary_crossentropy: 0.4876\n"
     ]
    },
    {
     "name": "stdout",
     "output_type": "stream",
     "text": [
      "Epoch 118/200\n",
      "48/48 [==============================] - 0s 10ms/step - loss: 0.6047 - binary_crossentropy: 0.6047 - val_loss: 0.4784 - val_binary_crossentropy: 0.4784\n",
      "Epoch 119/200\n",
      "48/48 [==============================] - 1s 11ms/step - loss: 0.6059 - binary_crossentropy: 0.6059 - val_loss: 0.4761 - val_binary_crossentropy: 0.4761\n",
      "Epoch 120/200\n",
      "48/48 [==============================] - 1s 11ms/step - loss: 0.5658 - binary_crossentropy: 0.5658 - val_loss: 0.4709 - val_binary_crossentropy: 0.4709\n",
      "Epoch 121/200\n",
      "48/48 [==============================] - 0s 10ms/step - loss: 0.5742 - binary_crossentropy: 0.5742 - val_loss: 0.4674 - val_binary_crossentropy: 0.4674\n",
      "Epoch 122/200\n",
      "48/48 [==============================] - 1s 11ms/step - loss: 0.5832 - binary_crossentropy: 0.5832 - val_loss: 0.4688 - val_binary_crossentropy: 0.4688\n",
      "Epoch 123/200\n",
      "48/48 [==============================] - 1s 11ms/step - loss: 0.5950 - binary_crossentropy: 0.5950 - val_loss: 0.4664 - val_binary_crossentropy: 0.4664\n",
      "Epoch 124/200\n",
      "48/48 [==============================] - 1s 11ms/step - loss: 0.5533 - binary_crossentropy: 0.5533 - val_loss: 0.4610 - val_binary_crossentropy: 0.4610\n",
      "Epoch 125/200\n",
      "48/48 [==============================] - 1s 12ms/step - loss: 0.5488 - binary_crossentropy: 0.5488 - val_loss: 0.4589 - val_binary_crossentropy: 0.4589\n",
      "Epoch 126/200\n",
      "48/48 [==============================] - 1s 12ms/step - loss: 0.5591 - binary_crossentropy: 0.5591 - val_loss: 0.4532 - val_binary_crossentropy: 0.4532\n",
      "Epoch 127/200\n",
      "48/48 [==============================] - 1s 11ms/step - loss: 0.5299 - binary_crossentropy: 0.5299 - val_loss: 0.4529 - val_binary_crossentropy: 0.4529\n",
      "Epoch 128/200\n",
      "48/48 [==============================] - 1s 12ms/step - loss: 0.5291 - binary_crossentropy: 0.5291 - val_loss: 0.4529 - val_binary_crossentropy: 0.4529\n",
      "Epoch 129/200\n",
      "48/48 [==============================] - 1s 14ms/step - loss: 0.5310 - binary_crossentropy: 0.5310 - val_loss: 0.4489 - val_binary_crossentropy: 0.4489\n",
      "Epoch 130/200\n",
      "48/48 [==============================] - 1s 14ms/step - loss: 0.5166 - binary_crossentropy: 0.5166 - val_loss: 0.4501 - val_binary_crossentropy: 0.4501\n",
      "Epoch 131/200\n",
      "48/48 [==============================] - 1s 17ms/step - loss: 0.5070 - binary_crossentropy: 0.5070 - val_loss: 0.4481 - val_binary_crossentropy: 0.4481\n",
      "Epoch 132/200\n",
      "48/48 [==============================] - 1s 16ms/step - loss: 0.5060 - binary_crossentropy: 0.5060 - val_loss: 0.4482 - val_binary_crossentropy: 0.4482\n",
      "Epoch 133/200\n",
      "48/48 [==============================] - 1s 12ms/step - loss: 0.4997 - binary_crossentropy: 0.4997 - val_loss: 0.4473 - val_binary_crossentropy: 0.4473\n",
      "Epoch 134/200\n",
      "48/48 [==============================] - 1s 14ms/step - loss: 0.5087 - binary_crossentropy: 0.5087 - val_loss: 0.4470 - val_binary_crossentropy: 0.4470\n",
      "Epoch 135/200\n",
      "48/48 [==============================] - 1s 13ms/step - loss: 0.5120 - binary_crossentropy: 0.5120 - val_loss: 0.4461 - val_binary_crossentropy: 0.4461\n",
      "Epoch 136/200\n",
      "48/48 [==============================] - 1s 12ms/step - loss: 0.5094 - binary_crossentropy: 0.5094 - val_loss: 0.4484 - val_binary_crossentropy: 0.4484\n",
      "Epoch 137/200\n",
      "48/48 [==============================] - 1s 13ms/step - loss: 0.5070 - binary_crossentropy: 0.5070 - val_loss: 0.4469 - val_binary_crossentropy: 0.4469\n",
      "Epoch 138/200\n",
      "48/48 [==============================] - 1s 16ms/step - loss: 0.4952 - binary_crossentropy: 0.4952 - val_loss: 0.4493 - val_binary_crossentropy: 0.4493\n",
      "Epoch 139/200\n",
      "48/48 [==============================] - 1s 11ms/step - loss: 0.4979 - binary_crossentropy: 0.4979 - val_loss: 0.4475 - val_binary_crossentropy: 0.4475\n",
      "Epoch 140/200\n",
      "48/48 [==============================] - 1s 13ms/step - loss: 0.5069 - binary_crossentropy: 0.5069 - val_loss: 0.4484 - val_binary_crossentropy: 0.4484\n",
      "Epoch 141/200\n",
      "48/48 [==============================] - 0s 9ms/step - loss: 0.4910 - binary_crossentropy: 0.4910 - val_loss: 0.4481 - val_binary_crossentropy: 0.4481\n",
      "Epoch 142/200\n",
      "48/48 [==============================] - 0s 9ms/step - loss: 0.4856 - binary_crossentropy: 0.4856 - val_loss: 0.4473 - val_binary_crossentropy: 0.4473\n",
      "Epoch 143/200\n",
      "48/48 [==============================] - 1s 11ms/step - loss: 0.4734 - binary_crossentropy: 0.4734 - val_loss: 0.4474 - val_binary_crossentropy: 0.4474\n",
      "Epoch 144/200\n",
      "48/48 [==============================] - 1s 11ms/step - loss: 0.4771 - binary_crossentropy: 0.4771 - val_loss: 0.4458 - val_binary_crossentropy: 0.4458\n",
      "Epoch 145/200\n",
      "48/48 [==============================] - 0s 10ms/step - loss: 0.4851 - binary_crossentropy: 0.4851 - val_loss: 0.4457 - val_binary_crossentropy: 0.4457\n",
      "Epoch 146/200\n",
      "48/48 [==============================] - 0s 10ms/step - loss: 0.4778 - binary_crossentropy: 0.4778 - val_loss: 0.4443 - val_binary_crossentropy: 0.4443\n",
      "Epoch 147/200\n",
      "48/48 [==============================] - 1s 12ms/step - loss: 0.4790 - binary_crossentropy: 0.4790 - val_loss: 0.4478 - val_binary_crossentropy: 0.4478\n",
      "Epoch 148/200\n",
      "48/48 [==============================] - 1s 11ms/step - loss: 0.4765 - binary_crossentropy: 0.4765 - val_loss: 0.4466 - val_binary_crossentropy: 0.4466\n",
      "Epoch 149/200\n",
      "48/48 [==============================] - 0s 10ms/step - loss: 0.4706 - binary_crossentropy: 0.4706 - val_loss: 0.4484 - val_binary_crossentropy: 0.4484\n",
      "Epoch 150/200\n",
      "48/48 [==============================] - 0s 9ms/step - loss: 0.4784 - binary_crossentropy: 0.4784 - val_loss: 0.4446 - val_binary_crossentropy: 0.4446\n",
      "Epoch 151/200\n",
      "48/48 [==============================] - 1s 11ms/step - loss: 0.4828 - binary_crossentropy: 0.4828 - val_loss: 0.4451 - val_binary_crossentropy: 0.4451\n",
      "Epoch 152/200\n",
      "48/48 [==============================] - 0s 10ms/step - loss: 0.4696 - binary_crossentropy: 0.4696 - val_loss: 0.4464 - val_binary_crossentropy: 0.4464\n",
      "Epoch 153/200\n",
      "48/48 [==============================] - 0s 9ms/step - loss: 0.4674 - binary_crossentropy: 0.4674 - val_loss: 0.4444 - val_binary_crossentropy: 0.4444\n",
      "Epoch 154/200\n",
      "48/48 [==============================] - 1s 11ms/step - loss: 0.4663 - binary_crossentropy: 0.4663 - val_loss: 0.4440 - val_binary_crossentropy: 0.4440\n",
      "Epoch 155/200\n",
      "48/48 [==============================] - 0s 10ms/step - loss: 0.4610 - binary_crossentropy: 0.4610 - val_loss: 0.4451 - val_binary_crossentropy: 0.4451\n",
      "Epoch 156/200\n",
      "48/48 [==============================] - 0s 9ms/step - loss: 0.4687 - binary_crossentropy: 0.4687 - val_loss: 0.4460 - val_binary_crossentropy: 0.4460\n",
      "Epoch 157/200\n",
      "48/48 [==============================] - 0s 9ms/step - loss: 0.4674 - binary_crossentropy: 0.4674 - val_loss: 0.4439 - val_binary_crossentropy: 0.4439\n",
      "Epoch 158/200\n",
      "48/48 [==============================] - 0s 9ms/step - loss: 0.4618 - binary_crossentropy: 0.4618 - val_loss: 0.4435 - val_binary_crossentropy: 0.4435\n",
      "Epoch 159/200\n",
      "48/48 [==============================] - 1s 11ms/step - loss: 0.4757 - binary_crossentropy: 0.4757 - val_loss: 0.4433 - val_binary_crossentropy: 0.4433\n",
      "Epoch 160/200\n",
      "48/48 [==============================] - 0s 9ms/step - loss: 0.4608 - binary_crossentropy: 0.4608 - val_loss: 0.4452 - val_binary_crossentropy: 0.4452\n",
      "Epoch 161/200\n",
      "48/48 [==============================] - 0s 9ms/step - loss: 0.4677 - binary_crossentropy: 0.4677 - val_loss: 0.4420 - val_binary_crossentropy: 0.4420\n",
      "Epoch 162/200\n",
      "48/48 [==============================] - 0s 9ms/step - loss: 0.4597 - binary_crossentropy: 0.4597 - val_loss: 0.4440 - val_binary_crossentropy: 0.4440\n",
      "Epoch 163/200\n",
      "48/48 [==============================] - 0s 9ms/step - loss: 0.4649 - binary_crossentropy: 0.4649 - val_loss: 0.4435 - val_binary_crossentropy: 0.4435\n",
      "Epoch 164/200\n",
      "48/48 [==============================] - 0s 9ms/step - loss: 0.4643 - binary_crossentropy: 0.4643 - val_loss: 0.4426 - val_binary_crossentropy: 0.4426\n",
      "Epoch 165/200\n",
      "48/48 [==============================] - 0s 9ms/step - loss: 0.4575 - binary_crossentropy: 0.4575 - val_loss: 0.4429 - val_binary_crossentropy: 0.4429\n",
      "Epoch 166/200\n",
      "48/48 [==============================] - 0s 9ms/step - loss: 0.4639 - binary_crossentropy: 0.4639 - val_loss: 0.4420 - val_binary_crossentropy: 0.4420\n",
      "Epoch 167/200\n"
     ]
    },
    {
     "name": "stdout",
     "output_type": "stream",
     "text": [
      "48/48 [==============================] - 0s 9ms/step - loss: 0.4579 - binary_crossentropy: 0.4579 - val_loss: 0.4449 - val_binary_crossentropy: 0.4449\n",
      "Epoch 168/200\n",
      "48/48 [==============================] - 0s 9ms/step - loss: 0.4631 - binary_crossentropy: 0.4631 - val_loss: 0.4409 - val_binary_crossentropy: 0.4409\n",
      "Epoch 169/200\n",
      "48/48 [==============================] - 0s 9ms/step - loss: 0.4540 - binary_crossentropy: 0.4540 - val_loss: 0.4406 - val_binary_crossentropy: 0.4406\n",
      "Epoch 170/200\n",
      "48/48 [==============================] - 0s 9ms/step - loss: 0.4601 - binary_crossentropy: 0.4601 - val_loss: 0.4413 - val_binary_crossentropy: 0.4413\n",
      "Epoch 171/200\n",
      "48/48 [==============================] - 0s 10ms/step - loss: 0.4556 - binary_crossentropy: 0.4556 - val_loss: 0.4410 - val_binary_crossentropy: 0.4410\n",
      "Epoch 172/200\n",
      "48/48 [==============================] - 0s 10ms/step - loss: 0.4585 - binary_crossentropy: 0.4585 - val_loss: 0.4422 - val_binary_crossentropy: 0.4422\n",
      "Epoch 173/200\n",
      "48/48 [==============================] - 0s 10ms/step - loss: 0.4567 - binary_crossentropy: 0.4567 - val_loss: 0.4407 - val_binary_crossentropy: 0.4407\n",
      "Epoch 174/200\n",
      "48/48 [==============================] - 0s 10ms/step - loss: 0.4532 - binary_crossentropy: 0.4532 - val_loss: 0.4403 - val_binary_crossentropy: 0.4403\n",
      "Epoch 175/200\n",
      "48/48 [==============================] - 0s 9ms/step - loss: 0.4594 - binary_crossentropy: 0.4594 - val_loss: 0.4417 - val_binary_crossentropy: 0.4417\n",
      "Epoch 176/200\n",
      "48/48 [==============================] - 0s 9ms/step - loss: 0.4563 - binary_crossentropy: 0.4563 - val_loss: 0.4422 - val_binary_crossentropy: 0.4422\n",
      "Epoch 177/200\n",
      "48/48 [==============================] - 0s 9ms/step - loss: 0.4523 - binary_crossentropy: 0.4523 - val_loss: 0.4403 - val_binary_crossentropy: 0.4403\n",
      "Epoch 178/200\n",
      "48/48 [==============================] - 0s 9ms/step - loss: 0.4428 - binary_crossentropy: 0.4428 - val_loss: 0.4390 - val_binary_crossentropy: 0.4390\n",
      "Epoch 179/200\n",
      "48/48 [==============================] - 0s 9ms/step - loss: 0.4502 - binary_crossentropy: 0.4502 - val_loss: 0.4416 - val_binary_crossentropy: 0.4416\n",
      "Epoch 180/200\n",
      "48/48 [==============================] - 0s 9ms/step - loss: 0.4494 - binary_crossentropy: 0.4494 - val_loss: 0.4411 - val_binary_crossentropy: 0.4411\n",
      "Epoch 181/200\n",
      "48/48 [==============================] - 0s 9ms/step - loss: 0.4526 - binary_crossentropy: 0.4526 - val_loss: 0.4406 - val_binary_crossentropy: 0.4406\n",
      "Epoch 182/200\n",
      "48/48 [==============================] - 0s 9ms/step - loss: 0.4422 - binary_crossentropy: 0.4422 - val_loss: 0.4389 - val_binary_crossentropy: 0.4389\n",
      "Epoch 183/200\n",
      "48/48 [==============================] - 0s 9ms/step - loss: 0.4468 - binary_crossentropy: 0.4468 - val_loss: 0.4410 - val_binary_crossentropy: 0.4410\n",
      "Epoch 184/200\n",
      "48/48 [==============================] - 0s 10ms/step - loss: 0.4472 - binary_crossentropy: 0.4472 - val_loss: 0.4388 - val_binary_crossentropy: 0.4388\n",
      "Epoch 185/200\n",
      "48/48 [==============================] - 0s 9ms/step - loss: 0.4458 - binary_crossentropy: 0.4458 - val_loss: 0.4440 - val_binary_crossentropy: 0.4440\n",
      "Epoch 186/200\n",
      "48/48 [==============================] - 0s 9ms/step - loss: 0.4507 - binary_crossentropy: 0.4507 - val_loss: 0.4382 - val_binary_crossentropy: 0.4382\n",
      "Epoch 187/200\n",
      "48/48 [==============================] - 0s 10ms/step - loss: 0.4583 - binary_crossentropy: 0.4583 - val_loss: 0.4391 - val_binary_crossentropy: 0.4391\n",
      "Epoch 188/200\n",
      "48/48 [==============================] - 0s 9ms/step - loss: 0.4392 - binary_crossentropy: 0.4392 - val_loss: 0.4390 - val_binary_crossentropy: 0.4390\n",
      "Epoch 189/200\n",
      "48/48 [==============================] - 0s 9ms/step - loss: 0.4517 - binary_crossentropy: 0.4517 - val_loss: 0.4420 - val_binary_crossentropy: 0.4420\n",
      "Epoch 190/200\n",
      "48/48 [==============================] - 0s 8ms/step - loss: 0.4433 - binary_crossentropy: 0.4433 - val_loss: 0.4381 - val_binary_crossentropy: 0.4381\n",
      "Epoch 191/200\n",
      "48/48 [==============================] - 0s 10ms/step - loss: 0.4414 - binary_crossentropy: 0.4414 - val_loss: 0.4387 - val_binary_crossentropy: 0.4387\n",
      "Epoch 192/200\n",
      "48/48 [==============================] - 0s 9ms/step - loss: 0.4385 - binary_crossentropy: 0.4385 - val_loss: 0.4403 - val_binary_crossentropy: 0.4403\n",
      "Epoch 193/200\n",
      "48/48 [==============================] - 1s 12ms/step - loss: 0.4428 - binary_crossentropy: 0.4428 - val_loss: 0.4396 - val_binary_crossentropy: 0.4396\n",
      "Epoch 194/200\n",
      "48/48 [==============================] - 1s 12ms/step - loss: 0.4431 - binary_crossentropy: 0.4431 - val_loss: 0.4385 - val_binary_crossentropy: 0.4385\n",
      "Epoch 195/200\n",
      "48/48 [==============================] - 1s 12ms/step - loss: 0.4448 - binary_crossentropy: 0.4448 - val_loss: 0.4384 - val_binary_crossentropy: 0.4384\n",
      "Epoch 196/200\n",
      "48/48 [==============================] - 0s 10ms/step - loss: 0.4429 - binary_crossentropy: 0.4429 - val_loss: 0.4394 - val_binary_crossentropy: 0.4394\n",
      "Epoch 197/200\n",
      "48/48 [==============================] - 0s 10ms/step - loss: 0.4470 - binary_crossentropy: 0.4470 - val_loss: 0.4396 - val_binary_crossentropy: 0.4396\n",
      "Epoch 198/200\n",
      "48/48 [==============================] - 0s 10ms/step - loss: 0.4484 - binary_crossentropy: 0.4484 - val_loss: 0.4392 - val_binary_crossentropy: 0.4392\n",
      "Epoch 199/200\n",
      "48/48 [==============================] - 0s 10ms/step - loss: 0.4470 - binary_crossentropy: 0.4470 - val_loss: 0.4378 - val_binary_crossentropy: 0.4378\n",
      "Epoch 200/200\n",
      "48/48 [==============================] - 0s 10ms/step - loss: 0.4376 - binary_crossentropy: 0.4376 - val_loss: 0.4395 - val_binary_crossentropy: 0.4395\n"
     ]
    }
   ],
   "source": [
    "all_models = []\n",
    "metrics = []\n",
    "for i in range(5):\n",
    "    x_tr, x_val, y_tr, y_val = train_test_split(x_train, y_train, shuffle=1, test_size=0.3)\n",
    "    model = build_nn()\n",
    "    \n",
    "    model.fit(x_tr, y_tr, batch_size=128, validation_data=(x_val, y_val), epochs=200, callbacks=callback)\n",
    "\n",
    "    y_tr_pred = model.predict(x_tr).T[0] > 0.5\n",
    "    metric = {}\n",
    "    metric['train_f1_train'] = f1_score(y_tr, y_tr_pred)\n",
    "    metric['train_precision'] = precision_score(y_tr, y_tr_pred)\n",
    "    metric['train_recall'] = recall_score(y_tr, y_tr_pred)\n",
    "\n",
    "    y_val_pred = model.predict(x_val).T[0] > 0.5\n",
    "    metric['test_f1_train'] = f1_score(y_val, y_val_pred)\n",
    "    metric['test_precision'] = precision_score(y_val, y_val_pred)\n",
    "    metric['test_recall'] = recall_score(y_val, y_val_pred)\n",
    "\n",
    "    metrics.append(metric)\n",
    "\n",
    "    all_models.append(model)"
   ]
  },
  {
   "cell_type": "code",
   "execution_count": 96,
   "id": "c749d32f",
   "metadata": {},
   "outputs": [
    {
     "data": {
      "text/plain": [
       "train_f1_train     0.800752\n",
       "train_precision    0.787742\n",
       "train_recall       0.815930\n",
       "test_f1_train      0.799148\n",
       "test_precision     0.783699\n",
       "test_recall        0.817822\n",
       "dtype: float64"
      ]
     },
     "execution_count": 96,
     "metadata": {},
     "output_type": "execute_result"
    }
   ],
   "source": [
    "model_avg = pd.DataFrame(metrics).mean()\n",
    "model_avg"
   ]
  },
  {
   "cell_type": "code",
   "execution_count": 117,
   "id": "8de5836e",
   "metadata": {},
   "outputs": [],
   "source": [
    "y_probas = []\n",
    "for model in all_models:\n",
    "    y_probas.append(model.predict(x_test).T[0])\n",
    "    \n",
    "for model in all_models_gb:\n",
    "    y_probas.append(model.predict_proba(x_test).T[1])\n",
    "    \n",
    "y_te = np.array(y_probas).mean(axis=0) > 0.5\n",
    "submit = pd.DataFrame(np.array([test_data['PassengerId'], y_te]).T, columns=['PassengerId', 'Transported'])\n",
    "submit.to_csv('submit_nn_gb.csv', index=False)"
   ]
  },
  {
   "cell_type": "code",
   "execution_count": 118,
   "id": "98567a82",
   "metadata": {},
   "outputs": [],
   "source": []
  },
  {
   "cell_type": "code",
   "execution_count": 121,
   "id": "f09ded0b",
   "metadata": {
    "scrolled": true
   },
   "outputs": [],
   "source": []
  },
  {
   "cell_type": "markdown",
   "id": "b0861c36",
   "metadata": {},
   "source": [
    "# Noisy student"
   ]
  },
  {
   "cell_type": "code",
   "execution_count": 126,
   "id": "4be2bacc",
   "metadata": {},
   "outputs": [
    {
     "data": {
      "text/plain": [
       "((8693, 34), (8693,))"
      ]
     },
     "execution_count": 126,
     "metadata": {},
     "output_type": "execute_result"
    }
   ],
   "source": [
    "x_train.shape, y_train.shape"
   ]
  },
  {
   "cell_type": "code",
   "execution_count": 128,
   "id": "67e04b28",
   "metadata": {},
   "outputs": [
    {
     "data": {
      "text/plain": [
       "((4277, 34),)"
      ]
     },
     "execution_count": 128,
     "metadata": {},
     "output_type": "execute_result"
    }
   ],
   "source": [
    "x_test.shape, #y_test.shape"
   ]
  },
  {
   "cell_type": "code",
   "execution_count": 135,
   "id": "c2fcd6f9",
   "metadata": {},
   "outputs": [],
   "source": [
    "y_test_preudo = (np.array(y_probas).mean(axis=0) + np.random.normal(0, 0.025, size=len(x_test))) > 0.5"
   ]
  },
  {
   "cell_type": "code",
   "execution_count": 138,
   "id": "ff7ac2f3",
   "metadata": {},
   "outputs": [],
   "source": [
    "x_all = np.append(x_train, x_test, axis=0)\n",
    "y_all = np.append(y_train, y_test_preudo)"
   ]
  },
  {
   "cell_type": "code",
   "execution_count": null,
   "id": "0baa1949",
   "metadata": {},
   "outputs": [],
   "source": []
  },
  {
   "cell_type": "code",
   "execution_count": 149,
   "id": "59a9230f",
   "metadata": {
    "scrolled": true
   },
   "outputs": [],
   "source": [
    "from sklearn.model_selection import train_test_split\n",
    "\n",
    "from sklearn.linear_model import LogisticRegression\n",
    "from sklearn.naive_bayes import GaussianNB\n",
    "from sklearn.ensemble import GradientBoostingClassifier\n",
    "\n",
    "metrics_model = []\n",
    "all_models_ps = []\n",
    "for model_name, model in [\n",
    "#     ('logistic(C=1)', LogisticRegression()), \n",
    "#     ('logistic(C=2)', LogisticRegression(C=2)),\n",
    "                         ('gb', GradientBoostingClassifier(subsample=0.5, max_features=0.25, n_estimators=150))]:\n",
    "    metrics = []\n",
    "    for i in range(10):\n",
    "        x_tr, x_val, y_tr, y_val = train_test_split(x_all, y_all, shuffle=1, test_size=0.3)\n",
    "        \n",
    "        model.fit(x_tr, y_tr)\n",
    "        \n",
    "        y_tr_pred = model.predict(x_tr)\n",
    "        metric = {}\n",
    "        metric['train_f1_train'] = f1_score(y_tr, y_tr_pred)\n",
    "        metric['train_precision'] = precision_score(y_tr, y_tr_pred)\n",
    "        metric['train_recall'] = recall_score(y_tr, y_tr_pred)\n",
    "        \n",
    "        y_val_pred = model.predict(x_val)\n",
    "        metric['test_f1_train'] = f1_score(y_val, y_val_pred)\n",
    "        metric['test_precision'] = precision_score(y_val, y_val_pred)\n",
    "        metric['test_recall'] = recall_score(y_val, y_val_pred)\n",
    "        \n",
    "        metrics.append(metric)\n",
    "        \n",
    "        all_models_ps.append(model)\n",
    "    \n",
    "    model_avg = pd.DataFrame(metrics).mean()\n",
    "    model_avg['model'] = model_name\n",
    "    metrics_model.append(model_avg)"
   ]
  },
  {
   "cell_type": "code",
   "execution_count": 150,
   "id": "ca724635",
   "metadata": {},
   "outputs": [
    {
     "data": {
      "text/html": [
       "<div>\n",
       "<style scoped>\n",
       "    .dataframe tbody tr th:only-of-type {\n",
       "        vertical-align: middle;\n",
       "    }\n",
       "\n",
       "    .dataframe tbody tr th {\n",
       "        vertical-align: top;\n",
       "    }\n",
       "\n",
       "    .dataframe thead th {\n",
       "        text-align: right;\n",
       "    }\n",
       "</style>\n",
       "<table border=\"1\" class=\"dataframe\">\n",
       "  <thead>\n",
       "    <tr style=\"text-align: right;\">\n",
       "      <th></th>\n",
       "      <th>train_f1_train</th>\n",
       "      <th>train_precision</th>\n",
       "      <th>train_recall</th>\n",
       "      <th>test_f1_train</th>\n",
       "      <th>test_precision</th>\n",
       "      <th>test_recall</th>\n",
       "      <th>model</th>\n",
       "    </tr>\n",
       "  </thead>\n",
       "  <tbody>\n",
       "    <tr>\n",
       "      <th>0</th>\n",
       "      <td>0.87557</td>\n",
       "      <td>0.847821</td>\n",
       "      <td>0.905202</td>\n",
       "      <td>0.86391</td>\n",
       "      <td>0.834501</td>\n",
       "      <td>0.89555</td>\n",
       "      <td>gb</td>\n",
       "    </tr>\n",
       "  </tbody>\n",
       "</table>\n",
       "</div>"
      ],
      "text/plain": [
       "   train_f1_train  train_precision  train_recall  test_f1_train  \\\n",
       "0         0.87557         0.847821      0.905202        0.86391   \n",
       "\n",
       "   test_precision  test_recall model  \n",
       "0        0.834501      0.89555    gb  "
      ]
     },
     "execution_count": 150,
     "metadata": {},
     "output_type": "execute_result"
    }
   ],
   "source": [
    "pd.DataFrame(metrics_model)"
   ]
  },
  {
   "cell_type": "code",
   "execution_count": 151,
   "id": "f5815f23",
   "metadata": {},
   "outputs": [],
   "source": [
    "y_probas = []\n",
    "for model in all_models_ps:\n",
    "    y_probas.append(model.predict_proba(x_test).T[1])"
   ]
  },
  {
   "cell_type": "code",
   "execution_count": 152,
   "id": "92d957c4",
   "metadata": {},
   "outputs": [],
   "source": [
    "y_te = np.array(y_probas).mean(axis=0) > 0.5\n",
    "submit = pd.DataFrame(np.array([test_data['PassengerId'], y_te]).T, columns=['PassengerId', 'Transported'])\n",
    "submit.to_csv('submit_ps.csv', index=False)"
   ]
  },
  {
   "cell_type": "code",
   "execution_count": 153,
   "id": "16395400",
   "metadata": {},
   "outputs": [
    {
     "data": {
      "text/html": [
       "<div>\n",
       "<style scoped>\n",
       "    .dataframe tbody tr th:only-of-type {\n",
       "        vertical-align: middle;\n",
       "    }\n",
       "\n",
       "    .dataframe tbody tr th {\n",
       "        vertical-align: top;\n",
       "    }\n",
       "\n",
       "    .dataframe thead th {\n",
       "        text-align: right;\n",
       "    }\n",
       "</style>\n",
       "<table border=\"1\" class=\"dataframe\">\n",
       "  <thead>\n",
       "    <tr style=\"text-align: right;\">\n",
       "      <th></th>\n",
       "      <th>PassengerId</th>\n",
       "      <th>Transported</th>\n",
       "    </tr>\n",
       "  </thead>\n",
       "  <tbody>\n",
       "    <tr>\n",
       "      <th>0</th>\n",
       "      <td>0013_01</td>\n",
       "      <td>True</td>\n",
       "    </tr>\n",
       "    <tr>\n",
       "      <th>1</th>\n",
       "      <td>0018_01</td>\n",
       "      <td>False</td>\n",
       "    </tr>\n",
       "    <tr>\n",
       "      <th>2</th>\n",
       "      <td>0019_01</td>\n",
       "      <td>True</td>\n",
       "    </tr>\n",
       "    <tr>\n",
       "      <th>3</th>\n",
       "      <td>0021_01</td>\n",
       "      <td>True</td>\n",
       "    </tr>\n",
       "    <tr>\n",
       "      <th>4</th>\n",
       "      <td>0023_01</td>\n",
       "      <td>True</td>\n",
       "    </tr>\n",
       "    <tr>\n",
       "      <th>...</th>\n",
       "      <td>...</td>\n",
       "      <td>...</td>\n",
       "    </tr>\n",
       "    <tr>\n",
       "      <th>4272</th>\n",
       "      <td>9266_02</td>\n",
       "      <td>True</td>\n",
       "    </tr>\n",
       "    <tr>\n",
       "      <th>4273</th>\n",
       "      <td>9269_01</td>\n",
       "      <td>False</td>\n",
       "    </tr>\n",
       "    <tr>\n",
       "      <th>4274</th>\n",
       "      <td>9271_01</td>\n",
       "      <td>True</td>\n",
       "    </tr>\n",
       "    <tr>\n",
       "      <th>4275</th>\n",
       "      <td>9273_01</td>\n",
       "      <td>True</td>\n",
       "    </tr>\n",
       "    <tr>\n",
       "      <th>4276</th>\n",
       "      <td>9277_01</td>\n",
       "      <td>True</td>\n",
       "    </tr>\n",
       "  </tbody>\n",
       "</table>\n",
       "<p>4277 rows × 2 columns</p>\n",
       "</div>"
      ],
      "text/plain": [
       "     PassengerId Transported\n",
       "0        0013_01        True\n",
       "1        0018_01       False\n",
       "2        0019_01        True\n",
       "3        0021_01        True\n",
       "4        0023_01        True\n",
       "...          ...         ...\n",
       "4272     9266_02        True\n",
       "4273     9269_01       False\n",
       "4274     9271_01        True\n",
       "4275     9273_01        True\n",
       "4276     9277_01        True\n",
       "\n",
       "[4277 rows x 2 columns]"
      ]
     },
     "execution_count": 153,
     "metadata": {},
     "output_type": "execute_result"
    }
   ],
   "source": [
    "submit"
   ]
  },
  {
   "cell_type": "markdown",
   "id": "0945c84a",
   "metadata": {},
   "source": [
    "# "
   ]
  },
  {
   "cell_type": "code",
   "execution_count": null,
   "id": "2d2601d2",
   "metadata": {},
   "outputs": [],
   "source": []
  },
  {
   "cell_type": "code",
   "execution_count": 156,
   "id": "5bbc0900",
   "metadata": {},
   "outputs": [],
   "source": [
    "y_probas = []\n",
    "for model in all_models:\n",
    "    y_probas.append(model.predict(x_test).T[0])\n",
    "    \n",
    "for model in all_models_gb:\n",
    "    y_probas.append(model.predict_proba(x_test).T[1])\n",
    "    \n",
    "for model in all_models_ps:\n",
    "    y_probas.append(model.predict_proba(x_test).T[1])"
   ]
  },
  {
   "cell_type": "code",
   "execution_count": 157,
   "id": "171b5c3a",
   "metadata": {},
   "outputs": [
    {
     "data": {
      "text/plain": [
       "20"
      ]
     },
     "execution_count": 157,
     "metadata": {},
     "output_type": "execute_result"
    }
   ],
   "source": [
    "len(y_probas)"
   ]
  },
  {
   "cell_type": "code",
   "execution_count": 159,
   "id": "a8a9b4ef",
   "metadata": {},
   "outputs": [],
   "source": [
    "    y_te = np.array(y_probas).mean(axis=0) > 0.5\n",
    "submit = pd.DataFrame(np.array([test_data['PassengerId'], y_te]).T, columns=['PassengerId', 'Transported'])\n",
    "submit.to_csv('submit_all.csv', index=False)"
   ]
  },
  {
   "cell_type": "code",
   "execution_count": null,
   "id": "daadc0b4",
   "metadata": {},
   "outputs": [],
   "source": []
  }
 ],
 "metadata": {
  "kernelspec": {
   "display_name": "Python 3 (ipykernel)",
   "language": "python",
   "name": "python3"
  },
  "language_info": {
   "codemirror_mode": {
    "name": "ipython",
    "version": 3
   },
   "file_extension": ".py",
   "mimetype": "text/x-python",
   "name": "python",
   "nbconvert_exporter": "python",
   "pygments_lexer": "ipython3",
   "version": "3.10.2"
  }
 },
 "nbformat": 4,
 "nbformat_minor": 5
}
