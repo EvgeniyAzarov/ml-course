{
 "cells": [
  {
   "cell_type": "code",
   "execution_count": 2,
   "id": "0e412469",
   "metadata": {},
   "outputs": [],
   "source": [
    "import numpy as np\n",
    "from matplotlib import pyplot as plt\n",
    "from sklearn.metrics import r2_score"
   ]
  },
  {
   "cell_type": "markdown",
   "id": "a7769643",
   "metadata": {},
   "source": [
    "# X, регресори (фічі)"
   ]
  },
  {
   "cell_type": "code",
   "execution_count": 5,
   "id": "bbd2017e",
   "metadata": {},
   "outputs": [],
   "source": [
    "n = 1000\n",
    "\n",
    "X = np.ones((n, 2))\n",
    "X[:, 1] = np.random.normal(0, 1, size=n)"
   ]
  },
  {
   "cell_type": "code",
   "execution_count": 10,
   "id": "02b219fe",
   "metadata": {},
   "outputs": [
    {
     "data": {
      "image/png": "[encoded data removed]",
      "text/plain": [
       "<Figure size 432x288 with 1 Axes>"
      ]
     },
     "metadata": {
      "needs_background": "light"
     },
     "output_type": "display_data"
    }
   ],
   "source": [
    "_ = plt.hist(X[:, 1], bins=25)"
   ]
  },
  {
   "cell_type": "markdown",
   "id": "3386d188",
   "metadata": {},
   "source": [
    "# theta (параметри)"
   ]
  },
  {
   "cell_type": "code",
   "execution_count": 12,
   "id": "6138d9fc",
   "metadata": {},
   "outputs": [
    {
     "data": {
      "text/plain": [
       "(2, 1)"
      ]
     },
     "execution_count": 12,
     "metadata": {},
     "output_type": "execute_result"
    }
   ],
   "source": [
    "b = np.array([[-2], [1]])\n",
    "b.shape"
   ]
  },
  {
   "cell_type": "markdown",
   "id": "5f5e30fa",
   "metadata": {},
   "source": [
    "# Y, відгуки, таргет"
   ]
  },
  {
   "cell_type": "code",
   "execution_count": 32,
   "id": "1bef9bda",
   "metadata": {},
   "outputs": [
    {
     "data": {
      "image/png": "[encoded data removed]",
      "text/plain": [
       "<Figure size 432x288 with 1 Axes>"
      ]
     },
     "metadata": {
      "needs_background": "light"
     },
     "output_type": "display_data"
    }
   ],
   "source": [
    "e = 0.2\n",
    "y = (X.dot(b) + np.random.normal(0, e, size=(n, 1))).T[0]\n",
    "\n",
    "_ = plt.hist(y, bins=30)"
   ]
  },
  {
   "cell_type": "markdown",
   "id": "d3688fd9",
   "metadata": {},
   "source": [
    "# scatter"
   ]
  },
  {
   "cell_type": "code",
   "execution_count": 33,
   "id": "2a9eeaba",
   "metadata": {},
   "outputs": [
    {
     "data": {
      "text/plain": [
       "<matplotlib.collections.PathCollection at 0x190bd5296f0>"
      ]
     },
     "execution_count": 33,
     "metadata": {},
     "output_type": "execute_result"
    },
    {
     "data": {
      "image/png": "[encoded data removed]",
      "text/plain": [
       "<Figure size 432x288 with 1 Axes>"
      ]
     },
     "metadata": {
      "needs_background": "light"
     },
     "output_type": "display_data"
    }
   ],
   "source": [
    "plt.scatter(X.T[1], y)"
   ]
  },
  {
   "cell_type": "code",
   "execution_count": 34,
   "id": "dc3eb3cf",
   "metadata": {},
   "outputs": [
    {
     "data": {
      "text/plain": [
       "array([[       nan,        nan,        nan],\n",
       "       [       nan, 1.        , 0.97849808],\n",
       "       [       nan, 0.97849808, 1.        ]])"
      ]
     },
     "execution_count": 34,
     "metadata": {},
     "output_type": "execute_result"
    }
   ],
   "source": [
    "np.corrcoef(np.append(X, y[:, None], axis=1).T)"
   ]
  },
  {
   "cell_type": "markdown",
   "id": "6895b658",
   "metadata": {},
   "source": [
    "# Оцінка?"
   ]
  },
  {
   "cell_type": "code",
   "execution_count": 35,
   "id": "4b888603",
   "metadata": {},
   "outputs": [],
   "source": [
    "b_est = np.linalg.inv(X.T.dot(X) + alpha * np.diag(n)).dot(X.T.dot(y))"
   ]
  },
  {
   "cell_type": "code",
   "execution_count": 36,
   "id": "3811acf5",
   "metadata": {},
   "outputs": [
    {
     "data": {
      "text/plain": [
       "(array([-2.00222818,  1.00989372]),\n",
       " array([[-2],\n",
       "        [ 1]]))"
      ]
     },
     "execution_count": 36,
     "metadata": {},
     "output_type": "execute_result"
    }
   ],
   "source": [
    "b_est, b"
   ]
  },
  {
   "cell_type": "code",
   "execution_count": 37,
   "id": "1cdfad42",
   "metadata": {},
   "outputs": [],
   "source": [
    "def mse(a, b):\n",
    "    return ((a - b) ** 2).mean()"
   ]
  },
  {
   "cell_type": "code",
   "execution_count": 38,
   "id": "00bf166f",
   "metadata": {},
   "outputs": [],
   "source": [
    "y_pred = X.dot(b_est)"
   ]
  },
  {
   "cell_type": "code",
   "execution_count": 39,
   "id": "061e9327",
   "metadata": {},
   "outputs": [
    {
     "data": {
      "text/plain": [
       "(0.04056398969890391, 0.04000000000000001)"
      ]
     },
     "execution_count": 39,
     "metadata": {},
     "output_type": "execute_result"
    }
   ],
   "source": [
    "mse(y_pred, y), e ** 2"
   ]
  },
  {
   "cell_type": "markdown",
   "id": "24a90d8c",
   "metadata": {},
   "source": [
    "$$\\frac{1}{n}\\sum_{i=1}^n(y_i-\\hat{y}_i)^2\\substack{P\\\\ \\to}\\sigma_\\varepsilon^2$$"
   ]
  },
  {
   "cell_type": "code",
   "execution_count": 40,
   "id": "b1cc10a1",
   "metadata": {},
   "outputs": [
    {
     "data": {
      "text/plain": [
       "0.9574585001622089"
      ]
     },
     "execution_count": 40,
     "metadata": {},
     "output_type": "execute_result"
    }
   ],
   "source": [
    "r2_score(y, y_pred)"
   ]
  },
  {
   "cell_type": "code",
   "execution_count": 43,
   "id": "9f72fc26",
   "metadata": {},
   "outputs": [
    {
     "data": {
      "text/plain": [
       "[<matplotlib.lines.Line2D at 0x190bb96a410>]"
      ]
     },
     "execution_count": 43,
     "metadata": {},
     "output_type": "execute_result"
    },
    {
     "data": {
      "image/png": "[encoded data removed]",
      "text/plain": [
       "<Figure size 432x288 with 1 Axes>"
      ]
     },
     "metadata": {
      "needs_background": "light"
     },
     "output_type": "display_data"
    }
   ],
   "source": [
    "plt.scatter(y, y_pred)\n",
    "plt.plot([-6, 0], [-6, 0], color='red')"
   ]
  },
  {
   "cell_type": "code",
   "execution_count": 46,
   "id": "fd3b0945",
   "metadata": {},
   "outputs": [
    {
     "data": {
      "image/png": "[encoded data removed]",
      "text/plain": [
       "<Figure size 432x288 with 1 Axes>"
      ]
     },
     "metadata": {
      "needs_background": "light"
     },
     "output_type": "display_data"
    }
   ],
   "source": [
    "_ = plt.hist(y - y_pred, bins=30)"
   ]
  },
  {
   "cell_type": "code",
   "execution_count": 47,
   "id": "f3c7356a",
   "metadata": {},
   "outputs": [
    {
     "data": {
      "text/plain": [
       "-4.534150832569139e-16"
      ]
     },
     "execution_count": 47,
     "metadata": {},
     "output_type": "execute_result"
    }
   ],
   "source": [
    "me = (y - y_pred).mean()\n",
    "me"
   ]
  },
  {
   "cell_type": "code",
   "execution_count": 49,
   "id": "946ba0a5",
   "metadata": {},
   "outputs": [
    {
     "data": {
      "text/plain": [
       "(0.0405639896989039, 0.04056398969890391)"
      ]
     },
     "execution_count": 49,
     "metadata": {},
     "output_type": "execute_result"
    }
   ],
   "source": [
    "(y - y_pred).var(), mse(y_pred, y)"
   ]
  },
  {
   "cell_type": "code",
   "execution_count": null,
   "id": "1c90a4b4",
   "metadata": {},
   "outputs": [],
   "source": []
  }
 ],
 "metadata": {
  "kernelspec": {
   "display_name": "Python 3 (ipykernel)",
   "language": "python",
   "name": "python3"
  },
  "language_info": {
   "codemirror_mode": {
    "name": "ipython",
    "version": 3
   },
   "file_extension": ".py",
   "mimetype": "text/x-python",
   "name": "python",
   "nbconvert_exporter": "python",
   "pygments_lexer": "ipython3",
   "version": "3.10.2"
  }
 },
 "nbformat": 4,
 "nbformat_minor": 5
}
