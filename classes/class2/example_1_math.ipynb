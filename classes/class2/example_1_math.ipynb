{
 "cells": [
  {
   "cell_type": "code",
   "execution_count": 7,
   "id": "1be1e7c5",
   "metadata": {},
   "outputs": [],
   "source": [
    "import pandas as pd\n",
    "import numpy as np\n",
    "from matplotlib import pyplot as plt"
   ]
  },
  {
   "cell_type": "code",
   "execution_count": 11,
   "id": "64b531b7",
   "metadata": {},
   "outputs": [],
   "source": [
    "# %matplotlib inline"
   ]
  },
  {
   "cell_type": "markdown",
   "id": "8d80e063",
   "metadata": {},
   "source": [
    "# \n",
    "\n",
    "https://www.kaggle.com/competitions/house-prices-advanced-regression-techniques/data?select=test.csv"
   ]
  },
  {
   "cell_type": "code",
   "execution_count": 12,
   "id": "7fd697d2",
   "metadata": {
    "scrolled": true
   },
   "outputs": [],
   "source": [
    "train_data = pd.read_csv('data/train.csv')\n",
    "test_data = pd.read_csv('data/test.csv')"
   ]
  },
  {
   "cell_type": "code",
   "execution_count": 13,
   "id": "fbfc0555",
   "metadata": {},
   "outputs": [],
   "source": [
    "y_train = np.log(train_data['SalePrice'])"
   ]
  },
  {
   "cell_type": "code",
   "execution_count": 14,
   "id": "f3caf58c",
   "metadata": {},
   "outputs": [
    {
     "data": {
      "text/html": [
       "<div>\n",
       "<style scoped>\n",
       "    .dataframe tbody tr th:only-of-type {\n",
       "        vertical-align: middle;\n",
       "    }\n",
       "\n",
       "    .dataframe tbody tr th {\n",
       "        vertical-align: top;\n",
       "    }\n",
       "\n",
       "    .dataframe thead th {\n",
       "        text-align: right;\n",
       "    }\n",
       "</style>\n",
       "<table border=\"1\" class=\"dataframe\">\n",
       "  <thead>\n",
       "    <tr style=\"text-align: right;\">\n",
       "      <th></th>\n",
       "      <th>Id</th>\n",
       "      <th>MSSubClass</th>\n",
       "      <th>MSZoning</th>\n",
       "      <th>LotFrontage</th>\n",
       "      <th>LotArea</th>\n",
       "      <th>Street</th>\n",
       "      <th>Alley</th>\n",
       "      <th>LotShape</th>\n",
       "      <th>LandContour</th>\n",
       "      <th>Utilities</th>\n",
       "      <th>...</th>\n",
       "      <th>PoolArea</th>\n",
       "      <th>PoolQC</th>\n",
       "      <th>Fence</th>\n",
       "      <th>MiscFeature</th>\n",
       "      <th>MiscVal</th>\n",
       "      <th>MoSold</th>\n",
       "      <th>YrSold</th>\n",
       "      <th>SaleType</th>\n",
       "      <th>SaleCondition</th>\n",
       "      <th>SalePrice</th>\n",
       "    </tr>\n",
       "  </thead>\n",
       "  <tbody>\n",
       "    <tr>\n",
       "      <th>0</th>\n",
       "      <td>1</td>\n",
       "      <td>60</td>\n",
       "      <td>RL</td>\n",
       "      <td>65.0</td>\n",
       "      <td>8450</td>\n",
       "      <td>Pave</td>\n",
       "      <td>NaN</td>\n",
       "      <td>Reg</td>\n",
       "      <td>Lvl</td>\n",
       "      <td>AllPub</td>\n",
       "      <td>...</td>\n",
       "      <td>0</td>\n",
       "      <td>NaN</td>\n",
       "      <td>NaN</td>\n",
       "      <td>NaN</td>\n",
       "      <td>0</td>\n",
       "      <td>2</td>\n",
       "      <td>2008</td>\n",
       "      <td>WD</td>\n",
       "      <td>Normal</td>\n",
       "      <td>208500</td>\n",
       "    </tr>\n",
       "    <tr>\n",
       "      <th>1</th>\n",
       "      <td>2</td>\n",
       "      <td>20</td>\n",
       "      <td>RL</td>\n",
       "      <td>80.0</td>\n",
       "      <td>9600</td>\n",
       "      <td>Pave</td>\n",
       "      <td>NaN</td>\n",
       "      <td>Reg</td>\n",
       "      <td>Lvl</td>\n",
       "      <td>AllPub</td>\n",
       "      <td>...</td>\n",
       "      <td>0</td>\n",
       "      <td>NaN</td>\n",
       "      <td>NaN</td>\n",
       "      <td>NaN</td>\n",
       "      <td>0</td>\n",
       "      <td>5</td>\n",
       "      <td>2007</td>\n",
       "      <td>WD</td>\n",
       "      <td>Normal</td>\n",
       "      <td>181500</td>\n",
       "    </tr>\n",
       "    <tr>\n",
       "      <th>2</th>\n",
       "      <td>3</td>\n",
       "      <td>60</td>\n",
       "      <td>RL</td>\n",
       "      <td>68.0</td>\n",
       "      <td>11250</td>\n",
       "      <td>Pave</td>\n",
       "      <td>NaN</td>\n",
       "      <td>IR1</td>\n",
       "      <td>Lvl</td>\n",
       "      <td>AllPub</td>\n",
       "      <td>...</td>\n",
       "      <td>0</td>\n",
       "      <td>NaN</td>\n",
       "      <td>NaN</td>\n",
       "      <td>NaN</td>\n",
       "      <td>0</td>\n",
       "      <td>9</td>\n",
       "      <td>2008</td>\n",
       "      <td>WD</td>\n",
       "      <td>Normal</td>\n",
       "      <td>223500</td>\n",
       "    </tr>\n",
       "    <tr>\n",
       "      <th>3</th>\n",
       "      <td>4</td>\n",
       "      <td>70</td>\n",
       "      <td>RL</td>\n",
       "      <td>60.0</td>\n",
       "      <td>9550</td>\n",
       "      <td>Pave</td>\n",
       "      <td>NaN</td>\n",
       "      <td>IR1</td>\n",
       "      <td>Lvl</td>\n",
       "      <td>AllPub</td>\n",
       "      <td>...</td>\n",
       "      <td>0</td>\n",
       "      <td>NaN</td>\n",
       "      <td>NaN</td>\n",
       "      <td>NaN</td>\n",
       "      <td>0</td>\n",
       "      <td>2</td>\n",
       "      <td>2006</td>\n",
       "      <td>WD</td>\n",
       "      <td>Abnorml</td>\n",
       "      <td>140000</td>\n",
       "    </tr>\n",
       "    <tr>\n",
       "      <th>4</th>\n",
       "      <td>5</td>\n",
       "      <td>60</td>\n",
       "      <td>RL</td>\n",
       "      <td>84.0</td>\n",
       "      <td>14260</td>\n",
       "      <td>Pave</td>\n",
       "      <td>NaN</td>\n",
       "      <td>IR1</td>\n",
       "      <td>Lvl</td>\n",
       "      <td>AllPub</td>\n",
       "      <td>...</td>\n",
       "      <td>0</td>\n",
       "      <td>NaN</td>\n",
       "      <td>NaN</td>\n",
       "      <td>NaN</td>\n",
       "      <td>0</td>\n",
       "      <td>12</td>\n",
       "      <td>2008</td>\n",
       "      <td>WD</td>\n",
       "      <td>Normal</td>\n",
       "      <td>250000</td>\n",
       "    </tr>\n",
       "  </tbody>\n",
       "</table>\n",
       "<p>5 rows × 81 columns</p>\n",
       "</div>"
      ],
      "text/plain": [
       "   Id  MSSubClass MSZoning  LotFrontage  LotArea Street Alley LotShape  \\\n",
       "0   1          60       RL         65.0     8450   Pave   NaN      Reg   \n",
       "1   2          20       RL         80.0     9600   Pave   NaN      Reg   \n",
       "2   3          60       RL         68.0    11250   Pave   NaN      IR1   \n",
       "3   4          70       RL         60.0     9550   Pave   NaN      IR1   \n",
       "4   5          60       RL         84.0    14260   Pave   NaN      IR1   \n",
       "\n",
       "  LandContour Utilities  ... PoolArea PoolQC Fence MiscFeature MiscVal MoSold  \\\n",
       "0         Lvl    AllPub  ...        0    NaN   NaN         NaN       0      2   \n",
       "1         Lvl    AllPub  ...        0    NaN   NaN         NaN       0      5   \n",
       "2         Lvl    AllPub  ...        0    NaN   NaN         NaN       0      9   \n",
       "3         Lvl    AllPub  ...        0    NaN   NaN         NaN       0      2   \n",
       "4         Lvl    AllPub  ...        0    NaN   NaN         NaN       0     12   \n",
       "\n",
       "  YrSold  SaleType  SaleCondition  SalePrice  \n",
       "0   2008        WD         Normal     208500  \n",
       "1   2007        WD         Normal     181500  \n",
       "2   2008        WD         Normal     223500  \n",
       "3   2006        WD        Abnorml     140000  \n",
       "4   2008        WD         Normal     250000  \n",
       "\n",
       "[5 rows x 81 columns]"
      ]
     },
     "execution_count": 14,
     "metadata": {},
     "output_type": "execute_result"
    }
   ],
   "source": [
    "train_data.head()"
   ]
  },
  {
   "cell_type": "code",
   "execution_count": 15,
   "id": "3721996e",
   "metadata": {},
   "outputs": [
    {
     "data": {
      "text/html": [
       "<div>\n",
       "<style scoped>\n",
       "    .dataframe tbody tr th:only-of-type {\n",
       "        vertical-align: middle;\n",
       "    }\n",
       "\n",
       "    .dataframe tbody tr th {\n",
       "        vertical-align: top;\n",
       "    }\n",
       "\n",
       "    .dataframe thead th {\n",
       "        text-align: right;\n",
       "    }\n",
       "</style>\n",
       "<table border=\"1\" class=\"dataframe\">\n",
       "  <thead>\n",
       "    <tr style=\"text-align: right;\">\n",
       "      <th></th>\n",
       "      <th>Id</th>\n",
       "      <th>MSSubClass</th>\n",
       "      <th>MSZoning</th>\n",
       "      <th>LotFrontage</th>\n",
       "      <th>LotArea</th>\n",
       "      <th>Street</th>\n",
       "      <th>Alley</th>\n",
       "      <th>LotShape</th>\n",
       "      <th>LandContour</th>\n",
       "      <th>Utilities</th>\n",
       "      <th>...</th>\n",
       "      <th>ScreenPorch</th>\n",
       "      <th>PoolArea</th>\n",
       "      <th>PoolQC</th>\n",
       "      <th>Fence</th>\n",
       "      <th>MiscFeature</th>\n",
       "      <th>MiscVal</th>\n",
       "      <th>MoSold</th>\n",
       "      <th>YrSold</th>\n",
       "      <th>SaleType</th>\n",
       "      <th>SaleCondition</th>\n",
       "    </tr>\n",
       "  </thead>\n",
       "  <tbody>\n",
       "    <tr>\n",
       "      <th>0</th>\n",
       "      <td>1461</td>\n",
       "      <td>20</td>\n",
       "      <td>RH</td>\n",
       "      <td>80.0</td>\n",
       "      <td>11622</td>\n",
       "      <td>Pave</td>\n",
       "      <td>NaN</td>\n",
       "      <td>Reg</td>\n",
       "      <td>Lvl</td>\n",
       "      <td>AllPub</td>\n",
       "      <td>...</td>\n",
       "      <td>120</td>\n",
       "      <td>0</td>\n",
       "      <td>NaN</td>\n",
       "      <td>MnPrv</td>\n",
       "      <td>NaN</td>\n",
       "      <td>0</td>\n",
       "      <td>6</td>\n",
       "      <td>2010</td>\n",
       "      <td>WD</td>\n",
       "      <td>Normal</td>\n",
       "    </tr>\n",
       "    <tr>\n",
       "      <th>1</th>\n",
       "      <td>1462</td>\n",
       "      <td>20</td>\n",
       "      <td>RL</td>\n",
       "      <td>81.0</td>\n",
       "      <td>14267</td>\n",
       "      <td>Pave</td>\n",
       "      <td>NaN</td>\n",
       "      <td>IR1</td>\n",
       "      <td>Lvl</td>\n",
       "      <td>AllPub</td>\n",
       "      <td>...</td>\n",
       "      <td>0</td>\n",
       "      <td>0</td>\n",
       "      <td>NaN</td>\n",
       "      <td>NaN</td>\n",
       "      <td>Gar2</td>\n",
       "      <td>12500</td>\n",
       "      <td>6</td>\n",
       "      <td>2010</td>\n",
       "      <td>WD</td>\n",
       "      <td>Normal</td>\n",
       "    </tr>\n",
       "    <tr>\n",
       "      <th>2</th>\n",
       "      <td>1463</td>\n",
       "      <td>60</td>\n",
       "      <td>RL</td>\n",
       "      <td>74.0</td>\n",
       "      <td>13830</td>\n",
       "      <td>Pave</td>\n",
       "      <td>NaN</td>\n",
       "      <td>IR1</td>\n",
       "      <td>Lvl</td>\n",
       "      <td>AllPub</td>\n",
       "      <td>...</td>\n",
       "      <td>0</td>\n",
       "      <td>0</td>\n",
       "      <td>NaN</td>\n",
       "      <td>MnPrv</td>\n",
       "      <td>NaN</td>\n",
       "      <td>0</td>\n",
       "      <td>3</td>\n",
       "      <td>2010</td>\n",
       "      <td>WD</td>\n",
       "      <td>Normal</td>\n",
       "    </tr>\n",
       "    <tr>\n",
       "      <th>3</th>\n",
       "      <td>1464</td>\n",
       "      <td>60</td>\n",
       "      <td>RL</td>\n",
       "      <td>78.0</td>\n",
       "      <td>9978</td>\n",
       "      <td>Pave</td>\n",
       "      <td>NaN</td>\n",
       "      <td>IR1</td>\n",
       "      <td>Lvl</td>\n",
       "      <td>AllPub</td>\n",
       "      <td>...</td>\n",
       "      <td>0</td>\n",
       "      <td>0</td>\n",
       "      <td>NaN</td>\n",
       "      <td>NaN</td>\n",
       "      <td>NaN</td>\n",
       "      <td>0</td>\n",
       "      <td>6</td>\n",
       "      <td>2010</td>\n",
       "      <td>WD</td>\n",
       "      <td>Normal</td>\n",
       "    </tr>\n",
       "    <tr>\n",
       "      <th>4</th>\n",
       "      <td>1465</td>\n",
       "      <td>120</td>\n",
       "      <td>RL</td>\n",
       "      <td>43.0</td>\n",
       "      <td>5005</td>\n",
       "      <td>Pave</td>\n",
       "      <td>NaN</td>\n",
       "      <td>IR1</td>\n",
       "      <td>HLS</td>\n",
       "      <td>AllPub</td>\n",
       "      <td>...</td>\n",
       "      <td>144</td>\n",
       "      <td>0</td>\n",
       "      <td>NaN</td>\n",
       "      <td>NaN</td>\n",
       "      <td>NaN</td>\n",
       "      <td>0</td>\n",
       "      <td>1</td>\n",
       "      <td>2010</td>\n",
       "      <td>WD</td>\n",
       "      <td>Normal</td>\n",
       "    </tr>\n",
       "  </tbody>\n",
       "</table>\n",
       "<p>5 rows × 80 columns</p>\n",
       "</div>"
      ],
      "text/plain": [
       "     Id  MSSubClass MSZoning  LotFrontage  LotArea Street Alley LotShape  \\\n",
       "0  1461          20       RH         80.0    11622   Pave   NaN      Reg   \n",
       "1  1462          20       RL         81.0    14267   Pave   NaN      IR1   \n",
       "2  1463          60       RL         74.0    13830   Pave   NaN      IR1   \n",
       "3  1464          60       RL         78.0     9978   Pave   NaN      IR1   \n",
       "4  1465         120       RL         43.0     5005   Pave   NaN      IR1   \n",
       "\n",
       "  LandContour Utilities  ... ScreenPorch PoolArea PoolQC  Fence MiscFeature  \\\n",
       "0         Lvl    AllPub  ...         120        0    NaN  MnPrv         NaN   \n",
       "1         Lvl    AllPub  ...           0        0    NaN    NaN        Gar2   \n",
       "2         Lvl    AllPub  ...           0        0    NaN  MnPrv         NaN   \n",
       "3         Lvl    AllPub  ...           0        0    NaN    NaN         NaN   \n",
       "4         HLS    AllPub  ...         144        0    NaN    NaN         NaN   \n",
       "\n",
       "  MiscVal MoSold  YrSold  SaleType  SaleCondition  \n",
       "0       0      6    2010        WD         Normal  \n",
       "1   12500      6    2010        WD         Normal  \n",
       "2       0      3    2010        WD         Normal  \n",
       "3       0      6    2010        WD         Normal  \n",
       "4       0      1    2010        WD         Normal  \n",
       "\n",
       "[5 rows x 80 columns]"
      ]
     },
     "execution_count": 15,
     "metadata": {},
     "output_type": "execute_result"
    }
   ],
   "source": [
    "test_data.head(5)"
   ]
  },
  {
   "cell_type": "code",
   "execution_count": 16,
   "id": "4f653e4e",
   "metadata": {
    "scrolled": true
   },
   "outputs": [
    {
     "data": {
      "text/plain": [
       "36"
      ]
     },
     "execution_count": 16,
     "metadata": {},
     "output_type": "execute_result"
    }
   ],
   "source": [
    "import numpy as np\n",
    "good_columns = [i for i, j in zip(train_data.columns, train_data.dtypes) if j in [np.int64, np.float64] and (not i in ['Id', 'SalePrice'])]\n",
    "len(good_columns)"
   ]
  },
  {
   "cell_type": "code",
   "execution_count": 105,
   "id": "0aa45ce2",
   "metadata": {},
   "outputs": [],
   "source": [
    "from sklearn.linear_model import LinearRegression, Ridge\n",
    "from sklearn.metrics import mean_squared_error as mse\n",
    "from sklearn.metrics import r2_score\n",
    "\n",
    "from sklearn.preprocessing import PolynomialFeatures\n",
    "\n",
    "x_train = train_data[good_columns].fillna(0).values\n",
    "x_test = test_data[good_columns].fillna(0).values\n",
    "\n",
    "# pf = PolynomialFeatures(degree=3).fit(x_train)\n",
    "# x_train = pf.transform(x_train)\n",
    "# x_test = pf.transform(x_test)\n",
    "\n",
    "# def sigma(x):\n",
    "#     return 1 / (1 + np.exp(-x))\n",
    "\n",
    "x_train = np.append(x_train, np.log(x_train[:, :10] + 1), axis=1)\n",
    "x_test = np.append(x_test, np.log(x_test[:, :10] + 1), axis=1)"
   ]
  },
  {
   "cell_type": "code",
   "execution_count": 106,
   "id": "cfbcb020",
   "metadata": {},
   "outputs": [
    {
     "data": {
      "text/plain": [
       "((1460, 46), (1459, 46))"
      ]
     },
     "execution_count": 106,
     "metadata": {},
     "output_type": "execute_result"
    }
   ],
   "source": [
    "x_train.shape, x_test.shape"
   ]
  },
  {
   "cell_type": "code",
   "execution_count": 107,
   "id": "e785ac10",
   "metadata": {},
   "outputs": [],
   "source": [
    "# x + x^2 + x^3"
   ]
  },
  {
   "cell_type": "code",
   "execution_count": 108,
   "id": "36484bd5",
   "metadata": {},
   "outputs": [],
   "source": [
    "from sklearn.model_selection import train_test_split"
   ]
  },
  {
   "cell_type": "code",
   "execution_count": null,
   "id": "16530f83",
   "metadata": {},
   "outputs": [],
   "source": []
  },
  {
   "cell_type": "code",
   "execution_count": 109,
   "id": "e74e8faf",
   "metadata": {
    "scrolled": true
   },
   "outputs": [
    {
     "data": {
      "text/plain": [
       "(0.13782113452051167, 0.8808757191820812)"
      ]
     },
     "execution_count": 109,
     "metadata": {},
     "output_type": "execute_result"
    }
   ],
   "source": [
    "reg = LinearRegression().fit(x_train, y_train)\n",
    "\n",
    "y_train_pred = reg.predict(x_train)\n",
    "y_test_pred = reg.predict(x_test)\n",
    "\n",
    "\n",
    "mse(y_train, y_train_pred) ** 0.5, r2_score(y_train, y_train_pred)"
   ]
  },
  {
   "cell_type": "code",
   "execution_count": 110,
   "id": "872bbba6",
   "metadata": {},
   "outputs": [
    {
     "data": {
      "text/plain": [
       "(1460, 46)"
      ]
     },
     "execution_count": 110,
     "metadata": {},
     "output_type": "execute_result"
    }
   ],
   "source": [
    "x_train.shape"
   ]
  },
  {
   "cell_type": "code",
   "execution_count": 111,
   "id": "2d87b875",
   "metadata": {},
   "outputs": [],
   "source": [
    "res = pd.DataFrame()\n",
    "res['Id'] = test_data['Id']\n",
    "res['SalePrice'] = np.exp(y_test_pred)\n",
    "res.to_csv('naive.csv', index=False)"
   ]
  },
  {
   "cell_type": "markdown",
   "id": "477260c8",
   "metadata": {},
   "source": [
    "# Train-test-validation"
   ]
  },
  {
   "cell_type": "code",
   "execution_count": 112,
   "id": "9b8fc57c",
   "metadata": {},
   "outputs": [],
   "source": [
    "from sklearn.model_selection import train_test_split\n",
    "x_tr, x_val, y_tr, y_val = train_test_split(x_train, y_train, test_size=0.3)"
   ]
  },
  {
   "cell_type": "code",
   "execution_count": 113,
   "id": "002c79cf",
   "metadata": {
    "scrolled": true
   },
   "outputs": [
    {
     "data": {
      "text/plain": [
       "(0.12727167264697672, 0.8932464983879482)"
      ]
     },
     "execution_count": 113,
     "metadata": {},
     "output_type": "execute_result"
    }
   ],
   "source": [
    "reg = Ridge(alpha=0.05).fit(x_tr, y_tr)\n",
    "y_train_pred = reg.predict(x_tr)\n",
    "mse(y_tr, y_train_pred) ** 0.5, r2_score(y_tr, y_train_pred)"
   ]
  },
  {
   "cell_type": "code",
   "execution_count": 115,
   "id": "9ccfaf37",
   "metadata": {},
   "outputs": [
    {
     "data": {
      "text/plain": [
       "(0.1834107356978661, 0.8103408047644662)"
      ]
     },
     "execution_count": 115,
     "metadata": {},
     "output_type": "execute_result"
    }
   ],
   "source": [
    "y_val_pred = reg.predict(x_val)\n",
    "mse(y_val, y_val_pred) ** 0.5, r2_score(y_val, y_val_pred)"
   ]
  },
  {
   "cell_type": "code",
   "execution_count": 116,
   "id": "5ad3e337",
   "metadata": {},
   "outputs": [],
   "source": [
    "y_test_pred = reg.predict(x_test)\n",
    "\n",
    "res = pd.DataFrame()\n",
    "res['Id'] = test_data['Id']\n",
    "res['SalePrice'] = np.exp(y_test_pred)\n",
    "res.to_csv('train_test_split_ridge.csv', index=False)"
   ]
  },
  {
   "cell_type": "markdown",
   "id": "726d38f4",
   "metadata": {},
   "source": [
    "# cross validation"
   ]
  },
  {
   "cell_type": "code",
   "execution_count": 118,
   "id": "6c628bc5",
   "metadata": {
    "scrolled": true
   },
   "outputs": [],
   "source": [
    "from sklearn.model_selection import KFold\n",
    "\n",
    "data = []\n",
    "models = []\n",
    "test_predicts = []\n",
    "train_predicts = []\n",
    "\n",
    "\n",
    "cv = KFold(n_splits=6)\n",
    "k = 0\n",
    "for tr_i, val_i in cv.split(x_train):\n",
    "    x_tr = x_train[tr_i]\n",
    "    x_val = x_train[val_i]\n",
    "    \n",
    "    y_tr = y_train[tr_i]\n",
    "    y_val = y_train[val_i]   \n",
    "    \n",
    "    reg = LinearRegression().fit(x_tr, y_tr)\n",
    "    y_train_pred = reg.predict(x_tr)\n",
    "    y_val_pred = reg.predict(x_val)\n",
    "    \n",
    "    mse_tr = mse(y_tr, y_train_pred) ** 0.5\n",
    "    mse_val = mse(y_val, y_val_pred) ** 0.5    \n",
    "    \n",
    "    data.append({'mse_tr': mse_tr, 'mse_val': mse_val, 'fold': k})\n",
    "    models.append(reg)\n",
    "    \n",
    "    train_predicts.append(reg.predict(x_train))\n",
    "    test_predicts.append(reg.predict(x_test))\n",
    "    \n",
    "    k += 1"
   ]
  },
  {
   "cell_type": "code",
   "execution_count": 120,
   "id": "b13dc0f4",
   "metadata": {},
   "outputs": [
    {
     "data": {
      "text/plain": [
       "mse_tr     0.136233\n",
       "mse_val    0.157714\n",
       "fold       2.500000\n",
       "dtype: float64"
      ]
     },
     "execution_count": 120,
     "metadata": {},
     "output_type": "execute_result"
    }
   ],
   "source": [
    "import pandas as pd\n",
    "qualities = pd.DataFrame(data)\n",
    "qualities.mean()"
   ]
  },
  {
   "cell_type": "code",
   "execution_count": 121,
   "id": "e7b6fbfe",
   "metadata": {},
   "outputs": [
    {
     "data": {
      "text/html": [
       "<div>\n",
       "<style scoped>\n",
       "    .dataframe tbody tr th:only-of-type {\n",
       "        vertical-align: middle;\n",
       "    }\n",
       "\n",
       "    .dataframe tbody tr th {\n",
       "        vertical-align: top;\n",
       "    }\n",
       "\n",
       "    .dataframe thead th {\n",
       "        text-align: right;\n",
       "    }\n",
       "</style>\n",
       "<table border=\"1\" class=\"dataframe\">\n",
       "  <thead>\n",
       "    <tr style=\"text-align: right;\">\n",
       "      <th></th>\n",
       "      <th>mse_tr</th>\n",
       "      <th>mse_val</th>\n",
       "      <th>fold</th>\n",
       "    </tr>\n",
       "  </thead>\n",
       "  <tbody>\n",
       "    <tr>\n",
       "      <th>0</th>\n",
       "      <td>0.139995</td>\n",
       "      <td>0.128900</td>\n",
       "      <td>0</td>\n",
       "    </tr>\n",
       "    <tr>\n",
       "      <th>1</th>\n",
       "      <td>0.138663</td>\n",
       "      <td>0.171271</td>\n",
       "      <td>1</td>\n",
       "    </tr>\n",
       "    <tr>\n",
       "      <th>2</th>\n",
       "      <td>0.130308</td>\n",
       "      <td>0.175721</td>\n",
       "      <td>2</td>\n",
       "    </tr>\n",
       "    <tr>\n",
       "      <th>3</th>\n",
       "      <td>0.138571</td>\n",
       "      <td>0.138243</td>\n",
       "      <td>3</td>\n",
       "    </tr>\n",
       "    <tr>\n",
       "      <th>4</th>\n",
       "      <td>0.141028</td>\n",
       "      <td>0.125260</td>\n",
       "      <td>4</td>\n",
       "    </tr>\n",
       "    <tr>\n",
       "      <th>5</th>\n",
       "      <td>0.128834</td>\n",
       "      <td>0.206887</td>\n",
       "      <td>5</td>\n",
       "    </tr>\n",
       "  </tbody>\n",
       "</table>\n",
       "</div>"
      ],
      "text/plain": [
       "     mse_tr   mse_val  fold\n",
       "0  0.139995  0.128900     0\n",
       "1  0.138663  0.171271     1\n",
       "2  0.130308  0.175721     2\n",
       "3  0.138571  0.138243     3\n",
       "4  0.141028  0.125260     4\n",
       "5  0.128834  0.206887     5"
      ]
     },
     "execution_count": 121,
     "metadata": {},
     "output_type": "execute_result"
    }
   ],
   "source": [
    "qualities"
   ]
  },
  {
   "cell_type": "code",
   "execution_count": 122,
   "id": "87c02532",
   "metadata": {},
   "outputs": [
    {
     "data": {
      "text/plain": [
       "0.13796185900941957"
      ]
     },
     "execution_count": 122,
     "metadata": {},
     "output_type": "execute_result"
    }
   ],
   "source": [
    "mse_tr = mse(y_train, np.array(train_predicts).mean(axis=0)) ** 0.5\n",
    "mse_tr"
   ]
  },
  {
   "cell_type": "code",
   "execution_count": 123,
   "id": "38f6db99",
   "metadata": {},
   "outputs": [
    {
     "data": {
      "text/plain": [
       "(6, 1460)"
      ]
     },
     "execution_count": 123,
     "metadata": {},
     "output_type": "execute_result"
    }
   ],
   "source": [
    "np.array(train_predicts).shape"
   ]
  },
  {
   "cell_type": "code",
   "execution_count": 124,
   "id": "88995429",
   "metadata": {},
   "outputs": [],
   "source": [
    "y_test_pred = np.array(test_predicts).mean(axis=0)\n",
    "\n",
    "res = pd.DataFrame()\n",
    "res['Id'] = test_data['Id']\n",
    "res['SalePrice'] = np.exp(y_test_pred)\n",
    "res.to_csv('kfold_6.csv', index=False)"
   ]
  },
  {
   "cell_type": "markdown",
   "id": "48c3efeb",
   "metadata": {},
   "source": [
    "# Bootstrap (nonparametric)"
   ]
  },
  {
   "cell_type": "code",
   "execution_count": 125,
   "id": "1d99c3a2",
   "metadata": {},
   "outputs": [],
   "source": [
    "from sklearn.model_selection import KFold\n",
    "\n",
    "data = []\n",
    "models = []\n",
    "test_predicts = []\n",
    "train_predicts = []\n",
    "\n",
    "N = 30\n",
    "for k in range(N):\n",
    "    x_tr, x_val, y_tr, y_val = train_test_split(x_train, y_train, test_size=0.2)\n",
    "    \n",
    "    reg = LinearRegression().fit(x_tr, y_tr)\n",
    "    y_train_pred = reg.predict(x_tr)\n",
    "    y_val_pred = reg.predict(x_val)\n",
    "    \n",
    "    mse_tr = mse(y_tr, y_train_pred) ** 0.5\n",
    "    mse_val = mse(y_val, y_val_pred) ** 0.5    \n",
    "    \n",
    "    data.append({'mse_tr': mse_tr, 'mse_val': mse_val, 'fold': k})\n",
    "    models.append(reg)\n",
    "    \n",
    "    train_predicts.append(reg.predict(x_train))\n",
    "    test_predicts.append(reg.predict(x_test))"
   ]
  },
  {
   "cell_type": "code",
   "execution_count": 126,
   "id": "96aec496",
   "metadata": {},
   "outputs": [
    {
     "data": {
      "text/plain": [
       "mse_tr      0.136915\n",
       "mse_val     0.147799\n",
       "fold       14.500000\n",
       "dtype: float64"
      ]
     },
     "execution_count": 126,
     "metadata": {},
     "output_type": "execute_result"
    }
   ],
   "source": [
    "qualities = pd.DataFrame(data)\n",
    "qualities.mean()"
   ]
  },
  {
   "cell_type": "code",
   "execution_count": 69,
   "id": "57aeca37",
   "metadata": {},
   "outputs": [],
   "source": [
    "y_test = np.array(test_predicts).mean(axis=0)#reg.predict(x_test)"
   ]
  },
  {
   "cell_type": "code",
   "execution_count": 70,
   "id": "679940ff",
   "metadata": {},
   "outputs": [],
   "source": [
    "res = pd.DataFrame()\n",
    "res['Id'] = test_data['Id']\n",
    "res['SalePrice'] = np.exp(y_test)\n",
    "res.to_csv('ensamble.csv', index=False)"
   ]
  },
  {
   "cell_type": "markdown",
   "id": "75cd638f",
   "metadata": {},
   "source": [
    "# Feature selector"
   ]
  },
  {
   "cell_type": "code",
   "execution_count": 129,
   "id": "18507c63",
   "metadata": {},
   "outputs": [
    {
     "data": {
      "text/plain": [
       "46"
      ]
     },
     "execution_count": 129,
     "metadata": {},
     "output_type": "execute_result"
    }
   ],
   "source": [
    "x_train.shape[1]"
   ]
  },
  {
   "cell_type": "code",
   "execution_count": 132,
   "id": "fd600123",
   "metadata": {
    "scrolled": true
   },
   "outputs": [],
   "source": [
    "from sklearn.model_selection import KFold\n",
    "\n",
    "x_tr_, x_val_, y_tr, y_val = train_test_split(x_train, y_train, test_size=0.3)\n",
    "\n",
    "data = []\n",
    "\n",
    "reg = LinearRegression().fit(x_tr_, y_tr)\n",
    "y_val_all_pred = reg.predict(x_val_)\n",
    "y_tr_all_pred = reg.predict(x_tr_)\n",
    "\n",
    "mse_val_all = mse(y_val, y_val_all_pred) ** 0.5\n",
    "mse_tr_all = mse(y_tr, y_tr_all_pred) ** 0.5\n",
    "\n",
    "for i in range(x_train.shape[1]):\n",
    "    x_tr = np.delete(x_tr_, i, axis=1)\n",
    "    x_val = np.delete(x_val_, i, axis=1)\n",
    "    \n",
    "    reg = LinearRegression().fit(x_tr, y_tr)\n",
    "    y_tr_pred = reg.predict(x_tr)\n",
    "    y_val_pred = reg.predict(x_val)\n",
    "    \n",
    "    \n",
    "    mse_val = mse(y_val, y_val_pred) ** 0.5\n",
    "    mse_tr = mse(y_tr, y_tr_pred) ** 0.5\n",
    "\n",
    "    data.append({'mse_val': mse_val, 'mse_tr': mse_tr, 'feature': i})"
   ]
  },
  {
   "cell_type": "code",
   "execution_count": 134,
   "id": "2e14d7a4",
   "metadata": {
    "scrolled": true
   },
   "outputs": [
    {
     "data": {
      "text/html": [
       "<div>\n",
       "<style scoped>\n",
       "    .dataframe tbody tr th:only-of-type {\n",
       "        vertical-align: middle;\n",
       "    }\n",
       "\n",
       "    .dataframe tbody tr th {\n",
       "        vertical-align: top;\n",
       "    }\n",
       "\n",
       "    .dataframe thead th {\n",
       "        text-align: right;\n",
       "    }\n",
       "</style>\n",
       "<table border=\"1\" class=\"dataframe\">\n",
       "  <thead>\n",
       "    <tr style=\"text-align: right;\">\n",
       "      <th></th>\n",
       "      <th>mse_val</th>\n",
       "      <th>mse_tr</th>\n",
       "      <th>feature</th>\n",
       "    </tr>\n",
       "  </thead>\n",
       "  <tbody>\n",
       "    <tr>\n",
       "      <th>0</th>\n",
       "      <td>0.198766</td>\n",
       "      <td>0.121524</td>\n",
       "      <td>0</td>\n",
       "    </tr>\n",
       "    <tr>\n",
       "      <th>1</th>\n",
       "      <td>0.197552</td>\n",
       "      <td>0.121520</td>\n",
       "      <td>1</td>\n",
       "    </tr>\n",
       "    <tr>\n",
       "      <th>2</th>\n",
       "      <td>0.198998</td>\n",
       "      <td>0.121579</td>\n",
       "      <td>2</td>\n",
       "    </tr>\n",
       "    <tr>\n",
       "      <th>3</th>\n",
       "      <td>0.201417</td>\n",
       "      <td>0.122081</td>\n",
       "      <td>3</td>\n",
       "    </tr>\n",
       "    <tr>\n",
       "      <th>4</th>\n",
       "      <td>0.199119</td>\n",
       "      <td>0.121477</td>\n",
       "      <td>4</td>\n",
       "    </tr>\n",
       "    <tr>\n",
       "      <th>5</th>\n",
       "      <td>0.199024</td>\n",
       "      <td>0.121894</td>\n",
       "      <td>5</td>\n",
       "    </tr>\n",
       "    <tr>\n",
       "      <th>6</th>\n",
       "      <td>0.198097</td>\n",
       "      <td>0.122148</td>\n",
       "      <td>6</td>\n",
       "    </tr>\n",
       "    <tr>\n",
       "      <th>7</th>\n",
       "      <td>0.198739</td>\n",
       "      <td>0.121791</td>\n",
       "      <td>7</td>\n",
       "    </tr>\n",
       "    <tr>\n",
       "      <th>8</th>\n",
       "      <td>0.199168</td>\n",
       "      <td>0.121472</td>\n",
       "      <td>8</td>\n",
       "    </tr>\n",
       "    <tr>\n",
       "      <th>9</th>\n",
       "      <td>0.199168</td>\n",
       "      <td>0.121472</td>\n",
       "      <td>9</td>\n",
       "    </tr>\n",
       "    <tr>\n",
       "      <th>10</th>\n",
       "      <td>0.199168</td>\n",
       "      <td>0.121472</td>\n",
       "      <td>10</td>\n",
       "    </tr>\n",
       "    <tr>\n",
       "      <th>11</th>\n",
       "      <td>0.199168</td>\n",
       "      <td>0.121472</td>\n",
       "      <td>11</td>\n",
       "    </tr>\n",
       "    <tr>\n",
       "      <th>12</th>\n",
       "      <td>0.199168</td>\n",
       "      <td>0.121472</td>\n",
       "      <td>12</td>\n",
       "    </tr>\n",
       "    <tr>\n",
       "      <th>13</th>\n",
       "      <td>0.199168</td>\n",
       "      <td>0.121472</td>\n",
       "      <td>13</td>\n",
       "    </tr>\n",
       "    <tr>\n",
       "      <th>14</th>\n",
       "      <td>0.199168</td>\n",
       "      <td>0.121472</td>\n",
       "      <td>14</td>\n",
       "    </tr>\n",
       "    <tr>\n",
       "      <th>15</th>\n",
       "      <td>0.199168</td>\n",
       "      <td>0.121472</td>\n",
       "      <td>15</td>\n",
       "    </tr>\n",
       "    <tr>\n",
       "      <th>16</th>\n",
       "      <td>0.201246</td>\n",
       "      <td>0.121638</td>\n",
       "      <td>16</td>\n",
       "    </tr>\n",
       "    <tr>\n",
       "      <th>17</th>\n",
       "      <td>0.198842</td>\n",
       "      <td>0.121488</td>\n",
       "      <td>17</td>\n",
       "    </tr>\n",
       "    <tr>\n",
       "      <th>18</th>\n",
       "      <td>0.200678</td>\n",
       "      <td>0.121711</td>\n",
       "      <td>18</td>\n",
       "    </tr>\n",
       "    <tr>\n",
       "      <th>19</th>\n",
       "      <td>0.199589</td>\n",
       "      <td>0.121881</td>\n",
       "      <td>19</td>\n",
       "    </tr>\n",
       "    <tr>\n",
       "      <th>20</th>\n",
       "      <td>0.199146</td>\n",
       "      <td>0.121490</td>\n",
       "      <td>20</td>\n",
       "    </tr>\n",
       "    <tr>\n",
       "      <th>21</th>\n",
       "      <td>0.197766</td>\n",
       "      <td>0.122417</td>\n",
       "      <td>21</td>\n",
       "    </tr>\n",
       "    <tr>\n",
       "      <th>22</th>\n",
       "      <td>0.199469</td>\n",
       "      <td>0.121551</td>\n",
       "      <td>22</td>\n",
       "    </tr>\n",
       "    <tr>\n",
       "      <th>23</th>\n",
       "      <td>0.202331</td>\n",
       "      <td>0.122905</td>\n",
       "      <td>23</td>\n",
       "    </tr>\n",
       "    <tr>\n",
       "      <th>24</th>\n",
       "      <td>0.198283</td>\n",
       "      <td>0.121700</td>\n",
       "      <td>24</td>\n",
       "    </tr>\n",
       "    <tr>\n",
       "      <th>25</th>\n",
       "      <td>0.201617</td>\n",
       "      <td>0.121711</td>\n",
       "      <td>25</td>\n",
       "    </tr>\n",
       "    <tr>\n",
       "      <th>26</th>\n",
       "      <td>0.198598</td>\n",
       "      <td>0.121566</td>\n",
       "      <td>26</td>\n",
       "    </tr>\n",
       "    <tr>\n",
       "      <th>27</th>\n",
       "      <td>0.200291</td>\n",
       "      <td>0.121928</td>\n",
       "      <td>27</td>\n",
       "    </tr>\n",
       "    <tr>\n",
       "      <th>28</th>\n",
       "      <td>0.199554</td>\n",
       "      <td>0.121511</td>\n",
       "      <td>28</td>\n",
       "    </tr>\n",
       "    <tr>\n",
       "      <th>29</th>\n",
       "      <td>0.199509</td>\n",
       "      <td>0.121503</td>\n",
       "      <td>29</td>\n",
       "    </tr>\n",
       "    <tr>\n",
       "      <th>30</th>\n",
       "      <td>0.199234</td>\n",
       "      <td>0.121492</td>\n",
       "      <td>30</td>\n",
       "    </tr>\n",
       "    <tr>\n",
       "      <th>31</th>\n",
       "      <td>0.199993</td>\n",
       "      <td>0.122577</td>\n",
       "      <td>31</td>\n",
       "    </tr>\n",
       "    <tr>\n",
       "      <th>32</th>\n",
       "      <td>0.198709</td>\n",
       "      <td>0.121489</td>\n",
       "      <td>32</td>\n",
       "    </tr>\n",
       "    <tr>\n",
       "      <th>33</th>\n",
       "      <td>0.199169</td>\n",
       "      <td>0.121512</td>\n",
       "      <td>33</td>\n",
       "    </tr>\n",
       "    <tr>\n",
       "      <th>34</th>\n",
       "      <td>0.199258</td>\n",
       "      <td>0.121484</td>\n",
       "      <td>34</td>\n",
       "    </tr>\n",
       "    <tr>\n",
       "      <th>35</th>\n",
       "      <td>0.199561</td>\n",
       "      <td>0.121613</td>\n",
       "      <td>35</td>\n",
       "    </tr>\n",
       "    <tr>\n",
       "      <th>36</th>\n",
       "      <td>0.198398</td>\n",
       "      <td>0.121532</td>\n",
       "      <td>36</td>\n",
       "    </tr>\n",
       "    <tr>\n",
       "      <th>37</th>\n",
       "      <td>0.197734</td>\n",
       "      <td>0.121523</td>\n",
       "      <td>37</td>\n",
       "    </tr>\n",
       "    <tr>\n",
       "      <th>38</th>\n",
       "      <td>0.205706</td>\n",
       "      <td>0.123377</td>\n",
       "      <td>38</td>\n",
       "    </tr>\n",
       "    <tr>\n",
       "      <th>39</th>\n",
       "      <td>0.199193</td>\n",
       "      <td>0.121472</td>\n",
       "      <td>39</td>\n",
       "    </tr>\n",
       "    <tr>\n",
       "      <th>40</th>\n",
       "      <td>0.199494</td>\n",
       "      <td>0.121732</td>\n",
       "      <td>40</td>\n",
       "    </tr>\n",
       "    <tr>\n",
       "      <th>41</th>\n",
       "      <td>0.199031</td>\n",
       "      <td>0.121855</td>\n",
       "      <td>41</td>\n",
       "    </tr>\n",
       "    <tr>\n",
       "      <th>42</th>\n",
       "      <td>0.198100</td>\n",
       "      <td>0.122141</td>\n",
       "      <td>42</td>\n",
       "    </tr>\n",
       "    <tr>\n",
       "      <th>43</th>\n",
       "      <td>0.198400</td>\n",
       "      <td>0.121885</td>\n",
       "      <td>43</td>\n",
       "    </tr>\n",
       "    <tr>\n",
       "      <th>44</th>\n",
       "      <td>0.202764</td>\n",
       "      <td>0.121616</td>\n",
       "      <td>44</td>\n",
       "    </tr>\n",
       "    <tr>\n",
       "      <th>45</th>\n",
       "      <td>0.199772</td>\n",
       "      <td>0.121610</td>\n",
       "      <td>45</td>\n",
       "    </tr>\n",
       "  </tbody>\n",
       "</table>\n",
       "</div>"
      ],
      "text/plain": [
       "     mse_val    mse_tr  feature\n",
       "0   0.198766  0.121524        0\n",
       "1   0.197552  0.121520        1\n",
       "2   0.198998  0.121579        2\n",
       "3   0.201417  0.122081        3\n",
       "4   0.199119  0.121477        4\n",
       "5   0.199024  0.121894        5\n",
       "6   0.198097  0.122148        6\n",
       "7   0.198739  0.121791        7\n",
       "8   0.199168  0.121472        8\n",
       "9   0.199168  0.121472        9\n",
       "10  0.199168  0.121472       10\n",
       "11  0.199168  0.121472       11\n",
       "12  0.199168  0.121472       12\n",
       "13  0.199168  0.121472       13\n",
       "14  0.199168  0.121472       14\n",
       "15  0.199168  0.121472       15\n",
       "16  0.201246  0.121638       16\n",
       "17  0.198842  0.121488       17\n",
       "18  0.200678  0.121711       18\n",
       "19  0.199589  0.121881       19\n",
       "20  0.199146  0.121490       20\n",
       "21  0.197766  0.122417       21\n",
       "22  0.199469  0.121551       22\n",
       "23  0.202331  0.122905       23\n",
       "24  0.198283  0.121700       24\n",
       "25  0.201617  0.121711       25\n",
       "26  0.198598  0.121566       26\n",
       "27  0.200291  0.121928       27\n",
       "28  0.199554  0.121511       28\n",
       "29  0.199509  0.121503       29\n",
       "30  0.199234  0.121492       30\n",
       "31  0.199993  0.122577       31\n",
       "32  0.198709  0.121489       32\n",
       "33  0.199169  0.121512       33\n",
       "34  0.199258  0.121484       34\n",
       "35  0.199561  0.121613       35\n",
       "36  0.198398  0.121532       36\n",
       "37  0.197734  0.121523       37\n",
       "38  0.205706  0.123377       38\n",
       "39  0.199193  0.121472       39\n",
       "40  0.199494  0.121732       40\n",
       "41  0.199031  0.121855       41\n",
       "42  0.198100  0.122141       42\n",
       "43  0.198400  0.121885       43\n",
       "44  0.202764  0.121616       44\n",
       "45  0.199772  0.121610       45"
      ]
     },
     "execution_count": 134,
     "metadata": {},
     "output_type": "execute_result"
    }
   ],
   "source": [
    "res = pd.DataFrame(data)\n",
    "res"
   ]
  },
  {
   "cell_type": "code",
   "execution_count": 139,
   "id": "e5096405",
   "metadata": {},
   "outputs": [
    {
     "data": {
      "image/png": "[encoded data removed]",
      "text/plain": [
       "<Figure size 432x288 with 1 Axes>"
      ]
     },
     "metadata": {
      "needs_background": "light"
     },
     "output_type": "display_data"
    }
   ],
   "source": [
    "from matplotlib import pyplot as plt\n",
    "plt.plot(res['mse_val'] / mse_val_all)\n",
    "plt.plot(res['mse_tr'] / mse_tr_all)\n",
    "plt.legend(['val', 'tr'])\n",
    "plt.grid()"
   ]
  },
  {
   "cell_type": "code",
   "execution_count": 145,
   "id": "f79f6ba5",
   "metadata": {},
   "outputs": [
    {
     "data": {
      "image/png": "[encoded data removed]",
      "text/plain": [
       "<Figure size 432x288 with 1 Axes>"
      ]
     },
     "metadata": {
      "needs_background": "light"
     },
     "output_type": "display_data"
    }
   ],
   "source": [
    "from matplotlib import pyplot as plt\n",
    "plt.plot((res['mse_val'] / mse_val_all).values[-10:])\n",
    "plt.plot((res['mse_tr'] / mse_tr_all).values[-10:])\n",
    "plt.legend(['val', 'tr'])\n",
    "plt.grid()"
   ]
  },
  {
   "cell_type": "code",
   "execution_count": 162,
   "id": "07a72895",
   "metadata": {},
   "outputs": [],
   "source": []
  },
  {
   "cell_type": "code",
   "execution_count": 202,
   "id": "877f76ac",
   "metadata": {},
   "outputs": [
    {
     "name": "stderr",
     "output_type": "stream",
     "text": [
      "100%|████████████████████████████████████| 2000/2000 [00:21<00:00, 93.84it/s]\n"
     ]
    }
   ],
   "source": [
    "from tqdm import tqdm\n",
    "data = []\n",
    "for i in tqdm(range(2000)):\n",
    "    x_tr, x_val, y_tr, y_val = train_test_split(x_train, y_train, test_size=0.3)\n",
    "\n",
    "    reg = LinearRegression().fit(x_tr, y_tr)\n",
    "    y_train_pred = reg.predict(x_tr)\n",
    "    y_val_pred = reg.predict(x_val)\n",
    "\n",
    "    data.append({'mse_tr': mse(y_tr, y_train_pred) ** 0.5, \n",
    "                 'mse_val': mse(y_val, y_val_pred) ** 0.5})"
   ]
  },
  {
   "cell_type": "code",
   "execution_count": 203,
   "id": "882a213e",
   "metadata": {},
   "outputs": [
    {
     "data": {
      "text/plain": [
       "mse_tr     0.134796\n",
       "mse_val    0.155501\n",
       "dtype: float64"
      ]
     },
     "execution_count": 203,
     "metadata": {},
     "output_type": "execute_result"
    }
   ],
   "source": [
    "pd.DataFrame(data).mean()"
   ]
  },
  {
   "cell_type": "code",
   "execution_count": 204,
   "id": "1654bdc6",
   "metadata": {},
   "outputs": [
    {
     "name": "stdout",
     "output_type": "stream",
     "text": [
      "1\n"
     ]
    },
    {
     "data": {
      "text/plain": [
       "(1460, 45)"
      ]
     },
     "execution_count": 204,
     "metadata": {},
     "output_type": "execute_result"
    }
   ],
   "source": [
    "print((res['mse_val'] / mse_val_all).argmin())\n",
    "worst = (res['mse_val'] / mse_val_all).argmin()\n",
    "\n",
    "x_train_small = np.delete(x_train, worst, axis=1)\n",
    "x_tset_small = np.delete(x_test, worst, axis=1)\n",
    "\n",
    "\n",
    "# x_train_small = x_train[:,(res['mse_val'] / mse_val_all) > 0.99995]\n",
    "# x_test_small = x_test[:,(res['mse_val'] / mse_val_all) > 0.99995]\n",
    "\n",
    "x_train_small.shape"
   ]
  },
  {
   "cell_type": "code",
   "execution_count": 205,
   "id": "eec1fc0e",
   "metadata": {},
   "outputs": [
    {
     "name": "stderr",
     "output_type": "stream",
     "text": [
      "100%|████████████████████████████████████| 2000/2000 [00:20<00:00, 97.06it/s]\n"
     ]
    }
   ],
   "source": [
    "from tqdm import tqdm\n",
    "data = []\n",
    "for i in tqdm(range(2000)):\n",
    "    x_tr, x_val, y_tr, y_val = train_test_split(x_train_small, y_train, test_size=0.3)\n",
    "\n",
    "    reg = LinearRegression().fit(x_tr, y_tr)\n",
    "    y_train_pred = reg.predict(x_tr)\n",
    "    y_val_pred = reg.predict(x_val)\n",
    "\n",
    "    data.append({'mse_tr': mse(y_tr, y_train_pred) ** 0.5, \n",
    "                 'mse_val': mse(y_val, y_val_pred) ** 0.5})"
   ]
  },
  {
   "cell_type": "code",
   "execution_count": 206,
   "id": "22e3cba0",
   "metadata": {},
   "outputs": [
    {
     "data": {
      "text/plain": [
       "mse_tr     0.135403\n",
       "mse_val    0.155391\n",
       "dtype: float64"
      ]
     },
     "execution_count": 206,
     "metadata": {},
     "output_type": "execute_result"
    }
   ],
   "source": [
    "pd.DataFrame(data).mean()"
   ]
  },
  {
   "cell_type": "markdown",
   "id": "c37980f1",
   "metadata": {},
   "source": [
    "# \n",
    "$$y = x * b + e$$\n",
    "\n",
    "Хочемо додати $sin(x)$ і $cos(x)$. Чи можна додавати $sin(x+\\alpha)$? \n",
    "\n",
    "$$y = x * b + a * sin(x) + c * cos(x) + e$$"
   ]
  },
  {
   "cell_type": "code",
   "execution_count": 246,
   "id": "c1148719",
   "metadata": {},
   "outputs": [],
   "source": [
    "n = 10000\n",
    "X = np.zeros((n, 4))\n",
    "\n",
    "x = np.random.rand(n) * 3\n",
    "X[:, 0] = x\n",
    "X[:, 1] = np.sin(x)\n",
    "X[:, 2] = np.cos(x)\n",
    "X[:, 3] = np.cos(x + 0.5)"
   ]
  },
  {
   "cell_type": "code",
   "execution_count": 247,
   "id": "86f93f9e",
   "metadata": {},
   "outputs": [
    {
     "data": {
      "text/plain": [
       "array([[ 1.        ,  0.17352583, -0.99362323, -0.97680877],\n",
       "       [ 0.17352583,  1.        , -0.14520998, -0.35419069],\n",
       "       [-0.99362323, -0.14520998,  1.        ,  0.97669321],\n",
       "       [-0.97680877, -0.35419069,  0.97669321,  1.        ]])"
      ]
     },
     "execution_count": 247,
     "metadata": {},
     "output_type": "execute_result"
    }
   ],
   "source": [
    "np.corrcoef(X.T)"
   ]
  },
  {
   "cell_type": "code",
   "execution_count": 248,
   "id": "995a4911",
   "metadata": {},
   "outputs": [
    {
     "data": {
      "text/plain": [
       "array([[ 2.80829768e-05, -2.11347621e-04,  3.35472414e-04,\n",
       "        -3.28762966e-04],\n",
       "       [-2.29496338e-04,  3.15901850e+10, -5.78254458e+10,\n",
       "         6.58917443e+10],\n",
       "       [ 3.49003171e-04, -5.78254458e+10,  1.05848768e+11,\n",
       "        -1.20614029e+11],\n",
       "       [-3.62396240e-04,  6.58917443e+10, -1.20614029e+11,\n",
       "         1.37438953e+11]])"
      ]
     },
     "execution_count": 248,
     "metadata": {},
     "output_type": "execute_result"
    }
   ],
   "source": [
    "np.linalg.inv(X.T.dot(X))"
   ]
  },
  {
   "cell_type": "code",
   "execution_count": 250,
   "id": "af7b7d97",
   "metadata": {},
   "outputs": [
    {
     "data": {
      "text/plain": [
       "646.0074916218717"
      ]
     },
     "execution_count": 250,
     "metadata": {},
     "output_type": "execute_result"
    }
   ],
   "source": [
    "np.linalg.det(X.T.dot(X))"
   ]
  },
  {
   "cell_type": "code",
   "execution_count": null,
   "id": "63489b57",
   "metadata": {},
   "outputs": [],
   "source": []
  }
 ],
 "metadata": {
  "kernelspec": {
   "display_name": "Python 3",
   "language": "python",
   "name": "python3"
  },
  "language_info": {
   "codemirror_mode": {
    "name": "ipython",
    "version": 3
   },
   "file_extension": ".py",
   "mimetype": "text/x-python",
   "name": "python",
   "nbconvert_exporter": "python",
   "pygments_lexer": "ipython3",
   "version": "3.10.4"
  }
 },
 "nbformat": 4,
 "nbformat_minor": 5
}
