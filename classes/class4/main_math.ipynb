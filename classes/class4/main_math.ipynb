{
 "cells": [
  {
   "cell_type": "code",
   "execution_count": 1,
   "id": "ab055714",
   "metadata": {},
   "outputs": [],
   "source": [
    "import pandas as pd"
   ]
  },
  {
   "cell_type": "code",
   "execution_count": 2,
   "id": "826667f7",
   "metadata": {},
   "outputs": [],
   "source": [
    "train_data = pd.read_csv('train.csv')\n",
    "test_data = pd.read_csv('test.csv')"
   ]
  },
  {
   "cell_type": "code",
   "execution_count": 3,
   "id": "dc9f1a2c",
   "metadata": {},
   "outputs": [
    {
     "data": {
      "text/html": [
       "<div>\n",
       "<style scoped>\n",
       "    .dataframe tbody tr th:only-of-type {\n",
       "        vertical-align: middle;\n",
       "    }\n",
       "\n",
       "    .dataframe tbody tr th {\n",
       "        vertical-align: top;\n",
       "    }\n",
       "\n",
       "    .dataframe thead th {\n",
       "        text-align: right;\n",
       "    }\n",
       "</style>\n",
       "<table border=\"1\" class=\"dataframe\">\n",
       "  <thead>\n",
       "    <tr style=\"text-align: right;\">\n",
       "      <th></th>\n",
       "      <th>PassengerId</th>\n",
       "      <th>HomePlanet</th>\n",
       "      <th>CryoSleep</th>\n",
       "      <th>Cabin</th>\n",
       "      <th>Destination</th>\n",
       "      <th>Age</th>\n",
       "      <th>VIP</th>\n",
       "      <th>RoomService</th>\n",
       "      <th>FoodCourt</th>\n",
       "      <th>ShoppingMall</th>\n",
       "      <th>Spa</th>\n",
       "      <th>VRDeck</th>\n",
       "      <th>Name</th>\n",
       "      <th>Transported</th>\n",
       "    </tr>\n",
       "  </thead>\n",
       "  <tbody>\n",
       "    <tr>\n",
       "      <th>0</th>\n",
       "      <td>0001_01</td>\n",
       "      <td>Europa</td>\n",
       "      <td>False</td>\n",
       "      <td>B/0/P</td>\n",
       "      <td>TRAPPIST-1e</td>\n",
       "      <td>39.0</td>\n",
       "      <td>False</td>\n",
       "      <td>0.0</td>\n",
       "      <td>0.0</td>\n",
       "      <td>0.0</td>\n",
       "      <td>0.0</td>\n",
       "      <td>0.0</td>\n",
       "      <td>Maham Ofracculy</td>\n",
       "      <td>False</td>\n",
       "    </tr>\n",
       "    <tr>\n",
       "      <th>1</th>\n",
       "      <td>0002_01</td>\n",
       "      <td>Earth</td>\n",
       "      <td>False</td>\n",
       "      <td>F/0/S</td>\n",
       "      <td>TRAPPIST-1e</td>\n",
       "      <td>24.0</td>\n",
       "      <td>False</td>\n",
       "      <td>109.0</td>\n",
       "      <td>9.0</td>\n",
       "      <td>25.0</td>\n",
       "      <td>549.0</td>\n",
       "      <td>44.0</td>\n",
       "      <td>Juanna Vines</td>\n",
       "      <td>True</td>\n",
       "    </tr>\n",
       "    <tr>\n",
       "      <th>2</th>\n",
       "      <td>0003_01</td>\n",
       "      <td>Europa</td>\n",
       "      <td>False</td>\n",
       "      <td>A/0/S</td>\n",
       "      <td>TRAPPIST-1e</td>\n",
       "      <td>58.0</td>\n",
       "      <td>True</td>\n",
       "      <td>43.0</td>\n",
       "      <td>3576.0</td>\n",
       "      <td>0.0</td>\n",
       "      <td>6715.0</td>\n",
       "      <td>49.0</td>\n",
       "      <td>Altark Susent</td>\n",
       "      <td>False</td>\n",
       "    </tr>\n",
       "    <tr>\n",
       "      <th>3</th>\n",
       "      <td>0003_02</td>\n",
       "      <td>Europa</td>\n",
       "      <td>False</td>\n",
       "      <td>A/0/S</td>\n",
       "      <td>TRAPPIST-1e</td>\n",
       "      <td>33.0</td>\n",
       "      <td>False</td>\n",
       "      <td>0.0</td>\n",
       "      <td>1283.0</td>\n",
       "      <td>371.0</td>\n",
       "      <td>3329.0</td>\n",
       "      <td>193.0</td>\n",
       "      <td>Solam Susent</td>\n",
       "      <td>False</td>\n",
       "    </tr>\n",
       "    <tr>\n",
       "      <th>4</th>\n",
       "      <td>0004_01</td>\n",
       "      <td>Earth</td>\n",
       "      <td>False</td>\n",
       "      <td>F/1/S</td>\n",
       "      <td>TRAPPIST-1e</td>\n",
       "      <td>16.0</td>\n",
       "      <td>False</td>\n",
       "      <td>303.0</td>\n",
       "      <td>70.0</td>\n",
       "      <td>151.0</td>\n",
       "      <td>565.0</td>\n",
       "      <td>2.0</td>\n",
       "      <td>Willy Santantines</td>\n",
       "      <td>True</td>\n",
       "    </tr>\n",
       "  </tbody>\n",
       "</table>\n",
       "</div>"
      ],
      "text/plain": [
       "  PassengerId HomePlanet CryoSleep  Cabin  Destination   Age    VIP  \\\n",
       "0     0001_01     Europa     False  B/0/P  TRAPPIST-1e  39.0  False   \n",
       "1     0002_01      Earth     False  F/0/S  TRAPPIST-1e  24.0  False   \n",
       "2     0003_01     Europa     False  A/0/S  TRAPPIST-1e  58.0   True   \n",
       "3     0003_02     Europa     False  A/0/S  TRAPPIST-1e  33.0  False   \n",
       "4     0004_01      Earth     False  F/1/S  TRAPPIST-1e  16.0  False   \n",
       "\n",
       "   RoomService  FoodCourt  ShoppingMall     Spa  VRDeck               Name  \\\n",
       "0          0.0        0.0           0.0     0.0     0.0    Maham Ofracculy   \n",
       "1        109.0        9.0          25.0   549.0    44.0       Juanna Vines   \n",
       "2         43.0     3576.0           0.0  6715.0    49.0      Altark Susent   \n",
       "3          0.0     1283.0         371.0  3329.0   193.0       Solam Susent   \n",
       "4        303.0       70.0         151.0   565.0     2.0  Willy Santantines   \n",
       "\n",
       "   Transported  \n",
       "0        False  \n",
       "1         True  \n",
       "2        False  \n",
       "3        False  \n",
       "4         True  "
      ]
     },
     "execution_count": 3,
     "metadata": {},
     "output_type": "execute_result"
    }
   ],
   "source": [
    "train_data.head()"
   ]
  },
  {
   "cell_type": "code",
   "execution_count": 4,
   "id": "2558b57c",
   "metadata": {},
   "outputs": [
    {
     "data": {
      "text/plain": [
       "((8693, 14), (4277, 13))"
      ]
     },
     "execution_count": 4,
     "metadata": {},
     "output_type": "execute_result"
    }
   ],
   "source": [
    "train_data.shape, test_data.shape"
   ]
  },
  {
   "cell_type": "markdown",
   "id": "51893db8",
   "metadata": {},
   "source": [
    "# Name"
   ]
  },
  {
   "cell_type": "code",
   "execution_count": 5,
   "id": "2a710a2f",
   "metadata": {},
   "outputs": [
    {
     "data": {
      "text/plain": [
       "4156"
      ]
     },
     "execution_count": 5,
     "metadata": {},
     "output_type": "execute_result"
    }
   ],
   "source": [
    "name_set_1 = set(train_data['Name'])\n",
    "name_set_2 = set(test_data['Name'])\n",
    "\n",
    "len(name_set_2 - name_set_1)"
   ]
  },
  {
   "cell_type": "code",
   "execution_count": 6,
   "id": "9c2e7d59",
   "metadata": {},
   "outputs": [
    {
     "data": {
      "text/plain": [
       "(4177, 8474)"
      ]
     },
     "execution_count": 6,
     "metadata": {},
     "output_type": "execute_result"
    }
   ],
   "source": [
    "len(set(name_set_2)), len(set(name_set_1))"
   ]
  },
  {
   "cell_type": "markdown",
   "id": "b67aa0d8",
   "metadata": {},
   "source": [
    "# Numeric"
   ]
  },
  {
   "cell_type": "code",
   "execution_count": 7,
   "id": "630d2371",
   "metadata": {},
   "outputs": [],
   "source": [
    "num_columns = ['CryoSleep', 'VIP', 'RoomService', 'FoodCourt', 'ShoppingMall', 'Spa', 'VRDeck']"
   ]
  },
  {
   "cell_type": "code",
   "execution_count": 8,
   "id": "fd77def5",
   "metadata": {
    "scrolled": true
   },
   "outputs": [
    {
     "name": "stdout",
     "output_type": "stream",
     "text": [
      "CryoSleep\n",
      "empty val fraction\n",
      "train 0.02496261359714713\n",
      "test 0.021744213233574936\n",
      "test_cat 3\n",
      "\n"
     ]
    },
    {
     "data": {
      "image/png": "[encoded data removed]",
      "text/plain": [
       "<Figure size 432x288 with 1 Axes>"
      ]
     },
     "metadata": {
      "needs_background": "light"
     },
     "output_type": "display_data"
    },
    {
     "name": "stdout",
     "output_type": "stream",
     "text": [
      "VIP\n",
      "empty val fraction\n",
      "train 0.023352122397331185\n",
      "test 0.021744213233574936\n",
      "test_cat 3\n",
      "\n"
     ]
    },
    {
     "data": {
      "image/png": "[encoded data removed]",
      "text/plain": [
       "<Figure size 432x288 with 1 Axes>"
      ]
     },
     "metadata": {
      "needs_background": "light"
     },
     "output_type": "display_data"
    },
    {
     "name": "stdout",
     "output_type": "stream",
     "text": [
      "RoomService\n",
      "empty val fraction\n",
      "train 0.02082135051190613\n",
      "test 0.01917231704465747\n",
      "test_cat 1454\n",
      "\n"
     ]
    },
    {
     "data": {
      "image/png": "[encoded data removed]",
      "text/plain": [
       "<Figure size 432x288 with 1 Axes>"
      ]
     },
     "metadata": {
      "needs_background": "light"
     },
     "output_type": "display_data"
    },
    {
     "name": "stdout",
     "output_type": "stream",
     "text": [
      "FoodCourt\n",
      "empty val fraction\n",
      "train 0.021051420683308408\n",
      "test 0.024783726911386486\n",
      "test_cat 1690\n",
      "\n"
     ]
    },
    {
     "data": {
      "image/png": "[encoded data removed]",
      "text/plain": [
       "<Figure size 432x288 with 1 Axes>"
      ]
     },
     "metadata": {
      "needs_background": "light"
     },
     "output_type": "display_data"
    },
    {
     "name": "stdout",
     "output_type": "stream",
     "text": [
      "ShoppingMall\n",
      "empty val fraction\n",
      "train 0.02392729782583688\n",
      "test 0.022913256955810146\n",
      "test_cat 1323\n",
      "\n"
     ]
    },
    {
     "data": {
      "image/png": "[encoded data removed]",
      "text/plain": [
       "<Figure size 432x288 with 1 Axes>"
      ]
     },
     "metadata": {
      "needs_background": "light"
     },
     "output_type": "display_data"
    },
    {
     "name": "stdout",
     "output_type": "stream",
     "text": [
      "Spa\n",
      "empty val fraction\n",
      "train 0.021051420683308408\n",
      "test 0.023614683189151275\n",
      "test_cat 1510\n",
      "\n"
     ]
    },
    {
     "data": {
      "image/png": "[encoded data removed]",
      "text/plain": [
       "<Figure size 432x288 with 1 Axes>"
      ]
     },
     "metadata": {
      "needs_background": "light"
     },
     "output_type": "display_data"
    },
    {
     "name": "stdout",
     "output_type": "stream",
     "text": [
      "VRDeck\n",
      "empty val fraction\n",
      "train 0.021626596111814105\n",
      "test 0.018704699555763385\n",
      "test_cat 1494\n",
      "\n"
     ]
    },
    {
     "data": {
      "image/png": "[encoded data removed]",
      "text/plain": [
       "<Figure size 432x288 with 1 Axes>"
      ]
     },
     "metadata": {
      "needs_background": "light"
     },
     "output_type": "display_data"
    }
   ],
   "source": [
    "from matplotlib import pyplot as plt\n",
    "for kc, col in enumerate(num_columns):\n",
    "    print(col)\n",
    "    print('empty val fraction')\n",
    "    print('train', train_data[col].isna().mean())\n",
    "    print('test', test_data[col].isna().mean())\n",
    "    \n",
    "    print('test_cat', len(set(train_data[col])))\n",
    "    \n",
    "    print()\n",
    "    if kc < 2:\n",
    "        plt.hist(train_data[col].astype('float32'), density=1, alpha=0.5)\n",
    "        plt.hist(test_data[col].astype('float32'), density=1, alpha=0.5)    \n",
    "    else:\n",
    "        plt.hist(train_data[col].astype('float32'), density=1, alpha=0.5, range=(0, 6000))\n",
    "        plt.hist(test_data[col].astype('float32'), density=1, alpha=0.5, range=(0, 6000))    \n",
    "    \n",
    "    plt.show()"
   ]
  },
  {
   "cell_type": "code",
   "execution_count": 9,
   "id": "638f3a8e",
   "metadata": {},
   "outputs": [],
   "source": [
    "x_tr_num = train_data[num_columns]\n",
    "x_te_num = test_data[num_columns]"
   ]
  },
  {
   "cell_type": "code",
   "execution_count": 10,
   "id": "f56a3a9e",
   "metadata": {},
   "outputs": [],
   "source": [
    "x_tr_na = x_tr_num.isna().values\n",
    "x_tr_num_filled = x_tr_num.fillna(-1).values\n",
    "\n",
    "x_te_na = x_te_num.isna().values\n",
    "x_te_num_filled = x_te_num.fillna(-1).values"
   ]
  },
  {
   "cell_type": "markdown",
   "id": "ec4a6ca4",
   "metadata": {},
   "source": [
    "# Categorical features"
   ]
  },
  {
   "cell_type": "code",
   "execution_count": 11,
   "id": "fc45ccd9",
   "metadata": {},
   "outputs": [],
   "source": [
    "cat_columns = ['HomePlanet', 'Destination']"
   ]
  },
  {
   "cell_type": "code",
   "execution_count": 12,
   "id": "9df76b63",
   "metadata": {},
   "outputs": [],
   "source": [
    "import numpy as np\n",
    "def ohe(x, w_i_map):\n",
    "    encoding = np.zeros((len(x), len(w_i_map)))\n",
    "    for k, v in enumerate(x):\n",
    "        encoding[k, w_i_map[v]] += 1\n",
    "    return encoding"
   ]
  },
  {
   "cell_type": "code",
   "execution_count": 13,
   "id": "a39a952f",
   "metadata": {},
   "outputs": [
    {
     "name": "stdout",
     "output_type": "stream",
     "text": [
      "HomePlanet\n",
      "unique 4 4\n",
      "test-train len 0\n",
      "{0: nan, 1: 'Earth', 2: 'Europa', 3: 'Mars'} {nan: 0, 'Earth': 1, 'Europa': 2, 'Mars': 3}\n",
      "{'Europa', 'Mars', nan, 'Earth'}\n",
      "\n",
      "Destination\n",
      "unique 4 4\n",
      "test-train len 0\n",
      "{0: 'TRAPPIST-1e', 1: '55 Cancri e', 2: nan, 3: 'PSO J318.5-22'} {'TRAPPIST-1e': 0, '55 Cancri e': 1, nan: 2, 'PSO J318.5-22': 3}\n",
      "{'TRAPPIST-1e', '55 Cancri e', nan, 'PSO J318.5-22'}\n",
      "\n"
     ]
    }
   ],
   "source": [
    "x_cat_tr = []\n",
    "x_cat_te = []\n",
    "\n",
    "for col in cat_columns:\n",
    "    print(col)\n",
    "    print('unique', len(set(train_data[col])), len(set(test_data[col])))\n",
    "    print('test-train len', len(set(test_data[col]) - set(train_data[col])))\n",
    "    \n",
    "    word = set(train_data[col]).union(set(test_data[col]))\n",
    "    i_w_map = dict(enumerate(word))\n",
    "    w_i_map = {v: k for k, v in i_w_map.items()}\n",
    "    print(i_w_map, w_i_map)\n",
    "    print(set(train_data[col]))\n",
    "    print()\n",
    "    \n",
    "    x_cat_tr.append(ohe(train_data[col], w_i_map))\n",
    "    x_cat_te.append(ohe(test_data[col], w_i_map))    \n",
    "    \n",
    "x_cat_tr = np.concatenate(x_cat_tr, axis=1)\n",
    "x_cat_te = np.concatenate(x_cat_te, axis=1)"
   ]
  },
  {
   "cell_type": "code",
   "execution_count": 14,
   "id": "6ed2202d",
   "metadata": {},
   "outputs": [
    {
     "data": {
      "text/plain": [
       "((8693, 8), (4277, 8))"
      ]
     },
     "execution_count": 14,
     "metadata": {},
     "output_type": "execute_result"
    }
   ],
   "source": [
    "x_cat_tr.shape, x_cat_te.shape"
   ]
  },
  {
   "cell_type": "markdown",
   "id": "a5f77def",
   "metadata": {},
   "source": [
    "# Text"
   ]
  },
  {
   "cell_type": "code",
   "execution_count": 15,
   "id": "5f8e4a06",
   "metadata": {},
   "outputs": [
    {
     "data": {
      "text/plain": [
       "0.02289198205452663"
      ]
     },
     "execution_count": 15,
     "metadata": {},
     "output_type": "execute_result"
    }
   ],
   "source": [
    "train_data['Cabin'].isna().mean()"
   ]
  },
  {
   "cell_type": "code",
   "execution_count": 16,
   "id": "df071b04",
   "metadata": {},
   "outputs": [],
   "source": [
    "train_data['Cabin'] = train_data['Cabin'].fillna('0/0/0')\n",
    "test_data['Cabin'] = test_data['Cabin'].fillna('0/0/0')"
   ]
  },
  {
   "cell_type": "code",
   "execution_count": 17,
   "id": "1637445f",
   "metadata": {},
   "outputs": [
    {
     "data": {
      "text/plain": [
       "0          G/3/S\n",
       "1          F/4/S\n",
       "2          C/0/S\n",
       "3          C/1/S\n",
       "4          F/5/S\n",
       "          ...   \n",
       "4272    G/1496/S\n",
       "4273       0/0/0\n",
       "4274     D/296/P\n",
       "4275     D/297/P\n",
       "4276    G/1498/S\n",
       "Name: Cabin, Length: 4277, dtype: object"
      ]
     },
     "execution_count": 17,
     "metadata": {},
     "output_type": "execute_result"
    }
   ],
   "source": [
    "test_data['Cabin']"
   ]
  },
  {
   "cell_type": "code",
   "execution_count": 18,
   "id": "213f36a0",
   "metadata": {},
   "outputs": [],
   "source": [
    "from sklearn.feature_extraction.text import CountVectorizer"
   ]
  },
  {
   "cell_type": "code",
   "execution_count": 19,
   "id": "2eeb3529",
   "metadata": {
    "scrolled": true
   },
   "outputs": [
    {
     "name": "stderr",
     "output_type": "stream",
     "text": [
      "C:\\Users\\Wailt\\AppData\\Local\\Programs\\Python\\Python310\\lib\\site-packages\\sklearn\\feature_extraction\\text.py:516: UserWarning: The parameter 'token_pattern' will not be used since 'tokenizer' is not None'\n",
      "  warnings.warn(\n"
     ]
    },
    {
     "data": {
      "text/plain": [
       "CountVectorizer(tokenizer=<function <lambda> at 0x00000256B678DD80>)"
      ]
     },
     "execution_count": 19,
     "metadata": {},
     "output_type": "execute_result"
    }
   ],
   "source": [
    "cv = CountVectorizer(tokenizer=lambda x: x.split('/'))\n",
    "cv.fit(train_data['Cabin'].tolist() + train_data['Cabin'].tolist())"
   ]
  },
  {
   "cell_type": "code",
   "execution_count": 20,
   "id": "ee65aa21",
   "metadata": {},
   "outputs": [],
   "source": [
    "train_text = cv.transform(train_data['Cabin']).toarray()\n",
    "test_text = cv.transform(test_data['Cabin']).toarray()"
   ]
  },
  {
   "cell_type": "code",
   "execution_count": 21,
   "id": "99de7b09",
   "metadata": {},
   "outputs": [
    {
     "data": {
      "text/plain": [
       "((8693, 1827), (4277, 1827))"
      ]
     },
     "execution_count": 21,
     "metadata": {},
     "output_type": "execute_result"
    }
   ],
   "source": [
    "train_text.shape, test_text.shape"
   ]
  },
  {
   "cell_type": "markdown",
   "id": "c6cf5e60",
   "metadata": {},
   "source": [
    "# hashing trick"
   ]
  },
  {
   "cell_type": "code",
   "execution_count": 22,
   "id": "e8b19cf0",
   "metadata": {},
   "outputs": [
    {
     "name": "stdout",
     "output_type": "stream",
     "text": [
      "Cabin\n"
     ]
    }
   ],
   "source": [
    "from sklearn.feature_extraction import FeatureHasher\n",
    "\n",
    "hash_tr = []\n",
    "hash_te = []\n",
    "\n",
    "nan = '0/0/0'\n",
    "\n",
    "for col in ['Cabin']:\n",
    "    print(col)\n",
    "    all_cat = train_data[col].fillna(nan).tolist() + test_data[col].fillna(nan).tolist()\n",
    "\n",
    "    tr_cat_ = [{w: 1 for w in i.split('/')} for i in train_data[col].fillna(nan)]\n",
    "    te_cat_ = [{w: 1 for w in i.split('/')} for i in test_data[col].fillna(nan)]\n",
    "\n",
    "    fh = FeatureHasher(n_features=10).fit(tr_cat_ + te_cat_)\n",
    "\n",
    "    hash_tr = (fh.transform(tr_cat_).toarray())\n",
    "    hash_te = (fh.transform(te_cat_).toarray())"
   ]
  },
  {
   "cell_type": "markdown",
   "id": "50055e21",
   "metadata": {},
   "source": [
    "# All features"
   ]
  },
  {
   "cell_type": "code",
   "execution_count": 24,
   "id": "adabc970",
   "metadata": {},
   "outputs": [],
   "source": [
    "# x_train = np.concatenate([x_tr_na, x_tr_num_filled, x_cat_tr, train_text], axis=1)\n",
    "# x_test = np.concatenate([x_te_na, x_te_num_filled, x_cat_te, test_text], axis=1)\n",
    "\n",
    "# x_train = np.concatenate([x_tr_na, x_tr_num_filled, x_cat_tr, hash_tr], axis=1)\n",
    "# x_test = np.concatenate([x_te_na, x_te_num_filled, x_cat_te, hash_te], axis=1)\n",
    "\n",
    "# x_train = np.concatenate([x_tr_na, x_tr_num_filled, (x_tr_num_filled + 1) ** 2, \n",
    "#                           x_cat_tr, \n",
    "#                           hash_tr, hash_tr ** 2], axis=1)\n",
    "# x_test = np.concatenate([x_te_na, x_te_num_filled, (x_te_num_filled + 1) ** 2, \n",
    "#                          x_cat_te, \n",
    "#                          hash_te, hash_te ** 2], axis=1)\n",
    "\n",
    "x_train = np.concatenate([x_tr_na, x_tr_num_filled, (x_tr_num_filled + 1) ** 2, (x_tr_num_filled + 1) ** 0.5, \n",
    "                          1 / (x_tr_num_filled + 2),\n",
    "                          np.log(x_tr_num_filled.astype('float32') + 2),\n",
    "                          x_cat_tr, \n",
    "                          train_text], axis=1)\n",
    "x_test = np.concatenate([x_te_na, x_te_num_filled, (x_te_num_filled + 1) ** 2, (x_te_num_filled + 1) ** 0.5, \n",
    "                         1 / (x_te_num_filled + 2),\n",
    "                         np.log(x_te_num_filled.astype('float32') + 2),\n",
    "                         x_cat_te, \n",
    "                         test_text], axis=1)\n",
    "\n",
    "y_train = train_data['Transported']"
   ]
  },
  {
   "cell_type": "code",
   "execution_count": 26,
   "id": "37ab248b",
   "metadata": {},
   "outputs": [
    {
     "data": {
      "text/plain": [
       "((8693, 1877), (4277, 1877), (8693,))"
      ]
     },
     "execution_count": 26,
     "metadata": {},
     "output_type": "execute_result"
    }
   ],
   "source": [
    "x_train.shape, x_test.shape, y_train.shape"
   ]
  },
  {
   "cell_type": "code",
   "execution_count": 27,
   "id": "4ca48945",
   "metadata": {},
   "outputs": [
    {
     "data": {
      "text/plain": [
       "array([[False, False, False, ..., 1, 0, 0],\n",
       "       [False, False, False, ..., 0, 1, 0],\n",
       "       [False, False, False, ..., 0, 1, 0],\n",
       "       ...,\n",
       "       [False, False, False, ..., 0, 1, 0],\n",
       "       [False, False, False, ..., 0, 1, 0],\n",
       "       [False, False, False, ..., 0, 1, 0]], dtype=object)"
      ]
     },
     "execution_count": 27,
     "metadata": {},
     "output_type": "execute_result"
    }
   ],
   "source": [
    "x_train"
   ]
  },
  {
   "cell_type": "code",
   "execution_count": 31,
   "id": "5b56a283",
   "metadata": {
    "scrolled": true
   },
   "outputs": [
    {
     "name": "stdout",
     "output_type": "stream",
     "text": [
      "gb\n",
      "gb 0\n",
      "gb 1\n",
      "gb 2\n",
      "gb 3\n",
      "gb 4\n"
     ]
    }
   ],
   "source": [
    "from sklearn.metrics import accuracy_score, f1_score, precision_score, recall_score\n",
    "from sklearn.model_selection import train_test_split\n",
    "\n",
    "from sklearn.linear_model import LogisticRegression\n",
    "from sklearn.naive_bayes import GaussianNB\n",
    "from sklearn.ensemble import GradientBoostingClassifier\n",
    "\n",
    "metrics_model = []\n",
    "all_models = []\n",
    "for model_name, model in [\n",
    "#     ('logistic(C=1)', LogisticRegression()), \n",
    "#                          ('logistic(C=2)', LogisticRegression(C=2)),\n",
    "                         ('gb', GradientBoostingClassifier(subsample=0.5, max_features=0.25, n_estimators=150))\n",
    "#                          ('GaussianNB', GaussianNB())\n",
    "                         ]:\n",
    "    print(model_name)\n",
    "    metrics = []\n",
    "    for i in range(5):\n",
    "        print(model_name, i)\n",
    "        x_tr, x_val, y_tr, y_val = train_test_split(x_train, y_train, shuffle=1, test_size=0.3)\n",
    "        \n",
    "        model.fit(x_tr, y_tr)\n",
    "        \n",
    "        y_tr_pred = model.predict(x_tr)\n",
    "        metric = {}\n",
    "        metric['train_f1_train'] = f1_score(y_tr, y_tr_pred)\n",
    "        metric['train_precision'] = precision_score(y_tr, y_tr_pred)\n",
    "        metric['train_recall'] = recall_score(y_tr, y_tr_pred)\n",
    "        \n",
    "        y_val_pred = model.predict(x_val)\n",
    "        metric['test_f1_train'] = f1_score(y_val, y_val_pred)\n",
    "        metric['test_precision'] = precision_score(y_val, y_val_pred)\n",
    "        metric['test_recall'] = recall_score(y_val, y_val_pred)\n",
    "        \n",
    "        metrics.append(metric)\n",
    "        \n",
    "        all_models.append(model)\n",
    "    \n",
    "    model_avg = pd.DataFrame(metrics).mean()\n",
    "    model_avg['model'] = model_name\n",
    "    metrics_model.append(model_avg)"
   ]
  },
  {
   "cell_type": "code",
   "execution_count": 32,
   "id": "3da3188d",
   "metadata": {},
   "outputs": [],
   "source": [
    "# pd.DataFrame(metrics)"
   ]
  },
  {
   "cell_type": "code",
   "execution_count": 33,
   "id": "29a31b0e",
   "metadata": {},
   "outputs": [
    {
     "data": {
      "text/html": [
       "<div>\n",
       "<style scoped>\n",
       "    .dataframe tbody tr th:only-of-type {\n",
       "        vertical-align: middle;\n",
       "    }\n",
       "\n",
       "    .dataframe tbody tr th {\n",
       "        vertical-align: top;\n",
       "    }\n",
       "\n",
       "    .dataframe thead th {\n",
       "        text-align: right;\n",
       "    }\n",
       "</style>\n",
       "<table border=\"1\" class=\"dataframe\">\n",
       "  <thead>\n",
       "    <tr style=\"text-align: right;\">\n",
       "      <th></th>\n",
       "      <th>train_f1_train</th>\n",
       "      <th>train_precision</th>\n",
       "      <th>train_recall</th>\n",
       "      <th>test_f1_train</th>\n",
       "      <th>test_precision</th>\n",
       "      <th>test_recall</th>\n",
       "      <th>model</th>\n",
       "    </tr>\n",
       "  </thead>\n",
       "  <tbody>\n",
       "    <tr>\n",
       "      <th>0</th>\n",
       "      <td>0.824427</td>\n",
       "      <td>0.800705</td>\n",
       "      <td>0.849611</td>\n",
       "      <td>0.802835</td>\n",
       "      <td>0.773375</td>\n",
       "      <td>0.834771</td>\n",
       "      <td>gb</td>\n",
       "    </tr>\n",
       "  </tbody>\n",
       "</table>\n",
       "</div>"
      ],
      "text/plain": [
       "   train_f1_train  train_precision  train_recall  test_f1_train  \\\n",
       "0        0.824427         0.800705      0.849611       0.802835   \n",
       "\n",
       "   test_precision  test_recall model  \n",
       "0        0.773375     0.834771    gb  "
      ]
     },
     "execution_count": 33,
     "metadata": {},
     "output_type": "execute_result"
    }
   ],
   "source": [
    "pd.DataFrame(metrics_model)"
   ]
  },
  {
   "cell_type": "markdown",
   "id": "39f7dcdf",
   "metadata": {},
   "source": [
    "# Model"
   ]
  },
  {
   "cell_type": "code",
   "execution_count": 34,
   "id": "607a59da",
   "metadata": {},
   "outputs": [],
   "source": [
    "model = all_models[0]\n",
    "\n",
    "y_test_pred = model.predict(x_test)"
   ]
  },
  {
   "cell_type": "code",
   "execution_count": 35,
   "id": "b09800f6",
   "metadata": {},
   "outputs": [],
   "source": [
    "df = pd.DataFrame(np.array([test_data['PassengerId'], y_test_pred]).T, columns=['PassengerId', 'Transported'])"
   ]
  },
  {
   "cell_type": "code",
   "execution_count": 36,
   "id": "77b53db0",
   "metadata": {},
   "outputs": [],
   "source": [
    "df.to_csv('sumb_1.csv', index=0)"
   ]
  },
  {
   "cell_type": "code",
   "execution_count": 37,
   "id": "61e0a8bb",
   "metadata": {},
   "outputs": [
    {
     "data": {
      "text/plain": [
       "0.5841252096143097"
      ]
     },
     "execution_count": 37,
     "metadata": {},
     "output_type": "execute_result"
    }
   ],
   "source": [
    "1045 / 1789"
   ]
  },
  {
   "cell_type": "code",
   "execution_count": 38,
   "id": "5679a9c7",
   "metadata": {},
   "outputs": [
    {
     "data": {
      "text/plain": [
       "0.30072666294019007"
      ]
     },
     "execution_count": 38,
     "metadata": {},
     "output_type": "execute_result"
    }
   ],
   "source": [
    "538 / 1789"
   ]
  },
  {
   "cell_type": "markdown",
   "id": "caf0c9c8",
   "metadata": {},
   "source": [
    "# ensamble"
   ]
  },
  {
   "cell_type": "code",
   "execution_count": 39,
   "id": "c0b4a0f3",
   "metadata": {},
   "outputs": [],
   "source": [
    "y_te_pred_proba = []\n",
    "for model in all_models:\n",
    "    y_te = model.predict_proba(x_test)\n",
    "    \n",
    "    y_te_pred_proba.append(y_te)"
   ]
  },
  {
   "cell_type": "code",
   "execution_count": 40,
   "id": "1929f5c2",
   "metadata": {},
   "outputs": [
    {
     "data": {
      "text/plain": [
       "array([[0.2573494 , 0.7426506 ],\n",
       "       [0.89725047, 0.10274953],\n",
       "       [0.02414678, 0.97585322],\n",
       "       ...,\n",
       "       [0.09853231, 0.90146769],\n",
       "       [0.24189136, 0.75810864],\n",
       "       [0.24541341, 0.75458659]])"
      ]
     },
     "execution_count": 40,
     "metadata": {},
     "output_type": "execute_result"
    }
   ],
   "source": [
    "np.array(y_te_pred_proba).mean(axis=0)"
   ]
  },
  {
   "cell_type": "markdown",
   "id": "88903d7d",
   "metadata": {},
   "source": [
    "$$D(x_1)=\\sigma^2$$\n",
    "$$D(\\frac{1}{N}\\sum_{j=1}^Nx_j)=\\frac{1}{N}\\sigma^2$$"
   ]
  },
  {
   "cell_type": "code",
   "execution_count": 41,
   "id": "13391afb",
   "metadata": {},
   "outputs": [],
   "source": [
    "y_te_pred = np.array(y_te_pred_proba).mean(axis=0).T[1] > 0.5"
   ]
  },
  {
   "cell_type": "code",
   "execution_count": 42,
   "id": "0cfb4e23",
   "metadata": {},
   "outputs": [],
   "source": [
    "df = pd.DataFrame(np.array([test_data['PassengerId'], y_te_pred]).T, columns=['PassengerId', 'Transported'])\n",
    "df.to_csv('sumb_ens_gb_ht_many.csv', index=0)"
   ]
  },
  {
   "cell_type": "markdown",
   "id": "0d3a46b9",
   "metadata": {},
   "source": [
    "# Ens ^ 2"
   ]
  },
  {
   "cell_type": "code",
   "execution_count": 52,
   "id": "a1255365",
   "metadata": {},
   "outputs": [],
   "source": [
    "p1 = pd.read_csv('sumb_ens_gb.csv')\n",
    "p2 = pd.read_csv('sumb_ens_gb_ht.csv')\n",
    "p3 = pd.read_csv('sumb_ens_gb_ht_2.csv')\n",
    "p4 = pd.read_csv('sumb_ens_gb_ht_many.csv')\n",
    "p5 = pd.read_csv('sumb_ens.csv')"
   ]
  },
  {
   "cell_type": "code",
   "execution_count": 51,
   "id": "78df5c93",
   "metadata": {},
   "outputs": [],
   "source": [
    "ensens_pred = (p1['Transported'].astype('int') + p2['Transported'].astype('int') + p3['Transported'].astype('int') +  p5['Transported'].astype('int') +  p4['Transported'].astype('int')) > 2.5"
   ]
  },
  {
   "cell_type": "code",
   "execution_count": 53,
   "id": "34cb974f",
   "metadata": {},
   "outputs": [],
   "source": [
    "df = pd.DataFrame(np.array([test_data['PassengerId'], ensens_pred]).T, columns=['PassengerId', 'Transported'])\n",
    "df.to_csv('ens_5.csv', index=0)"
   ]
  },
  {
   "cell_type": "code",
   "execution_count": 54,
   "id": "953b863a",
   "metadata": {},
   "outputs": [
    {
     "data": {
      "text/html": [
       "<div>\n",
       "<style scoped>\n",
       "    .dataframe tbody tr th:only-of-type {\n",
       "        vertical-align: middle;\n",
       "    }\n",
       "\n",
       "    .dataframe tbody tr th {\n",
       "        vertical-align: top;\n",
       "    }\n",
       "\n",
       "    .dataframe thead th {\n",
       "        text-align: right;\n",
       "    }\n",
       "</style>\n",
       "<table border=\"1\" class=\"dataframe\">\n",
       "  <thead>\n",
       "    <tr style=\"text-align: right;\">\n",
       "      <th></th>\n",
       "      <th>PassengerId</th>\n",
       "      <th>Transported</th>\n",
       "    </tr>\n",
       "  </thead>\n",
       "  <tbody>\n",
       "    <tr>\n",
       "      <th>0</th>\n",
       "      <td>0013_01</td>\n",
       "      <td>True</td>\n",
       "    </tr>\n",
       "    <tr>\n",
       "      <th>1</th>\n",
       "      <td>0018_01</td>\n",
       "      <td>False</td>\n",
       "    </tr>\n",
       "    <tr>\n",
       "      <th>2</th>\n",
       "      <td>0019_01</td>\n",
       "      <td>True</td>\n",
       "    </tr>\n",
       "    <tr>\n",
       "      <th>3</th>\n",
       "      <td>0021_01</td>\n",
       "      <td>True</td>\n",
       "    </tr>\n",
       "    <tr>\n",
       "      <th>4</th>\n",
       "      <td>0023_01</td>\n",
       "      <td>True</td>\n",
       "    </tr>\n",
       "    <tr>\n",
       "      <th>...</th>\n",
       "      <td>...</td>\n",
       "      <td>...</td>\n",
       "    </tr>\n",
       "    <tr>\n",
       "      <th>4272</th>\n",
       "      <td>9266_02</td>\n",
       "      <td>True</td>\n",
       "    </tr>\n",
       "    <tr>\n",
       "      <th>4273</th>\n",
       "      <td>9269_01</td>\n",
       "      <td>False</td>\n",
       "    </tr>\n",
       "    <tr>\n",
       "      <th>4274</th>\n",
       "      <td>9271_01</td>\n",
       "      <td>True</td>\n",
       "    </tr>\n",
       "    <tr>\n",
       "      <th>4275</th>\n",
       "      <td>9273_01</td>\n",
       "      <td>True</td>\n",
       "    </tr>\n",
       "    <tr>\n",
       "      <th>4276</th>\n",
       "      <td>9277_01</td>\n",
       "      <td>True</td>\n",
       "    </tr>\n",
       "  </tbody>\n",
       "</table>\n",
       "<p>4277 rows × 2 columns</p>\n",
       "</div>"
      ],
      "text/plain": [
       "     PassengerId Transported\n",
       "0        0013_01        True\n",
       "1        0018_01       False\n",
       "2        0019_01        True\n",
       "3        0021_01        True\n",
       "4        0023_01        True\n",
       "...          ...         ...\n",
       "4272     9266_02        True\n",
       "4273     9269_01       False\n",
       "4274     9271_01        True\n",
       "4275     9273_01        True\n",
       "4276     9277_01        True\n",
       "\n",
       "[4277 rows x 2 columns]"
      ]
     },
     "execution_count": 54,
     "metadata": {},
     "output_type": "execute_result"
    }
   ],
   "source": [
    "df"
   ]
  },
  {
   "cell_type": "code",
   "execution_count": null,
   "id": "48cc2976",
   "metadata": {},
   "outputs": [],
   "source": []
  }
 ],
 "metadata": {
  "kernelspec": {
   "display_name": "Python 3 (ipykernel)",
   "language": "python",
   "name": "python3"
  },
  "language_info": {
   "codemirror_mode": {
    "name": "ipython",
    "version": 3
   },
   "file_extension": ".py",
   "mimetype": "text/x-python",
   "name": "python",
   "nbconvert_exporter": "python",
   "pygments_lexer": "ipython3",
   "version": "3.10.2"
  }
 },
 "nbformat": 4,
 "nbformat_minor": 5
}
