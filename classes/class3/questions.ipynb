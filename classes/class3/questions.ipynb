{
 "cells": [
  {
   "cell_type": "markdown",
   "id": "0142cbbe",
   "metadata": {},
   "source": [
    "$$y = X^T b + \\varepsilon$$\n",
    "\n",
    "$$\\hat{b} = (X^TX)^{-1}X^Ty$$\n",
    "\n",
    "$$Loss(X, y) = \\frac{1}{n}\\sum_{i=1}^n(y_i - x_ib)^2\\to\\min_{b}$$"
   ]
  },
  {
   "cell_type": "markdown",
   "id": "24a5a61a",
   "metadata": {},
   "source": [
    "# Ridge"
   ]
  },
  {
   "cell_type": "markdown",
   "id": "d6487771",
   "metadata": {},
   "source": [
    "$$y = X^T b + \\varepsilon$$\n",
    "\n",
    "$$Loss(X, y) = \\frac{1}{n}\\sum_{i=1}^n(y_i - x_ib)^2 + \\gamma(\\sum_{i=1}^Db_i^2)^{0.5}\\to\\min_{b}$$\n",
    "\n",
    "\n",
    "\n",
    "$$\\hat{b} = (X^TX + \\gamma I)^{-1}X^Ty$$"
   ]
  },
  {
   "cell_type": "code",
   "execution_count": 1,
   "id": "add044fe",
   "metadata": {},
   "outputs": [],
   "source": [
    "import numpy as np\n",
    "\n"
   ]
  },
  {
   "cell_type": "code",
   "execution_count": 23,
   "id": "07ce38f7",
   "metadata": {},
   "outputs": [],
   "source": [
    "d = 4\n",
    "x = np.random.rand(1000, d)\n",
    "y = np.random.rand(1000)\n",
    "\n"
   ]
  },
  {
   "cell_type": "code",
   "execution_count": 24,
   "id": "5f03daef",
   "metadata": {},
   "outputs": [],
   "source": [
    "# lin\n",
    "b_est = np.linalg.inv(x.T.dot(x)).dot(x.T.dot(y))"
   ]
  },
  {
   "cell_type": "code",
   "execution_count": 25,
   "id": "175d398c",
   "metadata": {},
   "outputs": [],
   "source": [
    "# ridge\n",
    "lam = 0.1\n",
    "b_est_r = np.linalg.inv(x.T.dot(x) + lam * np.diag([lam] * d)).dot(x.T.dot(y))"
   ]
  },
  {
   "cell_type": "code",
   "execution_count": 26,
   "id": "bc78afd5",
   "metadata": {},
   "outputs": [
    {
     "data": {
      "text/plain": [
       "(array([0.25713194, 0.20362417, 0.21904939, 0.2462032 ]),\n",
       " array([0.25712691, 0.20362536, 0.21904884, 0.24619908]))"
      ]
     },
     "execution_count": 26,
     "metadata": {},
     "output_type": "execute_result"
    }
   ],
   "source": [
    "b_est, b_est_r"
   ]
  },
  {
   "cell_type": "code",
   "execution_count": 27,
   "id": "e6b687ae",
   "metadata": {},
   "outputs": [
    {
     "data": {
      "text/plain": [
       "array([0.40189437, 0.46179197, 0.44400504, 0.46401265])"
      ]
     },
     "execution_count": 27,
     "metadata": {},
     "output_type": "execute_result"
    }
   ],
   "source": [
    "y_pred = x.dot(b_est)\n",
    "y_pred[:4]"
   ]
  },
  {
   "cell_type": "code",
   "execution_count": 28,
   "id": "7ef24cb4",
   "metadata": {},
   "outputs": [
    {
     "data": {
      "text/plain": [
       "array([0.40188777, 0.46178686, 0.44400039, 0.46400678])"
      ]
     },
     "execution_count": 28,
     "metadata": {},
     "output_type": "execute_result"
    }
   ],
   "source": [
    "y_pred = x.dot(b_est_r)\n",
    "y_pred[:4]"
   ]
  },
  {
   "cell_type": "code",
   "execution_count": null,
   "id": "952cbe9b",
   "metadata": {},
   "outputs": [],
   "source": []
  },
  {
   "cell_type": "code",
   "execution_count": 36,
   "id": "3609a452",
   "metadata": {},
   "outputs": [],
   "source": [
    "from sklearn.model_selection import train_test_split, GridSearchCV"
   ]
  },
  {
   "cell_type": "code",
   "execution_count": 75,
   "id": "c4f5e314",
   "metadata": {},
   "outputs": [],
   "source": [
    "from sklearn.linear_model import LinearRegression, Ridge\n",
    "from sklearn.ensemble import RandomForestRegressor"
   ]
  },
  {
   "cell_type": "code",
   "execution_count": 63,
   "id": "96553763",
   "metadata": {},
   "outputs": [],
   "source": [
    "model = GridSearchCV(LinearRegression(), {}, cv=6, n_jobs=8, scoring='neg_root_mean_squared_error')"
   ]
  },
  {
   "cell_type": "code",
   "execution_count": 64,
   "id": "8160e630",
   "metadata": {},
   "outputs": [
    {
     "data": {
      "text/plain": [
       "GridSearchCV(cv=6, estimator=LinearRegression(), n_jobs=8, param_grid={},\n",
       "             scoring='neg_root_mean_squared_error')"
      ]
     },
     "execution_count": 64,
     "metadata": {},
     "output_type": "execute_result"
    }
   ],
   "source": [
    "model.fit(x, y)"
   ]
  },
  {
   "cell_type": "code",
   "execution_count": 65,
   "id": "54ef64b9",
   "metadata": {},
   "outputs": [
    {
     "data": {
      "text/plain": [
       "-0.2863829596772684"
      ]
     },
     "execution_count": 65,
     "metadata": {},
     "output_type": "execute_result"
    }
   ],
   "source": [
    "model.best_score_"
   ]
  },
  {
   "cell_type": "code",
   "execution_count": 69,
   "id": "2b863749",
   "metadata": {},
   "outputs": [],
   "source": [
    "model_r = GridSearchCV(Ridge(), \n",
    "                       {'alpha': np.linspace(1e-10, 10, 100)}, \n",
    "                       cv=6, n_jobs=8, scoring='neg_root_mean_squared_error')"
   ]
  },
  {
   "cell_type": "code",
   "execution_count": 70,
   "id": "0f2bbd92",
   "metadata": {},
   "outputs": [
    {
     "data": {
      "text/plain": [
       "GridSearchCV(cv=6, estimator=Ridge(), n_jobs=8,\n",
       "             param_grid={'alpha': array([1.00000000e-10, 1.01010101e-01, 2.02020202e-01, 3.03030303e-01,\n",
       "       4.04040404e-01, 5.05050505e-01, 6.06060606e-01, 7.07070707e-01,\n",
       "       8.08080808e-01, 9.09090909e-01, 1.01010101e+00, 1.11111111e+00,\n",
       "       1.21212121e+00, 1.31313131e+00, 1.41414141e+00, 1.51515152e+00,\n",
       "       1.61616162e+00, 1.71717172e+00, 1.818181...\n",
       "       7.67676768e+00, 7.77777778e+00, 7.87878788e+00, 7.97979798e+00,\n",
       "       8.08080808e+00, 8.18181818e+00, 8.28282828e+00, 8.38383838e+00,\n",
       "       8.48484848e+00, 8.58585859e+00, 8.68686869e+00, 8.78787879e+00,\n",
       "       8.88888889e+00, 8.98989899e+00, 9.09090909e+00, 9.19191919e+00,\n",
       "       9.29292929e+00, 9.39393939e+00, 9.49494949e+00, 9.59595960e+00,\n",
       "       9.69696970e+00, 9.79797980e+00, 9.89898990e+00, 1.00000000e+01])},\n",
       "             scoring='neg_root_mean_squared_error')"
      ]
     },
     "execution_count": 70,
     "metadata": {},
     "output_type": "execute_result"
    }
   ],
   "source": [
    "model_r.fit(x, y)"
   ]
  },
  {
   "cell_type": "code",
   "execution_count": 90,
   "id": "954f997a",
   "metadata": {},
   "outputs": [
    {
     "data": {
      "text/plain": [
       "Ridge(alpha=10.0)"
      ]
     },
     "execution_count": 90,
     "metadata": {},
     "output_type": "execute_result"
    }
   ],
   "source": [
    "model_r.best_estimator_"
   ]
  },
  {
   "cell_type": "code",
   "execution_count": 72,
   "id": "77b06181",
   "metadata": {},
   "outputs": [
    {
     "data": {
      "text/plain": [
       "True"
      ]
     },
     "execution_count": 72,
     "metadata": {},
     "output_type": "execute_result"
    }
   ],
   "source": [
    "model.best_score_ < model_r.best_score_"
   ]
  },
  {
   "cell_type": "code",
   "execution_count": 86,
   "id": "0980295d",
   "metadata": {},
   "outputs": [
    {
     "data": {
      "text/plain": [
       "10.0"
      ]
     },
     "execution_count": 86,
     "metadata": {},
     "output_type": "execute_result"
    }
   ],
   "source": [
    "model_r.best_estimator_.alpha"
   ]
  },
  {
   "cell_type": "code",
   "execution_count": 76,
   "id": "0ea42935",
   "metadata": {},
   "outputs": [
    {
     "data": {
      "text/plain": [
       "RandomForestRegressor()"
      ]
     },
     "execution_count": 76,
     "metadata": {},
     "output_type": "execute_result"
    }
   ],
   "source": [
    "RandomForestRegressor()"
   ]
  },
  {
   "cell_type": "code",
   "execution_count": 78,
   "id": "ca74bfd1",
   "metadata": {},
   "outputs": [],
   "source": [
    "model_rr = GridSearchCV(RandomForestRegressor(), \n",
    "                       {'n_estimators': [10, 100]}, cv=6, n_jobs=8, scoring='neg_root_mean_squared_error')"
   ]
  },
  {
   "cell_type": "code",
   "execution_count": 80,
   "id": "e837d77a",
   "metadata": {},
   "outputs": [
    {
     "data": {
      "text/plain": [
       "GridSearchCV(cv=6, estimator=RandomForestRegressor(), n_jobs=8,\n",
       "             param_grid={'n_estimators': [10, 100]},\n",
       "             scoring='neg_root_mean_squared_error')"
      ]
     },
     "execution_count": 80,
     "metadata": {},
     "output_type": "execute_result"
    }
   ],
   "source": [
    "model_rr.fit(x, y)"
   ]
  },
  {
   "cell_type": "code",
   "execution_count": 82,
   "id": "e2eec3f8",
   "metadata": {},
   "outputs": [
    {
     "data": {
      "text/plain": [
       "-0.2979972953371644"
      ]
     },
     "execution_count": 82,
     "metadata": {},
     "output_type": "execute_result"
    }
   ],
   "source": [
    "model_rr.best_score_"
   ]
  },
  {
   "cell_type": "code",
   "execution_count": 83,
   "id": "b64a14e6",
   "metadata": {},
   "outputs": [
    {
     "data": {
      "text/plain": [
       "(-0.2863829596772684, -0.2862181422123675, -0.2979972953371644)"
      ]
     },
     "execution_count": 83,
     "metadata": {},
     "output_type": "execute_result"
    }
   ],
   "source": [
    "model.best_score_, model_r.best_score_, model_rr.best_score_"
   ]
  },
  {
   "cell_type": "code",
   "execution_count": null,
   "id": "8a49e193",
   "metadata": {},
   "outputs": [],
   "source": []
  }
 ],
 "metadata": {
  "kernelspec": {
   "display_name": "Python 3 (ipykernel)",
   "language": "python",
   "name": "python3"
  },
  "language_info": {
   "codemirror_mode": {
    "name": "ipython",
    "version": 3
   },
   "file_extension": ".py",
   "mimetype": "text/x-python",
   "name": "python",
   "nbconvert_exporter": "python",
   "pygments_lexer": "ipython3",
   "version": "3.10.2"
  }
 },
 "nbformat": 4,
 "nbformat_minor": 5
}
