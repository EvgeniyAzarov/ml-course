{
 "cells": [
  {
   "cell_type": "code",
   "execution_count": 24,
   "id": "1be1e7c5",
   "metadata": {},
   "outputs": [],
   "source": [
    "import pandas as pd"
   ]
  },
  {
   "cell_type": "markdown",
   "id": "8d80e063",
   "metadata": {},
   "source": [
    "# \n",
    "\n",
    "https://www.kaggle.com/competitions/house-prices-advanced-regression-techniques/data?select=test.csv"
   ]
  },
  {
   "cell_type": "code",
   "execution_count": 25,
   "id": "7fd697d2",
   "metadata": {
    "scrolled": true
   },
   "outputs": [],
   "source": [
    "train_data = pd.read_csv('data/train.csv')\n",
    "test_data = pd.read_csv('data/test.csv')"
   ]
  },
  {
   "cell_type": "code",
   "execution_count": 26,
   "id": "fbfc0555",
   "metadata": {},
   "outputs": [],
   "source": [
    "y_train = np.log(train_data['SalePrice'])"
   ]
  },
  {
   "cell_type": "code",
   "execution_count": 27,
   "id": "f3caf58c",
   "metadata": {},
   "outputs": [
    {
     "data": {
      "text/html": [
       "<div>\n",
       "<style scoped>\n",
       "    .dataframe tbody tr th:only-of-type {\n",
       "        vertical-align: middle;\n",
       "    }\n",
       "\n",
       "    .dataframe tbody tr th {\n",
       "        vertical-align: top;\n",
       "    }\n",
       "\n",
       "    .dataframe thead th {\n",
       "        text-align: right;\n",
       "    }\n",
       "</style>\n",
       "<table border=\"1\" class=\"dataframe\">\n",
       "  <thead>\n",
       "    <tr style=\"text-align: right;\">\n",
       "      <th></th>\n",
       "      <th>Id</th>\n",
       "      <th>MSSubClass</th>\n",
       "      <th>MSZoning</th>\n",
       "      <th>LotFrontage</th>\n",
       "      <th>LotArea</th>\n",
       "      <th>Street</th>\n",
       "      <th>Alley</th>\n",
       "      <th>LotShape</th>\n",
       "      <th>LandContour</th>\n",
       "      <th>Utilities</th>\n",
       "      <th>...</th>\n",
       "      <th>PoolArea</th>\n",
       "      <th>PoolQC</th>\n",
       "      <th>Fence</th>\n",
       "      <th>MiscFeature</th>\n",
       "      <th>MiscVal</th>\n",
       "      <th>MoSold</th>\n",
       "      <th>YrSold</th>\n",
       "      <th>SaleType</th>\n",
       "      <th>SaleCondition</th>\n",
       "      <th>SalePrice</th>\n",
       "    </tr>\n",
       "  </thead>\n",
       "  <tbody>\n",
       "    <tr>\n",
       "      <th>0</th>\n",
       "      <td>1</td>\n",
       "      <td>60</td>\n",
       "      <td>RL</td>\n",
       "      <td>65.0</td>\n",
       "      <td>8450</td>\n",
       "      <td>Pave</td>\n",
       "      <td>NaN</td>\n",
       "      <td>Reg</td>\n",
       "      <td>Lvl</td>\n",
       "      <td>AllPub</td>\n",
       "      <td>...</td>\n",
       "      <td>0</td>\n",
       "      <td>NaN</td>\n",
       "      <td>NaN</td>\n",
       "      <td>NaN</td>\n",
       "      <td>0</td>\n",
       "      <td>2</td>\n",
       "      <td>2008</td>\n",
       "      <td>WD</td>\n",
       "      <td>Normal</td>\n",
       "      <td>208500</td>\n",
       "    </tr>\n",
       "    <tr>\n",
       "      <th>1</th>\n",
       "      <td>2</td>\n",
       "      <td>20</td>\n",
       "      <td>RL</td>\n",
       "      <td>80.0</td>\n",
       "      <td>9600</td>\n",
       "      <td>Pave</td>\n",
       "      <td>NaN</td>\n",
       "      <td>Reg</td>\n",
       "      <td>Lvl</td>\n",
       "      <td>AllPub</td>\n",
       "      <td>...</td>\n",
       "      <td>0</td>\n",
       "      <td>NaN</td>\n",
       "      <td>NaN</td>\n",
       "      <td>NaN</td>\n",
       "      <td>0</td>\n",
       "      <td>5</td>\n",
       "      <td>2007</td>\n",
       "      <td>WD</td>\n",
       "      <td>Normal</td>\n",
       "      <td>181500</td>\n",
       "    </tr>\n",
       "    <tr>\n",
       "      <th>2</th>\n",
       "      <td>3</td>\n",
       "      <td>60</td>\n",
       "      <td>RL</td>\n",
       "      <td>68.0</td>\n",
       "      <td>11250</td>\n",
       "      <td>Pave</td>\n",
       "      <td>NaN</td>\n",
       "      <td>IR1</td>\n",
       "      <td>Lvl</td>\n",
       "      <td>AllPub</td>\n",
       "      <td>...</td>\n",
       "      <td>0</td>\n",
       "      <td>NaN</td>\n",
       "      <td>NaN</td>\n",
       "      <td>NaN</td>\n",
       "      <td>0</td>\n",
       "      <td>9</td>\n",
       "      <td>2008</td>\n",
       "      <td>WD</td>\n",
       "      <td>Normal</td>\n",
       "      <td>223500</td>\n",
       "    </tr>\n",
       "    <tr>\n",
       "      <th>3</th>\n",
       "      <td>4</td>\n",
       "      <td>70</td>\n",
       "      <td>RL</td>\n",
       "      <td>60.0</td>\n",
       "      <td>9550</td>\n",
       "      <td>Pave</td>\n",
       "      <td>NaN</td>\n",
       "      <td>IR1</td>\n",
       "      <td>Lvl</td>\n",
       "      <td>AllPub</td>\n",
       "      <td>...</td>\n",
       "      <td>0</td>\n",
       "      <td>NaN</td>\n",
       "      <td>NaN</td>\n",
       "      <td>NaN</td>\n",
       "      <td>0</td>\n",
       "      <td>2</td>\n",
       "      <td>2006</td>\n",
       "      <td>WD</td>\n",
       "      <td>Abnorml</td>\n",
       "      <td>140000</td>\n",
       "    </tr>\n",
       "    <tr>\n",
       "      <th>4</th>\n",
       "      <td>5</td>\n",
       "      <td>60</td>\n",
       "      <td>RL</td>\n",
       "      <td>84.0</td>\n",
       "      <td>14260</td>\n",
       "      <td>Pave</td>\n",
       "      <td>NaN</td>\n",
       "      <td>IR1</td>\n",
       "      <td>Lvl</td>\n",
       "      <td>AllPub</td>\n",
       "      <td>...</td>\n",
       "      <td>0</td>\n",
       "      <td>NaN</td>\n",
       "      <td>NaN</td>\n",
       "      <td>NaN</td>\n",
       "      <td>0</td>\n",
       "      <td>12</td>\n",
       "      <td>2008</td>\n",
       "      <td>WD</td>\n",
       "      <td>Normal</td>\n",
       "      <td>250000</td>\n",
       "    </tr>\n",
       "  </tbody>\n",
       "</table>\n",
       "<p>5 rows × 81 columns</p>\n",
       "</div>"
      ],
      "text/plain": [
       "   Id  MSSubClass MSZoning  LotFrontage  LotArea Street Alley LotShape  \\\n",
       "0   1          60       RL         65.0     8450   Pave   NaN      Reg   \n",
       "1   2          20       RL         80.0     9600   Pave   NaN      Reg   \n",
       "2   3          60       RL         68.0    11250   Pave   NaN      IR1   \n",
       "3   4          70       RL         60.0     9550   Pave   NaN      IR1   \n",
       "4   5          60       RL         84.0    14260   Pave   NaN      IR1   \n",
       "\n",
       "  LandContour Utilities  ... PoolArea PoolQC Fence MiscFeature MiscVal MoSold  \\\n",
       "0         Lvl    AllPub  ...        0    NaN   NaN         NaN       0      2   \n",
       "1         Lvl    AllPub  ...        0    NaN   NaN         NaN       0      5   \n",
       "2         Lvl    AllPub  ...        0    NaN   NaN         NaN       0      9   \n",
       "3         Lvl    AllPub  ...        0    NaN   NaN         NaN       0      2   \n",
       "4         Lvl    AllPub  ...        0    NaN   NaN         NaN       0     12   \n",
       "\n",
       "  YrSold  SaleType  SaleCondition  SalePrice  \n",
       "0   2008        WD         Normal     208500  \n",
       "1   2007        WD         Normal     181500  \n",
       "2   2008        WD         Normal     223500  \n",
       "3   2006        WD        Abnorml     140000  \n",
       "4   2008        WD         Normal     250000  \n",
       "\n",
       "[5 rows x 81 columns]"
      ]
     },
     "execution_count": 27,
     "metadata": {},
     "output_type": "execute_result"
    }
   ],
   "source": [
    "train_data.head()"
   ]
  },
  {
   "cell_type": "code",
   "execution_count": 28,
   "id": "4f653e4e",
   "metadata": {
    "scrolled": true
   },
   "outputs": [
    {
     "data": {
      "text/plain": [
       "36"
      ]
     },
     "execution_count": 28,
     "metadata": {},
     "output_type": "execute_result"
    }
   ],
   "source": [
    "import numpy as np\n",
    "good_columns = [i for i, j in zip(train_data.columns, train_data.dtypes) if j in [np.int64, np.float64] and (not i in ['Id', 'SalePrice'])]\n",
    "len(good_columns)"
   ]
  },
  {
   "cell_type": "code",
   "execution_count": 129,
   "id": "0aa45ce2",
   "metadata": {},
   "outputs": [],
   "source": [
    "from sklearn.linear_model import LinearRegression, Ridge\n",
    "from sklearn.metrics import mean_squared_error as mse\n",
    "from sklearn.metrics import r2_score\n",
    "\n",
    "from sklearn.preprocessing import PolynomialFeatures\n",
    "\n",
    "x_train = train_data[good_columns].fillna(0)\n",
    "x_test = test_data[good_columns].fillna(0)\n",
    "\n",
    "# pf = PolynomialFeatures(degree=3).fit(x_train)\n",
    "# x_train = pf.transform(x_train)\n",
    "# x_test = pf.transform(x_test)\n",
    "\n",
    "# def sigma(x):\n",
    "#     return 1 / (1 + np.exp(-x))\n",
    "\n",
    "# x_train = np.append(x_train.values, np.log(x_train.values + 1), axis=1)\n",
    "# x_test = np.append(x_test.values, np.log(x_test.values + 1), axis=1)"
   ]
  },
  {
   "cell_type": "code",
   "execution_count": 130,
   "id": "f8bb7145",
   "metadata": {},
   "outputs": [
    {
     "data": {
      "text/plain": [
       "(1460, 36)"
      ]
     },
     "execution_count": 130,
     "metadata": {},
     "output_type": "execute_result"
    }
   ],
   "source": [
    "x_train.shape"
   ]
  },
  {
   "cell_type": "code",
   "execution_count": 131,
   "id": "e785ac10",
   "metadata": {},
   "outputs": [],
   "source": [
    "# x + x^2 + x^3"
   ]
  },
  {
   "cell_type": "code",
   "execution_count": 132,
   "id": "36484bd5",
   "metadata": {},
   "outputs": [],
   "source": [
    "from sklearn.model_selection import train_test_split"
   ]
  },
  {
   "cell_type": "code",
   "execution_count": 133,
   "id": "16530f83",
   "metadata": {},
   "outputs": [],
   "source": [
    "x_tr, x_val, y_tr, y_val = train_test_split(x_train, y_train, test_size=0.3)"
   ]
  },
  {
   "cell_type": "code",
   "execution_count": 134,
   "id": "e74e8faf",
   "metadata": {
    "scrolled": true
   },
   "outputs": [],
   "source": [
    "# reg = LinearRegression().fit(x_train, y_train)\n",
    "\n",
    "# y_train_pred = reg.predict(x_train)\n",
    "\n",
    "# mse(y_train, y_train_pred) ** 0.5, r2_score(y_train, y_train_pred)"
   ]
  },
  {
   "cell_type": "code",
   "execution_count": 138,
   "id": "002c79cf",
   "metadata": {
    "scrolled": true
   },
   "outputs": [
    {
     "data": {
      "text/plain": [
       "(0.1476225978721617, 0.8560651948710701)"
      ]
     },
     "execution_count": 138,
     "metadata": {},
     "output_type": "execute_result"
    }
   ],
   "source": [
    "reg = LinearRegression().fit(x_tr, y_tr)\n",
    "y_train_pred = reg.predict(x_tr)\n",
    "mse(y_tr, y_train_pred) ** 0.5, r2_score(y_tr, y_train_pred)"
   ]
  },
  {
   "cell_type": "code",
   "execution_count": 137,
   "id": "9ccfaf37",
   "metadata": {},
   "outputs": [
    {
     "data": {
      "text/plain": [
       "(0.14312424912933516, 0.8850447425368378)"
      ]
     },
     "execution_count": 137,
     "metadata": {},
     "output_type": "execute_result"
    }
   ],
   "source": [
    "y_val_pred = reg.predict(x_val)\n",
    "mse(y_val, y_val_pred) ** 0.5, r2_score(y_val, y_val_pred)"
   ]
  },
  {
   "cell_type": "markdown",
   "id": "726d38f4",
   "metadata": {},
   "source": [
    "# cross validation"
   ]
  },
  {
   "cell_type": "code",
   "execution_count": 178,
   "id": "6c628bc5",
   "metadata": {
    "scrolled": true
   },
   "outputs": [
    {
     "name": "stderr",
     "output_type": "stream",
     "text": [
      "C:\\Users\\Wailt\\AppData\\Local\\Programs\\Python\\Python310\\lib\\site-packages\\sklearn\\base.py:443: UserWarning: X has feature names, but LinearRegression was fitted without feature names\n",
      "  warnings.warn(\n",
      "C:\\Users\\Wailt\\AppData\\Local\\Programs\\Python\\Python310\\lib\\site-packages\\sklearn\\base.py:443: UserWarning: X has feature names, but LinearRegression was fitted without feature names\n",
      "  warnings.warn(\n",
      "C:\\Users\\Wailt\\AppData\\Local\\Programs\\Python\\Python310\\lib\\site-packages\\sklearn\\base.py:443: UserWarning: X has feature names, but LinearRegression was fitted without feature names\n",
      "  warnings.warn(\n",
      "C:\\Users\\Wailt\\AppData\\Local\\Programs\\Python\\Python310\\lib\\site-packages\\sklearn\\base.py:443: UserWarning: X has feature names, but LinearRegression was fitted without feature names\n",
      "  warnings.warn(\n",
      "C:\\Users\\Wailt\\AppData\\Local\\Programs\\Python\\Python310\\lib\\site-packages\\sklearn\\base.py:443: UserWarning: X has feature names, but LinearRegression was fitted without feature names\n",
      "  warnings.warn(\n",
      "C:\\Users\\Wailt\\AppData\\Local\\Programs\\Python\\Python310\\lib\\site-packages\\sklearn\\base.py:443: UserWarning: X has feature names, but LinearRegression was fitted without feature names\n",
      "  warnings.warn(\n",
      "C:\\Users\\Wailt\\AppData\\Local\\Programs\\Python\\Python310\\lib\\site-packages\\sklearn\\base.py:443: UserWarning: X has feature names, but LinearRegression was fitted without feature names\n",
      "  warnings.warn(\n",
      "C:\\Users\\Wailt\\AppData\\Local\\Programs\\Python\\Python310\\lib\\site-packages\\sklearn\\base.py:443: UserWarning: X has feature names, but LinearRegression was fitted without feature names\n",
      "  warnings.warn(\n",
      "C:\\Users\\Wailt\\AppData\\Local\\Programs\\Python\\Python310\\lib\\site-packages\\sklearn\\base.py:443: UserWarning: X has feature names, but LinearRegression was fitted without feature names\n",
      "  warnings.warn(\n",
      "C:\\Users\\Wailt\\AppData\\Local\\Programs\\Python\\Python310\\lib\\site-packages\\sklearn\\base.py:443: UserWarning: X has feature names, but LinearRegression was fitted without feature names\n",
      "  warnings.warn(\n",
      "C:\\Users\\Wailt\\AppData\\Local\\Programs\\Python\\Python310\\lib\\site-packages\\sklearn\\base.py:443: UserWarning: X has feature names, but LinearRegression was fitted without feature names\n",
      "  warnings.warn(\n",
      "C:\\Users\\Wailt\\AppData\\Local\\Programs\\Python\\Python310\\lib\\site-packages\\sklearn\\base.py:443: UserWarning: X has feature names, but LinearRegression was fitted without feature names\n",
      "  warnings.warn(\n"
     ]
    }
   ],
   "source": [
    "from sklearn.model_selection import KFold\n",
    "\n",
    "data = []\n",
    "models = []\n",
    "test_predicts = []\n",
    "train_predicts = []\n",
    "\n",
    "\n",
    "cv = KFold(n_splits=6)\n",
    "k = 0\n",
    "for tr_i, val_i in cv.split(x_train):\n",
    "    x_tr = x_train.values[tr_i]\n",
    "    x_val = x_train.values[val_i]\n",
    "    \n",
    "    y_tr = y_train[tr_i]\n",
    "    y_val = y_train[val_i]   \n",
    "    \n",
    "    reg = LinearRegression().fit(x_tr, y_tr)\n",
    "    y_train_pred = reg.predict(x_tr)\n",
    "    y_val_pred = reg.predict(x_val)\n",
    "    \n",
    "    mse_tr = mse(y_tr, y_train_pred) ** 0.5\n",
    "    mse_val = mse(y_val, y_val_pred) ** 0.5    \n",
    "    \n",
    "    data.append({'mse_tr': mse_tr, 'mse_val': mse_val, 'fold': k})\n",
    "    models.append(reg)\n",
    "    \n",
    "    train_predicts.append(reg.predict(x_train))\n",
    "    test_predicts.append(reg.predict(x_test))\n",
    "    \n",
    "    k += 1"
   ]
  },
  {
   "cell_type": "code",
   "execution_count": 179,
   "id": "b13dc0f4",
   "metadata": {},
   "outputs": [
    {
     "data": {
      "text/plain": [
       "mse_tr     0.143611\n",
       "mse_val    0.155261\n",
       "fold       2.500000\n",
       "dtype: float64"
      ]
     },
     "execution_count": 179,
     "metadata": {},
     "output_type": "execute_result"
    }
   ],
   "source": [
    "import pandas as pd\n",
    "qualities = pd.DataFrame(data)\n",
    "qualities.mean()"
   ]
  },
  {
   "cell_type": "code",
   "execution_count": 166,
   "id": "87c02532",
   "metadata": {},
   "outputs": [
    {
     "data": {
      "text/plain": [
       "0.14485137666885134"
      ]
     },
     "execution_count": 166,
     "metadata": {},
     "output_type": "execute_result"
    }
   ],
   "source": [
    "mse_tr = mse(y_train, np.array(train_predicts).mean(axis=0)) ** 0.5\n",
    "# mse_val = mse(y_val, np.array(test_predicts).mean(axis=0)) ** 0.5  \n",
    "\n",
    "mse_tr"
   ]
  },
  {
   "cell_type": "markdown",
   "id": "48c3efeb",
   "metadata": {},
   "source": [
    "# Bootstrap (nonparametric)"
   ]
  },
  {
   "cell_type": "code",
   "execution_count": 222,
   "id": "1d99c3a2",
   "metadata": {},
   "outputs": [],
   "source": [
    "from sklearn.model_selection import KFold\n",
    "\n",
    "data = []\n",
    "models = []\n",
    "test_predicts = []\n",
    "train_predicts = []\n",
    "\n",
    "N = 10\n",
    "for k in range(N):\n",
    "    x_tr, x_val, y_tr, y_val = train_test_split(x_train, y_train, test_size=0.2)\n",
    "    \n",
    "    reg = LinearRegression().fit(x_tr, y_tr)\n",
    "    y_train_pred = reg.predict(x_tr)\n",
    "    y_val_pred = reg.predict(x_val)\n",
    "    \n",
    "    mse_tr = mse(y_tr, y_train_pred) ** 0.5\n",
    "    mse_val = mse(y_val, y_val_pred) ** 0.5    \n",
    "    \n",
    "    data.append({'mse_tr': mse_tr, 'mse_val': mse_val, 'fold': k})\n",
    "    models.append(reg)\n",
    "    \n",
    "    train_predicts.append(reg.predict(x_train))\n",
    "    test_predicts.append(reg.predict(x_test))"
   ]
  },
  {
   "cell_type": "code",
   "execution_count": 223,
   "id": "96aec496",
   "metadata": {},
   "outputs": [
    {
     "data": {
      "text/plain": [
       "mse_tr     0.145275\n",
       "mse_val    0.146890\n",
       "fold       4.500000\n",
       "dtype: float64"
      ]
     },
     "execution_count": 223,
     "metadata": {},
     "output_type": "execute_result"
    }
   ],
   "source": [
    "qualities = pd.DataFrame(data)\n",
    "qualities.mean()"
   ]
  },
  {
   "cell_type": "code",
   "execution_count": 224,
   "id": "57aeca37",
   "metadata": {},
   "outputs": [],
   "source": [
    "y_test = np.array(test_predicts).mean(axis=0)#reg.predict(x_test)"
   ]
  },
  {
   "cell_type": "code",
   "execution_count": 225,
   "id": "679940ff",
   "metadata": {},
   "outputs": [],
   "source": [
    "res = pd.DataFrame()\n",
    "res['Id'] = test_data['Id']\n",
    "res['SalePrice'] = np.exp(y_test)"
   ]
  },
  {
   "cell_type": "code",
   "execution_count": 226,
   "id": "55775718",
   "metadata": {},
   "outputs": [],
   "source": [
    "res.to_csv('ensamble.csv', index=False)"
   ]
  },
  {
   "cell_type": "markdown",
   "id": "75cd638f",
   "metadata": {},
   "source": [
    "# Feature selector"
   ]
  },
  {
   "cell_type": "code",
   "execution_count": 227,
   "id": "18507c63",
   "metadata": {},
   "outputs": [
    {
     "data": {
      "text/plain": [
       "36"
      ]
     },
     "execution_count": 227,
     "metadata": {},
     "output_type": "execute_result"
    }
   ],
   "source": [
    "x_train.shape[1]"
   ]
  },
  {
   "cell_type": "code",
   "execution_count": 248,
   "id": "fd600123",
   "metadata": {
    "scrolled": true
   },
   "outputs": [],
   "source": [
    "from sklearn.model_selection import KFold\n",
    "\n",
    "x_tr_, x_val_, y_tr, y_val = train_test_split(x_train, y_train, test_size=0.3)\n",
    "\n",
    "data = []\n",
    "\n",
    "reg = LinearRegression().fit(x_tr_, y_tr)\n",
    "y_val_all_pred = reg.predict(x_val_)\n",
    "y_tr_all_pred = reg.predict(x_tr_)\n",
    "\n",
    "mse_val_all = mse(y_val, y_val_all_pred) ** 0.5\n",
    "mse_tr_all = mse(y_tr, y_tr_all_pred) ** 0.5\n",
    "\n",
    "for i in range(x_train.shape[1]):\n",
    "    x_tr = np.delete(x_tr_.values, i, axis=1)\n",
    "    x_val = np.delete(x_val_.values, i, axis=1)\n",
    "    \n",
    "    reg = LinearRegression().fit(x_tr, y_tr)\n",
    "    y_tr_pred = reg.predict(x_tr)\n",
    "    y_val_pred = reg.predict(x_val)\n",
    "    \n",
    "    \n",
    "    mse_val = mse(y_val, y_val_pred) ** 0.5\n",
    "    mse_tr = mse(y_tr, y_tr_pred) ** 0.5\n",
    "\n",
    "    data.append({'mse_val': mse_val, 'mse_tr': mse_tr, 'feature': i})"
   ]
  },
  {
   "cell_type": "code",
   "execution_count": 246,
   "id": "2e14d7a4",
   "metadata": {},
   "outputs": [],
   "source": [
    "res = pd.DataFrame(data)"
   ]
  },
  {
   "cell_type": "code",
   "execution_count": 252,
   "id": "e5096405",
   "metadata": {},
   "outputs": [
    {
     "data": {
      "text/plain": [
       "<matplotlib.legend.Legend at 0x1e356d06ec0>"
      ]
     },
     "execution_count": 252,
     "metadata": {},
     "output_type": "execute_result"
    },
    {
     "data": {
      "image/png": "[encoded data removed]",
      "text/plain": [
       "<Figure size 432x288 with 1 Axes>"
      ]
     },
     "metadata": {
      "needs_background": "light"
     },
     "output_type": "display_data"
    }
   ],
   "source": [
    "from matplotlib import pyplot as plt\n",
    "plt.plot(res['mse_val'] / mse_val_all)\n",
    "plt.plot(res['mse_tr'] / mse_tr_all)\n",
    "plt.legend(['val', 'tr'])"
   ]
  },
  {
   "cell_type": "code",
   "execution_count": null,
   "id": "877f76ac",
   "metadata": {},
   "outputs": [],
   "source": []
  }
 ],
 "metadata": {
  "kernelspec": {
   "display_name": "Python 3",
   "language": "python",
   "name": "python3"
  },
  "language_info": {
   "codemirror_mode": {
    "name": "ipython",
    "version": 3
   },
   "file_extension": ".py",
   "mimetype": "text/x-python",
   "name": "python",
   "nbconvert_exporter": "python",
   "pygments_lexer": "ipython3",
   "version": "3.10.4"
  }
 },
 "nbformat": 4,
 "nbformat_minor": 5
}
