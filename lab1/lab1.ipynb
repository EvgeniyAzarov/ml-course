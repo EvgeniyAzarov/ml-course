{
 "cells": [
  {
   "cell_type": "markdown",
   "id": "8a586719-86cb-40ef-8a5d-efaaa20c2b86",
   "metadata": {},
   "source": [
    "# Lab 1. Linear regression"
   ]
  },
  {
   "cell_type": "markdown",
   "id": "00b99ee8-efba-4b90-bc2e-0e94c34bc505",
   "metadata": {},
   "source": [
    "## Setting"
   ]
  },
  {
   "cell_type": "code",
   "execution_count": 231,
   "id": "0788cc53-90cc-4bda-af5c-e14a1b245ed4",
   "metadata": {},
   "outputs": [],
   "source": [
    "import numpy as np\n",
    "import pandas as pd\n",
    "import seaborn as sns\n",
    "import matplotlib.pyplot as plt\n",
    "plt.rcParams['figure.figsize'] = (20, 6)"
   ]
  },
  {
   "cell_type": "markdown",
   "id": "ed8e462b-8542-403d-9279-a03ffb73fed9",
   "metadata": {},
   "source": [
    "## Data"
   ]
  },
  {
   "cell_type": "code",
   "execution_count": 232,
   "id": "c531ff23-a100-40f0-8ea3-b6e202eaee6f",
   "metadata": {},
   "outputs": [
    {
     "data": {
      "text/html": [
       "<div>\n",
       "<style scoped>\n",
       "    .dataframe tbody tr th:only-of-type {\n",
       "        vertical-align: middle;\n",
       "    }\n",
       "\n",
       "    .dataframe tbody tr th {\n",
       "        vertical-align: top;\n",
       "    }\n",
       "\n",
       "    .dataframe thead th {\n",
       "        text-align: right;\n",
       "    }\n",
       "</style>\n",
       "<table border=\"1\" class=\"dataframe\">\n",
       "  <thead>\n",
       "    <tr style=\"text-align: right;\">\n",
       "      <th></th>\n",
       "      <th>zipcode</th>\n",
       "      <th>race</th>\n",
       "      <th>fire</th>\n",
       "      <th>theft</th>\n",
       "      <th>age</th>\n",
       "      <th>volact</th>\n",
       "      <th>involact</th>\n",
       "      <th>income</th>\n",
       "    </tr>\n",
       "  </thead>\n",
       "  <tbody>\n",
       "    <tr>\n",
       "      <th>0</th>\n",
       "      <td>60626</td>\n",
       "      <td>10.0</td>\n",
       "      <td>6.2</td>\n",
       "      <td>29</td>\n",
       "      <td>60.4</td>\n",
       "      <td>5.3</td>\n",
       "      <td>0.0</td>\n",
       "      <td>11744</td>\n",
       "    </tr>\n",
       "    <tr>\n",
       "      <th>1</th>\n",
       "      <td>60640</td>\n",
       "      <td>22.2</td>\n",
       "      <td>9.5</td>\n",
       "      <td>44</td>\n",
       "      <td>76.5</td>\n",
       "      <td>3.1</td>\n",
       "      <td>0.1</td>\n",
       "      <td>9323</td>\n",
       "    </tr>\n",
       "    <tr>\n",
       "      <th>2</th>\n",
       "      <td>60613</td>\n",
       "      <td>19.6</td>\n",
       "      <td>10.5</td>\n",
       "      <td>36</td>\n",
       "      <td>73.5</td>\n",
       "      <td>4.8</td>\n",
       "      <td>1.2</td>\n",
       "      <td>9948</td>\n",
       "    </tr>\n",
       "    <tr>\n",
       "      <th>3</th>\n",
       "      <td>60657</td>\n",
       "      <td>17.3</td>\n",
       "      <td>7.7</td>\n",
       "      <td>37</td>\n",
       "      <td>66.9</td>\n",
       "      <td>5.7</td>\n",
       "      <td>0.5</td>\n",
       "      <td>10656</td>\n",
       "    </tr>\n",
       "    <tr>\n",
       "      <th>4</th>\n",
       "      <td>60614</td>\n",
       "      <td>24.5</td>\n",
       "      <td>8.6</td>\n",
       "      <td>53</td>\n",
       "      <td>81.4</td>\n",
       "      <td>5.9</td>\n",
       "      <td>0.7</td>\n",
       "      <td>9730</td>\n",
       "    </tr>\n",
       "  </tbody>\n",
       "</table>\n",
       "</div>"
      ],
      "text/plain": [
       "   zipcode  race  fire  theft   age  volact  involact  income\n",
       "0    60626  10.0   6.2     29  60.4     5.3       0.0   11744\n",
       "1    60640  22.2   9.5     44  76.5     3.1       0.1    9323\n",
       "2    60613  19.6  10.5     36  73.5     4.8       1.2    9948\n",
       "3    60657  17.3   7.7     37  66.9     5.7       0.5   10656\n",
       "4    60614  24.5   8.6     53  81.4     5.9       0.7    9730"
      ]
     },
     "execution_count": 232,
     "metadata": {},
     "output_type": "execute_result"
    }
   ],
   "source": [
    "df = pd.read_csv('Chicago.csv')\n",
    "df.head()"
   ]
  },
  {
   "cell_type": "code",
   "execution_count": 233,
   "id": "4e92384d-4216-4ff9-aeb9-3f4cfa7fb726",
   "metadata": {},
   "outputs": [
    {
     "data": {
      "text/plain": [
       "zipcode     False\n",
       "race        False\n",
       "fire        False\n",
       "theft       False\n",
       "age         False\n",
       "volact      False\n",
       "involact    False\n",
       "income      False\n",
       "dtype: bool"
      ]
     },
     "execution_count": 233,
     "metadata": {},
     "output_type": "execute_result"
    }
   ],
   "source": [
    "df.isna().any()"
   ]
  },
  {
   "cell_type": "markdown",
   "id": "03bc5dbe-c094-4f34-bd7d-0f5232292b35",
   "metadata": {},
   "source": [
    "For correlation analysis exlude zipcode, since its numerical value has no sense "
   ]
  },
  {
   "cell_type": "code",
   "execution_count": 234,
   "id": "4783aa69-b167-4443-b486-f5776fe13cf9",
   "metadata": {},
   "outputs": [],
   "source": [
    "corr = df.drop(\"zipcode\", axis=1).corr()"
   ]
  },
  {
   "cell_type": "code",
   "execution_count": 235,
   "id": "21cb0958-a652-4343-9f7f-d7da7e2d1395",
   "metadata": {},
   "outputs": [
    {
     "data": {
      "image/png": "[encoded data removed]",
      "text/plain": [
       "<Figure size 1440x432 with 2 Axes>"
      ]
     },
     "metadata": {
      "needs_background": "light"
     },
     "output_type": "display_data"
    }
   ],
   "source": [
    "hmap = sns.heatmap(corr, square=True, linewidths=0.5, cmap=sns.diverging_palette(20, 220, n=256), annot=corr, vmin=-1, vmax=1, center=0)\n",
    "hmap.set_title('Pairwise correlations')\n",
    "plt.show()"
   ]
  },
  {
   "cell_type": "code",
   "execution_count": 236,
   "id": "1878811e-9ea0-42d3-bc85-3cbb1371f771",
   "metadata": {},
   "outputs": [],
   "source": [
    "y = df['involact']\n",
    "x = df.drop(columns=['involact', 'zipcode'])"
   ]
  },
  {
   "cell_type": "markdown",
   "id": "490310b4-9c0e-42c7-99bd-1c23fd729446",
   "metadata": {},
   "source": [
    "## LSE "
   ]
  },
  {
   "cell_type": "code",
   "execution_count": 237,
   "id": "15dbee20-9fca-4a31-bcab-3427234ddbe6",
   "metadata": {},
   "outputs": [],
   "source": [
    "from sklearn.model_selection import train_test_split"
   ]
  },
  {
   "cell_type": "code",
   "execution_count": 238,
   "id": "5891dec2-da33-41c8-8686-aeeec4c954b5",
   "metadata": {},
   "outputs": [],
   "source": [
    "x_train, x_test, y_train, y_test = train_test_split(x, y, test_size=0.2)"
   ]
  },
  {
   "cell_type": "code",
   "execution_count": 239,
   "id": "0c7c11e6-1d06-49a5-8bbe-07a87f7854f6",
   "metadata": {},
   "outputs": [],
   "source": [
    "from sklearn.linear_model import LinearRegression"
   ]
  },
  {
   "cell_type": "code",
   "execution_count": 240,
   "id": "64464008-86af-4387-8d59-62e908f55049",
   "metadata": {},
   "outputs": [
    {
     "data": {
      "text/plain": [
       "LinearRegression()"
      ]
     },
     "execution_count": 240,
     "metadata": {},
     "output_type": "execute_result"
    }
   ],
   "source": [
    "reg = LinearRegression()\n",
    "reg.fit(x_train, y_train)"
   ]
  },
  {
   "cell_type": "code",
   "execution_count": 241,
   "id": "8d3596cc-2420-4656-abb1-74c8fe20422e",
   "metadata": {},
   "outputs": [],
   "source": [
    "y_train_pred = reg.predict(x_train)\n",
    "y_test_pred = reg.predict(x_test)"
   ]
  },
  {
   "cell_type": "code",
   "execution_count": 242,
   "id": "eaa6c12c-626c-4a80-8650-2aea64601ce4",
   "metadata": {},
   "outputs": [
    {
     "data": {
      "image/png": "[encoded data removed]",
      "text/plain": [
       "<Figure size 1440x432 with 1 Axes>"
      ]
     },
     "metadata": {
      "needs_background": "light"
     },
     "output_type": "display_data"
    }
   ],
   "source": [
    "plt.scatter(y_train, y_train_pred)\n",
    "plt.plot([0, 2.5], [0, 2.5], color='black')\n",
    "plt.show()"
   ]
  },
  {
   "cell_type": "code",
   "execution_count": 243,
   "id": "725b2da9-4254-41d1-9688-c925b483aa4a",
   "metadata": {},
   "outputs": [
    {
     "data": {
      "image/png": "[encoded data removed]",
      "text/plain": [
       "<Figure size 1440x432 with 1 Axes>"
      ]
     },
     "metadata": {
      "needs_background": "light"
     },
     "output_type": "display_data"
    }
   ],
   "source": [
    "plt.scatter(y_test, y_test_pred)\n",
    "plt.plot([0, 2.5], [0, 2.5], color='black')\n",
    "plt.show()"
   ]
  },
  {
   "cell_type": "markdown",
   "id": "1578af08-f1da-422d-be12-96a0a636f82a",
   "metadata": {},
   "source": [
    "### Metrics"
   ]
  },
  {
   "cell_type": "code",
   "execution_count": 244,
   "id": "654230fe-d36d-43a0-bc74-3593391b7708",
   "metadata": {},
   "outputs": [],
   "source": [
    "models_metrics = []"
   ]
  },
  {
   "cell_type": "code",
   "execution_count": 245,
   "id": "ec258ee8-4dce-471a-9464-6501cf2b486e",
   "metadata": {},
   "outputs": [],
   "source": [
    "lr = {}\n",
    "lr['model'] = 'LinearRegression()'"
   ]
  },
  {
   "cell_type": "code",
   "execution_count": 246,
   "id": "b0c0634c-152b-4a8d-8497-d4e02eb57c42",
   "metadata": {},
   "outputs": [],
   "source": [
    "from sklearn.metrics import mean_squared_error\n",
    "from sklearn.metrics import r2_score"
   ]
  },
  {
   "cell_type": "markdown",
   "id": "b57e2bda-63f9-45dd-ba80-92d7e4910ca3",
   "metadata": {},
   "source": [
    "Total sum of squares"
   ]
  },
  {
   "cell_type": "code",
   "execution_count": 247,
   "id": "358ff420-17a8-475f-93b5-30254a3e1cb7",
   "metadata": {},
   "outputs": [
    {
     "data": {
      "text/plain": [
       "3.605"
      ]
     },
     "execution_count": 247,
     "metadata": {},
     "output_type": "execute_result"
    }
   ],
   "source": [
    "ss_tot = ((y_test - y_test.mean()) ** 2).sum()\n",
    "ss_tot"
   ]
  },
  {
   "cell_type": "markdown",
   "id": "5b4df413-6c31-42d4-bc9d-46c5b2ab55fa",
   "metadata": {},
   "source": [
    "Residual sum of squares"
   ]
  },
  {
   "cell_type": "code",
   "execution_count": 248,
   "id": "c3e0e9a3-79f2-4a75-9d0a-6d3f97ecf701",
   "metadata": {},
   "outputs": [
    {
     "data": {
      "text/plain": [
       "0.4322186029099767"
      ]
     },
     "execution_count": 248,
     "metadata": {},
     "output_type": "execute_result"
    }
   ],
   "source": [
    "ss_res = ((y_test_pred - y_test) ** 2).sum()\n",
    "ss_res"
   ]
  },
  {
   "cell_type": "markdown",
   "id": "2ad523c9-b4d5-43cc-b5e4-b711a52a8e06",
   "metadata": {},
   "source": [
    "$R^2$ score (doesn't look good)"
   ]
  },
  {
   "cell_type": "code",
   "execution_count": 249,
   "id": "91186133-fbac-4ecd-85e5-b39b0cbe60b6",
   "metadata": {},
   "outputs": [
    {
     "data": {
      "text/plain": [
       "0.8801057966962617"
      ]
     },
     "execution_count": 249,
     "metadata": {},
     "output_type": "execute_result"
    }
   ],
   "source": [
    "1 - ss_res / ss_tot"
   ]
  },
  {
   "cell_type": "code",
   "execution_count": 250,
   "id": "d0dc8f73-90da-4142-b5fc-efcf73f6f011",
   "metadata": {},
   "outputs": [
    {
     "data": {
      "text/plain": [
       "0.8801057966962617"
      ]
     },
     "execution_count": 250,
     "metadata": {},
     "output_type": "execute_result"
    }
   ],
   "source": [
    "r2_score(y_test, y_test_pred)"
   ]
  },
  {
   "cell_type": "code",
   "execution_count": 251,
   "id": "44ce7344-cc15-49b3-8e2d-03cb4d8d00e7",
   "metadata": {},
   "outputs": [],
   "source": [
    "lr['r2_score test'] = r2_score(y_test, y_test_pred)\n",
    "lr['r2_score train'] = r2_score(y_train, y_train_pred)"
   ]
  },
  {
   "cell_type": "markdown",
   "id": "1948a84d-ac2d-41ad-8a2d-62ca0cfc50c0",
   "metadata": {},
   "source": [
    "Variance of prediction"
   ]
  },
  {
   "cell_type": "code",
   "execution_count": 252,
   "id": "841190a0-96de-4132-aa66-de595de16d19",
   "metadata": {},
   "outputs": [
    {
     "data": {
      "text/plain": [
       "0.16482414638939097"
      ]
     },
     "execution_count": 252,
     "metadata": {},
     "output_type": "execute_result"
    }
   ],
   "source": [
    "(y_test_pred - y_test_pred.mean() ** 2).mean()"
   ]
  },
  {
   "cell_type": "code",
   "execution_count": 253,
   "id": "3f71f258-12c9-45c4-8025-174fee38494b",
   "metadata": {},
   "outputs": [],
   "source": [
    "lr['var test'] = y_test_pred.var()\n",
    "lr['var train'] = y_train_pred.var()"
   ]
  },
  {
   "cell_type": "markdown",
   "id": "a8344a1e-c052-4eb7-8138-65b7d73eba59",
   "metadata": {},
   "source": [
    "mse"
   ]
  },
  {
   "cell_type": "code",
   "execution_count": 254,
   "id": "fa196bc1-5143-4ab7-88e1-94be0211a4a3",
   "metadata": {},
   "outputs": [
    {
     "data": {
      "text/plain": [
       "0.04322186029099767"
      ]
     },
     "execution_count": 254,
     "metadata": {},
     "output_type": "execute_result"
    }
   ],
   "source": [
    "mean_squared_error(y_test_pred, y_test)"
   ]
  },
  {
   "cell_type": "code",
   "execution_count": 255,
   "id": "1ae86707-4eea-479a-af37-d6e2d008cff1",
   "metadata": {},
   "outputs": [],
   "source": [
    "lr['mse train'] = mean_squared_error(y_train, y_train_pred)\n",
    "lr['mse test'] = mean_squared_error(y_test, y_test_pred)"
   ]
  },
  {
   "cell_type": "code",
   "execution_count": 256,
   "id": "1e701169-81f6-4a69-b6c4-4336af05a16e",
   "metadata": {},
   "outputs": [],
   "source": [
    "models_metrics.append(lr)"
   ]
  },
  {
   "cell_type": "markdown",
   "id": "be03f6dc-e40b-4cfa-a983-4e4e8b43e9fb",
   "metadata": {},
   "source": [
    "F-test"
   ]
  },
  {
   "cell_type": "code",
   "execution_count": 257,
   "id": "edef3476-8fed-44cc-9c3e-8bc85057c561",
   "metadata": {},
   "outputs": [],
   "source": [
    "from sklearn.feature_selection import SelectKBest\n",
    "from sklearn.feature_selection import f_regression"
   ]
  },
  {
   "cell_type": "code",
   "execution_count": 258,
   "id": "98f3185a-dcdd-40ad-b247-60281cb10177",
   "metadata": {},
   "outputs": [],
   "source": [
    "fval, pval = f_regression(x_train, y_train)"
   ]
  },
  {
   "cell_type": "code",
   "execution_count": 259,
   "id": "dce74087-1421-4663-90ec-4045f8de1f2f",
   "metadata": {},
   "outputs": [
    {
     "data": {
      "text/plain": [
       "array([34.64954394, 24.50822078,  0.70575151, 14.7210013 , 40.50608052,\n",
       "       23.81090835])"
      ]
     },
     "execution_count": 259,
     "metadata": {},
     "output_type": "execute_result"
    }
   ],
   "source": [
    "fval"
   ]
  },
  {
   "cell_type": "code",
   "execution_count": 260,
   "id": "32fc0832-2b93-4036-a38c-c45f56e3beae",
   "metadata": {},
   "outputs": [
    {
     "data": {
      "text/html": [
       "<div>\n",
       "<style scoped>\n",
       "    .dataframe tbody tr th:only-of-type {\n",
       "        vertical-align: middle;\n",
       "    }\n",
       "\n",
       "    .dataframe tbody tr th {\n",
       "        vertical-align: top;\n",
       "    }\n",
       "\n",
       "    .dataframe thead th {\n",
       "        text-align: right;\n",
       "    }\n",
       "</style>\n",
       "<table border=\"1\" class=\"dataframe\">\n",
       "  <thead>\n",
       "    <tr style=\"text-align: right;\">\n",
       "      <th></th>\n",
       "      <th>race</th>\n",
       "      <th>fire</th>\n",
       "      <th>theft</th>\n",
       "      <th>age</th>\n",
       "      <th>volact</th>\n",
       "      <th>income</th>\n",
       "    </tr>\n",
       "  </thead>\n",
       "  <tbody>\n",
       "    <tr>\n",
       "      <th>0</th>\n",
       "      <td>10.0</td>\n",
       "      <td>6.2</td>\n",
       "      <td>29</td>\n",
       "      <td>60.4</td>\n",
       "      <td>5.3</td>\n",
       "      <td>11744</td>\n",
       "    </tr>\n",
       "    <tr>\n",
       "      <th>1</th>\n",
       "      <td>22.2</td>\n",
       "      <td>9.5</td>\n",
       "      <td>44</td>\n",
       "      <td>76.5</td>\n",
       "      <td>3.1</td>\n",
       "      <td>9323</td>\n",
       "    </tr>\n",
       "    <tr>\n",
       "      <th>2</th>\n",
       "      <td>19.6</td>\n",
       "      <td>10.5</td>\n",
       "      <td>36</td>\n",
       "      <td>73.5</td>\n",
       "      <td>4.8</td>\n",
       "      <td>9948</td>\n",
       "    </tr>\n",
       "    <tr>\n",
       "      <th>3</th>\n",
       "      <td>17.3</td>\n",
       "      <td>7.7</td>\n",
       "      <td>37</td>\n",
       "      <td>66.9</td>\n",
       "      <td>5.7</td>\n",
       "      <td>10656</td>\n",
       "    </tr>\n",
       "    <tr>\n",
       "      <th>4</th>\n",
       "      <td>24.5</td>\n",
       "      <td>8.6</td>\n",
       "      <td>53</td>\n",
       "      <td>81.4</td>\n",
       "      <td>5.9</td>\n",
       "      <td>9730</td>\n",
       "    </tr>\n",
       "  </tbody>\n",
       "</table>\n",
       "</div>"
      ],
      "text/plain": [
       "   race  fire  theft   age  volact  income\n",
       "0  10.0   6.2     29  60.4     5.3   11744\n",
       "1  22.2   9.5     44  76.5     3.1    9323\n",
       "2  19.6  10.5     36  73.5     4.8    9948\n",
       "3  17.3   7.7     37  66.9     5.7   10656\n",
       "4  24.5   8.6     53  81.4     5.9    9730"
      ]
     },
     "execution_count": 260,
     "metadata": {},
     "output_type": "execute_result"
    }
   ],
   "source": [
    "x.head()"
   ]
  },
  {
   "cell_type": "markdown",
   "id": "67c6a5e1-0c25-4f0d-bfac-a747e1ddcbc0",
   "metadata": {},
   "source": [
    "As we can see from calculated F-statistics, the most valuable features are `volact`, `race` and `income`"
   ]
  },
  {
   "cell_type": "markdown",
   "id": "c08162a2-11fa-4372-a0d6-228efcc32fbb",
   "metadata": {},
   "source": [
    "## Ridge regression"
   ]
  },
  {
   "cell_type": "code",
   "execution_count": 261,
   "id": "2fcf4e2d-4235-40d9-a77b-6b842f0d98e6",
   "metadata": {},
   "outputs": [],
   "source": [
    "from sklearn.linear_model import Ridge"
   ]
  },
  {
   "cell_type": "code",
   "execution_count": 262,
   "id": "85dba3bb-2545-434b-9299-bd6e56904e80",
   "metadata": {},
   "outputs": [],
   "source": [
    "models = {\n",
    "    \"Ridge(a=0.1)\": Ridge(alpha=0.1),\n",
    "    \"Ridge(a=1)\": Ridge(alpha=1),\n",
    "    \"Ridge(a=10)\": Ridge(alpha=10),\n",
    "    \"Ridge(a=100)\": Ridge(alpha=100)\n",
    "}"
   ]
  },
  {
   "cell_type": "code",
   "execution_count": 263,
   "id": "9994363f-4983-4cb7-b0b1-2a1eebd9f63f",
   "metadata": {},
   "outputs": [],
   "source": [
    "for name, model in models.items():\n",
    "    model.fit(x_train, y_train)\n",
    "    y_train_pred = model.predict(x_train)\n",
    "    y_test_pred = model.predict(x_test)\n",
    "    \n",
    "    model_metrics = {}\n",
    "    model_metrics['model'] = name\n",
    "    \n",
    "    model_metrics['r2_score test'] = r2_score(y_test, y_test_pred)\n",
    "    model_metrics['r2_score train'] = r2_score(y_train, y_train_pred)\n",
    "    \n",
    "    model_metrics['mse test'] = mean_squared_error(y_test, y_test_pred)\n",
    "    model_metrics['mse train'] = mean_squared_error(y_train, y_train_pred)\n",
    "    \n",
    "    model_metrics['var test'] = y_test_pred.var()\n",
    "    model_metrics['var train'] = y_train_pred.var()\n",
    "    \n",
    "    models_metrics.append(model_metrics)"
   ]
  },
  {
   "cell_type": "code",
   "execution_count": 264,
   "id": "c0552af9-f2d4-45b0-9f9f-c6f72b429a56",
   "metadata": {},
   "outputs": [
    {
     "data": {
      "text/html": [
       "<div>\n",
       "<style scoped>\n",
       "    .dataframe tbody tr th:only-of-type {\n",
       "        vertical-align: middle;\n",
       "    }\n",
       "\n",
       "    .dataframe tbody tr th {\n",
       "        vertical-align: top;\n",
       "    }\n",
       "\n",
       "    .dataframe thead th {\n",
       "        text-align: right;\n",
       "    }\n",
       "</style>\n",
       "<table border=\"1\" class=\"dataframe\">\n",
       "  <thead>\n",
       "    <tr style=\"text-align: right;\">\n",
       "      <th></th>\n",
       "      <th>model</th>\n",
       "      <th>r2_score test</th>\n",
       "      <th>r2_score train</th>\n",
       "      <th>var test</th>\n",
       "      <th>var train</th>\n",
       "      <th>mse train</th>\n",
       "      <th>mse test</th>\n",
       "    </tr>\n",
       "  </thead>\n",
       "  <tbody>\n",
       "    <tr>\n",
       "      <th>0</th>\n",
       "      <td>LinearRegression()</td>\n",
       "      <td>0.880106</td>\n",
       "      <td>0.714879</td>\n",
       "      <td>0.304882</td>\n",
       "      <td>0.287090</td>\n",
       "      <td>0.114502</td>\n",
       "      <td>0.043222</td>\n",
       "    </tr>\n",
       "    <tr>\n",
       "      <th>1</th>\n",
       "      <td>Ridge(a=0.1)</td>\n",
       "      <td>0.880102</td>\n",
       "      <td>0.714879</td>\n",
       "      <td>0.304858</td>\n",
       "      <td>0.287081</td>\n",
       "      <td>0.114502</td>\n",
       "      <td>0.043223</td>\n",
       "    </tr>\n",
       "    <tr>\n",
       "      <th>2</th>\n",
       "      <td>Ridge(a=1)</td>\n",
       "      <td>0.880070</td>\n",
       "      <td>0.714879</td>\n",
       "      <td>0.304646</td>\n",
       "      <td>0.286999</td>\n",
       "      <td>0.114502</td>\n",
       "      <td>0.043235</td>\n",
       "    </tr>\n",
       "    <tr>\n",
       "      <th>3</th>\n",
       "      <td>Ridge(a=10)</td>\n",
       "      <td>0.879720</td>\n",
       "      <td>0.714867</td>\n",
       "      <td>0.302589</td>\n",
       "      <td>0.286198</td>\n",
       "      <td>0.114507</td>\n",
       "      <td>0.043361</td>\n",
       "    </tr>\n",
       "    <tr>\n",
       "      <th>4</th>\n",
       "      <td>Ridge(a=100)</td>\n",
       "      <td>0.874436</td>\n",
       "      <td>0.713992</td>\n",
       "      <td>0.285991</td>\n",
       "      <td>0.279222</td>\n",
       "      <td>0.114859</td>\n",
       "      <td>0.045266</td>\n",
       "    </tr>\n",
       "  </tbody>\n",
       "</table>\n",
       "</div>"
      ],
      "text/plain": [
       "                model  r2_score test  r2_score train  var test  var train  \\\n",
       "0  LinearRegression()       0.880106        0.714879  0.304882   0.287090   \n",
       "1        Ridge(a=0.1)       0.880102        0.714879  0.304858   0.287081   \n",
       "2          Ridge(a=1)       0.880070        0.714879  0.304646   0.286999   \n",
       "3         Ridge(a=10)       0.879720        0.714867  0.302589   0.286198   \n",
       "4        Ridge(a=100)       0.874436        0.713992  0.285991   0.279222   \n",
       "\n",
       "   mse train  mse test  \n",
       "0   0.114502  0.043222  \n",
       "1   0.114502  0.043223  \n",
       "2   0.114502  0.043235  \n",
       "3   0.114507  0.043361  \n",
       "4   0.114859  0.045266  "
      ]
     },
     "execution_count": 264,
     "metadata": {},
     "output_type": "execute_result"
    }
   ],
   "source": [
    "pd.DataFrame(models_metrics)"
   ]
  },
  {
   "cell_type": "markdown",
   "id": "096264a3-66ab-47a5-9553-d5ecb583a378",
   "metadata": {},
   "source": [
    "As we can see, with varianing $\\alpha$ parameter of ridge regression, all main metrics remains almost the same, except variance, which decreases a bit with $\\alpha=100$ "
   ]
  },
  {
   "cell_type": "markdown",
   "id": "ca71a4fc-4006-4796-94e3-241d81069389",
   "metadata": {},
   "source": [
    "Also it looks like ridge regression shows the same results as usual one"
   ]
  },
  {
   "cell_type": "markdown",
   "id": "00bc9602-9f6c-4c03-9a21-290ce8ea52b3",
   "metadata": {},
   "source": [
    "## Non-linear regression"
   ]
  },
  {
   "cell_type": "code",
   "execution_count": 265,
   "id": "0687b2cf-bd79-41c6-b0e7-d76f8c99de87",
   "metadata": {},
   "outputs": [],
   "source": [
    "from sklearn.preprocessing import PolynomialFeatures"
   ]
  },
  {
   "cell_type": "code",
   "execution_count": 266,
   "id": "8d1b5d59-99bf-4465-af5e-f8df141a73f6",
   "metadata": {},
   "outputs": [],
   "source": [
    "poly = PolynomialFeatures(degree=2)"
   ]
  },
  {
   "cell_type": "code",
   "execution_count": 267,
   "id": "ccc1aeb8-4b40-472a-9876-461dfb49d968",
   "metadata": {},
   "outputs": [],
   "source": [
    "x_train_p = poly.fit_transform(x_train)\n",
    "x_test_p = poly.fit_transform(x_test)"
   ]
  },
  {
   "cell_type": "code",
   "execution_count": 268,
   "id": "7ab60bcb-b920-4f8a-aa49-0efdb6a1d6c3",
   "metadata": {},
   "outputs": [],
   "source": [
    "model = LinearRegression()\n",
    "model.fit(x_train_p, y_train)\n",
    "y_train_pred = model.predict(x_train_p)\n",
    "y_test_pred = model.predict(x_test_p)\n",
    "\n",
    "model_metrics = {}\n",
    "model_metrics['model'] = 'Polynomial regression'\n",
    "\n",
    "model_metrics['r2_score test'] = r2_score(y_test, y_test_pred)\n",
    "model_metrics['r2_score train'] = r2_score(y_train, y_train_pred)\n",
    "\n",
    "model_metrics['mse test'] = mean_squared_error(y_test, y_test_pred)\n",
    "model_metrics['mse train'] = mean_squared_error(y_train, y_train_pred)\n",
    "\n",
    "model_metrics['var test'] = y_test_pred.var()\n",
    "model_metrics['var train'] = y_train_pred.var()\n",
    "\n",
    "models_metrics.append(model_metrics)"
   ]
  },
  {
   "cell_type": "code",
   "execution_count": 269,
   "id": "667b1f85-5290-4dfc-8ab2-43feb110bd6f",
   "metadata": {},
   "outputs": [
    {
     "data": {
      "text/html": [
       "<div>\n",
       "<style scoped>\n",
       "    .dataframe tbody tr th:only-of-type {\n",
       "        vertical-align: middle;\n",
       "    }\n",
       "\n",
       "    .dataframe tbody tr th {\n",
       "        vertical-align: top;\n",
       "    }\n",
       "\n",
       "    .dataframe thead th {\n",
       "        text-align: right;\n",
       "    }\n",
       "</style>\n",
       "<table border=\"1\" class=\"dataframe\">\n",
       "  <thead>\n",
       "    <tr style=\"text-align: right;\">\n",
       "      <th></th>\n",
       "      <th>model</th>\n",
       "      <th>r2_score test</th>\n",
       "      <th>r2_score train</th>\n",
       "      <th>var test</th>\n",
       "      <th>var train</th>\n",
       "      <th>mse train</th>\n",
       "      <th>mse test</th>\n",
       "    </tr>\n",
       "  </thead>\n",
       "  <tbody>\n",
       "    <tr>\n",
       "      <th>0</th>\n",
       "      <td>LinearRegression()</td>\n",
       "      <td>0.880106</td>\n",
       "      <td>0.714879</td>\n",
       "      <td>0.304882</td>\n",
       "      <td>0.287090</td>\n",
       "      <td>0.114502</td>\n",
       "      <td>0.043222</td>\n",
       "    </tr>\n",
       "    <tr>\n",
       "      <th>1</th>\n",
       "      <td>Ridge(a=0.1)</td>\n",
       "      <td>0.880102</td>\n",
       "      <td>0.714879</td>\n",
       "      <td>0.304858</td>\n",
       "      <td>0.287081</td>\n",
       "      <td>0.114502</td>\n",
       "      <td>0.043223</td>\n",
       "    </tr>\n",
       "    <tr>\n",
       "      <th>2</th>\n",
       "      <td>Ridge(a=1)</td>\n",
       "      <td>0.880070</td>\n",
       "      <td>0.714879</td>\n",
       "      <td>0.304646</td>\n",
       "      <td>0.286999</td>\n",
       "      <td>0.114502</td>\n",
       "      <td>0.043235</td>\n",
       "    </tr>\n",
       "    <tr>\n",
       "      <th>3</th>\n",
       "      <td>Ridge(a=10)</td>\n",
       "      <td>0.879720</td>\n",
       "      <td>0.714867</td>\n",
       "      <td>0.302589</td>\n",
       "      <td>0.286198</td>\n",
       "      <td>0.114507</td>\n",
       "      <td>0.043361</td>\n",
       "    </tr>\n",
       "    <tr>\n",
       "      <th>4</th>\n",
       "      <td>Ridge(a=100)</td>\n",
       "      <td>0.874436</td>\n",
       "      <td>0.713992</td>\n",
       "      <td>0.285991</td>\n",
       "      <td>0.279222</td>\n",
       "      <td>0.114859</td>\n",
       "      <td>0.045266</td>\n",
       "    </tr>\n",
       "    <tr>\n",
       "      <th>5</th>\n",
       "      <td>Polynomial regression</td>\n",
       "      <td>-6.036634</td>\n",
       "      <td>0.895587</td>\n",
       "      <td>1.790215</td>\n",
       "      <td>0.412822</td>\n",
       "      <td>0.041932</td>\n",
       "      <td>2.536707</td>\n",
       "    </tr>\n",
       "  </tbody>\n",
       "</table>\n",
       "</div>"
      ],
      "text/plain": [
       "                   model  r2_score test  r2_score train  var test  var train  \\\n",
       "0     LinearRegression()       0.880106        0.714879  0.304882   0.287090   \n",
       "1           Ridge(a=0.1)       0.880102        0.714879  0.304858   0.287081   \n",
       "2             Ridge(a=1)       0.880070        0.714879  0.304646   0.286999   \n",
       "3            Ridge(a=10)       0.879720        0.714867  0.302589   0.286198   \n",
       "4           Ridge(a=100)       0.874436        0.713992  0.285991   0.279222   \n",
       "5  Polynomial regression      -6.036634        0.895587  1.790215   0.412822   \n",
       "\n",
       "   mse train  mse test  \n",
       "0   0.114502  0.043222  \n",
       "1   0.114502  0.043223  \n",
       "2   0.114502  0.043235  \n",
       "3   0.114507  0.043361  \n",
       "4   0.114859  0.045266  \n",
       "5   0.041932  2.536707  "
      ]
     },
     "execution_count": 269,
     "metadata": {},
     "output_type": "execute_result"
    }
   ],
   "source": [
    "pd.DataFrame(models_metrics)"
   ]
  },
  {
   "cell_type": "markdown",
   "id": "43a02298-86ea-40de-9b5e-ac6045c43a27",
   "metadata": {},
   "source": [
    "As we can see, with polynomial features of degree 2 we have much better mse on the train data, but at the same time muuuuch worse mse on the test data, so overfitting of this model is obvious "
   ]
  },
  {
   "cell_type": "markdown",
   "id": "0eb0d52c-eb2b-4cd8-8426-bf7864730646",
   "metadata": {},
   "source": [
    "## Features selection "
   ]
  },
  {
   "cell_type": "markdown",
   "id": "a3c3d177-c3e1-410c-8310-f5b495660a75",
   "metadata": {},
   "source": [
    "The most obvious idea is to use results of the F-test from the first section to filter out features with not so high F-statistic value"
   ]
  },
  {
   "cell_type": "markdown",
   "id": "827846a6-e7a1-404b-b3dc-a4041f9f2fd2",
   "metadata": {},
   "source": [
    "So lets remove `theft` and `age` fields from the data"
   ]
  },
  {
   "cell_type": "code",
   "execution_count": 270,
   "id": "f49f6f0f-398b-47fb-a8ea-c61e01923268",
   "metadata": {},
   "outputs": [],
   "source": [
    "x_train_s = x_train.drop(columns=['theft', 'age'])\n",
    "x_test_s = x_test.drop(columns=['theft', 'age'])"
   ]
  },
  {
   "cell_type": "code",
   "execution_count": 271,
   "id": "86652693-5ce7-44dd-a151-4b3117fb1c9b",
   "metadata": {},
   "outputs": [],
   "source": [
    "model = LinearRegression()\n",
    "model.fit(x_train_s, y_train)\n",
    "y_train_pred = model.predict(x_train_s)\n",
    "y_test_pred = model.predict(x_test_s)\n",
    "\n",
    "model_metrics = {}\n",
    "model_metrics['model'] = 'Linear reg with f-selection'\n",
    "\n",
    "model_metrics['r2_score test'] = r2_score(y_test, y_test_pred)\n",
    "model_metrics['r2_score train'] = r2_score(y_train, y_train_pred)\n",
    "\n",
    "model_metrics['mse test'] = mean_squared_error(y_test, y_test_pred)\n",
    "model_metrics['mse train'] = mean_squared_error(y_train, y_train_pred)\n",
    "\n",
    "model_metrics['var test'] = y_test_pred.var()\n",
    "model_metrics['var train'] = y_train_pred.var()\n",
    "\n",
    "models_metrics.append(model_metrics)"
   ]
  },
  {
   "cell_type": "code",
   "execution_count": 272,
   "id": "d8c8090a-db4f-43c5-92ca-4a3348b007ae",
   "metadata": {},
   "outputs": [
    {
     "data": {
      "text/html": [
       "<div>\n",
       "<style scoped>\n",
       "    .dataframe tbody tr th:only-of-type {\n",
       "        vertical-align: middle;\n",
       "    }\n",
       "\n",
       "    .dataframe tbody tr th {\n",
       "        vertical-align: top;\n",
       "    }\n",
       "\n",
       "    .dataframe thead th {\n",
       "        text-align: right;\n",
       "    }\n",
       "</style>\n",
       "<table border=\"1\" class=\"dataframe\">\n",
       "  <thead>\n",
       "    <tr style=\"text-align: right;\">\n",
       "      <th></th>\n",
       "      <th>model</th>\n",
       "      <th>r2_score test</th>\n",
       "      <th>r2_score train</th>\n",
       "      <th>var test</th>\n",
       "      <th>var train</th>\n",
       "      <th>mse train</th>\n",
       "      <th>mse test</th>\n",
       "    </tr>\n",
       "  </thead>\n",
       "  <tbody>\n",
       "    <tr>\n",
       "      <th>0</th>\n",
       "      <td>LinearRegression()</td>\n",
       "      <td>0.880106</td>\n",
       "      <td>0.714879</td>\n",
       "      <td>0.304882</td>\n",
       "      <td>0.287090</td>\n",
       "      <td>0.114502</td>\n",
       "      <td>0.043222</td>\n",
       "    </tr>\n",
       "    <tr>\n",
       "      <th>1</th>\n",
       "      <td>Ridge(a=0.1)</td>\n",
       "      <td>0.880102</td>\n",
       "      <td>0.714879</td>\n",
       "      <td>0.304858</td>\n",
       "      <td>0.287081</td>\n",
       "      <td>0.114502</td>\n",
       "      <td>0.043223</td>\n",
       "    </tr>\n",
       "    <tr>\n",
       "      <th>2</th>\n",
       "      <td>Ridge(a=1)</td>\n",
       "      <td>0.880070</td>\n",
       "      <td>0.714879</td>\n",
       "      <td>0.304646</td>\n",
       "      <td>0.286999</td>\n",
       "      <td>0.114502</td>\n",
       "      <td>0.043235</td>\n",
       "    </tr>\n",
       "    <tr>\n",
       "      <th>3</th>\n",
       "      <td>Ridge(a=10)</td>\n",
       "      <td>0.879720</td>\n",
       "      <td>0.714867</td>\n",
       "      <td>0.302589</td>\n",
       "      <td>0.286198</td>\n",
       "      <td>0.114507</td>\n",
       "      <td>0.043361</td>\n",
       "    </tr>\n",
       "    <tr>\n",
       "      <th>4</th>\n",
       "      <td>Ridge(a=100)</td>\n",
       "      <td>0.874436</td>\n",
       "      <td>0.713992</td>\n",
       "      <td>0.285991</td>\n",
       "      <td>0.279222</td>\n",
       "      <td>0.114859</td>\n",
       "      <td>0.045266</td>\n",
       "    </tr>\n",
       "    <tr>\n",
       "      <th>5</th>\n",
       "      <td>Polynomial regression</td>\n",
       "      <td>-6.036634</td>\n",
       "      <td>0.895587</td>\n",
       "      <td>1.790215</td>\n",
       "      <td>0.412822</td>\n",
       "      <td>0.041932</td>\n",
       "      <td>2.536707</td>\n",
       "    </tr>\n",
       "    <tr>\n",
       "      <th>6</th>\n",
       "      <td>Linear reg with f-selection</td>\n",
       "      <td>0.858105</td>\n",
       "      <td>0.612930</td>\n",
       "      <td>0.278670</td>\n",
       "      <td>0.246148</td>\n",
       "      <td>0.155444</td>\n",
       "      <td>0.051153</td>\n",
       "    </tr>\n",
       "  </tbody>\n",
       "</table>\n",
       "</div>"
      ],
      "text/plain": [
       "                         model  r2_score test  r2_score train  var test  \\\n",
       "0           LinearRegression()       0.880106        0.714879  0.304882   \n",
       "1                 Ridge(a=0.1)       0.880102        0.714879  0.304858   \n",
       "2                   Ridge(a=1)       0.880070        0.714879  0.304646   \n",
       "3                  Ridge(a=10)       0.879720        0.714867  0.302589   \n",
       "4                 Ridge(a=100)       0.874436        0.713992  0.285991   \n",
       "5        Polynomial regression      -6.036634        0.895587  1.790215   \n",
       "6  Linear reg with f-selection       0.858105        0.612930  0.278670   \n",
       "\n",
       "   var train  mse train  mse test  \n",
       "0   0.287090   0.114502  0.043222  \n",
       "1   0.287081   0.114502  0.043223  \n",
       "2   0.286999   0.114502  0.043235  \n",
       "3   0.286198   0.114507  0.043361  \n",
       "4   0.279222   0.114859  0.045266  \n",
       "5   0.412822   0.041932  2.536707  \n",
       "6   0.246148   0.155444  0.051153  "
      ]
     },
     "execution_count": 272,
     "metadata": {},
     "output_type": "execute_result"
    }
   ],
   "source": [
    "pd.DataFrame(models_metrics)"
   ]
  },
  {
   "cell_type": "markdown",
   "id": "4c70099e-3c80-42ca-9599-1ed1677cde34",
   "metadata": {},
   "source": [
    "As we can see, with this procedure model is worse than usual linear regression in terms of mse, but has lower variance of prediction"
   ]
  }
 ],
 "metadata": {
  "kernelspec": {
   "display_name": "Python 3",
   "language": "python",
   "name": "python3"
  },
  "language_info": {
   "codemirror_mode": {
    "name": "ipython",
    "version": 3
   },
   "file_extension": ".py",
   "mimetype": "text/x-python",
   "name": "python",
   "nbconvert_exporter": "python",
   "pygments_lexer": "ipython3",
   "version": "3.10.4"
  }
 },
 "nbformat": 4,
 "nbformat_minor": 5
}
