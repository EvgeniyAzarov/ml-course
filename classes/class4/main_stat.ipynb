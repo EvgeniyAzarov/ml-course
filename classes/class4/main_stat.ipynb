{
 "cells": [
  {
   "cell_type": "code",
   "execution_count": 198,
   "id": "b6c80b13",
   "metadata": {},
   "outputs": [],
   "source": [
    "import pandas as pd\n",
    "\n",
    "train_data = pd.read_csv('train.csv')\n",
    "test_data = pd.read_csv('test.csv')"
   ]
  },
  {
   "cell_type": "code",
   "execution_count": 199,
   "id": "6114dbfb",
   "metadata": {},
   "outputs": [
    {
     "data": {
      "text/html": [
       "<div>\n",
       "<style scoped>\n",
       "    .dataframe tbody tr th:only-of-type {\n",
       "        vertical-align: middle;\n",
       "    }\n",
       "\n",
       "    .dataframe tbody tr th {\n",
       "        vertical-align: top;\n",
       "    }\n",
       "\n",
       "    .dataframe thead th {\n",
       "        text-align: right;\n",
       "    }\n",
       "</style>\n",
       "<table border=\"1\" class=\"dataframe\">\n",
       "  <thead>\n",
       "    <tr style=\"text-align: right;\">\n",
       "      <th></th>\n",
       "      <th>PassengerId</th>\n",
       "      <th>HomePlanet</th>\n",
       "      <th>CryoSleep</th>\n",
       "      <th>Cabin</th>\n",
       "      <th>Destination</th>\n",
       "      <th>Age</th>\n",
       "      <th>VIP</th>\n",
       "      <th>RoomService</th>\n",
       "      <th>FoodCourt</th>\n",
       "      <th>ShoppingMall</th>\n",
       "      <th>Spa</th>\n",
       "      <th>VRDeck</th>\n",
       "      <th>Name</th>\n",
       "      <th>Transported</th>\n",
       "    </tr>\n",
       "  </thead>\n",
       "  <tbody>\n",
       "    <tr>\n",
       "      <th>0</th>\n",
       "      <td>0001_01</td>\n",
       "      <td>Europa</td>\n",
       "      <td>False</td>\n",
       "      <td>B/0/P</td>\n",
       "      <td>TRAPPIST-1e</td>\n",
       "      <td>39.0</td>\n",
       "      <td>False</td>\n",
       "      <td>0.0</td>\n",
       "      <td>0.0</td>\n",
       "      <td>0.0</td>\n",
       "      <td>0.0</td>\n",
       "      <td>0.0</td>\n",
       "      <td>Maham Ofracculy</td>\n",
       "      <td>False</td>\n",
       "    </tr>\n",
       "    <tr>\n",
       "      <th>1</th>\n",
       "      <td>0002_01</td>\n",
       "      <td>Earth</td>\n",
       "      <td>False</td>\n",
       "      <td>F/0/S</td>\n",
       "      <td>TRAPPIST-1e</td>\n",
       "      <td>24.0</td>\n",
       "      <td>False</td>\n",
       "      <td>109.0</td>\n",
       "      <td>9.0</td>\n",
       "      <td>25.0</td>\n",
       "      <td>549.0</td>\n",
       "      <td>44.0</td>\n",
       "      <td>Juanna Vines</td>\n",
       "      <td>True</td>\n",
       "    </tr>\n",
       "    <tr>\n",
       "      <th>2</th>\n",
       "      <td>0003_01</td>\n",
       "      <td>Europa</td>\n",
       "      <td>False</td>\n",
       "      <td>A/0/S</td>\n",
       "      <td>TRAPPIST-1e</td>\n",
       "      <td>58.0</td>\n",
       "      <td>True</td>\n",
       "      <td>43.0</td>\n",
       "      <td>3576.0</td>\n",
       "      <td>0.0</td>\n",
       "      <td>6715.0</td>\n",
       "      <td>49.0</td>\n",
       "      <td>Altark Susent</td>\n",
       "      <td>False</td>\n",
       "    </tr>\n",
       "    <tr>\n",
       "      <th>3</th>\n",
       "      <td>0003_02</td>\n",
       "      <td>Europa</td>\n",
       "      <td>False</td>\n",
       "      <td>A/0/S</td>\n",
       "      <td>TRAPPIST-1e</td>\n",
       "      <td>33.0</td>\n",
       "      <td>False</td>\n",
       "      <td>0.0</td>\n",
       "      <td>1283.0</td>\n",
       "      <td>371.0</td>\n",
       "      <td>3329.0</td>\n",
       "      <td>193.0</td>\n",
       "      <td>Solam Susent</td>\n",
       "      <td>False</td>\n",
       "    </tr>\n",
       "    <tr>\n",
       "      <th>4</th>\n",
       "      <td>0004_01</td>\n",
       "      <td>Earth</td>\n",
       "      <td>False</td>\n",
       "      <td>F/1/S</td>\n",
       "      <td>TRAPPIST-1e</td>\n",
       "      <td>16.0</td>\n",
       "      <td>False</td>\n",
       "      <td>303.0</td>\n",
       "      <td>70.0</td>\n",
       "      <td>151.0</td>\n",
       "      <td>565.0</td>\n",
       "      <td>2.0</td>\n",
       "      <td>Willy Santantines</td>\n",
       "      <td>True</td>\n",
       "    </tr>\n",
       "  </tbody>\n",
       "</table>\n",
       "</div>"
      ],
      "text/plain": [
       "  PassengerId HomePlanet CryoSleep  Cabin  Destination   Age    VIP  \\\n",
       "0     0001_01     Europa     False  B/0/P  TRAPPIST-1e  39.0  False   \n",
       "1     0002_01      Earth     False  F/0/S  TRAPPIST-1e  24.0  False   \n",
       "2     0003_01     Europa     False  A/0/S  TRAPPIST-1e  58.0   True   \n",
       "3     0003_02     Europa     False  A/0/S  TRAPPIST-1e  33.0  False   \n",
       "4     0004_01      Earth     False  F/1/S  TRAPPIST-1e  16.0  False   \n",
       "\n",
       "   RoomService  FoodCourt  ShoppingMall     Spa  VRDeck               Name  \\\n",
       "0          0.0        0.0           0.0     0.0     0.0    Maham Ofracculy   \n",
       "1        109.0        9.0          25.0   549.0    44.0       Juanna Vines   \n",
       "2         43.0     3576.0           0.0  6715.0    49.0      Altark Susent   \n",
       "3          0.0     1283.0         371.0  3329.0   193.0       Solam Susent   \n",
       "4        303.0       70.0         151.0   565.0     2.0  Willy Santantines   \n",
       "\n",
       "   Transported  \n",
       "0        False  \n",
       "1         True  \n",
       "2        False  \n",
       "3        False  \n",
       "4         True  "
      ]
     },
     "execution_count": 199,
     "metadata": {},
     "output_type": "execute_result"
    }
   ],
   "source": [
    "train_data.head()"
   ]
  },
  {
   "cell_type": "markdown",
   "id": "48837741",
   "metadata": {},
   "source": [
    "# Dummy variable for Nan"
   ]
  },
  {
   "cell_type": "code",
   "execution_count": 204,
   "id": "222544a2",
   "metadata": {},
   "outputs": [],
   "source": [
    "# cabin_na = test_data['Cabin'].isna()\n",
    "# dataset = [test_data['Cabin'].fillna(test_data['Cabin'].mean()), cabin_na]"
   ]
  },
  {
   "cell_type": "code",
   "execution_count": 6,
   "id": "ab2892c8",
   "metadata": {},
   "outputs": [
    {
     "data": {
      "text/plain": [
       "Index(['PassengerId', 'HomePlanet', 'CryoSleep', 'Cabin', 'Destination', 'Age',\n",
       "       'VIP', 'RoomService', 'FoodCourt', 'ShoppingMall', 'Spa', 'VRDeck',\n",
       "       'Name', 'Transported'],\n",
       "      dtype='object')"
      ]
     },
     "execution_count": 6,
     "metadata": {},
     "output_type": "execute_result"
    }
   ],
   "source": [
    "train_data.columns"
   ]
  },
  {
   "cell_type": "markdown",
   "id": "434c9590",
   "metadata": {},
   "source": [
    "# Name is bas feature"
   ]
  },
  {
   "cell_type": "code",
   "execution_count": 12,
   "id": "3a7a3df8",
   "metadata": {},
   "outputs": [
    {
     "data": {
      "text/plain": [
       "((8693, 14), 8474)"
      ]
     },
     "execution_count": 12,
     "metadata": {},
     "output_type": "execute_result"
    }
   ],
   "source": [
    "names_set_1 = set(train_data['Name'])\n",
    "\n",
    "train_data.shape, len(names_set_1)"
   ]
  },
  {
   "cell_type": "code",
   "execution_count": 13,
   "id": "b704378f",
   "metadata": {},
   "outputs": [
    {
     "data": {
      "text/plain": [
       "((4277, 13), 4177)"
      ]
     },
     "execution_count": 13,
     "metadata": {},
     "output_type": "execute_result"
    }
   ],
   "source": [
    "names_set_2 = set(test_data['Name'])\n",
    "test_data.shape, len(names_set_2)"
   ]
  },
  {
   "cell_type": "code",
   "execution_count": 15,
   "id": "25627bc3",
   "metadata": {},
   "outputs": [
    {
     "data": {
      "text/plain": [
       "21"
      ]
     },
     "execution_count": 15,
     "metadata": {},
     "output_type": "execute_result"
    }
   ],
   "source": [
    "len(names_set_1.intersection(names_set_2))"
   ]
  },
  {
   "cell_type": "markdown",
   "id": "dc43e06f",
   "metadata": {},
   "source": [
    "# Other features"
   ]
  },
  {
   "cell_type": "code",
   "execution_count": 18,
   "id": "e2acd7c3",
   "metadata": {},
   "outputs": [
    {
     "data": {
      "text/plain": [
       "Index(['HomePlanet', 'CryoSleep', 'Cabin', 'Destination', 'Age', 'VIP',\n",
       "       'RoomService', 'FoodCourt', 'ShoppingMall', 'Spa', 'VRDeck'],\n",
       "      dtype='object')"
      ]
     },
     "execution_count": 18,
     "metadata": {},
     "output_type": "execute_result"
    }
   ],
   "source": [
    "train_data.columns[1:-2]"
   ]
  },
  {
   "cell_type": "markdown",
   "id": "f191fdd7",
   "metadata": {},
   "source": [
    "# Numerical"
   ]
  },
  {
   "cell_type": "code",
   "execution_count": null,
   "id": "1847e662",
   "metadata": {},
   "outputs": [],
   "source": [
    "# Age, RoomService, FoodCourt, ShoppingMall, Spa, VRDeck"
   ]
  },
  {
   "cell_type": "code",
   "execution_count": 21,
   "id": "dfa3104f",
   "metadata": {},
   "outputs": [
    {
     "data": {
      "text/plain": [
       "(259, 170)"
      ]
     },
     "execution_count": 21,
     "metadata": {},
     "output_type": "execute_result"
    }
   ],
   "source": [
    "len(set(train_data['Age'])), len(set(test_data['Age']))"
   ]
  },
  {
   "cell_type": "code",
   "execution_count": 27,
   "id": "12b26b97",
   "metadata": {},
   "outputs": [
    {
     "data": {
      "text/plain": [
       "<matplotlib.legend.Legend at 0x1fa8ad05150>"
      ]
     },
     "execution_count": 27,
     "metadata": {},
     "output_type": "execute_result"
    },
    {
     "data": {
      "image/png": "[encoded data removed]",
      "text/plain": [
       "<Figure size 432x288 with 1 Axes>"
      ]
     },
     "metadata": {
      "needs_background": "light"
     },
     "output_type": "display_data"
    }
   ],
   "source": [
    "from matplotlib import pyplot as plt\n",
    "\n",
    "plt.hist(train_data['Age'], density=1, alpha=0.5)\n",
    "plt.hist(test_data['Age'], density=1, alpha=0.5)\n",
    "plt.legend(['train', 'test'])"
   ]
  },
  {
   "cell_type": "code",
   "execution_count": 37,
   "id": "dcaf5ab3",
   "metadata": {},
   "outputs": [
    {
     "name": "stdout",
     "output_type": "stream",
     "text": [
      "0.6415506729552514\n",
      "0.6373626373626373\n"
     ]
    },
    {
     "data": {
      "text/plain": [
       "<matplotlib.legend.Legend at 0x1fa93033970>"
      ]
     },
     "execution_count": 37,
     "metadata": {},
     "output_type": "execute_result"
    },
    {
     "data": {
      "image/png": "[encoded data removed]",
      "text/plain": [
       "<Figure size 432x288 with 1 Axes>"
      ]
     },
     "metadata": {
      "needs_background": "light"
     },
     "output_type": "display_data"
    }
   ],
   "source": [
    "plt.hist(train_data['RoomService'], density=1, alpha=0.5, range=(0, 6000))\n",
    "plt.hist(test_data['RoomService'], density=1, alpha=0.5, range=(0, 6000))\n",
    "\n",
    "print((train_data['RoomService'] == 0).mean())\n",
    "print((test_data['RoomService'] == 0).mean())\n",
    "\n",
    "plt.legend(['train', 'test'])"
   ]
  },
  {
   "cell_type": "code",
   "execution_count": 38,
   "id": "8baf3449",
   "metadata": {},
   "outputs": [
    {
     "name": "stdout",
     "output_type": "stream",
     "text": [
      "0.6276314275854136\n",
      "0.6289455225625439\n"
     ]
    },
    {
     "data": {
      "text/plain": [
       "<matplotlib.legend.Legend at 0x1fa9312f010>"
      ]
     },
     "execution_count": 38,
     "metadata": {},
     "output_type": "execute_result"
    },
    {
     "data": {
      "image/png": "[encoded data removed]",
      "text/plain": [
       "<Figure size 432x288 with 1 Axes>"
      ]
     },
     "metadata": {
      "needs_background": "light"
     },
     "output_type": "display_data"
    }
   ],
   "source": [
    "plt.hist(train_data['FoodCourt'], density=1, alpha=0.5, range=(0, 6000))\n",
    "plt.hist(test_data['FoodCourt'], density=1, alpha=0.5, range=(0, 6000))\n",
    "\n",
    "print((train_data['FoodCourt'] == 0).mean())\n",
    "print((test_data['FoodCourt'] == 0).mean())\n",
    "\n",
    "plt.legend(['train', 'test'])"
   ]
  },
  {
   "cell_type": "code",
   "execution_count": 39,
   "id": "756659b4",
   "metadata": {},
   "outputs": [
    {
     "name": "stdout",
     "output_type": "stream",
     "text": [
      "0.6427010238122628\n",
      "0.6415711947626841\n"
     ]
    },
    {
     "data": {
      "text/plain": [
       "<matplotlib.legend.Legend at 0x1fa93220d30>"
      ]
     },
     "execution_count": 39,
     "metadata": {},
     "output_type": "execute_result"
    },
    {
     "data": {
      "image/png": "[encoded data removed]",
      "text/plain": [
       "<Figure size 432x288 with 1 Axes>"
      ]
     },
     "metadata": {
      "needs_background": "light"
     },
     "output_type": "display_data"
    }
   ],
   "source": [
    "plt.hist(train_data['ShoppingMall'], density=1, alpha=0.5, range=(0, 6000))\n",
    "plt.hist(test_data['ShoppingMall'], density=1, alpha=0.5, range=(0, 6000))\n",
    "\n",
    "print((train_data['ShoppingMall'] == 0).mean())\n",
    "print((test_data['ShoppingMall'] == 0).mean())\n",
    "\n",
    "plt.legend(['train', 'test'])"
   ]
  },
  {
   "cell_type": "code",
   "execution_count": 40,
   "id": "2c6fce13",
   "metadata": {},
   "outputs": [
    {
     "name": "stdout",
     "output_type": "stream",
     "text": [
      "0.6124467962728632\n",
      "0.6104746317512275\n"
     ]
    },
    {
     "data": {
      "text/plain": [
       "<matplotlib.legend.Legend at 0x1fa932ebee0>"
      ]
     },
     "execution_count": 40,
     "metadata": {},
     "output_type": "execute_result"
    },
    {
     "data": {
      "image/png": "[encoded data removed]",
      "text/plain": [
       "<Figure size 432x288 with 1 Axes>"
      ]
     },
     "metadata": {
      "needs_background": "light"
     },
     "output_type": "display_data"
    }
   ],
   "source": [
    "plt.hist(train_data['Spa'], density=1, alpha=0.5, range=(0, 6000))\n",
    "plt.hist(test_data['Spa'], density=1, alpha=0.5, range=(0, 6000))\n",
    "\n",
    "print((train_data['Spa'] == 0).mean())\n",
    "print((test_data['Spa'] == 0).mean())\n",
    "\n",
    "plt.legend(['train', 'test'])"
   ]
  },
  {
   "cell_type": "code",
   "execution_count": 41,
   "id": "629138f9",
   "metadata": {},
   "outputs": [
    {
     "name": "stdout",
     "output_type": "stream",
     "text": [
      "0.632117795927758\n",
      "0.6446107084404957\n"
     ]
    },
    {
     "data": {
      "text/plain": [
       "<matplotlib.legend.Legend at 0x1fa932ea170>"
      ]
     },
     "execution_count": 41,
     "metadata": {},
     "output_type": "execute_result"
    },
    {
     "data": {
      "image/png": "[encoded data removed]",
      "text/plain": [
       "<Figure size 432x288 with 1 Axes>"
      ]
     },
     "metadata": {
      "needs_background": "light"
     },
     "output_type": "display_data"
    }
   ],
   "source": [
    "plt.hist(train_data['VRDeck'], density=1, alpha=0.5, range=(0, 6000))\n",
    "plt.hist(test_data['VRDeck'], density=1, alpha=0.5, range=(0, 6000))\n",
    "\n",
    "print((train_data['VRDeck'] == 0).mean())\n",
    "print((test_data['VRDeck'] == 0).mean())\n",
    "\n",
    "plt.legend(['train', 'test'])"
   ]
  },
  {
   "cell_type": "markdown",
   "id": "388a273c",
   "metadata": {},
   "source": [
    "# X numerical"
   ]
  },
  {
   "cell_type": "code",
   "execution_count": 224,
   "id": "18c2c0cf",
   "metadata": {},
   "outputs": [],
   "source": [
    "num_cols = ['Age', \"VIP\", 'RoomService', 'CryoSleep', 'FoodCourt', 'ShoppingMall', 'Spa', 'VRDeck']\n",
    "\n",
    "x_num_train_num_na = train_data[num_cols].astype('float32').isna()\n",
    "x_num_test_num_na = test_data[num_cols].astype('float32').isna()\n",
    "\n",
    "x_num_train = train_data[num_cols].astype('float32').fillna(-1)\n",
    "x_num_test = test_data[num_cols].astype('float32').fillna(-1)"
   ]
  },
  {
   "cell_type": "code",
   "execution_count": 57,
   "id": "29ba16b9",
   "metadata": {},
   "outputs": [
    {
     "data": {
      "text/html": [
       "<div>\n",
       "<style scoped>\n",
       "    .dataframe tbody tr th:only-of-type {\n",
       "        vertical-align: middle;\n",
       "    }\n",
       "\n",
       "    .dataframe tbody tr th {\n",
       "        vertical-align: top;\n",
       "    }\n",
       "\n",
       "    .dataframe thead th {\n",
       "        text-align: right;\n",
       "    }\n",
       "</style>\n",
       "<table border=\"1\" class=\"dataframe\">\n",
       "  <thead>\n",
       "    <tr style=\"text-align: right;\">\n",
       "      <th></th>\n",
       "      <th>Age</th>\n",
       "      <th>VIP</th>\n",
       "      <th>RoomService</th>\n",
       "      <th>CryoSleep</th>\n",
       "      <th>FoodCourt</th>\n",
       "      <th>ShoppingMall</th>\n",
       "      <th>Spa</th>\n",
       "      <th>VRDeck</th>\n",
       "    </tr>\n",
       "  </thead>\n",
       "  <tbody>\n",
       "    <tr>\n",
       "      <th>0</th>\n",
       "      <td>39.0</td>\n",
       "      <td>0.0</td>\n",
       "      <td>0.0</td>\n",
       "      <td>0.0</td>\n",
       "      <td>0.0</td>\n",
       "      <td>0.0</td>\n",
       "      <td>0.0</td>\n",
       "      <td>0.0</td>\n",
       "    </tr>\n",
       "    <tr>\n",
       "      <th>1</th>\n",
       "      <td>24.0</td>\n",
       "      <td>0.0</td>\n",
       "      <td>109.0</td>\n",
       "      <td>0.0</td>\n",
       "      <td>9.0</td>\n",
       "      <td>25.0</td>\n",
       "      <td>549.0</td>\n",
       "      <td>44.0</td>\n",
       "    </tr>\n",
       "    <tr>\n",
       "      <th>2</th>\n",
       "      <td>58.0</td>\n",
       "      <td>1.0</td>\n",
       "      <td>43.0</td>\n",
       "      <td>0.0</td>\n",
       "      <td>3576.0</td>\n",
       "      <td>0.0</td>\n",
       "      <td>6715.0</td>\n",
       "      <td>49.0</td>\n",
       "    </tr>\n",
       "    <tr>\n",
       "      <th>3</th>\n",
       "      <td>33.0</td>\n",
       "      <td>0.0</td>\n",
       "      <td>0.0</td>\n",
       "      <td>0.0</td>\n",
       "      <td>1283.0</td>\n",
       "      <td>371.0</td>\n",
       "      <td>3329.0</td>\n",
       "      <td>193.0</td>\n",
       "    </tr>\n",
       "    <tr>\n",
       "      <th>4</th>\n",
       "      <td>16.0</td>\n",
       "      <td>0.0</td>\n",
       "      <td>303.0</td>\n",
       "      <td>0.0</td>\n",
       "      <td>70.0</td>\n",
       "      <td>151.0</td>\n",
       "      <td>565.0</td>\n",
       "      <td>2.0</td>\n",
       "    </tr>\n",
       "    <tr>\n",
       "      <th>...</th>\n",
       "      <td>...</td>\n",
       "      <td>...</td>\n",
       "      <td>...</td>\n",
       "      <td>...</td>\n",
       "      <td>...</td>\n",
       "      <td>...</td>\n",
       "      <td>...</td>\n",
       "      <td>...</td>\n",
       "    </tr>\n",
       "    <tr>\n",
       "      <th>8688</th>\n",
       "      <td>41.0</td>\n",
       "      <td>1.0</td>\n",
       "      <td>0.0</td>\n",
       "      <td>0.0</td>\n",
       "      <td>6819.0</td>\n",
       "      <td>0.0</td>\n",
       "      <td>1643.0</td>\n",
       "      <td>74.0</td>\n",
       "    </tr>\n",
       "    <tr>\n",
       "      <th>8689</th>\n",
       "      <td>18.0</td>\n",
       "      <td>0.0</td>\n",
       "      <td>0.0</td>\n",
       "      <td>1.0</td>\n",
       "      <td>0.0</td>\n",
       "      <td>0.0</td>\n",
       "      <td>0.0</td>\n",
       "      <td>0.0</td>\n",
       "    </tr>\n",
       "    <tr>\n",
       "      <th>8690</th>\n",
       "      <td>26.0</td>\n",
       "      <td>0.0</td>\n",
       "      <td>0.0</td>\n",
       "      <td>0.0</td>\n",
       "      <td>0.0</td>\n",
       "      <td>1872.0</td>\n",
       "      <td>1.0</td>\n",
       "      <td>0.0</td>\n",
       "    </tr>\n",
       "    <tr>\n",
       "      <th>8691</th>\n",
       "      <td>32.0</td>\n",
       "      <td>0.0</td>\n",
       "      <td>0.0</td>\n",
       "      <td>0.0</td>\n",
       "      <td>1049.0</td>\n",
       "      <td>0.0</td>\n",
       "      <td>353.0</td>\n",
       "      <td>3235.0</td>\n",
       "    </tr>\n",
       "    <tr>\n",
       "      <th>8692</th>\n",
       "      <td>44.0</td>\n",
       "      <td>0.0</td>\n",
       "      <td>126.0</td>\n",
       "      <td>0.0</td>\n",
       "      <td>4688.0</td>\n",
       "      <td>0.0</td>\n",
       "      <td>0.0</td>\n",
       "      <td>12.0</td>\n",
       "    </tr>\n",
       "  </tbody>\n",
       "</table>\n",
       "<p>8693 rows × 8 columns</p>\n",
       "</div>"
      ],
      "text/plain": [
       "       Age  VIP  RoomService  CryoSleep  FoodCourt  ShoppingMall     Spa  \\\n",
       "0     39.0  0.0          0.0        0.0        0.0           0.0     0.0   \n",
       "1     24.0  0.0        109.0        0.0        9.0          25.0   549.0   \n",
       "2     58.0  1.0         43.0        0.0     3576.0           0.0  6715.0   \n",
       "3     33.0  0.0          0.0        0.0     1283.0         371.0  3329.0   \n",
       "4     16.0  0.0        303.0        0.0       70.0         151.0   565.0   \n",
       "...    ...  ...          ...        ...        ...           ...     ...   \n",
       "8688  41.0  1.0          0.0        0.0     6819.0           0.0  1643.0   \n",
       "8689  18.0  0.0          0.0        1.0        0.0           0.0     0.0   \n",
       "8690  26.0  0.0          0.0        0.0        0.0        1872.0     1.0   \n",
       "8691  32.0  0.0          0.0        0.0     1049.0           0.0   353.0   \n",
       "8692  44.0  0.0        126.0        0.0     4688.0           0.0     0.0   \n",
       "\n",
       "      VRDeck  \n",
       "0        0.0  \n",
       "1       44.0  \n",
       "2       49.0  \n",
       "3      193.0  \n",
       "4        2.0  \n",
       "...      ...  \n",
       "8688    74.0  \n",
       "8689     0.0  \n",
       "8690     0.0  \n",
       "8691  3235.0  \n",
       "8692    12.0  \n",
       "\n",
       "[8693 rows x 8 columns]"
      ]
     },
     "execution_count": 57,
     "metadata": {},
     "output_type": "execute_result"
    }
   ],
   "source": [
    "x_num_train"
   ]
  },
  {
   "cell_type": "code",
   "execution_count": 211,
   "id": "289fd556",
   "metadata": {},
   "outputs": [
    {
     "data": {
      "text/plain": [
       "array([[ 39.,   0.,   0., ...,   0.,   0.,   0.],\n",
       "       [ 24.,   0., 109., ...,   0.,   0.,   0.],\n",
       "       [ 58.,   1.,  43., ...,   0.,   0.,   0.],\n",
       "       ...,\n",
       "       [ 26.,   0.,   0., ...,   0.,   0.,   0.],\n",
       "       [ 32.,   0.,   0., ...,   0.,   0.,   0.],\n",
       "       [ 44.,   0., 126., ...,   0.,   0.,   0.]], dtype=float32)"
      ]
     },
     "execution_count": 211,
     "metadata": {},
     "output_type": "execute_result"
    }
   ],
   "source": [
    "# Dummy for numerical\n",
    "# Я цце не використовую, бо nan тут немає\n",
    "np.concatenate([x_num_train.fillna(0), x_num_train.isna()], axis=1)"
   ]
  },
  {
   "cell_type": "markdown",
   "id": "9253307c",
   "metadata": {},
   "source": [
    "# Bool"
   ]
  },
  {
   "cell_type": "code",
   "execution_count": 58,
   "id": "f5b283d7",
   "metadata": {},
   "outputs": [
    {
     "data": {
      "text/plain": [
       "(0.35830580462482303, 0.023439340400471142)"
      ]
     },
     "execution_count": 58,
     "metadata": {},
     "output_type": "execute_result"
    }
   ],
   "source": [
    "train_data['CryoSleep'].mean(), train_data['VIP'].mean()"
   ]
  },
  {
   "cell_type": "markdown",
   "id": "6aeb340b",
   "metadata": {},
   "source": [
    "# Categorical features (factors)"
   ]
  },
  {
   "cell_type": "code",
   "execution_count": 185,
   "id": "2cab5a08",
   "metadata": {},
   "outputs": [],
   "source": [
    "import numpy as np\n",
    "cat_columns = ['HomePlanet', 'Destination']\n",
    "\n",
    "def ohe(x, w_i_map):\n",
    "    encoding = np.zeros((len(x), len(words)))\n",
    "    for k, w in enumerate(x):\n",
    "        encoding[k, w_i_map[w]] += 1\n",
    "    return encoding"
   ]
  },
  {
   "cell_type": "code",
   "execution_count": 186,
   "id": "e4efaf2f",
   "metadata": {},
   "outputs": [
    {
     "name": "stdout",
     "output_type": "stream",
     "text": [
      "HomePlanet\n",
      "test-train difference 0\n",
      "train, test unique 4 4\n",
      "\n",
      "Destination\n",
      "test-train difference 0\n",
      "train, test unique 4 4\n",
      "\n"
     ]
    }
   ],
   "source": [
    "\n",
    "x_train_cat = []\n",
    "x_test_cat = []\n",
    "\n",
    "\n",
    "for col in cat_columns:\n",
    "    print(col)\n",
    "    print('test-train difference', len(set(test_data[col]) - set(train_data[col])))\n",
    "    print('train, test unique', len(set(test_data[col])), len(set(train_data[col])))\n",
    "    \n",
    "    words = set(train_data[col]).union(set(test_data[col]))\n",
    "\n",
    "#     print(words)\n",
    "    i_w_map = dict(enumerate(words))\n",
    "    w_i_map = {v: k for k, v in i_w_map.items()}\n",
    "#     print(i_w_map, w_i_map)\n",
    "\n",
    "    col_f_train = ohe(train_data[col], w_i_map)\n",
    "    col_f_test = ohe(test_data[col], w_i_map)\n",
    "    print()\n",
    "    \n",
    "    x_train_cat.append(col_f_train)\n",
    "    x_test_cat.append(col_f_test)\n",
    "\n",
    "x_train_cat = np.concatenate(x_train_cat, axis=1)\n",
    "x_test_cat = np.concatenate(x_test_cat, axis=1)\n",
    "\n",
    "    \n",
    "    # col_encoding_train = np.zeros((len(train_data), len(words)))\n",
    "    # for w in "
   ]
  },
  {
   "cell_type": "code",
   "execution_count": 187,
   "id": "485e82dc",
   "metadata": {},
   "outputs": [
    {
     "data": {
      "text/plain": [
       "(8693, 8)"
      ]
     },
     "execution_count": 187,
     "metadata": {},
     "output_type": "execute_result"
    }
   ],
   "source": [
    "x_train_cat.shape"
   ]
  },
  {
   "cell_type": "code",
   "execution_count": 188,
   "id": "49cc10e6",
   "metadata": {},
   "outputs": [
    {
     "data": {
      "text/plain": [
       "((8693, 8), (4277, 8))"
      ]
     },
     "execution_count": 188,
     "metadata": {},
     "output_type": "execute_result"
    }
   ],
   "source": [
    "x_train_cat.shape, x_test_cat.shape"
   ]
  },
  {
   "cell_type": "markdown",
   "id": "7243ce2a",
   "metadata": {},
   "source": [
    "# Text"
   ]
  },
  {
   "cell_type": "code",
   "execution_count": 100,
   "id": "14a8f6b4",
   "metadata": {
    "scrolled": true
   },
   "outputs": [
    {
     "data": {
      "text/plain": [
       "{3}"
      ]
     },
     "execution_count": 100,
     "metadata": {},
     "output_type": "execute_result"
    }
   ],
   "source": [
    "a = set([len(i) for i in train_data['Cabin'].dropna().apply(lambda x: x.split('/'))])\n",
    "a"
   ]
  },
  {
   "cell_type": "code",
   "execution_count": 102,
   "id": "7e83fa85",
   "metadata": {},
   "outputs": [],
   "source": [
    "sents_train = train_data['Cabin'].apply()\n",
    "sents_test = test_data['Cabin'].apply(lambda x: x.split('/') if isinstance(x, str) else '0/0/0')"
   ]
  },
  {
   "cell_type": "code",
   "execution_count": 104,
   "id": "eb106e1a",
   "metadata": {},
   "outputs": [],
   "source": [
    "from sklearn.feature_extraction.text import CountVectorizer"
   ]
  },
  {
   "cell_type": "code",
   "execution_count": 108,
   "id": "e00bf5f0",
   "metadata": {
    "scrolled": true
   },
   "outputs": [
    {
     "data": {
      "text/plain": [
       "0    [B, 0, P]\n",
       "1    [F, 0, S]\n",
       "2    [A, 0, S]\n",
       "3    [A, 0, S]\n",
       "Name: Cabin, dtype: object"
      ]
     },
     "execution_count": 108,
     "metadata": {},
     "output_type": "execute_result"
    }
   ],
   "source": [
    "sents_train.head(4)"
   ]
  },
  {
   "cell_type": "code",
   "execution_count": 123,
   "id": "ee94f775",
   "metadata": {},
   "outputs": [
    {
     "name": "stderr",
     "output_type": "stream",
     "text": [
      "C:\\Users\\Wailt\\AppData\\Local\\Temp\\ipykernel_13036\\691969671.py:1: SettingWithCopyWarning: \n",
      "A value is trying to be set on a copy of a slice from a DataFrame\n",
      "\n",
      "See the caveats in the documentation: https://pandas.pydata.org/pandas-docs/stable/user_guide/indexing.html#returning-a-view-versus-a-copy\n",
      "  train_data['Cabin'][train_data['Cabin'].isna()] = '0/0/0'\n",
      "C:\\Users\\Wailt\\AppData\\Local\\Temp\\ipykernel_13036\\691969671.py:2: SettingWithCopyWarning: \n",
      "A value is trying to be set on a copy of a slice from a DataFrame\n",
      "\n",
      "See the caveats in the documentation: https://pandas.pydata.org/pandas-docs/stable/user_guide/indexing.html#returning-a-view-versus-a-copy\n",
      "  test_data['Cabin'][test_data['Cabin'].isna()] = '0/0/0'\n"
     ]
    }
   ],
   "source": [
    "train_data['Cabin'][train_data['Cabin'].isna()] = '0/0/0'\n",
    "test_data['Cabin'][test_data['Cabin'].isna()] = '0/0/0'"
   ]
  },
  {
   "cell_type": "code",
   "execution_count": 143,
   "id": "0b5e7ff6",
   "metadata": {},
   "outputs": [
    {
     "data": {
      "text/plain": [
       "array([[0, 0, 0, ..., 0, 0, 0]], dtype=int64)"
      ]
     },
     "execution_count": 143,
     "metadata": {},
     "output_type": "execute_result"
    }
   ],
   "source": [
    "sents = train_data['Cabin'].tolist() + test_data['Cabin'].tolist()\n",
    "counter = CountVectorizer(tokenizer=lambda x: x.split('/')).fit(sents)\n",
    "counter.transform(['Hello world']).toarray()"
   ]
  },
  {
   "cell_type": "code",
   "execution_count": 170,
   "id": "f28c89a1",
   "metadata": {},
   "outputs": [
    {
     "data": {
      "text/plain": [
       "1904"
      ]
     },
     "execution_count": 170,
     "metadata": {},
     "output_type": "execute_result"
    }
   ],
   "source": [
    "len(counter.vocabulary_)"
   ]
  },
  {
   "cell_type": "code",
   "execution_count": 176,
   "id": "5be42251",
   "metadata": {},
   "outputs": [],
   "source": [
    "train_text_bow = counter.transform(train_data['Cabin'].tolist()).toarray()\n",
    "test_text_bow = counter.transform(test_data['Cabin'].tolist()).toarray()"
   ]
  },
  {
   "cell_type": "code",
   "execution_count": 177,
   "id": "5a838f1f",
   "metadata": {},
   "outputs": [
    {
     "data": {
      "text/plain": [
       "<matplotlib.image.AxesImage at 0x1fa98872fb0>"
      ]
     },
     "execution_count": 177,
     "metadata": {},
     "output_type": "execute_result"
    },
    {
     "data": {
      "image/png": "[encoded data removed]",
      "text/plain": [
       "<Figure size 1080x504 with 1 Axes>"
      ]
     },
     "metadata": {
      "needs_background": "light"
     },
     "output_type": "display_data"
    }
   ],
   "source": [
    "plt.figure(figsize=(15, 7))\n",
    "plt.imshow(train_text_bow.T)"
   ]
  },
  {
   "cell_type": "markdown",
   "id": "4352818b",
   "metadata": {},
   "source": [
    "# Hashig trick"
   ]
  },
  {
   "cell_type": "code",
   "execution_count": 178,
   "id": "b75519a1",
   "metadata": {},
   "outputs": [
    {
     "name": "stdout",
     "output_type": "stream",
     "text": [
      "Cabin\n"
     ]
    }
   ],
   "source": [
    "from sklearn.feature_extraction import FeatureHasher\n",
    "\n",
    "hash_tr = []\n",
    "hash_te = []\n",
    "\n",
    "nan = '0/0/0'\n",
    "\n",
    "for col in ['Cabin']:\n",
    "    print(col)\n",
    "    all_cat = train_data[col].fillna(nan).tolist() + test_data[col].fillna(nan).tolist()\n",
    "\n",
    "    tr_cat_ = [{w: 1 for w in i.split('/')} for i in train_data[col].fillna(nan)]\n",
    "    te_cat_ = [{w: 1 for w in i.split('/')} for i in test_data[col].fillna(nan)]\n",
    "\n",
    "    fh = FeatureHasher(n_features=10).fit(tr_cat_ + te_cat_)\n",
    "\n",
    "    hash_tr = (fh.transform(tr_cat_).toarray())\n",
    "    hash_te = (fh.transform(te_cat_).toarray())"
   ]
  },
  {
   "cell_type": "code",
   "execution_count": 179,
   "id": "e184387a",
   "metadata": {},
   "outputs": [
    {
     "data": {
      "text/plain": [
       "(array([[ 0., -1., -1., ...,  0.,  0., -1.],\n",
       "        [ 0.,  0.,  0., ...,  0., -2., -1.],\n",
       "        [ 0.,  0.,  1., ...,  0., -1., -1.],\n",
       "        ...,\n",
       "        [ 0.,  0., -1., ...,  0., -1.,  1.],\n",
       "        [-1.,  0.,  0., ...,  1., -1.,  0.],\n",
       "        [-1.,  0.,  0., ...,  1., -1.,  0.]]),\n",
       " array([[ 1.,  0.,  0., ...,  0., -1.,  1.],\n",
       "        [ 0.,  0., -1., ...,  0., -2.,  0.],\n",
       "        [ 0., -1.,  0., ...,  0., -1., -1.],\n",
       "        ...,\n",
       "        [ 0., -1.,  0., ...,  0.,  0.,  0.],\n",
       "        [ 0., -1.,  0., ...,  0.,  0.,  0.],\n",
       "        [ 0.,  0.,  0., ...,  0., -2.,  1.]]))"
      ]
     },
     "execution_count": 179,
     "metadata": {},
     "output_type": "execute_result"
    }
   ],
   "source": [
    "hash_tr, hash_te"
   ]
  },
  {
   "cell_type": "markdown",
   "id": "3b054df4",
   "metadata": {},
   "source": [
    "# train_data NAN"
   ]
  },
  {
   "cell_type": "code",
   "execution_count": 197,
   "id": "fd26869f",
   "metadata": {},
   "outputs": [
    {
     "data": {
      "text/plain": [
       "0"
      ]
     },
     "execution_count": 197,
     "metadata": {},
     "output_type": "execute_result"
    }
   ],
   "source": [
    "cabin_na = test_data['Cabin'].isna()\n",
    "cabin_na.sum()"
   ]
  },
  {
   "cell_type": "markdown",
   "id": "dcd91f13",
   "metadata": {},
   "source": [
    "# all features"
   ]
  },
  {
   "cell_type": "code",
   "execution_count": 223,
   "id": "fa37d40c",
   "metadata": {},
   "outputs": [
    {
     "data": {
      "text/plain": [
       "nan"
      ]
     },
     "execution_count": 223,
     "metadata": {},
     "output_type": "execute_result"
    }
   ],
   "source": [
    "x_num_train.values.sum()"
   ]
  },
  {
   "cell_type": "code",
   "execution_count": 3,
   "id": "6afb09c2",
   "metadata": {
    "scrolled": true
   },
   "outputs": [
    {
     "ename": "NameError",
     "evalue": "name 'np' is not defined",
     "output_type": "error",
     "traceback": [
      "\u001b[1;31m---------------------------------------------------------------------------\u001b[0m",
      "\u001b[1;31mNameError\u001b[0m                                 Traceback (most recent call last)",
      "Input \u001b[1;32mIn [3]\u001b[0m, in \u001b[0;36m<module>\u001b[1;34m\u001b[0m\n\u001b[0;32m      1\u001b[0m \u001b[38;5;66;03m# x_train = np.concatenate([x_num_train, x_num_train_num_na, x_train_cat, train_text_bow], axis=1)\u001b[39;00m\n\u001b[0;32m      2\u001b[0m \u001b[38;5;66;03m# x_test = np.concatenate([x_num_test, x_num_test_num_na, x_test_cat, test_text_bow], axis=1)\u001b[39;00m\n\u001b[1;32m----> 4\u001b[0m x_train \u001b[38;5;241m=\u001b[39m \u001b[43mnp\u001b[49m\u001b[38;5;241m.\u001b[39mconcatenate([x_num_train, x_num_train_num_na, x_train_cat, hash_tr], axis\u001b[38;5;241m=\u001b[39m\u001b[38;5;241m1\u001b[39m)\n\u001b[0;32m      5\u001b[0m x_test \u001b[38;5;241m=\u001b[39m np\u001b[38;5;241m.\u001b[39mconcatenate([x_num_test, x_num_test_num_na, x_test_cat, hash_te], axis\u001b[38;5;241m=\u001b[39m\u001b[38;5;241m1\u001b[39m)\n",
      "\u001b[1;31mNameError\u001b[0m: name 'np' is not defined"
     ]
    }
   ],
   "source": [
    "# x_train = np.concatenate([x_num_train, x_num_train_num_na, x_train_cat, train_text_bow], axis=1)\n",
    "# x_test = np.concatenate([x_num_test, x_num_test_num_na, x_test_cat, test_text_bow], axis=1)\n",
    "\n",
    "x_train = np.concatenate([x_num_train, x_num_train_num_na, x_train_cat, hash_tr], axis=1)\n",
    "x_test = np.concatenate([x_num_test, x_num_test_num_na, x_test_cat, hash_te], axis=1)"
   ]
  },
  {
   "cell_type": "code",
   "execution_count": 235,
   "id": "38b6cfc0",
   "metadata": {},
   "outputs": [],
   "source": [
    "y_train = train_data['Transported']"
   ]
  },
  {
   "cell_type": "code",
   "execution_count": 236,
   "id": "be1e7cd9",
   "metadata": {},
   "outputs": [],
   "source": []
  },
  {
   "cell_type": "code",
   "execution_count": 2,
   "id": "4fa79f93",
   "metadata": {
    "scrolled": true
   },
   "outputs": [
    {
     "ename": "NameError",
     "evalue": "name 'x_train' is not defined",
     "output_type": "error",
     "traceback": [
      "\u001b[1;31m---------------------------------------------------------------------------\u001b[0m",
      "\u001b[1;31mNameError\u001b[0m                                 Traceback (most recent call last)",
      "Input \u001b[1;32mIn [2]\u001b[0m, in \u001b[0;36m<module>\u001b[1;34m\u001b[0m\n\u001b[0;32m     13\u001b[0m metrics \u001b[38;5;241m=\u001b[39m []\n\u001b[0;32m     14\u001b[0m \u001b[38;5;28;01mfor\u001b[39;00m i \u001b[38;5;129;01min\u001b[39;00m \u001b[38;5;28mrange\u001b[39m(\u001b[38;5;241m5\u001b[39m):\n\u001b[1;32m---> 15\u001b[0m     x_tr, x_val, y_tr, y_val \u001b[38;5;241m=\u001b[39m train_test_split(\u001b[43mx_train\u001b[49m, y_train, shuffle\u001b[38;5;241m=\u001b[39m\u001b[38;5;241m1\u001b[39m, test_size\u001b[38;5;241m=\u001b[39m\u001b[38;5;241m0.3\u001b[39m)\n\u001b[0;32m     17\u001b[0m     model\u001b[38;5;241m.\u001b[39mfit(x_tr, y_tr)\n\u001b[0;32m     19\u001b[0m     y_tr_pred \u001b[38;5;241m=\u001b[39m model\u001b[38;5;241m.\u001b[39mpredict(x_tr)\n",
      "\u001b[1;31mNameError\u001b[0m: name 'x_train' is not defined"
     ]
    }
   ],
   "source": [
    "from sklearn.metrics import accuracy_score, f1_score, precision_score, recall_score\n",
    "from sklearn.model_selection import train_test_split\n",
    "\n",
    "from sklearn.linear_model import LogisticRegression\n",
    "from sklearn.naive_bayes import GaussianNB\n",
    "\n",
    "metrics_model = []\n",
    "all_models = []\n",
    "for model_name, model in [('logistic(C=1)', LogisticRegression()), \n",
    "                         ('logistic(C=2)', LogisticRegression(C=2)),\n",
    "                         ('GaussianNB', GaussianNB())\n",
    "                         ]:\n",
    "    metrics = []\n",
    "    for i in range(5):\n",
    "        x_tr, x_val, y_tr, y_val = train_test_split(x_train, y_train, shuffle=1, test_size=0.3)\n",
    "        \n",
    "        model.fit(x_tr, y_tr)\n",
    "        \n",
    "        y_tr_pred = model.predict(x_tr)\n",
    "        metric = {}\n",
    "        metric['train_f1'] = f1_score(y_tr, y_tr_pred)\n",
    "        metric['train_precision'] = precision_score(y_tr, y_tr_pred)\n",
    "        metric['train_recall'] = recall_score(y_tr, y_tr_pred)\n",
    "        \n",
    "        y_val_pred = model.predict(x_val)\n",
    "        metric['test_f1'] = f1_score(y_val, y_val_pred)\n",
    "        metric['test_precision'] = precision_score(y_val, y_val_pred)\n",
    "        metric['test_recall'] = recall_score(y_val, y_val_pred)\n",
    "        \n",
    "        metrics.append(metric)\n",
    "        \n",
    "        all_models.append(model)\n",
    "    \n",
    "    model_avg = pd.DataFrame(metrics).mean()\n",
    "    model_avg['model'] = model_name\n",
    "    metrics_model.append(model_avg)"
   ]
  },
  {
   "cell_type": "code",
   "execution_count": 243,
   "id": "71c382c3",
   "metadata": {},
   "outputs": [
    {
     "data": {
      "text/html": [
       "<div>\n",
       "<style scoped>\n",
       "    .dataframe tbody tr th:only-of-type {\n",
       "        vertical-align: middle;\n",
       "    }\n",
       "\n",
       "    .dataframe tbody tr th {\n",
       "        vertical-align: top;\n",
       "    }\n",
       "\n",
       "    .dataframe thead th {\n",
       "        text-align: right;\n",
       "    }\n",
       "</style>\n",
       "<table border=\"1\" class=\"dataframe\">\n",
       "  <thead>\n",
       "    <tr style=\"text-align: right;\">\n",
       "      <th></th>\n",
       "      <th>train_f1_train</th>\n",
       "      <th>train_precision</th>\n",
       "      <th>train_recall</th>\n",
       "      <th>test_f1_train</th>\n",
       "      <th>test_precision</th>\n",
       "      <th>test_recall</th>\n",
       "      <th>model</th>\n",
       "    </tr>\n",
       "  </thead>\n",
       "  <tbody>\n",
       "    <tr>\n",
       "      <th>0</th>\n",
       "      <td>0.793779</td>\n",
       "      <td>0.773423</td>\n",
       "      <td>0.815251</td>\n",
       "      <td>0.789316</td>\n",
       "      <td>0.768176</td>\n",
       "      <td>0.811697</td>\n",
       "      <td>logistic(C=1)</td>\n",
       "    </tr>\n",
       "    <tr>\n",
       "      <th>1</th>\n",
       "      <td>0.787137</td>\n",
       "      <td>0.769894</td>\n",
       "      <td>0.805223</td>\n",
       "      <td>0.798030</td>\n",
       "      <td>0.785054</td>\n",
       "      <td>0.811776</td>\n",
       "      <td>logistic(C=2)</td>\n",
       "    </tr>\n",
       "  </tbody>\n",
       "</table>\n",
       "</div>"
      ],
      "text/plain": [
       "   train_f1_train  train_precision  train_recall  test_f1_train  \\\n",
       "0        0.793779         0.773423      0.815251       0.789316   \n",
       "1        0.787137         0.769894      0.805223       0.798030   \n",
       "\n",
       "   test_precision  test_recall          model  \n",
       "0        0.768176     0.811697  logistic(C=1)  \n",
       "1        0.785054     0.811776  logistic(C=2)  "
      ]
     },
     "execution_count": 243,
     "metadata": {},
     "output_type": "execute_result"
    }
   ],
   "source": [
    "pd.DataFrame(metrics_model) # wo texts"
   ]
  },
  {
   "cell_type": "code",
   "execution_count": 247,
   "id": "e40ee6c2",
   "metadata": {},
   "outputs": [],
   "source": [
    "y_probas = []\n",
    "for model in all_models:\n",
    "    y_probas.append(model.predict_proba(x_test))"
   ]
  },
  {
   "cell_type": "code",
   "execution_count": 251,
   "id": "00c297d5",
   "metadata": {},
   "outputs": [],
   "source": [
    "y_te = np.mean(y_probas, axis=0).argmax(axis=1)"
   ]
  },
  {
   "cell_type": "code",
   "execution_count": 258,
   "id": "0bf60fd5",
   "metadata": {},
   "outputs": [],
   "source": [
    "submit = pd.DataFrame(np.array([test_data['PassengerId'], y_te == 1]).T, columns=['PassengerId', 'Transported'])"
   ]
  },
  {
   "cell_type": "code",
   "execution_count": 260,
   "id": "c7c9ce2f",
   "metadata": {},
   "outputs": [],
   "source": [
    "submit.to_csv('first.csv', index=False)"
   ]
  },
  {
   "cell_type": "code",
   "execution_count": null,
   "id": "285951e8",
   "metadata": {},
   "outputs": [],
   "source": []
  }
 ],
 "metadata": {
  "kernelspec": {
   "display_name": "Python 3",
   "language": "python",
   "name": "python3"
  },
  "language_info": {
   "codemirror_mode": {
    "name": "ipython",
    "version": 3
   },
   "file_extension": ".py",
   "mimetype": "text/x-python",
   "name": "python",
   "nbconvert_exporter": "python",
   "pygments_lexer": "ipython3",
   "version": "3.10.4"
  }
 },
 "nbformat": 4,
 "nbformat_minor": 5
}
